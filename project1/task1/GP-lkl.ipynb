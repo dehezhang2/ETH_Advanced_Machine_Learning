{
 "cells": [
  {
   "cell_type": "code",
   "execution_count": 37,
   "id": "0de58a7b",
   "metadata": {},
   "outputs": [],
   "source": [
    "import numpy as np\n",
    "import pandas as pd\n",
    "\n",
    "from sklearn.impute import (SimpleImputer,KNNImputer)\n",
    "from sklearn.ensemble import (RandomForestRegressor, IsolationForest)\n",
    "from sklearn.neighbors import LocalOutlierFactor\n",
    "from sklearn.model_selection import KFold\n",
    "from sklearn.model_selection import train_test_split\n",
    "\n",
    "import lightgbm as lgb\n",
    "\n",
    "from sklearn.metrics import r2_score\n",
    "\n",
    "import matplotlib.pyplot as plt\n",
    "\n",
    "%matplotlib inline"
   ]
  },
  {
   "cell_type": "code",
   "execution_count": 38,
   "id": "c013dcb5",
   "metadata": {},
   "outputs": [],
   "source": [
    "def fill_missing_values(X, n_neighbors = 75, method=\"KNN\"): \n",
    "    \n",
    "    # normalization\n",
    "    X_std = np.nanstd(X,axis=0,keepdims=True)\n",
    "    X_ave = np.nanmean(X,axis=0,keepdims=True)\n",
    "    X_norma = (X-X_ave)/X_std\n",
    "    \n",
    "    # use KNNImputer\n",
    "    imputer = KNNImputer(missing_values=np.nan, n_neighbors=n_neighbors, weights = 'distance') if method==\"KNN\"\\\n",
    "        else SimpleImputer(missing_values=np.nan, strategy='median')\n",
    "    \n",
    "    X_norma_fixed = imputer.fit_transform(X_norma)\n",
    "    \n",
    "    return X_norma_fixed\n",
    "\n",
    "def remove_outliers(X, y):\n",
    "    print(\"IsolationForest-Traing data shape before removed: {}\".format(X.shape))\n",
    "    Z = np.c_[X, y]\n",
    "    iforest = IsolationForest(max_samples=200, random_state=1, contamination=0.005)\n",
    "    iforest.fit(Z)\n",
    "    iforest_outlier_pred = iforest.predict(Z)\n",
    "    \n",
    "    Z = np.c_[X, y]\n",
    "    local = LocalOutlierFactor(n_neighbors=150, contamination=0.005)\n",
    "    local.fit(Z)\n",
    "    local_outlier_pred = local.fit_predict(Z)\n",
    "\n",
    "    mask = np.logical_and((iforest_outlier_pred!=-1), (local_outlier_pred!=-1))\n",
    "    X , y = X[mask, :], y[mask]\n",
    "    print(\"IsolationForest-Traing data shape after removed: {}\".format(X.shape))\n",
    "    return X, y\n",
    "\n",
    "def select_features(X, y, X_test, feature_num=50):\n",
    "    rf = RandomForestRegressor(n_jobs=-1, n_estimators=80, random_state=1)\n",
    "    rf.fit(X, y)\n",
    "    indices = np.asarray(list(rf.feature_importances_)).argsort()[-feature_num:][::-1]\n",
    "    \n",
    "    X = np.take(X, indices, axis = 1)\n",
    "    X_test = np.take(X_test, indices, axis = 1)\n",
    "    return X, X_test"
   ]
  },
  {
   "cell_type": "code",
   "execution_count": 39,
   "id": "b6577f75",
   "metadata": {},
   "outputs": [],
   "source": [
    "\n",
    "X_train_data = pd.read_csv('X_train.csv')\n",
    "y_train_data = pd.read_csv('y_train.csv')\n",
    "X_test_data = pd.read_csv('X_test.csv')\n",
    "\n",
    "indices_test = np.array(X_test_data)[:,0]\n",
    "X_test = np.array(X_test_data)[:,1:]\n",
    "y_train = np.array(y_train_data)[:,1]\n",
    "X_train = np.array(X_train_data)[:,1:]"
   ]
  },
  {
   "cell_type": "markdown",
   "id": "0e26dda0",
   "metadata": {},
   "source": [
    "## 1. Imputation of Missing Values\n",
    "* [Reference](https://scikit-learn.org/stable/modules/impute.html)\n",
    "* We use median of column instead of mean"
   ]
  },
  {
   "cell_type": "code",
   "execution_count": 40,
   "id": "1a350cde",
   "metadata": {},
   "outputs": [
    {
     "name": "stderr",
     "output_type": "stream",
     "text": [
      "<ipython-input-38-df279fcc57ad>:6: RuntimeWarning: invalid value encountered in true_divide\n",
      "  X_norma = (X-X_ave)/X_std\n",
      "<ipython-input-38-df279fcc57ad>:6: RuntimeWarning: invalid value encountered in true_divide\n",
      "  X_norma = (X-X_ave)/X_std\n"
     ]
    },
    {
     "name": "stdout",
     "output_type": "stream",
     "text": [
      "(1212, 828)\n",
      "(776, 828)\n"
     ]
    }
   ],
   "source": [
    "X_train_missing_indices = X_train[X_train==np]\n",
    "X_train = fill_missing_values(X_train, n_neighbors=75)\n",
    "X_test_processed = fill_missing_values(X_test)\n",
    "print(X_train.shape)\n",
    "print(X_test_processed.shape)"
   ]
  },
  {
   "cell_type": "markdown",
   "id": "225b0e20",
   "metadata": {},
   "source": [
    "## 2. Outlier Detection\n",
    "* [reference_sklearn](https://scikit-learn.org/stable/modules/outlier_detection.html)\n",
    "* [reference_in_detail](https://practicaldatascience.co.uk/machine-learning/how-to-use-the-isolation-forest-model-for-outlier-detection)"
   ]
  },
  {
   "cell_type": "code",
   "execution_count": 41,
   "id": "fceac061",
   "metadata": {},
   "outputs": [
    {
     "name": "stdout",
     "output_type": "stream",
     "text": [
      "IsolationForest-Traing data shape before removed: (1212, 828)\n",
      "IsolationForest-Traing data shape after removed: (1200, 828)\n"
     ]
    }
   ],
   "source": [
    "X_processed,y_processed = remove_outliers(X_train,y_train)"
   ]
  },
  {
   "cell_type": "markdown",
   "id": "9974a376",
   "metadata": {},
   "source": [
    "## 3. Feature Selection"
   ]
  },
  {
   "cell_type": "code",
   "execution_count": 42,
   "id": "a27c59fb",
   "metadata": {},
   "outputs": [],
   "source": [
    "# pearsonr feature selection\n",
    "from scipy.stats import pearsonr\n",
    "from sklearn.decomposition import PCA\n",
    "\n",
    "def pearsonr_feature_selection(X, y, X_test,degree,weights):\n",
    "    feature_idx =  np.array([i for i in range(0,X.shape[1])])\n",
    "    correlations = {}\n",
    "#     print(\"feature_idx: \", feature_idx.T)\n",
    "    for idx in feature_idx:\n",
    "        correlation = 0\n",
    "        for degree_idx in range(0,len(weights)):\n",
    "            correlation += abs(weights[degree_idx]*pearsonr(X[:,idx],y**degree[degree_idx])[0])\n",
    "        correlations[idx] = correlation\n",
    "    data_correlations = pd.DataFrame(correlations, index=['correlation']).T\n",
    "    indices_desc = data_correlations['correlation'].abs().sort_values(ascending=False).index\n",
    "#     print(indices_desc)\n",
    "    return data_correlations,indices_desc\n",
    "\n",
    "def pearsonr_feature_selection_correlation(X, X_test,threshold):\n",
    "    feature_idx =  np.array([i for i in range(0,X.shape[1])])\n",
    "    correlation_select = np.array([True for i in range(0,X.shape[1])])\n",
    "    for f_idx in feature_idx:\n",
    "        if(correlation_select[f_idx]):\n",
    "            feature_co,indices_desc = pearsonr_feature_selection(X[:,(f_idx+1):], X[:,f_idx], X_test_processed,np.array([1]),np.array([1]))\n",
    "            reomove_features = feature_co.loc[indices_desc][abs(feature_co['correlation']) >= threshold]\n",
    "            remove_index = reomove_features.index+(f_idx+1)\n",
    "            correlation_select[remove_index] = False\n",
    "    \n",
    "    return X[:,correlation_select],X_test[:,correlation_select]"
   ]
  },
  {
   "cell_type": "code",
   "execution_count": 67,
   "id": "f72d7628",
   "metadata": {},
   "outputs": [],
   "source": [
    "data_relation,indices_desc = pearsonr_feature_selection(X_processed, y_processed, X_test_processed,np.array([1,-3,3]),np.array([0.95,0.025,0.025]))"
   ]
  },
  {
   "cell_type": "code",
   "execution_count": 68,
   "id": "e9c0a6f1",
   "metadata": {},
   "outputs": [
    {
     "name": "stdout",
     "output_type": "stream",
     "text": [
      "(1200, 818)\n",
      "(776, 818)\n"
     ]
    },
    {
     "name": "stderr",
     "output_type": "stream",
     "text": [
      "<ipython-input-68-db213c50d0b9>:1: UserWarning: Boolean Series key will be reindexed to match DataFrame index.\n",
      "  selected_features = data_relation.loc[indices_desc][abs(data_relation['correlation']) >= 0.001]\n"
     ]
    }
   ],
   "source": [
    "selected_features = data_relation.loc[indices_desc][abs(data_relation['correlation']) >= 0.001]\n",
    "X_selection = X_processed[:,selected_features.index]\n",
    "X_test_selection = X_test_processed[:,selected_features.index]\n",
    "print(X_selection.shape)\n",
    "print(X_test_selection.shape)"
   ]
  },
  {
   "cell_type": "code",
   "execution_count": 143,
   "id": "c4c0835a",
   "metadata": {},
   "outputs": [
    {
     "name": "stdout",
     "output_type": "stream",
     "text": [
      "Traing data shape after selection: (1200, 54)\n",
      "Testing data shape after selection: (776, 54)\n"
     ]
    }
   ],
   "source": [
    "# X, X_test = feature_reduction(X, X_test,750)\n",
    "X_selection_tree, X_test_selection_tree = select_features(X_selection, y_processed, X_test_selection,feature_num = 54)\n",
    "print(\"Traing data shape after selection: {}\".format(X_selection_tree.shape))\n",
    "print(\"Testing data shape after selection: {}\".format(X_test_selection_tree.shape))"
   ]
  },
  {
   "cell_type": "code",
   "execution_count": 144,
   "id": "53915057",
   "metadata": {
    "scrolled": true
   },
   "outputs": [
    {
     "name": "stderr",
     "output_type": "stream",
     "text": [
      "<ipython-input-42-4efe4188ad20>:25: UserWarning: Boolean Series key will be reindexed to match DataFrame index.\n",
      "  reomove_features = feature_co.loc[indices_desc][abs(feature_co['correlation']) >= threshold]\n",
      "<ipython-input-42-4efe4188ad20>:25: UserWarning: Boolean Series key will be reindexed to match DataFrame index.\n",
      "  reomove_features = feature_co.loc[indices_desc][abs(feature_co['correlation']) >= threshold]\n",
      "<ipython-input-42-4efe4188ad20>:25: UserWarning: Boolean Series key will be reindexed to match DataFrame index.\n",
      "  reomove_features = feature_co.loc[indices_desc][abs(feature_co['correlation']) >= threshold]\n",
      "<ipython-input-42-4efe4188ad20>:25: UserWarning: Boolean Series key will be reindexed to match DataFrame index.\n",
      "  reomove_features = feature_co.loc[indices_desc][abs(feature_co['correlation']) >= threshold]\n",
      "<ipython-input-42-4efe4188ad20>:25: UserWarning: Boolean Series key will be reindexed to match DataFrame index.\n",
      "  reomove_features = feature_co.loc[indices_desc][abs(feature_co['correlation']) >= threshold]\n",
      "<ipython-input-42-4efe4188ad20>:25: UserWarning: Boolean Series key will be reindexed to match DataFrame index.\n",
      "  reomove_features = feature_co.loc[indices_desc][abs(feature_co['correlation']) >= threshold]\n",
      "<ipython-input-42-4efe4188ad20>:25: UserWarning: Boolean Series key will be reindexed to match DataFrame index.\n",
      "  reomove_features = feature_co.loc[indices_desc][abs(feature_co['correlation']) >= threshold]\n",
      "<ipython-input-42-4efe4188ad20>:25: UserWarning: Boolean Series key will be reindexed to match DataFrame index.\n",
      "  reomove_features = feature_co.loc[indices_desc][abs(feature_co['correlation']) >= threshold]\n",
      "<ipython-input-42-4efe4188ad20>:25: UserWarning: Boolean Series key will be reindexed to match DataFrame index.\n",
      "  reomove_features = feature_co.loc[indices_desc][abs(feature_co['correlation']) >= threshold]\n",
      "<ipython-input-42-4efe4188ad20>:25: UserWarning: Boolean Series key will be reindexed to match DataFrame index.\n",
      "  reomove_features = feature_co.loc[indices_desc][abs(feature_co['correlation']) >= threshold]\n",
      "<ipython-input-42-4efe4188ad20>:25: UserWarning: Boolean Series key will be reindexed to match DataFrame index.\n",
      "  reomove_features = feature_co.loc[indices_desc][abs(feature_co['correlation']) >= threshold]\n",
      "<ipython-input-42-4efe4188ad20>:25: UserWarning: Boolean Series key will be reindexed to match DataFrame index.\n",
      "  reomove_features = feature_co.loc[indices_desc][abs(feature_co['correlation']) >= threshold]\n",
      "<ipython-input-42-4efe4188ad20>:25: UserWarning: Boolean Series key will be reindexed to match DataFrame index.\n",
      "  reomove_features = feature_co.loc[indices_desc][abs(feature_co['correlation']) >= threshold]\n",
      "<ipython-input-42-4efe4188ad20>:25: UserWarning: Boolean Series key will be reindexed to match DataFrame index.\n",
      "  reomove_features = feature_co.loc[indices_desc][abs(feature_co['correlation']) >= threshold]\n",
      "<ipython-input-42-4efe4188ad20>:25: UserWarning: Boolean Series key will be reindexed to match DataFrame index.\n",
      "  reomove_features = feature_co.loc[indices_desc][abs(feature_co['correlation']) >= threshold]\n",
      "<ipython-input-42-4efe4188ad20>:25: UserWarning: Boolean Series key will be reindexed to match DataFrame index.\n",
      "  reomove_features = feature_co.loc[indices_desc][abs(feature_co['correlation']) >= threshold]\n",
      "<ipython-input-42-4efe4188ad20>:25: UserWarning: Boolean Series key will be reindexed to match DataFrame index.\n",
      "  reomove_features = feature_co.loc[indices_desc][abs(feature_co['correlation']) >= threshold]\n",
      "<ipython-input-42-4efe4188ad20>:25: UserWarning: Boolean Series key will be reindexed to match DataFrame index.\n",
      "  reomove_features = feature_co.loc[indices_desc][abs(feature_co['correlation']) >= threshold]\n",
      "<ipython-input-42-4efe4188ad20>:25: UserWarning: Boolean Series key will be reindexed to match DataFrame index.\n",
      "  reomove_features = feature_co.loc[indices_desc][abs(feature_co['correlation']) >= threshold]\n",
      "<ipython-input-42-4efe4188ad20>:25: UserWarning: Boolean Series key will be reindexed to match DataFrame index.\n",
      "  reomove_features = feature_co.loc[indices_desc][abs(feature_co['correlation']) >= threshold]\n",
      "<ipython-input-42-4efe4188ad20>:25: UserWarning: Boolean Series key will be reindexed to match DataFrame index.\n",
      "  reomove_features = feature_co.loc[indices_desc][abs(feature_co['correlation']) >= threshold]\n",
      "<ipython-input-42-4efe4188ad20>:25: UserWarning: Boolean Series key will be reindexed to match DataFrame index.\n",
      "  reomove_features = feature_co.loc[indices_desc][abs(feature_co['correlation']) >= threshold]\n",
      "<ipython-input-42-4efe4188ad20>:25: UserWarning: Boolean Series key will be reindexed to match DataFrame index.\n",
      "  reomove_features = feature_co.loc[indices_desc][abs(feature_co['correlation']) >= threshold]\n",
      "<ipython-input-42-4efe4188ad20>:25: UserWarning: Boolean Series key will be reindexed to match DataFrame index.\n",
      "  reomove_features = feature_co.loc[indices_desc][abs(feature_co['correlation']) >= threshold]\n",
      "<ipython-input-42-4efe4188ad20>:25: UserWarning: Boolean Series key will be reindexed to match DataFrame index.\n",
      "  reomove_features = feature_co.loc[indices_desc][abs(feature_co['correlation']) >= threshold]\n",
      "<ipython-input-42-4efe4188ad20>:25: UserWarning: Boolean Series key will be reindexed to match DataFrame index.\n",
      "  reomove_features = feature_co.loc[indices_desc][abs(feature_co['correlation']) >= threshold]\n",
      "<ipython-input-42-4efe4188ad20>:25: UserWarning: Boolean Series key will be reindexed to match DataFrame index.\n",
      "  reomove_features = feature_co.loc[indices_desc][abs(feature_co['correlation']) >= threshold]\n",
      "<ipython-input-42-4efe4188ad20>:25: UserWarning: Boolean Series key will be reindexed to match DataFrame index.\n",
      "  reomove_features = feature_co.loc[indices_desc][abs(feature_co['correlation']) >= threshold]\n",
      "<ipython-input-42-4efe4188ad20>:25: UserWarning: Boolean Series key will be reindexed to match DataFrame index.\n",
      "  reomove_features = feature_co.loc[indices_desc][abs(feature_co['correlation']) >= threshold]\n",
      "<ipython-input-42-4efe4188ad20>:25: UserWarning: Boolean Series key will be reindexed to match DataFrame index.\n",
      "  reomove_features = feature_co.loc[indices_desc][abs(feature_co['correlation']) >= threshold]\n",
      "<ipython-input-42-4efe4188ad20>:25: UserWarning: Boolean Series key will be reindexed to match DataFrame index.\n",
      "  reomove_features = feature_co.loc[indices_desc][abs(feature_co['correlation']) >= threshold]\n",
      "<ipython-input-42-4efe4188ad20>:25: UserWarning: Boolean Series key will be reindexed to match DataFrame index.\n",
      "  reomove_features = feature_co.loc[indices_desc][abs(feature_co['correlation']) >= threshold]\n",
      "<ipython-input-42-4efe4188ad20>:25: UserWarning: Boolean Series key will be reindexed to match DataFrame index.\n",
      "  reomove_features = feature_co.loc[indices_desc][abs(feature_co['correlation']) >= threshold]\n",
      "<ipython-input-42-4efe4188ad20>:25: UserWarning: Boolean Series key will be reindexed to match DataFrame index.\n",
      "  reomove_features = feature_co.loc[indices_desc][abs(feature_co['correlation']) >= threshold]\n",
      "<ipython-input-42-4efe4188ad20>:25: UserWarning: Boolean Series key will be reindexed to match DataFrame index.\n",
      "  reomove_features = feature_co.loc[indices_desc][abs(feature_co['correlation']) >= threshold]\n",
      "<ipython-input-42-4efe4188ad20>:25: UserWarning: Boolean Series key will be reindexed to match DataFrame index.\n",
      "  reomove_features = feature_co.loc[indices_desc][abs(feature_co['correlation']) >= threshold]\n",
      "<ipython-input-42-4efe4188ad20>:25: UserWarning: Boolean Series key will be reindexed to match DataFrame index.\n",
      "  reomove_features = feature_co.loc[indices_desc][abs(feature_co['correlation']) >= threshold]\n",
      "<ipython-input-42-4efe4188ad20>:25: UserWarning: Boolean Series key will be reindexed to match DataFrame index.\n",
      "  reomove_features = feature_co.loc[indices_desc][abs(feature_co['correlation']) >= threshold]\n",
      "<ipython-input-42-4efe4188ad20>:25: UserWarning: Boolean Series key will be reindexed to match DataFrame index.\n",
      "  reomove_features = feature_co.loc[indices_desc][abs(feature_co['correlation']) >= threshold]\n",
      "<ipython-input-42-4efe4188ad20>:25: UserWarning: Boolean Series key will be reindexed to match DataFrame index.\n",
      "  reomove_features = feature_co.loc[indices_desc][abs(feature_co['correlation']) >= threshold]\n"
     ]
    },
    {
     "name": "stdout",
     "output_type": "stream",
     "text": [
      "(1200, 50)\n",
      "(776, 50)\n"
     ]
    },
    {
     "name": "stderr",
     "output_type": "stream",
     "text": [
      "<ipython-input-42-4efe4188ad20>:25: UserWarning: Boolean Series key will be reindexed to match DataFrame index.\n",
      "  reomove_features = feature_co.loc[indices_desc][abs(feature_co['correlation']) >= threshold]\n",
      "<ipython-input-42-4efe4188ad20>:25: UserWarning: Boolean Series key will be reindexed to match DataFrame index.\n",
      "  reomove_features = feature_co.loc[indices_desc][abs(feature_co['correlation']) >= threshold]\n",
      "<ipython-input-42-4efe4188ad20>:25: UserWarning: Boolean Series key will be reindexed to match DataFrame index.\n",
      "  reomove_features = feature_co.loc[indices_desc][abs(feature_co['correlation']) >= threshold]\n",
      "<ipython-input-42-4efe4188ad20>:25: UserWarning: Boolean Series key will be reindexed to match DataFrame index.\n",
      "  reomove_features = feature_co.loc[indices_desc][abs(feature_co['correlation']) >= threshold]\n",
      "<ipython-input-42-4efe4188ad20>:25: UserWarning: Boolean Series key will be reindexed to match DataFrame index.\n",
      "  reomove_features = feature_co.loc[indices_desc][abs(feature_co['correlation']) >= threshold]\n",
      "<ipython-input-42-4efe4188ad20>:25: UserWarning: Boolean Series key will be reindexed to match DataFrame index.\n",
      "  reomove_features = feature_co.loc[indices_desc][abs(feature_co['correlation']) >= threshold]\n",
      "<ipython-input-42-4efe4188ad20>:25: UserWarning: Boolean Series key will be reindexed to match DataFrame index.\n",
      "  reomove_features = feature_co.loc[indices_desc][abs(feature_co['correlation']) >= threshold]\n",
      "<ipython-input-42-4efe4188ad20>:25: UserWarning: Boolean Series key will be reindexed to match DataFrame index.\n",
      "  reomove_features = feature_co.loc[indices_desc][abs(feature_co['correlation']) >= threshold]\n",
      "<ipython-input-42-4efe4188ad20>:25: UserWarning: Boolean Series key will be reindexed to match DataFrame index.\n",
      "  reomove_features = feature_co.loc[indices_desc][abs(feature_co['correlation']) >= threshold]\n"
     ]
    }
   ],
   "source": [
    "X_selection_tree_cor, X_test_selection_tree_cor = pearsonr_feature_selection_correlation(X_selection_tree, X_test_selection_tree,0.96)\n",
    "# X_selection_tree_cor, X_test_selection_tree_cor = X_selection_tree, X_test_selection_tree\n",
    "print(X_selection_tree_cor.shape)\n",
    "print(X_test_selection_tree_cor.shape)"
   ]
  },
  {
   "cell_type": "markdown",
   "id": "be7088f5",
   "metadata": {},
   "source": [
    "## 4. Gaussian Process"
   ]
  },
  {
   "cell_type": "code",
   "execution_count": 147,
   "id": "6e8a19fa",
   "metadata": {},
   "outputs": [],
   "source": [
    "from sklearn.gaussian_process import GaussianProcessRegressor\n",
    "from sklearn.gaussian_process.kernels import RBF, ConstantKernel as C, DotProduct, WhiteKernel\n",
    "\n",
    "def custom_r2(prediction, train_data):\n",
    "    \"\"\"Regular r2 cost function returned as a tuple to be used with lgb\"\"\"\n",
    "    labels = train_data.get_label()\n",
    "    return 'r2', r2_score(labels, prediction), True\n",
    "\n",
    "def fit_model_and_pred(X_train, y_train, X_val, y_val, X_test):\n",
    "    kernel = RBF(0.5, (1e-4, 10))\n",
    "    gpr = GaussianProcessRegressor(kernel=kernel, random_state=0, n_restarts_optimizer=1, alpha=0.07, normalize_y=True)\n",
    "    gpr.fit(X_train, y_train)\n",
    "    score = gpr.score(X_val, y_val)   \n",
    "    y_pred = gpr.predict(X_test) \n",
    "\n",
    "    return score, y_pred\n",
    "\n",
    "def train_k_fold(X, y, fold_num=10):\n",
    "    kf = KFold(n_splits=fold_num, shuffle=True)\n",
    "    kf.get_n_splits(X)\n",
    "    test_score = 0.0\n",
    "    train_score = 0.0\n",
    "    i = 0\n",
    "    for train_index, test_index in kf.split(X):\n",
    "        X_train, X_val = X[train_index], X[test_index]\n",
    "        y_train, y_val = y[train_index], y[test_index]\n",
    "\n",
    "        score, y_pred = fit_model_and_pred(X_train, y_train, X_val, y_val, X_val)\n",
    "        test_score += score\n",
    "        print(i+1, 'th training. the obtained validation r2 score is : ',score)\n",
    "        \n",
    "        score, _ = fit_model_and_pred(X_train, y_train, X_train, y_train, X_val)\n",
    "        train_score += score\n",
    "        print(i+1, 'th training. the obtained training r2 score is : ',score)\n",
    "        print(' ')\n",
    "        i += 1\n",
    "       \n",
    "    print(\"Validation score: %f\"%(test_score/fold_num))\n",
    "    print(\"Training score: %f\"%(train_score/fold_num))\n",
    "    \n",
    "def train_k_fold_predict(X, y, X_test, fold_num=10):\n",
    "    kf = KFold(n_splits=fold_num)\n",
    "    kf.get_n_splits(X)\n",
    "    y_test_predict = np.zeros(X_test.shape[0])\n",
    "    cnt = 0\n",
    "    val_score = 0.0\n",
    "    train_score = 0.0\n",
    "    for train_index, test_index in kf.split(X):\n",
    "        X_train, X_val = X[train_index], X[test_index]\n",
    "        y_train, y_val = y[train_index], y[test_index]\n",
    "\n",
    "        score, y_pred = fit_model_and_pred(X_train, y_train, X_val, y_val, X_test) \n",
    "        val_score += score\n",
    "        y_test_predict += y_pred\n",
    "        \n",
    "        score, _ = fit_model_and_pred(X_train, y_train, X_train, y_train, X_test)\n",
    "        train_score += score\n",
    "    return train_score/fold_num, val_score/fold_num, y_test_predict/fold_num"
   ]
  },
  {
   "cell_type": "code",
   "execution_count": 152,
   "id": "4fbf45ed",
   "metadata": {},
   "outputs": [
    {
     "name": "stdout",
     "output_type": "stream",
     "text": [
      "Validation score: 0.669079\n",
      "Training score: 0.979669\n"
     ]
    }
   ],
   "source": [
    "train_score, val_score, y_pred = train_k_fold_predict(X_selection_tree_cor,y_processed,X_test_selection_tree_cor, fold_num=10)\n",
    "print(\"Validation score: %f\"%(val_score))\n",
    "print(\"Training score: %f\"%(train_score))"
   ]
  },
  {
   "cell_type": "code",
   "execution_count": 153,
   "id": "c6133f6f",
   "metadata": {},
   "outputs": [],
   "source": [
    "final_res = np.vstack((indices_test, y_pred)).T\n",
    "df_res = pd.DataFrame(final_res)\n",
    "df_res.to_csv(\"our_result.csv\", header = [\"id\", \"y\"], index=False)"
   ]
  },
  {
   "cell_type": "code",
   "execution_count": 155,
   "id": "5e404dfe",
   "metadata": {},
   "outputs": [
    {
     "name": "stdout",
     "output_type": "stream",
     "text": [
      "1 th training. the obtained validation r2 score is :  0.7925598135663375\n",
      "1 th training. the obtained training r2 score is :  0.9801008624286771\n",
      " \n",
      "2 th training. the obtained validation r2 score is :  0.7778186439034196\n",
      "2 th training. the obtained training r2 score is :  0.9800023178796643\n",
      " \n",
      "3 th training. the obtained validation r2 score is :  0.5625695934229109\n",
      "3 th training. the obtained training r2 score is :  0.9795756844740485\n",
      " \n",
      "4 th training. the obtained validation r2 score is :  0.6868620277928594\n",
      "4 th training. the obtained training r2 score is :  0.9793085520049787\n",
      " \n",
      "5 th training. the obtained validation r2 score is :  0.6572446608776558\n",
      "5 th training. the obtained training r2 score is :  0.9799675748974821\n",
      " \n",
      "6 th training. the obtained validation r2 score is :  0.6501526535907476\n",
      "6 th training. the obtained training r2 score is :  0.9797603843788393\n",
      " \n",
      "7 th training. the obtained validation r2 score is :  0.6098870358039422\n",
      "7 th training. the obtained training r2 score is :  0.9797267348757897\n",
      " \n",
      "8 th training. the obtained validation r2 score is :  0.629898345895117\n",
      "8 th training. the obtained training r2 score is :  0.9801280427952048\n",
      " \n",
      "9 th training. the obtained validation r2 score is :  0.7369556175177991\n",
      "9 th training. the obtained training r2 score is :  0.980011589481066\n",
      " \n",
      "10 th training. the obtained validation r2 score is :  0.5868396843541124\n",
      "10 th training. the obtained training r2 score is :  0.9781073590863401\n",
      " \n",
      "Validation score: 0.669079\n",
      "Training score: 0.979669\n"
     ]
    }
   ],
   "source": [
    "train_k_fold(X_selection_tree_cor,y_processed, fold_num=10) # 54-50 global maxima"
   ]
  },
  {
   "cell_type": "code",
   "execution_count": 105,
   "id": "fd9db320",
   "metadata": {},
   "outputs": [
    {
     "name": "stdout",
     "output_type": "stream",
     "text": [
      "1 th training. the obtained validation r2 score is :  0.5974452367894867\n",
      "1 th training. the obtained training r2 score is :  0.9796988505029343\n",
      " \n",
      "2 th training. the obtained validation r2 score is :  0.6859228066827172\n",
      "2 th training. the obtained training r2 score is :  0.9800567301117994\n",
      " \n",
      "3 th training. the obtained validation r2 score is :  0.6765747979358501\n",
      "3 th training. the obtained training r2 score is :  0.9795855880594633\n",
      " \n",
      "4 th training. the obtained validation r2 score is :  0.6092886291041888\n",
      "4 th training. the obtained training r2 score is :  0.98164441077974\n",
      " \n",
      "5 th training. the obtained validation r2 score is :  0.7149490723970613\n",
      "5 th training. the obtained training r2 score is :  0.980559463031077\n",
      " \n",
      "6 th training. the obtained validation r2 score is :  0.6668026113798982\n",
      "6 th training. the obtained training r2 score is :  0.9801374116845202\n",
      " \n",
      "7 th training. the obtained validation r2 score is :  0.7149562910976037\n",
      "7 th training. the obtained training r2 score is :  0.9810235692020616\n",
      " \n",
      "8 th training. the obtained validation r2 score is :  0.6200431950620096\n",
      "8 th training. the obtained training r2 score is :  0.9794188159424698\n",
      " \n",
      "9 th training. the obtained validation r2 score is :  0.6553303562745612\n",
      "9 th training. the obtained training r2 score is :  0.9798729146556117\n",
      " \n",
      "10 th training. the obtained validation r2 score is :  0.7025862647213674\n",
      "10 th training. the obtained training r2 score is :  0.9804420947194558\n",
      " \n",
      "Validation score: 0.664390\n",
      "Training score: 0.980244\n"
     ]
    }
   ],
   "source": [
    "train_k_fold(X_selection_tree_cor,y_processed, fold_num=10) # 51-48"
   ]
  },
  {
   "cell_type": "code",
   "execution_count": 101,
   "id": "b66b74cd",
   "metadata": {},
   "outputs": [
    {
     "name": "stdout",
     "output_type": "stream",
     "text": [
      "1 th training. the obtained validation r2 score is :  0.696307345807096\n",
      "1 th training. the obtained training r2 score is :  0.9799695069284378\n",
      " \n",
      "2 th training. the obtained validation r2 score is :  0.7521240760757179\n",
      "2 th training. the obtained training r2 score is :  0.9799150624279189\n",
      " \n",
      "3 th training. the obtained validation r2 score is :  0.6345008385378395\n",
      "3 th training. the obtained training r2 score is :  0.9804853545593014\n",
      " \n",
      "4 th training. the obtained validation r2 score is :  0.5753154930391655\n",
      "4 th training. the obtained training r2 score is :  0.9794626665457008\n",
      " \n",
      "5 th training. the obtained validation r2 score is :  0.668150414222155\n",
      "5 th training. the obtained training r2 score is :  0.9802222972766924\n",
      " \n",
      "6 th training. the obtained validation r2 score is :  0.5858121120031496\n",
      "6 th training. the obtained training r2 score is :  0.9799541171636451\n",
      " \n",
      "7 th training. the obtained validation r2 score is :  0.7050097134155844\n",
      "7 th training. the obtained training r2 score is :  0.9797437503285891\n",
      " \n",
      "8 th training. the obtained validation r2 score is :  0.696633861513361\n",
      "8 th training. the obtained training r2 score is :  0.9798308130917461\n",
      " \n",
      "9 th training. the obtained validation r2 score is :  0.6609263041440328\n",
      "9 th training. the obtained training r2 score is :  0.9791555025996979\n",
      " \n",
      "10 th training. the obtained validation r2 score is :  0.6500740222635467\n",
      "10 th training. the obtained training r2 score is :  0.9808149242514387\n",
      " \n",
      "Validation score: 0.662485\n",
      "Training score: 0.979955\n"
     ]
    }
   ],
   "source": [
    "train_k_fold(X_selection_tree_cor,y_processed, fold_num=10) # 52-49"
   ]
  },
  {
   "cell_type": "code",
   "execution_count": 96,
   "id": "6b605046",
   "metadata": {},
   "outputs": [
    {
     "name": "stdout",
     "output_type": "stream",
     "text": [
      "1 th training. the obtained validation r2 score is :  0.6016527246615753\n",
      "1 th training. the obtained training r2 score is :  0.9803988906521187\n",
      " \n",
      "2 th training. the obtained validation r2 score is :  0.6118291410041448\n",
      "2 th training. the obtained training r2 score is :  0.9789521747593397\n",
      " \n",
      "3 th training. the obtained validation r2 score is :  0.6734784382834074\n",
      "3 th training. the obtained training r2 score is :  0.9792919557783526\n",
      " \n",
      "4 th training. the obtained validation r2 score is :  0.6876694836724524\n",
      "4 th training. the obtained training r2 score is :  0.9796187511347894\n",
      " \n",
      "5 th training. the obtained validation r2 score is :  0.7209353767498261\n",
      "5 th training. the obtained training r2 score is :  0.9795116465134451\n",
      " \n",
      "6 th training. the obtained validation r2 score is :  0.7319464966379295\n",
      "6 th training. the obtained training r2 score is :  0.9797876341745378\n",
      " \n",
      "7 th training. the obtained validation r2 score is :  0.6063543393785025\n",
      "7 th training. the obtained training r2 score is :  0.9793438866127933\n",
      " \n",
      "8 th training. the obtained validation r2 score is :  0.7218029790771264\n",
      "8 th training. the obtained training r2 score is :  0.9798437232699383\n",
      " \n",
      "9 th training. the obtained validation r2 score is :  0.6800517378282301\n",
      "9 th training. the obtained training r2 score is :  0.9799369304750984\n",
      " \n",
      "10 th training. the obtained validation r2 score is :  0.7137547254669364\n",
      "10 th training. the obtained training r2 score is :  0.9795437138056213\n",
      " \n",
      "Validation score: 0.674948\n",
      "Training score: 0.979623\n"
     ]
    }
   ],
   "source": [
    "train_k_fold(X_selection_tree_cor,y_processed, fold_num=10) # 54-50"
   ]
  },
  {
   "cell_type": "code",
   "execution_count": 93,
   "id": "e478adfc",
   "metadata": {},
   "outputs": [
    {
     "name": "stdout",
     "output_type": "stream",
     "text": [
      "1 th training. the obtained validation r2 score is :  0.7342637745078253\n",
      "1 th training. the obtained training r2 score is :  0.9802376109769322\n",
      " \n",
      "2 th training. the obtained validation r2 score is :  0.7643200070094\n",
      "2 th training. the obtained training r2 score is :  0.980527431379008\n",
      " \n",
      "3 th training. the obtained validation r2 score is :  0.7072989141463432\n",
      "3 th training. the obtained training r2 score is :  0.9798144652547306\n",
      " \n",
      "4 th training. the obtained validation r2 score is :  0.5224585088698427\n",
      "4 th training. the obtained training r2 score is :  0.9797893393307562\n",
      " \n",
      "5 th training. the obtained validation r2 score is :  0.6503068484280556\n",
      "5 th training. the obtained training r2 score is :  0.9798684546687546\n",
      " \n",
      "6 th training. the obtained validation r2 score is :  0.6561087032686026\n",
      "6 th training. the obtained training r2 score is :  0.9797115040586865\n",
      " \n",
      "7 th training. the obtained validation r2 score is :  0.6637041380368374\n",
      "7 th training. the obtained training r2 score is :  0.9799992273746232\n",
      " \n",
      "8 th training. the obtained validation r2 score is :  0.684544874363932\n",
      "8 th training. the obtained training r2 score is :  0.9796211597082425\n",
      " \n",
      "9 th training. the obtained validation r2 score is :  0.6647784525357197\n",
      "9 th training. the obtained training r2 score is :  0.9792025804635995\n",
      " \n",
      "10 th training. the obtained validation r2 score is :  0.6040358251679696\n",
      "10 th training. the obtained training r2 score is :  0.9790868712861933\n",
      " \n",
      "Validation score: 0.665182\n",
      "Training score: 0.979786\n"
     ]
    }
   ],
   "source": [
    "train_k_fold(X_selection_tree_cor,y_processed, fold_num=10) # 55-51"
   ]
  },
  {
   "cell_type": "code",
   "execution_count": 88,
   "id": "3dadb5b9",
   "metadata": {},
   "outputs": [
    {
     "name": "stdout",
     "output_type": "stream",
     "text": [
      "1 th training. the obtained validation r2 score is :  0.5580034828122171\n",
      "1 th training. the obtained training r2 score is :  0.9801107522726294\n",
      " \n",
      "2 th training. the obtained validation r2 score is :  0.6900292669166593\n",
      "2 th training. the obtained training r2 score is :  0.9805734778628282\n",
      " \n",
      "3 th training. the obtained validation r2 score is :  0.6528167435206538\n",
      "3 th training. the obtained training r2 score is :  0.9788123553053266\n",
      " \n",
      "4 th training. the obtained validation r2 score is :  0.686843122009343\n",
      "4 th training. the obtained training r2 score is :  0.9800561432810854\n",
      " \n",
      "5 th training. the obtained validation r2 score is :  0.6117976878445891\n",
      "5 th training. the obtained training r2 score is :  0.9798380943353041\n",
      " \n",
      "6 th training. the obtained validation r2 score is :  0.6703648127176762\n",
      "6 th training. the obtained training r2 score is :  0.9789919916840989\n",
      " \n",
      "7 th training. the obtained validation r2 score is :  0.6705593240241539\n",
      "7 th training. the obtained training r2 score is :  0.9790970790581761\n",
      " \n",
      "8 th training. the obtained validation r2 score is :  0.7221421040397622\n",
      "8 th training. the obtained training r2 score is :  0.9804477010946905\n",
      " \n",
      "9 th training. the obtained validation r2 score is :  0.6919223310477469\n",
      "9 th training. the obtained training r2 score is :  0.9797320407400995\n",
      " \n",
      "10 th training. the obtained validation r2 score is :  0.7358093599987736\n",
      "10 th training. the obtained training r2 score is :  0.9798128051053329\n",
      " \n",
      "Validation score: 0.669029\n",
      "Training score: 0.979747\n"
     ]
    }
   ],
   "source": [
    "train_k_fold(X_selection_tree_cor,y_processed, fold_num=10) # 50-47"
   ]
  },
  {
   "cell_type": "code",
   "execution_count": 128,
   "id": "892f3fab",
   "metadata": {},
   "outputs": [
    {
     "name": "stdout",
     "output_type": "stream",
     "text": [
      "1 th training. the obtained validation r2 score is :  0.5808155078431745\n",
      "1 th training. the obtained training r2 score is :  0.9787473116727731\n",
      " \n",
      "2 th training. the obtained validation r2 score is :  0.6293274128391748\n",
      "2 th training. the obtained training r2 score is :  0.9795814970887748\n",
      " \n",
      "3 th training. the obtained validation r2 score is :  0.619069441339543\n",
      "3 th training. the obtained training r2 score is :  0.9789401008923845\n",
      " \n",
      "4 th training. the obtained validation r2 score is :  0.5115037037712877\n",
      "4 th training. the obtained training r2 score is :  0.9798867654143804\n",
      " \n",
      "5 th training. the obtained validation r2 score is :  0.6402413436789616\n",
      "5 th training. the obtained training r2 score is :  0.9794919099480219\n",
      " \n",
      "6 th training. the obtained validation r2 score is :  0.721281383892558\n",
      "6 th training. the obtained training r2 score is :  0.9794261430410826\n",
      " \n",
      "7 th training. the obtained validation r2 score is :  0.6824027926996841\n",
      "7 th training. the obtained training r2 score is :  0.980177233396083\n",
      " \n",
      "8 th training. the obtained validation r2 score is :  0.6596576802536319\n",
      "8 th training. the obtained training r2 score is :  0.980365814766307\n",
      " \n",
      "9 th training. the obtained validation r2 score is :  0.5306755049844714\n",
      "9 th training. the obtained training r2 score is :  0.9797400674703697\n",
      " \n",
      "10 th training. the obtained validation r2 score is :  0.6569312031244542\n",
      "10 th training. the obtained training r2 score is :  0.9797838183107417\n",
      " \n",
      "Validation score: 0.623191\n",
      "Training score: 0.979614\n"
     ]
    }
   ],
   "source": [
    "train_k_fold(X_selection_tree_cor,y_processed, fold_num=10) # 40-39"
   ]
  },
  {
   "cell_type": "code",
   "execution_count": null,
   "id": "31c9a768",
   "metadata": {},
   "outputs": [],
   "source": []
  }
 ],
 "metadata": {
  "kernelspec": {
   "display_name": "Python 3",
   "language": "python",
   "name": "python3"
  },
  "language_info": {
   "codemirror_mode": {
    "name": "ipython",
    "version": 3
   },
   "file_extension": ".py",
   "mimetype": "text/x-python",
   "name": "python",
   "nbconvert_exporter": "python",
   "pygments_lexer": "ipython3",
   "version": "3.8.8"
  }
 },
 "nbformat": 4,
 "nbformat_minor": 5
}
