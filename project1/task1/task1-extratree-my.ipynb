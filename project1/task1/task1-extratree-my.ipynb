{
 "cells": [
  {
   "cell_type": "code",
   "execution_count": 1,
   "metadata": {},
   "outputs": [],
   "source": [
    "import numpy as np\n",
    "import pandas as pd\n",
    "from sklearn.neural_network import MLPRegressor\n",
    "from sklearn.model_selection import train_test_split\n",
    "from sklearn.impute import SimpleImputer\n",
    "from sklearn.ensemble import (RandomForestRegressor, IsolationForest)\n",
    "from sklearn.preprocessing import StandardScaler\n",
    "from sklearn.feature_selection import (f_regression, SelectFromModel)\n",
    "from sklearn.ensemble import ExtraTreesRegressor\n",
    "from sklearn.impute import KNNImputer\n",
    "from sklearn.model_selection import KFold\n",
    "from sklearn.decomposition import PCA\n",
    "\n",
    "from sklearn.linear_model import Lasso\n",
    "from sklearn.preprocessing import PolynomialFeatures, normalize\n",
    "from sklearn.metrics import r2_score\n",
    "\n",
    "import matplotlib.pyplot as plt\n",
    "\n",
    "import pandas as pd\n",
    "from autofeat import FeatureSelector\n",
    "\n",
    "%matplotlib inline"
   ]
  },
  {
   "cell_type": "code",
   "execution_count": 2,
   "metadata": {},
   "outputs": [],
   "source": [
    "def fill_missing_values(X, X_test):\n",
    "    imp = SimpleImputer(missing_values=np.nan, strategy='median')\n",
    "    imp.fit(X)\n",
    "    X = imp.transform(X)\n",
    "    X_test = imp.transform(X_test)\n",
    "    return X, X_test\n",
    "\n",
    "def fill_missing_values_KNN(X, X_test): \n",
    "    #normalization\n",
    "#     X_idx = np.array([[i for i in range(0,X.shape[1])]])\n",
    "#     X_test_idx = np.array([[i for i in range(0,X_test.shape[1])]])\n",
    "    \n",
    "    X_std = np.nanstd(X,axis=0,keepdims=True)\n",
    "    X_ave = np.nanmean(X,axis=0,keepdims=True)\n",
    "    X_test_std = np.nanstd(X_test,axis=0,keepdims=True)\n",
    "    X_test_ave = np.nanmean(X_test,axis=0,keepdims=True)\n",
    "    \n",
    "    X_norma = (X-X_ave)/X_std\n",
    "    X_test_norma = (X_test-X_test_ave)/X_test_std\n",
    "\n",
    "    imputer = KNNImputer(missing_values=np.nan, n_neighbors=75, weights = 'distance')\n",
    "    X_norma_fixed = imputer.fit_transform(X_norma)\n",
    "    X_test_norma_fixed = imputer.fit_transform(X_test_norma)\n",
    "#     X_norma_fixed = X_norma_fixed[1:,:]\n",
    "#     X_test_norma_fixed = X_test_norma_fixed[1:,:]\n",
    "    \n",
    "#     X_fixed = (X_norma_fixed+X_ave)*(X_max-X_min)\n",
    "#     X_test_fixed = (X_test_norma+X_test_ave)*(X_test_max-X_test_min)\n",
    "    return X_norma_fixed, X_test_norma_fixed\n",
    "\n",
    "def remove_outliers(X, y):\n",
    "    iforest = IsolationForest(max_samples=200,  random_state=1, contamination='auto',)\n",
    "    iforest.fit(X)\n",
    "    print(\"IsolationForest-Traing data shape before removed: {}\".format(X.shape))\n",
    "    outlier_pred = iforest.predict(X)\n",
    "    X, y = X[(outlier_pred != -1), :], y[(outlier_pred != -1)]\n",
    "    print(\"IsolationForest-Traing data shape after removed: {}\".format(X.shape))\n",
    "    return X, y\n",
    "\n",
    "\n",
    "\n",
    "# def select_features(X, y, X_test, feature_num1=150, feature_num2=100):\n",
    "#     scaler = StandardScaler().fit(X, y)\n",
    "#     X = scaler.transform(X)\n",
    "#     X_test = scaler.transform(X_test)\n",
    "    \n",
    "#     features_scores = f_regression(X, y)[0]\n",
    "#     indices_fr = np.asarray(list(features_scores)).argsort()[-feature_num1:][::-1]\n",
    "    \n",
    "#     rf = RandomForestRegressor(n_jobs=-1, n_estimators=50, random_state=1)\n",
    "#     rf.fit(X, y)\n",
    "#     indices_rf = np.asarray(list(rf.feature_importances_)).argsort()[-feature_num2:][::-1]\n",
    "    \n",
    "#     indices = list(np.union1d(indices_rf, indices_fr))\n",
    "#     X = np.take(X, indices, axis = 1)\n",
    "#     X_test = np.take(X_test, indices, axis = 1)\n",
    "    \n",
    "#     return X, X_test\n",
    "\n",
    "def select_features(X, y, X_test, feature_num=100):\n",
    "    scaler = StandardScaler().fit(X, y)\n",
    "    X = scaler.transform(X)\n",
    "    X_test = scaler.transform(X_test)\n",
    "    \n",
    "    rf = RandomForestRegressor(n_jobs=-1, n_estimators=75, random_state=1)\n",
    "#     rf = ExtraTreesRegressor(n_jobs=-1, max_depth=None, n_estimators=180, random_state=1, min_samples_split=3, max_features=None)\n",
    "    rf.fit(X, y)\n",
    "    indices = np.asarray(list(rf.feature_importances_)).argsort()[-feature_num:][::-1]\n",
    "    \n",
    "    X = np.take(X, indices, axis = 1)\n",
    "    X_test = np.take(X_test, indices, axis = 1)\n",
    "    \n",
    "    return X, X_test\n",
    "\n",
    "def feature_reduction(X_train, X_test,n_component):\n",
    "    pca = PCA(n_components=n_component)\n",
    "    X_train_reduced = pca.fit_transform(X_train)\n",
    "    singulars = pca.singular_values_\n",
    "    print(\"chosen singular values, max: \", np.max(singulars),\" and min:\",np.min(singulars))\n",
    "    X_test_reduced = pca.fit_transform(X_test)\n",
    "    singulars = pca.singular_values_\n",
    "    print(\"chosen singular values, max: \", np.max(singulars),\" and min:\",np.min(singulars))\n",
    "    return X_train_reduced,X_test_reduced\n",
    "\n",
    "\n",
    "#https://github.com/KonstantinosBarmpas/Advanced-Machine-Learning-Projects/blob/master/Task%201/Task_1_AML.ipynb\n",
    "def auto_feature_extraction(X, y, X_test):\n",
    "    fsel = FeatureSelector(verbose=1)\n",
    "    \n",
    "    feature_names = [str(i) for i in range(0,X.shape[1])]\n",
    "    X_pd = pd.DataFrame(X, columns=feature_names)\n",
    "    new_X = fsel.fit_transform(X_pd, y)\n",
    "    print(\"len of columns:\", len(new_X.columns))\n",
    "    print(new_X.columns)\n",
    "    index_chosen = [int(new_X.columns[i]) for i in range(0,len(new_X.columns))]\n",
    "    return X[:,index_chosen],X_test[:,index_chosen]"
   ]
  },
  {
   "cell_type": "code",
   "execution_count": 3,
   "metadata": {},
   "outputs": [],
   "source": [
    "X_train_data = pd.read_csv('X_train.csv')\n",
    "y_train_data = pd.read_csv('y_train.csv')\n",
    "X_test_data = pd.read_csv('X_test.csv')"
   ]
  },
  {
   "cell_type": "markdown",
   "metadata": {},
   "source": [
    "## 1. Imputation of Missing Values\n",
    "* [Reference](https://scikit-learn.org/stable/modules/impute.html)\n",
    "* We use median of column instead of mean"
   ]
  },
  {
   "cell_type": "code",
   "execution_count": 4,
   "metadata": {},
   "outputs": [],
   "source": [
    "indices_test = np.array(X_test_data)[:,0]\n",
    "X_test = np.array(X_test_data)[:,1:]\n",
    "y_train = np.array(y_train_data)[:,1]\n",
    "X_train = np.array(X_train_data)[:,1:]"
   ]
  },
  {
   "cell_type": "code",
   "execution_count": 5,
   "metadata": {},
   "outputs": [
    {
     "name": "stderr",
     "output_type": "stream",
     "text": [
      "/var/folders/df/qjssdfqd3f52ltwv16hkg4kh0000gn/T/ipykernel_11717/1270497743.py:18: RuntimeWarning: invalid value encountered in true_divide\n",
      "  X_norma = (X-X_ave)/X_std\n",
      "/var/folders/df/qjssdfqd3f52ltwv16hkg4kh0000gn/T/ipykernel_11717/1270497743.py:19: RuntimeWarning: invalid value encountered in true_divide\n",
      "  X_test_norma = (X_test-X_test_ave)/X_test_std\n"
     ]
    },
    {
     "name": "stdout",
     "output_type": "stream",
     "text": [
      "shape of X_train:  (1212, 828)\n",
      "shape of X_test:  (776, 828)\n"
     ]
    }
   ],
   "source": [
    "#mixed way to impute missing data\n",
    "# alpha = 0.5\n",
    "# X_train_data1, X_test_data1 = fill_missing_values(X_train_data, X_test_data)\n",
    "# X_train_data2, X_test_data2 = fill_missing_values_KNN(X_train_data, X_test_data)\n",
    "# X_train_data = alpha*X_train_data1+(1-alpha)*X_train_data2\n",
    "# X_test_data = alpha*X_test_data1+(1-alpha)*X_test_data2\n",
    "\n",
    "X_train, X_test = fill_missing_values_KNN(X_train, X_test)\n",
    "print(\"shape of X_train: \",X_train.shape)\n",
    "print(\"shape of X_test: \",X_test.shape)"
   ]
  },
  {
   "cell_type": "markdown",
   "metadata": {},
   "source": [
    "## 2. Outlier Detection\n",
    "* [reference_sklearn](https://scikit-learn.org/stable/modules/outlier_detection.html)\n",
    "* [reference_in_detail](https://practicaldatascience.co.uk/machine-learning/how-to-use-the-isolation-forest-model-for-outlier-detection)"
   ]
  },
  {
   "cell_type": "code",
   "execution_count": 6,
   "metadata": {},
   "outputs": [
    {
     "name": "stdout",
     "output_type": "stream",
     "text": [
      "IsolationForest-Traing data shape before removed: (1212, 828)\n",
      "IsolationForest-Traing data shape after removed: (1206, 828)\n"
     ]
    }
   ],
   "source": [
    "X, y = X_train,y_train\n",
    "X, y = remove_outliers(X, y)"
   ]
  },
  {
   "cell_type": "markdown",
   "metadata": {},
   "source": [
    "## 3. Feature Selection"
   ]
  },
  {
   "cell_type": "code",
   "execution_count": 7,
   "metadata": {},
   "outputs": [],
   "source": [
    "X_feature_from_batch1, X_test_feature_from_batch1 = X, X_test"
   ]
  },
  {
   "cell_type": "code",
   "execution_count": 8,
   "metadata": {},
   "outputs": [
    {
     "name": "stdout",
     "output_type": "stream",
     "text": [
      "[featsel] Scaling data..."
     ]
    },
    {
     "ename": "TypingError",
     "evalue": "Failed in nopython mode pipeline (step: nopython frontend)\nInternal error at <numba.typeinfer.CallConstraint object at 0x7fe637cbf3a0>.\nFailed in nopython mode pipeline (step: nopython frontend)\nUnsupported constraint encountered: raise $24load_global.0.175\n\nFile \"../../../../../anaconda3/envs/aml_project/lib/python3.8/site-packages/autofeat/nb_utils.py\", line 12:\ndef nb_apply_along_axis(func1d, axis, arr):\n    <source elided>\n    assert arr.ndim == 2\n    assert axis in [0, 1]\n    ^\n\n[1] During: resolving callee type: type(CPUDispatcher(<function nb_nanmean at 0x7fe6508514c0>))\n[2] During: typing of call at /Users/zdh/anaconda3/envs/aml_project/lib/python3.8/site-packages/autofeat/nb_utils.py (36)\n\nEnable logging at debug level for details.\n\nFile \"../../../../../anaconda3/envs/aml_project/lib/python3.8/site-packages/autofeat/nb_utils.py\", line 36:\ndef nb_standard_scale(array):\n    return (array - nb_nanmean(array, 0)) / nb_nanstd(array, 0)\n    ^\n",
     "output_type": "error",
     "traceback": [
      "\u001b[0;31m---------------------------------------------------------------------------\u001b[0m",
      "\u001b[0;31mTypingError\u001b[0m                               Traceback (most recent call last)",
      "\u001b[0;32m/var/folders/df/qjssdfqd3f52ltwv16hkg4kh0000gn/T/ipykernel_11717/3033870673.py\u001b[0m in \u001b[0;36m<module>\u001b[0;34m\u001b[0m\n\u001b[1;32m      7\u001b[0m     \u001b[0mX_feature_subset\u001b[0m \u001b[0;34m=\u001b[0m \u001b[0mX_feature_from_batch1\u001b[0m\u001b[0;34m[\u001b[0m\u001b[0;34m:\u001b[0m\u001b[0;34m,\u001b[0m\u001b[0msplit_index\u001b[0m\u001b[0;34m]\u001b[0m\u001b[0;34m\u001b[0m\u001b[0;34m\u001b[0m\u001b[0m\n\u001b[1;32m      8\u001b[0m     \u001b[0mX_test__feature_subset\u001b[0m \u001b[0;34m=\u001b[0m \u001b[0mX_test_feature_from_batch1\u001b[0m\u001b[0;34m[\u001b[0m\u001b[0;34m:\u001b[0m\u001b[0;34m,\u001b[0m\u001b[0msplit_index\u001b[0m\u001b[0;34m]\u001b[0m\u001b[0;34m\u001b[0m\u001b[0;34m\u001b[0m\u001b[0m\n\u001b[0;32m----> 9\u001b[0;31m     \u001b[0mX_feature_subset\u001b[0m\u001b[0;34m,\u001b[0m \u001b[0mX_test__feature_subset\u001b[0m \u001b[0;34m=\u001b[0m \u001b[0mauto_feature_extraction\u001b[0m\u001b[0;34m(\u001b[0m\u001b[0mX_feature_subset\u001b[0m\u001b[0;34m,\u001b[0m \u001b[0my\u001b[0m\u001b[0;34m,\u001b[0m \u001b[0mX_test__feature_subset\u001b[0m\u001b[0;34m)\u001b[0m\u001b[0;34m\u001b[0m\u001b[0;34m\u001b[0m\u001b[0m\n\u001b[0m\u001b[1;32m     10\u001b[0m \u001b[0;34m\u001b[0m\u001b[0m\n\u001b[1;32m     11\u001b[0m     \u001b[0;32mif\u001b[0m\u001b[0;34m(\u001b[0m\u001b[0mfirst_flag\u001b[0m\u001b[0;34m)\u001b[0m\u001b[0;34m:\u001b[0m\u001b[0;34m\u001b[0m\u001b[0;34m\u001b[0m\u001b[0m\n",
      "\u001b[0;32m/var/folders/df/qjssdfqd3f52ltwv16hkg4kh0000gn/T/ipykernel_11717/1270497743.py\u001b[0m in \u001b[0;36mauto_feature_extraction\u001b[0;34m(X, y, X_test)\u001b[0m\n\u001b[1;32m     90\u001b[0m     \u001b[0mfeature_names\u001b[0m \u001b[0;34m=\u001b[0m \u001b[0;34m[\u001b[0m\u001b[0mstr\u001b[0m\u001b[0;34m(\u001b[0m\u001b[0mi\u001b[0m\u001b[0;34m)\u001b[0m \u001b[0;32mfor\u001b[0m \u001b[0mi\u001b[0m \u001b[0;32min\u001b[0m \u001b[0mrange\u001b[0m\u001b[0;34m(\u001b[0m\u001b[0;36m0\u001b[0m\u001b[0;34m,\u001b[0m\u001b[0mX\u001b[0m\u001b[0;34m.\u001b[0m\u001b[0mshape\u001b[0m\u001b[0;34m[\u001b[0m\u001b[0;36m1\u001b[0m\u001b[0;34m]\u001b[0m\u001b[0;34m)\u001b[0m\u001b[0;34m]\u001b[0m\u001b[0;34m\u001b[0m\u001b[0;34m\u001b[0m\u001b[0m\n\u001b[1;32m     91\u001b[0m     \u001b[0mX_pd\u001b[0m \u001b[0;34m=\u001b[0m \u001b[0mpd\u001b[0m\u001b[0;34m.\u001b[0m\u001b[0mDataFrame\u001b[0m\u001b[0;34m(\u001b[0m\u001b[0mX\u001b[0m\u001b[0;34m,\u001b[0m \u001b[0mcolumns\u001b[0m\u001b[0;34m=\u001b[0m\u001b[0mfeature_names\u001b[0m\u001b[0;34m)\u001b[0m\u001b[0;34m\u001b[0m\u001b[0;34m\u001b[0m\u001b[0m\n\u001b[0;32m---> 92\u001b[0;31m     \u001b[0mnew_X\u001b[0m \u001b[0;34m=\u001b[0m \u001b[0mfsel\u001b[0m\u001b[0;34m.\u001b[0m\u001b[0mfit_transform\u001b[0m\u001b[0;34m(\u001b[0m\u001b[0mX_pd\u001b[0m\u001b[0;34m,\u001b[0m \u001b[0my\u001b[0m\u001b[0;34m)\u001b[0m\u001b[0;34m\u001b[0m\u001b[0;34m\u001b[0m\u001b[0m\n\u001b[0m\u001b[1;32m     93\u001b[0m     \u001b[0mprint\u001b[0m\u001b[0;34m(\u001b[0m\u001b[0;34m\"len of columns:\"\u001b[0m\u001b[0;34m,\u001b[0m \u001b[0mlen\u001b[0m\u001b[0;34m(\u001b[0m\u001b[0mnew_X\u001b[0m\u001b[0;34m.\u001b[0m\u001b[0mcolumns\u001b[0m\u001b[0;34m)\u001b[0m\u001b[0;34m)\u001b[0m\u001b[0;34m\u001b[0m\u001b[0;34m\u001b[0m\u001b[0m\n\u001b[1;32m     94\u001b[0m     \u001b[0mprint\u001b[0m\u001b[0;34m(\u001b[0m\u001b[0mnew_X\u001b[0m\u001b[0;34m.\u001b[0m\u001b[0mcolumns\u001b[0m\u001b[0;34m)\u001b[0m\u001b[0;34m\u001b[0m\u001b[0;34m\u001b[0m\u001b[0m\n",
      "\u001b[0;32m~/anaconda3/envs/aml_project/lib/python3.8/site-packages/autofeat/featsel.py\u001b[0m in \u001b[0;36mfit_transform\u001b[0;34m(self, X, y)\u001b[0m\n\u001b[1;32m    366\u001b[0m             \u001b[0;34m-\u001b[0m \u001b[0mnew_X\u001b[0m\u001b[0;34m:\u001b[0m \u001b[0mnew\u001b[0m \u001b[0mpandas\u001b[0m \u001b[0mdataframe\u001b[0m \u001b[0;32mor\u001b[0m \u001b[0mnumpy\u001b[0m \u001b[0marray\u001b[0m \u001b[0;32mwith\u001b[0m \u001b[0monly\u001b[0m \u001b[0mthe\u001b[0m \u001b[0mgood\u001b[0m \u001b[0mfeatures\u001b[0m\u001b[0;34m\u001b[0m\u001b[0;34m\u001b[0m\u001b[0m\n\u001b[1;32m    367\u001b[0m         \"\"\"\n\u001b[0;32m--> 368\u001b[0;31m         \u001b[0mself\u001b[0m\u001b[0;34m.\u001b[0m\u001b[0mfit\u001b[0m\u001b[0;34m(\u001b[0m\u001b[0mX\u001b[0m\u001b[0;34m,\u001b[0m \u001b[0my\u001b[0m\u001b[0;34m)\u001b[0m\u001b[0;34m\u001b[0m\u001b[0;34m\u001b[0m\u001b[0m\n\u001b[0m\u001b[1;32m    369\u001b[0m         \u001b[0;32mreturn\u001b[0m \u001b[0mself\u001b[0m\u001b[0;34m.\u001b[0m\u001b[0mtransform\u001b[0m\u001b[0;34m(\u001b[0m\u001b[0mX\u001b[0m\u001b[0;34m)\u001b[0m\u001b[0;34m\u001b[0m\u001b[0;34m\u001b[0m\u001b[0m\n",
      "\u001b[0;32m~/anaconda3/envs/aml_project/lib/python3.8/site-packages/autofeat/featsel.py\u001b[0m in \u001b[0;36mfit\u001b[0;34m(self, X, y)\u001b[0m\n\u001b[1;32m    323\u001b[0m         \u001b[0mdf\u001b[0m \u001b[0;34m=\u001b[0m \u001b[0mpd\u001b[0m\u001b[0;34m.\u001b[0m\u001b[0mDataFrame\u001b[0m\u001b[0;34m(\u001b[0m\u001b[0mX\u001b[0m\u001b[0;34m,\u001b[0m \u001b[0mcolumns\u001b[0m\u001b[0;34m=\u001b[0m\u001b[0mcols\u001b[0m\u001b[0;34m)\u001b[0m\u001b[0;34m\u001b[0m\u001b[0;34m\u001b[0m\u001b[0m\n\u001b[1;32m    324\u001b[0m         \u001b[0;31m# do the feature selection\u001b[0m\u001b[0;34m\u001b[0m\u001b[0;34m\u001b[0m\u001b[0;34m\u001b[0m\u001b[0m\n\u001b[0;32m--> 325\u001b[0;31m         \u001b[0mself\u001b[0m\u001b[0;34m.\u001b[0m\u001b[0mgood_cols_\u001b[0m \u001b[0;34m=\u001b[0m \u001b[0mselect_features\u001b[0m\u001b[0;34m(\u001b[0m\u001b[0mdf\u001b[0m\u001b[0;34m,\u001b[0m \u001b[0mtarget\u001b[0m\u001b[0;34m,\u001b[0m \u001b[0mself\u001b[0m\u001b[0;34m.\u001b[0m\u001b[0mfeatsel_runs\u001b[0m\u001b[0;34m,\u001b[0m \u001b[0mself\u001b[0m\u001b[0;34m.\u001b[0m\u001b[0mkeep\u001b[0m\u001b[0;34m,\u001b[0m \u001b[0mself\u001b[0m\u001b[0;34m.\u001b[0m\u001b[0mproblem_type\u001b[0m\u001b[0;34m,\u001b[0m \u001b[0mself\u001b[0m\u001b[0;34m.\u001b[0m\u001b[0mn_jobs\u001b[0m\u001b[0;34m,\u001b[0m \u001b[0mself\u001b[0m\u001b[0;34m.\u001b[0m\u001b[0mverbose\u001b[0m\u001b[0;34m)\u001b[0m\u001b[0;34m\u001b[0m\u001b[0;34m\u001b[0m\u001b[0m\n\u001b[0m\u001b[1;32m    326\u001b[0m         \u001b[0mself\u001b[0m\u001b[0;34m.\u001b[0m\u001b[0mn_features_in_\u001b[0m \u001b[0;34m=\u001b[0m \u001b[0mX\u001b[0m\u001b[0;34m.\u001b[0m\u001b[0mshape\u001b[0m\u001b[0;34m[\u001b[0m\u001b[0;36m1\u001b[0m\u001b[0;34m]\u001b[0m\u001b[0;34m\u001b[0m\u001b[0;34m\u001b[0m\u001b[0m\n\u001b[1;32m    327\u001b[0m         \u001b[0;32mreturn\u001b[0m \u001b[0mself\u001b[0m\u001b[0;34m\u001b[0m\u001b[0;34m\u001b[0m\u001b[0m\n",
      "\u001b[0;32m~/anaconda3/envs/aml_project/lib/python3.8/site-packages/autofeat/featsel.py\u001b[0m in \u001b[0;36mselect_features\u001b[0;34m(df, target, featsel_runs, keep, problem_type, n_jobs, verbose)\u001b[0m\n\u001b[1;32m    202\u001b[0m     \u001b[0;32mwith\u001b[0m \u001b[0mwarnings\u001b[0m\u001b[0;34m.\u001b[0m\u001b[0mcatch_warnings\u001b[0m\u001b[0;34m(\u001b[0m\u001b[0;34m)\u001b[0m\u001b[0;34m:\u001b[0m\u001b[0;34m\u001b[0m\u001b[0;34m\u001b[0m\u001b[0m\n\u001b[1;32m    203\u001b[0m         \u001b[0mwarnings\u001b[0m\u001b[0;34m.\u001b[0m\u001b[0msimplefilter\u001b[0m\u001b[0;34m(\u001b[0m\u001b[0;34m\"ignore\"\u001b[0m\u001b[0;34m)\u001b[0m\u001b[0;34m\u001b[0m\u001b[0;34m\u001b[0m\u001b[0m\n\u001b[0;32m--> 204\u001b[0;31m         \u001b[0mdf_scaled\u001b[0m \u001b[0;34m=\u001b[0m \u001b[0mpd\u001b[0m\u001b[0;34m.\u001b[0m\u001b[0mDataFrame\u001b[0m\u001b[0;34m(\u001b[0m\u001b[0mnb_standard_scale\u001b[0m\u001b[0;34m(\u001b[0m\u001b[0mdf\u001b[0m\u001b[0;34m.\u001b[0m\u001b[0mto_numpy\u001b[0m\u001b[0;34m(\u001b[0m\u001b[0;34m)\u001b[0m\u001b[0;34m)\u001b[0m\u001b[0;34m,\u001b[0m \u001b[0mcolumns\u001b[0m\u001b[0;34m=\u001b[0m\u001b[0mdf\u001b[0m\u001b[0;34m.\u001b[0m\u001b[0mcolumns\u001b[0m\u001b[0;34m,\u001b[0m \u001b[0mdtype\u001b[0m\u001b[0;34m=\u001b[0m\u001b[0mnp\u001b[0m\u001b[0;34m.\u001b[0m\u001b[0mfloat32\u001b[0m\u001b[0;34m)\u001b[0m\u001b[0;34m\u001b[0m\u001b[0;34m\u001b[0m\u001b[0m\n\u001b[0m\u001b[1;32m    205\u001b[0m         \u001b[0;32mif\u001b[0m \u001b[0mproblem_type\u001b[0m \u001b[0;34m==\u001b[0m \u001b[0;34m\"regression\"\u001b[0m\u001b[0;34m:\u001b[0m\u001b[0;34m\u001b[0m\u001b[0;34m\u001b[0m\u001b[0m\n\u001b[1;32m    206\u001b[0m             \u001b[0mtarget_scaled\u001b[0m \u001b[0;34m=\u001b[0m \u001b[0mnb_standard_scale\u001b[0m\u001b[0;34m(\u001b[0m\u001b[0mtarget\u001b[0m\u001b[0;34m.\u001b[0m\u001b[0mreshape\u001b[0m\u001b[0;34m(\u001b[0m\u001b[0;34m-\u001b[0m\u001b[0;36m1\u001b[0m\u001b[0;34m,\u001b[0m \u001b[0;36m1\u001b[0m\u001b[0;34m)\u001b[0m\u001b[0;34m)\u001b[0m\u001b[0;34m.\u001b[0m\u001b[0mravel\u001b[0m\u001b[0;34m(\u001b[0m\u001b[0;34m)\u001b[0m\u001b[0;34m\u001b[0m\u001b[0;34m\u001b[0m\u001b[0m\n",
      "\u001b[0;32m~/anaconda3/envs/aml_project/lib/python3.8/site-packages/numba/dispatcher.py\u001b[0m in \u001b[0;36m_compile_for_args\u001b[0;34m(self, *args, **kws)\u001b[0m\n\u001b[1;32m    399\u001b[0m                 \u001b[0me\u001b[0m\u001b[0;34m.\u001b[0m\u001b[0mpatch_message\u001b[0m\u001b[0;34m(\u001b[0m\u001b[0mmsg\u001b[0m\u001b[0;34m)\u001b[0m\u001b[0;34m\u001b[0m\u001b[0;34m\u001b[0m\u001b[0m\n\u001b[1;32m    400\u001b[0m \u001b[0;34m\u001b[0m\u001b[0m\n\u001b[0;32m--> 401\u001b[0;31m             \u001b[0merror_rewrite\u001b[0m\u001b[0;34m(\u001b[0m\u001b[0me\u001b[0m\u001b[0;34m,\u001b[0m \u001b[0;34m'typing'\u001b[0m\u001b[0;34m)\u001b[0m\u001b[0;34m\u001b[0m\u001b[0;34m\u001b[0m\u001b[0m\n\u001b[0m\u001b[1;32m    402\u001b[0m         \u001b[0;32mexcept\u001b[0m \u001b[0merrors\u001b[0m\u001b[0;34m.\u001b[0m\u001b[0mUnsupportedError\u001b[0m \u001b[0;32mas\u001b[0m \u001b[0me\u001b[0m\u001b[0;34m:\u001b[0m\u001b[0;34m\u001b[0m\u001b[0;34m\u001b[0m\u001b[0m\n\u001b[1;32m    403\u001b[0m             \u001b[0;31m# Something unsupported is present in the user code, add help info\u001b[0m\u001b[0;34m\u001b[0m\u001b[0;34m\u001b[0m\u001b[0;34m\u001b[0m\u001b[0m\n",
      "\u001b[0;32m~/anaconda3/envs/aml_project/lib/python3.8/site-packages/numba/dispatcher.py\u001b[0m in \u001b[0;36merror_rewrite\u001b[0;34m(e, issue_type)\u001b[0m\n\u001b[1;32m    342\u001b[0m                 \u001b[0;32mraise\u001b[0m \u001b[0me\u001b[0m\u001b[0;34m\u001b[0m\u001b[0;34m\u001b[0m\u001b[0m\n\u001b[1;32m    343\u001b[0m             \u001b[0;32melse\u001b[0m\u001b[0;34m:\u001b[0m\u001b[0;34m\u001b[0m\u001b[0;34m\u001b[0m\u001b[0m\n\u001b[0;32m--> 344\u001b[0;31m                 \u001b[0mreraise\u001b[0m\u001b[0;34m(\u001b[0m\u001b[0mtype\u001b[0m\u001b[0;34m(\u001b[0m\u001b[0me\u001b[0m\u001b[0;34m)\u001b[0m\u001b[0;34m,\u001b[0m \u001b[0me\u001b[0m\u001b[0;34m,\u001b[0m \u001b[0;32mNone\u001b[0m\u001b[0;34m)\u001b[0m\u001b[0;34m\u001b[0m\u001b[0;34m\u001b[0m\u001b[0m\n\u001b[0m\u001b[1;32m    345\u001b[0m \u001b[0;34m\u001b[0m\u001b[0m\n\u001b[1;32m    346\u001b[0m         \u001b[0margtypes\u001b[0m \u001b[0;34m=\u001b[0m \u001b[0;34m[\u001b[0m\u001b[0;34m]\u001b[0m\u001b[0;34m\u001b[0m\u001b[0;34m\u001b[0m\u001b[0m\n",
      "\u001b[0;32m~/anaconda3/envs/aml_project/lib/python3.8/site-packages/numba/six.py\u001b[0m in \u001b[0;36mreraise\u001b[0;34m(tp, value, tb)\u001b[0m\n\u001b[1;32m    666\u001b[0m             \u001b[0mvalue\u001b[0m \u001b[0;34m=\u001b[0m \u001b[0mtp\u001b[0m\u001b[0;34m(\u001b[0m\u001b[0;34m)\u001b[0m\u001b[0;34m\u001b[0m\u001b[0;34m\u001b[0m\u001b[0m\n\u001b[1;32m    667\u001b[0m         \u001b[0;32mif\u001b[0m \u001b[0mvalue\u001b[0m\u001b[0;34m.\u001b[0m\u001b[0m__traceback__\u001b[0m \u001b[0;32mis\u001b[0m \u001b[0;32mnot\u001b[0m \u001b[0mtb\u001b[0m\u001b[0;34m:\u001b[0m\u001b[0;34m\u001b[0m\u001b[0;34m\u001b[0m\u001b[0m\n\u001b[0;32m--> 668\u001b[0;31m             \u001b[0;32mraise\u001b[0m \u001b[0mvalue\u001b[0m\u001b[0;34m.\u001b[0m\u001b[0mwith_traceback\u001b[0m\u001b[0;34m(\u001b[0m\u001b[0mtb\u001b[0m\u001b[0;34m)\u001b[0m\u001b[0;34m\u001b[0m\u001b[0;34m\u001b[0m\u001b[0m\n\u001b[0m\u001b[1;32m    669\u001b[0m         \u001b[0;32mraise\u001b[0m \u001b[0mvalue\u001b[0m\u001b[0;34m\u001b[0m\u001b[0;34m\u001b[0m\u001b[0m\n\u001b[1;32m    670\u001b[0m \u001b[0;34m\u001b[0m\u001b[0m\n",
      "\u001b[0;31mTypingError\u001b[0m: Failed in nopython mode pipeline (step: nopython frontend)\nInternal error at <numba.typeinfer.CallConstraint object at 0x7fe637cbf3a0>.\nFailed in nopython mode pipeline (step: nopython frontend)\nUnsupported constraint encountered: raise $24load_global.0.175\n\nFile \"../../../../../anaconda3/envs/aml_project/lib/python3.8/site-packages/autofeat/nb_utils.py\", line 12:\ndef nb_apply_along_axis(func1d, axis, arr):\n    <source elided>\n    assert arr.ndim == 2\n    assert axis in [0, 1]\n    ^\n\n[1] During: resolving callee type: type(CPUDispatcher(<function nb_nanmean at 0x7fe6508514c0>))\n[2] During: typing of call at /Users/zdh/anaconda3/envs/aml_project/lib/python3.8/site-packages/autofeat/nb_utils.py (36)\n\nEnable logging at debug level for details.\n\nFile \"../../../../../anaconda3/envs/aml_project/lib/python3.8/site-packages/autofeat/nb_utils.py\", line 36:\ndef nb_standard_scale(array):\n    return (array - nb_nanmean(array, 0)) / nb_nanstd(array, 0)\n    ^\n"
     ]
    }
   ],
   "source": [
    "#splited feature selection\\\n",
    "split_num = 20\n",
    "split_size = int(X_test_feature_from_batch1.shape[1]/split_num)\n",
    "first_flag = 1\n",
    "for i in range(0,split_num):\n",
    "    split_index = [j for j in range(i*split_size,min((i+1)*split_size,X_test_feature_from_batch1.shape[1]))]\n",
    "    X_feature_subset = X_feature_from_batch1[:,split_index]\n",
    "    X_test__feature_subset = X_test_feature_from_batch1[:,split_index]\n",
    "    X_feature_subset, X_test__feature_subset = auto_feature_extraction(X_feature_subset, y, X_test__feature_subset)\n",
    "\n",
    "    if(first_flag):\n",
    "        first_flag = 0\n",
    "        X_feature_from_batch2 = X_feature_subset\n",
    "        X_test_feature_from_batch2 = X_test__feature_subset\n",
    "    else:\n",
    "\n",
    "        X_feature_from_batch2 = np.hstack((X_feature_from_batch2,X_feature_subset))\n",
    "        X_test_feature_from_batch2 = np.hstack((X_test_feature_from_batch2,X_test__feature_subset))\n",
    "print(\"shape of X_feature_from_batch2:\",X_test_feature_from_batch2.shape)\n",
    "print(\"shape of X_test_feature_from_batch2:\",X_test_feature_from_batch2.shape)\n",
    "\n"
   ]
  },
  {
   "cell_type": "code",
   "execution_count": null,
   "metadata": {},
   "outputs": [],
   "source": [
    "X_feature_from_batch3, X_test_feature_from_batch3 = select_features(X_feature_from_batch2, y, X_test_feature_from_batch2,feature_num = 53)"
   ]
  },
  {
   "cell_type": "markdown",
   "metadata": {},
   "source": [
    "## 4. Extra Tree"
   ]
  },
  {
   "cell_type": "code",
   "execution_count": null,
   "metadata": {},
   "outputs": [],
   "source": [
    "def fit_model_and_pred(degree, X_train, y_train, X_test):\n",
    "    model = ExtraTreesRegressor(n_jobs=1, max_depth=None, n_estimators=195, random_state=0, min_samples_split=2, max_features=None)\n",
    "\n",
    "    model.fit(X_train, y_train)\n",
    "    \n",
    "    y_training_pred = model.predict(X_train)\n",
    "    score = r2_score(y_train, y_training_pred)\n",
    "    print('The obtained training r2 score is : ',score)\n",
    "    y_pred = model.predict(X_test) \n",
    "    return y_pred\n",
    "\n",
    "def train_k_fold(X, y, fold_num=10):\n",
    "    kf = KFold(n_splits=fold_num, random_state=None, shuffle=False)\n",
    "    kf.get_n_splits(X)\n",
    "    train_score = 0.0\n",
    "    test_score = 0.0\n",
    "    \n",
    "    for train_index, test_index in kf.split(X):\n",
    "        X_train, X_val = X[train_index], X[test_index]\n",
    "        y_train, y_val = y[train_index], y[test_index]\n",
    "\n",
    "        y_pred = fit_model_and_pred(1, X_train, y_train, X_val)\n",
    "        score = r2_score(y_val, y_pred)\n",
    "\n",
    "        print('The obtained validation r2 score is : ',score)\n",
    "        train_score += score\n",
    "        test_score += score\n",
    "\n",
    "    print(\"Training score: %f\"%(train_score/fold_num))\n",
    "    print(\"Validation score: %f\"%(test_score/fold_num))\n",
    "    \n",
    "def train_k_fold_predict(X, y,X_test, fold_num=10):\n",
    "    kf = KFold(n_splits=fold_num, random_state=None, shuffle=False)\n",
    "    kf.get_n_splits(X)\n",
    "    y_test_predict = np.zeros(X_test.shape[0])\n",
    "    for train_index, test_index in kf.split(X):\n",
    "        X_train, X_val = X[train_index], X[test_index]\n",
    "        y_train, y_val = y[train_index], y[test_index]\n",
    "\n",
    "        y_pred = fit_model_and_pred(1, X_train, y_train, X_test)\n",
    "        y_test_predict += y_pred\n",
    "\n",
    "    return y_test_predict/fold_num"
   ]
  },
  {
   "cell_type": "code",
   "execution_count": null,
   "metadata": {},
   "outputs": [],
   "source": [
    "train_k_fold(X_feature_from_batch3,y,fold_num = 10) #Knn with std and feature num = 100"
   ]
  },
  {
   "cell_type": "code",
   "execution_count": null,
   "metadata": {},
   "outputs": [],
   "source": [
    "# Y_test_pred = fit_model_and_pred(1, X, y, X_test)\n",
    "Y_test_pred = train_k_fold_predict(X_feature_from_batch3, y,X_test_feature_from_batch3)\n",
    "final_res = np.vstack((indices_test, Y_test_pred)).T"
   ]
  },
  {
   "cell_type": "code",
   "execution_count": null,
   "metadata": {},
   "outputs": [],
   "source": [
    "df_res = pd.DataFrame(final_res)\n",
    "df_res.to_csv(\"our_result.csv\", header = [\"id\", \"y\"], index=False)"
   ]
  }
 ],
 "metadata": {
  "kernelspec": {
   "display_name": "Python 3 (ipykernel)",
   "language": "python",
   "name": "python3"
  },
  "language_info": {
   "codemirror_mode": {
    "name": "ipython",
    "version": 3
   },
   "file_extension": ".py",
   "mimetype": "text/x-python",
   "name": "python",
   "nbconvert_exporter": "python",
   "pygments_lexer": "ipython3",
   "version": "3.8.12"
  }
 },
 "nbformat": 4,
 "nbformat_minor": 2
}
