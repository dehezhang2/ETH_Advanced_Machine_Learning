{
 "cells": [
  {
   "cell_type": "code",
   "execution_count": 1,
   "metadata": {},
   "outputs": [],
   "source": [
    "import numpy as np\n",
    "import pandas as pd\n",
    "\n",
    "from sklearn.impute import SimpleImputer\n",
    "from sklearn.ensemble import (RandomForestRegressor, IsolationForest)\n",
    "from sklearn.preprocessing import StandardScaler\n",
    "from sklearn.feature_selection import (f_regression, SelectFromModel)\n",
    "from sklearn.ensemble import ExtraTreesRegressor\n",
    "from sklearn.impute import KNNImputer\n",
    "\n",
    "from sklearn.model_selection import KFold\n",
    "\n",
    "from sklearn.linear_model import Lasso\n",
    "from sklearn.preprocessing import PolynomialFeatures, normalize\n",
    "\n",
    "from sklearn.metrics import r2_score\n",
    "\n",
    "import matplotlib.pyplot as plt\n",
    "\n",
    "\n",
    "import tensorflow as tf\n",
    "# from keras import backend as K\n",
    "# from keras.models import Sequential\n",
    "# from keras.layers import Dense\n",
    "# from keras.layers import LeakyReLU\n",
    "# from keras.optimizers import Adam\n",
    "# from keras.layers import Dropout\n",
    "# from keras import regularizers\n",
    "# from keras import initializers\n",
    "%matplotlib inline"
   ]
  },
  {
   "cell_type": "code",
   "execution_count": 2,
   "metadata": {},
   "outputs": [],
   "source": [
    "def fill_missing_values(X, X_test):\n",
    "    imp = SimpleImputer(missing_values=np.nan, strategy='median')\n",
    "    imp.fit(X)\n",
    "    X = imp.transform(X)\n",
    "    X_test = imp.transform(X_test)\n",
    "    return X, X_test\n",
    "#     imputer = KNNImputer(missing_values=np.nan, n_neighbors=100)\n",
    "#     X = imputer.fit_transform(X)\n",
    "#     X_test = imputer.fit_transform(X_test)\n",
    "#     return X, X_test\n",
    "\n",
    "def remove_outliers(X, y):\n",
    "    iforest = IsolationForest(max_samples=100, random_state=1, contamination='auto')\n",
    "    iforest.fit(X)\n",
    "    print(\"Traing data shape before removed: {}\".format(X.shape))\n",
    "    outlier_pred = iforest.predict(X)\n",
    "    X, y = X[(outlier_pred != -1), :], y[(outlier_pred != -1)]\n",
    "    print(\"Traing data shape after removed: {}\".format(X.shape))\n",
    "    return X, y\n",
    "\n",
    "# def select_features(X, y, X_test, feature_num1=150, feature_num2=100):\n",
    "#     scaler = StandardScaler().fit(X, y)\n",
    "#     X = scaler.transform(X)\n",
    "#     X_test = scaler.transform(X_test)\n",
    "    \n",
    "#     features_scores = f_regression(X, y)[0]\n",
    "#     indices_fr = np.asarray(list(features_scores)).argsort()[-feature_num1:][::-1]\n",
    "    \n",
    "#     rf = RandomForestRegressor(n_jobs=-1, n_estimators=50, random_state=1)\n",
    "#     rf.fit(X, y)\n",
    "#     indices_rf = np.asarray(list(rf.feature_importances_)).argsort()[-feature_num2:][::-1]\n",
    "    \n",
    "#     indices = list(np.union1d(indices_rf, indices_fr))\n",
    "#     X = np.take(X, indices, axis = 1)\n",
    "#     X_test = np.take(X_test, indices, axis = 1)\n",
    "    \n",
    "#     return X, X_test\n",
    "\n",
    "def select_features(X, y, X_test, feature_num1=200, feature_num2=100, feature_num3=832):\n",
    "    scaler = StandardScaler().fit(X, y)\n",
    "    X = scaler.transform(X)\n",
    "    X_test = scaler.transform(X_test)\n",
    "    \n",
    "#     features_scores = f_regression(X, y)[0]\n",
    "#     indices_fregression = np.asarray(list(features_scores)).argsort()[-feature_num1:][::-1]\n",
    "    \n",
    "    rf = RandomForestRegressor(n_jobs=-1, n_estimators=50, random_state=1)\n",
    "    rf.fit(X, y)\n",
    "    indices_randomforest = np.asarray(list(rf.feature_importances_)).argsort()[-feature_num2:][::-1]\n",
    "    \n",
    "#     ls = Lasso(alpha=0.0001, normalize=True)\n",
    "#     polynomial_features = PolynomialFeatures(1)\n",
    "#     X = polynomial_features.fit_transform(X)\n",
    "#     ls.fit(X, y)\n",
    "#     indices_lasso = np.asarray(list(np.abs(ls.coef_))).argsort()[-feature_num3:][::-1]\n",
    "\n",
    "#     indices = list(np.intersect1d(indices_lasso, np.union1d(indices_fregression, indices_randomforest))) \n",
    "#     indices = list(np.union1d(indices_fregression, indices_randomforest))\n",
    "    X = np.take(X, indices_randomforest, axis = 1)\n",
    "    X_test = np.take(X_test, indices_randomforest, axis = 1)\n",
    "    \n",
    "    return X, X_test"
   ]
  },
  {
   "cell_type": "code",
   "execution_count": 3,
   "metadata": {},
   "outputs": [],
   "source": [
    "X_train_data = pd.read_csv('X_train.csv')\n",
    "y_train_data = pd.read_csv('y_train.csv')\n",
    "X_test_data = pd.read_csv('X_test.csv')"
   ]
  },
  {
   "cell_type": "markdown",
   "metadata": {},
   "source": [
    "## 1. Imputation of Missing Values\n",
    "* [Reference](https://scikit-learn.org/stable/modules/impute.html)\n",
    "* We use median of column instead of mean"
   ]
  },
  {
   "cell_type": "code",
   "execution_count": 4,
   "metadata": {},
   "outputs": [],
   "source": [
    "X_train_data, X_test_data = fill_missing_values(X_train_data, X_test_data)"
   ]
  },
  {
   "cell_type": "code",
   "execution_count": 5,
   "metadata": {},
   "outputs": [],
   "source": [
    "indices_test = np.array(X_test_data)[:,0]\n",
    "X_test = np.array(X_test_data)[:,1:]\n",
    "y = np.array(y_train_data)[:,1]\n",
    "X = np.array(X_train_data)[:,1:]"
   ]
  },
  {
   "cell_type": "markdown",
   "metadata": {},
   "source": [
    "## 2. Outlier Detection\n",
    "* [reference_sklearn](https://scikit-learn.org/stable/modules/outlier_detection.html)\n",
    "* [reference_in_detail](https://practicaldatascience.co.uk/machine-learning/how-to-use-the-isolation-forest-model-for-outlier-detection)"
   ]
  },
  {
   "cell_type": "code",
   "execution_count": 6,
   "metadata": {},
   "outputs": [
    {
     "name": "stdout",
     "output_type": "stream",
     "text": [
      "Traing data shape before removed: (1212, 832)\n",
      "Traing data shape after removed: (1194, 832)\n"
     ]
    }
   ],
   "source": [
    "X, y = remove_outliers(X, y)"
   ]
  },
  {
   "cell_type": "markdown",
   "metadata": {},
   "source": [
    "## 3. Feature Selection"
   ]
  },
  {
   "cell_type": "code",
   "execution_count": 7,
   "metadata": {},
   "outputs": [
    {
     "name": "stdout",
     "output_type": "stream",
     "text": [
      "Traing data shape after selection: (1194, 100)\n",
      "Testing data shape after selection: (776, 100)\n"
     ]
    }
   ],
   "source": [
    "X, X_test = select_features(X, y, X_test)\n",
    "print(\"Traing data shape after selection: {}\".format(X.shape))\n",
    "print(\"Testing data shape after selection: {}\".format(X_test.shape))"
   ]
  },
  {
   "cell_type": "markdown",
   "metadata": {},
   "source": [
    "## 4. Extra Tree"
   ]
  },
  {
   "cell_type": "code",
   "execution_count": 8,
   "metadata": {},
   "outputs": [],
   "source": [
    "def fit_model_and_pred(degree, X_train, y_train, X_test):\n",
    "    Y = y_train\n",
    "    dropout = 0.1\n",
    "    model = Sequential()\n",
    "    model.add(Dense(30, input_dim=len(indices), kernel_regularizer = regularizers.l2(1), init='RandomUniform'))\n",
    "    model.add(LeakyReLU(alpha=0.1))\n",
    "    model.add(Dropout(rate = dropout))\n",
    "    model.add(Dense(30, input_dim=72, kernel_regularizer = regularizers.l2(1), init='RandomUniform'))\n",
    "    model.add(LeakyReLU(alpha=0.1))\n",
    "    model.add(Dropout(rate = dropout))\n",
    "    model.add(Dense(30, input_dim=72, kernel_regularizer = regularizers.l2(1), init='RandomUniform'))\n",
    "    model.add(LeakyReLU(alpha=0.1))\n",
    "    model.add(Dropout(rate = dropout))\n",
    "    model.add(Dense(30, input_dim=72, kernel_regularizer = regularizers.l2(1), init='RandomUniform'))\n",
    "    model.add(LeakyReLU(alpha=0.1))\n",
    "    model.add(Dropout(rate = dropout))\n",
    "    model.add(Dense(30, input_dim=72, kernel_regularizer = regularizers.l2(1), init='RandomUniform'))\n",
    "    model.add(LeakyReLU(alpha=0.1))\n",
    "    model.add(Dropout(rate = dropout))\n",
    "    model.add(Dense(30, input_dim=72, kernel_regularizer = regularizers.l2(1), init='RandomUniform'))\n",
    "    model.add(LeakyReLU(alpha=0.1))\n",
    "    model.add(Dropout(rate = dropout))\n",
    "    model.add(Dense(30, input_dim=72, kernel_regularizer = regularizers.l2(1), init='RandomUniform'))\n",
    "    model.add(LeakyReLU(alpha=0.1))\n",
    "    model.add(Dropout(rate = dropout))\n",
    "    model.add(Dense(30, input_dim=72, kernel_regularizer = regularizers.l2(1), init='RandomUniform'))\n",
    "    model.add(LeakyReLU(alpha=0.1))\n",
    "    model.add(Dropout(rate = dropout))\n",
    "\n",
    "    model.add(Dense(1, init='RandomUniform'))\n",
    "    # Compile model\n",
    "    optimizer = Adam(lr=0.005, beta_1=0.9, beta_2=0.999, epsilon=None, decay=0.0, amsgrad=False)\n",
    "\n",
    "    model.compile(loss='mean_squared_error', optimizer=optimizer, metrics=[coeff_determination])\n",
    "    # Fit the model\n",
    "    print(\"Start fitting ...\")\n",
    "    model.fit(x=X_train, y=Y, epochs=80, verbose=0, validation_split=0.1, shuffle=True, steps_per_epoch=50, initial_epoch=0, validation_steps=5)\n",
    "    # calculate predictions\n",
    "    print(\"calculate predictions\")\n",
    "    predictions = model.predict(X_test)\n",
    "    return predictions\n",
    "    \n",
    "#     model = Lasso(alpha=0.0001, normalize=True)\n",
    "#     polynomial_features = PolynomialFeatures(degree)\n",
    "#     X_train = polynomial_features.fit_transform(X_train)\n",
    "#     X_test = polynomial_features.fit_transform(X_test)\n",
    "#     model.fit(X_train, y_train/100)\n",
    "#     y_pred = model.predict(X_test)\n",
    "\n",
    "#     model = ExtraTreesRegressor(n_jobs=1, max_depth=None, n_estimators=180, random_state=0, min_samples_split=3, max_features=None)\n",
    "#     model.fit(X_train, y_train)\n",
    "#     y_pred = model.predict(X_test) \n",
    "#     return y_pred\n",
    "\n",
    "\n",
    "\n",
    "def train_k_fold(X, y, fold_num=10):\n",
    "    kf = KFold(n_splits=fold_num, random_state=None, shuffle=False)\n",
    "    kf.get_n_splits(X)\n",
    "    train_score = 0.0\n",
    "    test_score = 0.0\n",
    "    \n",
    "    for train_index, test_index in kf.split(X):\n",
    "        X_train, X_val = X[train_index], X[test_index]\n",
    "        y_train, y_val = y[train_index], y[test_index]\n",
    "\n",
    "        y_pred = fit_model_and_pred(1, X_train, y_train, X_val)\n",
    "        score = r2_score(y_val, y_pred)\n",
    "\n",
    "        print('The obtained r2 score is : ',score)\n",
    "        train_score += score\n",
    "        test_score += score\n",
    "\n",
    "    print(\"Training score: %f\"%(train_score/fold_num))\n",
    "    print(\"Validation score: %f\"%(test_score/fold_num))"
   ]
  },
  {
   "cell_type": "code",
   "execution_count": 9,
   "metadata": {},
   "outputs": [
    {
     "ename": "NameError",
     "evalue": "name 'Sequential' is not defined",
     "output_type": "error",
     "traceback": [
      "\u001b[0;31m---------------------------------------------------------------------------\u001b[0m",
      "\u001b[0;31mNameError\u001b[0m                                 Traceback (most recent call last)",
      "\u001b[0;32m<ipython-input-9-1d9584a753a3>\u001b[0m in \u001b[0;36m<module>\u001b[0;34m\u001b[0m\n\u001b[0;32m----> 1\u001b[0;31m \u001b[0mtrain_k_fold\u001b[0m\u001b[0;34m(\u001b[0m\u001b[0mX\u001b[0m\u001b[0;34m,\u001b[0m\u001b[0my\u001b[0m\u001b[0;34m)\u001b[0m\u001b[0;34m\u001b[0m\u001b[0m\n\u001b[0m",
      "\u001b[0;32m<ipython-input-8-9f98486b00ff>\u001b[0m in \u001b[0;36mtrain_k_fold\u001b[0;34m(X, y, fold_num)\u001b[0m\n\u001b[1;32m     65\u001b[0m         \u001b[0my_train\u001b[0m\u001b[0;34m,\u001b[0m \u001b[0my_val\u001b[0m \u001b[0;34m=\u001b[0m \u001b[0my\u001b[0m\u001b[0;34m[\u001b[0m\u001b[0mtrain_index\u001b[0m\u001b[0;34m]\u001b[0m\u001b[0;34m,\u001b[0m \u001b[0my\u001b[0m\u001b[0;34m[\u001b[0m\u001b[0mtest_index\u001b[0m\u001b[0;34m]\u001b[0m\u001b[0;34m\u001b[0m\u001b[0m\n\u001b[1;32m     66\u001b[0m \u001b[0;34m\u001b[0m\u001b[0m\n\u001b[0;32m---> 67\u001b[0;31m         \u001b[0my_pred\u001b[0m \u001b[0;34m=\u001b[0m \u001b[0mfit_model_and_pred\u001b[0m\u001b[0;34m(\u001b[0m\u001b[0;36m1\u001b[0m\u001b[0;34m,\u001b[0m \u001b[0mX_train\u001b[0m\u001b[0;34m,\u001b[0m \u001b[0my_train\u001b[0m\u001b[0;34m,\u001b[0m \u001b[0mX_val\u001b[0m\u001b[0;34m)\u001b[0m\u001b[0;34m\u001b[0m\u001b[0m\n\u001b[0m\u001b[1;32m     68\u001b[0m         \u001b[0mscore\u001b[0m \u001b[0;34m=\u001b[0m \u001b[0mr2_score\u001b[0m\u001b[0;34m(\u001b[0m\u001b[0my_val\u001b[0m\u001b[0;34m,\u001b[0m \u001b[0my_pred\u001b[0m\u001b[0;34m)\u001b[0m\u001b[0;34m\u001b[0m\u001b[0m\n\u001b[1;32m     69\u001b[0m \u001b[0;34m\u001b[0m\u001b[0m\n",
      "\u001b[0;32m<ipython-input-8-9f98486b00ff>\u001b[0m in \u001b[0;36mfit_model_and_pred\u001b[0;34m(degree, X_train, y_train, X_test)\u001b[0m\n\u001b[1;32m      2\u001b[0m     \u001b[0mY\u001b[0m \u001b[0;34m=\u001b[0m \u001b[0my_train\u001b[0m\u001b[0;34m\u001b[0m\u001b[0m\n\u001b[1;32m      3\u001b[0m     \u001b[0mdropout\u001b[0m \u001b[0;34m=\u001b[0m \u001b[0;36m0.1\u001b[0m\u001b[0;34m\u001b[0m\u001b[0m\n\u001b[0;32m----> 4\u001b[0;31m     \u001b[0mmodel\u001b[0m \u001b[0;34m=\u001b[0m \u001b[0mSequential\u001b[0m\u001b[0;34m(\u001b[0m\u001b[0;34m)\u001b[0m\u001b[0;34m\u001b[0m\u001b[0m\n\u001b[0m\u001b[1;32m      5\u001b[0m     \u001b[0mmodel\u001b[0m\u001b[0;34m.\u001b[0m\u001b[0madd\u001b[0m\u001b[0;34m(\u001b[0m\u001b[0mDense\u001b[0m\u001b[0;34m(\u001b[0m\u001b[0;36m30\u001b[0m\u001b[0;34m,\u001b[0m \u001b[0minput_dim\u001b[0m\u001b[0;34m=\u001b[0m\u001b[0mlen\u001b[0m\u001b[0;34m(\u001b[0m\u001b[0mindices\u001b[0m\u001b[0;34m)\u001b[0m\u001b[0;34m,\u001b[0m \u001b[0mkernel_regularizer\u001b[0m \u001b[0;34m=\u001b[0m \u001b[0mregularizers\u001b[0m\u001b[0;34m.\u001b[0m\u001b[0ml2\u001b[0m\u001b[0;34m(\u001b[0m\u001b[0;36m1\u001b[0m\u001b[0;34m)\u001b[0m\u001b[0;34m,\u001b[0m \u001b[0minit\u001b[0m\u001b[0;34m=\u001b[0m\u001b[0;34m'RandomUniform'\u001b[0m\u001b[0;34m)\u001b[0m\u001b[0;34m)\u001b[0m\u001b[0;34m\u001b[0m\u001b[0m\n\u001b[1;32m      6\u001b[0m     \u001b[0mmodel\u001b[0m\u001b[0;34m.\u001b[0m\u001b[0madd\u001b[0m\u001b[0;34m(\u001b[0m\u001b[0mLeakyReLU\u001b[0m\u001b[0;34m(\u001b[0m\u001b[0malpha\u001b[0m\u001b[0;34m=\u001b[0m\u001b[0;36m0.1\u001b[0m\u001b[0;34m)\u001b[0m\u001b[0;34m)\u001b[0m\u001b[0;34m\u001b[0m\u001b[0m\n",
      "\u001b[0;31mNameError\u001b[0m: name 'Sequential' is not defined"
     ]
    }
   ],
   "source": [
    "train_k_fold(X,y)"
   ]
  },
  {
   "cell_type": "code",
   "execution_count": null,
   "metadata": {},
   "outputs": [],
   "source": [
    "Y_test_pred = fit_model_and_pred(1, X, y, X_test)\n",
    "final_res = np.vstack((indices_test, Y_test_pred)).T"
   ]
  },
  {
   "cell_type": "code",
   "execution_count": null,
   "metadata": {},
   "outputs": [],
   "source": [
    "df_res = pd.DataFrame(final_res)\n",
    "df_res.to_csv(\"our_result.csv\", header = [\"id\", \"y\"], index=False)"
   ]
  }
 ],
 "metadata": {
  "kernelspec": {
   "display_name": "Python 3",
   "language": "python",
   "name": "python3"
  },
  "language_info": {
   "codemirror_mode": {
    "name": "ipython",
    "version": 3
   },
   "file_extension": ".py",
   "mimetype": "text/x-python",
   "name": "python",
   "nbconvert_exporter": "python",
   "pygments_lexer": "ipython3",
   "version": "3.7.0"
  }
 },
 "nbformat": 4,
 "nbformat_minor": 2
}
