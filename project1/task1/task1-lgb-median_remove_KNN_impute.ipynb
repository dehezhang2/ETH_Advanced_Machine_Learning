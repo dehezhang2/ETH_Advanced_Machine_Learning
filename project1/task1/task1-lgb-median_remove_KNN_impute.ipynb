{
 "cells": [
  {
   "cell_type": "code",
   "execution_count": 1,
   "metadata": {},
   "outputs": [],
   "source": [
    "import numpy as np\n",
    "import pandas as pd\n",
    "\n",
    "from sklearn.impute import (SimpleImputer,KNNImputer)\n",
    "from sklearn.ensemble import (RandomForestRegressor, IsolationForest)\n",
    "from sklearn.neighbors import LocalOutlierFactor\n",
    "\n",
    "from sklearn.model_selection import KFold\n",
    "from sklearn.model_selection import train_test_split\n",
    "\n",
    "import lightgbm as lgb\n",
    "\n",
    "from sklearn.metrics import r2_score\n",
    "\n",
    "import matplotlib.pyplot as plt\n",
    "import warnings\n",
    "warnings.filterwarnings('ignore')\n",
    "%matplotlib inline"
   ]
  },
  {
   "cell_type": "code",
   "execution_count": 2,
   "metadata": {},
   "outputs": [],
   "source": [
    "def normalize_data(X):\n",
    "    # normalization\n",
    "    X_std = np.nanstd(X,axis=0,keepdims=True)\n",
    "    X_ave = np.nanmean(X,axis=0,keepdims=True)\n",
    "    X_norma = (X-X_ave)/X_std\n",
    "    return X_norma\n",
    "\n",
    "def fill_missing_values(X, n_neighbors = 75, method=\"KNN\"): \n",
    "    imputer = KNNImputer(missing_values=np.nan, n_neighbors=n_neighbors, weights = 'distance') if method==\"KNN\"\\\n",
    "        else SimpleImputer(missing_values=np.nan, strategy='median')\n",
    "    X_fixed = imputer.fit_transform(X)\n",
    "    return X_fixed\n",
    "\n",
    "def remove_outliers(X, y):\n",
    "    print(\"IsolationForest-Traing data shape before removed: {}\".format(X.shape))\n",
    "    Z = np.c_[X, y]\n",
    "    iforest = IsolationForest(max_samples=200, random_state=1, contamination=0.005)\n",
    "    iforest.fit(Z)\n",
    "    iforest_outlier_pred = iforest.predict(Z)\n",
    "    \n",
    "    Z = np.c_[X, y]\n",
    "    local = LocalOutlierFactor(n_neighbors=150, contamination=0.005)\n",
    "    local.fit(Z)\n",
    "    local_outlier_pred = local.fit_predict(Z)\n",
    "\n",
    "    mask = np.logical_and((iforest_outlier_pred!=-1), (local_outlier_pred!=-1))\n",
    "    return mask\n",
    "\n",
    "def find_missing_value_and_move_outliers(X, y, X_test):\n",
    "    print(\"Traing data shape before impute and outlier remove: {}\".format(X.shape))\n",
    "    print(\"Testing data shape before impute and outlier remove: {}\".format(X_test.shape))\n",
    "    X_nan = np.isnan(X)  \n",
    "    X_median = fill_missing_values(X, method=\"median\")\n",
    "    \n",
    "    IstInLiers = remove_outliers(X_median, y)\n",
    "    X_median = X_median[IstInLiers, :]\n",
    "    X_nan = X_nan[IstInLiers, :]\n",
    "    y = y[IstInLiers]\n",
    "    X_median[X_nan] = np.nan\n",
    "    \n",
    "    X_median = normalize_data(X_median)\n",
    "    X_test = normalize_data(X_test)\n",
    "    \n",
    "#     X_all = np.r_[X_median, X_test]\n",
    "    X_KNN = fill_missing_values(X_median, method=\"KNN\")\n",
    "    X_test_KNN = fill_missing_values(X_test, method=\"KNN\")\n",
    "    \n",
    "#     X_all_KNN = fill_missing_values(X_all, method=\"KNN\")\n",
    "#     X_KNN = X_all_KNN[:X_median.shape[0]]\n",
    "#     X_test_KNN = X_all_KNN[X_median.shape[0]:]\n",
    "    print(\"Traing data shape after impute and outlier remove: {}\".format(X_KNN.shape))\n",
    "    print(\"Testing data shape after impute and outlier remove: {}\".format(X_test_KNN.shape))\n",
    "    \n",
    "    return X_KNN, X_test_KNN, y\n",
    "\n",
    "def select_features(X, y, X_test, feature_num=50):\n",
    "    rf = RandomForestRegressor(n_jobs=-1, n_estimators=80, random_state=1)\n",
    "    rf.fit(X, y)\n",
    "    indices = np.asarray(list(rf.feature_importances_)).argsort()[-feature_num:][::-1]\n",
    "    \n",
    "    X = np.take(X, indices, axis = 1)\n",
    "    X_test = np.take(X_test, indices, axis = 1)\n",
    "    return X, X_test"
   ]
  },
  {
   "cell_type": "code",
   "execution_count": 3,
   "metadata": {},
   "outputs": [],
   "source": [
    "X_train_data = pd.read_csv('X_train.csv')\n",
    "y_train_data = pd.read_csv('y_train.csv')\n",
    "X_test_data = pd.read_csv('X_test.csv')\n",
    "\n",
    "indices_test = np.array(X_test_data)[:,0]\n",
    "X_test = np.array(X_test_data)[:,1:]\n",
    "y_train = np.array(y_train_data)[:,1]\n",
    "X_train = np.array(X_train_data)[:,1:]"
   ]
  },
  {
   "cell_type": "markdown",
   "metadata": {},
   "source": [
    "## 1. Imputation of Missing Values\n",
    "* [Reference](https://scikit-learn.org/stable/modules/impute.html)\n",
    "* We use median of column instead of mean"
   ]
  },
  {
   "cell_type": "code",
   "execution_count": 4,
   "metadata": {},
   "outputs": [],
   "source": [
    "# X_train_missing_indices = X_train[X_train==np]\n",
    "# X_train = fill_missing_values(X_train, n_neighbors=75)\n",
    "# X_test = fill_missing_values(X_test)\n",
    "# print(X_train.shape)\n",
    "# print(X_test.shape)"
   ]
  },
  {
   "cell_type": "markdown",
   "metadata": {},
   "source": [
    "## 2. Outlier Detection\n",
    "* [reference_sklearn](https://scikit-learn.org/stable/modules/outlier_detection.html)\n",
    "* [reference_in_detail](https://practicaldatascience.co.uk/machine-learning/how-to-use-the-isolation-forest-model-for-outlier-detection)"
   ]
  },
  {
   "cell_type": "code",
   "execution_count": 5,
   "metadata": {},
   "outputs": [
    {
     "name": "stdout",
     "output_type": "stream",
     "text": [
      "Traing data shape before impute and outlier remove: (1212, 832)\n",
      "Testing data shape before impute and outlier remove: (776, 832)\n",
      "IsolationForest-Traing data shape before removed: (1212, 832)\n",
      "Traing data shape after impute and outlier remove: (1198, 828)\n",
      "Testing data shape after impute and outlier remove: (776, 828)\n"
     ]
    }
   ],
   "source": [
    "X_train, X_test, y_train = find_missing_value_and_move_outliers(X_train, y_train, X_test)"
   ]
  },
  {
   "cell_type": "markdown",
   "metadata": {},
   "source": [
    "## 3. Feature Selection"
   ]
  },
  {
   "cell_type": "code",
   "execution_count": 6,
   "metadata": {},
   "outputs": [
    {
     "name": "stdout",
     "output_type": "stream",
     "text": [
      "Traing data shape after selection: (1198, 50)\n",
      "Testing data shape after selection: (776, 50)\n"
     ]
    }
   ],
   "source": [
    "# X, X_test = feature_reduction(X, X_test,750)\n",
    "X_train, X_test = select_features(X_train, y_train, X_test,feature_num = 50)\n",
    "print(\"Traing data shape after selection: {}\".format(X_train.shape))\n",
    "print(\"Testing data shape after selection: {}\".format(X_test.shape))"
   ]
  },
  {
   "cell_type": "markdown",
   "metadata": {},
   "source": [
    "## 4. Extra Tree"
   ]
  },
  {
   "cell_type": "code",
   "execution_count": 7,
   "metadata": {},
   "outputs": [],
   "source": [
    "def custom_r2(prediction, train_data):\n",
    "    \"\"\"Regular r2 cost function returned as a tuple to be used with lgb\"\"\"\n",
    "    labels = train_data.get_label()\n",
    "    return 'r2', r2_score(labels, prediction), True\n",
    "\n",
    "def fit_model_and_pred(X_train, y_train, X_val, y_val, X_test):\n",
    "   \n",
    "    params = {\n",
    "        'task': 'train',\n",
    "        'boosting_type': 'gbdt',\n",
    "        'objective': 'regression',\n",
    "        'num_leaves': 1700,\n",
    "        'learning_rate': 0.025,\n",
    "        'max_depth': 11,\n",
    "        'n_estimators': 1000,\n",
    "        'min_child_weight': 1,\n",
    "        'subsample': 0.8,\n",
    "        'colsample_bytree': 0.8,\n",
    "        'feature_fraction': 0.5,\n",
    "        'bagging_fraction': 0.8,\n",
    "        'bagging_freq': 5,\n",
    "        'verbose': -1,\n",
    "        'num_iterations':600,\n",
    "    }\n",
    "    \n",
    "    lgb_train = lgb.Dataset(X_train, y_train)\n",
    "    lgb_eval = lgb.Dataset(X_val, y_val, reference=lgb_train)\n",
    "\n",
    "    gbm = lgb.train(params,\n",
    "                    lgb_train,\n",
    "                    num_boost_round=500,\n",
    "                    feval=custom_r2,\n",
    "                    valid_sets={lgb_train, lgb_eval},\n",
    "                    early_stopping_rounds=100,\n",
    "                    verbose_eval=False\n",
    "                   )\n",
    "    \n",
    "    y_val_pred = gbm.predict(X_val)\n",
    "    score = r2_score(y_val, y_val_pred)\n",
    "    y_pred = gbm.predict(X_test) \n",
    "    \n",
    "    return score, y_pred\n",
    "\n",
    "def train_k_fold(X, y, fold_num=10):\n",
    "    kf = KFold(n_splits=fold_num, random_state=None, shuffle=False)\n",
    "    kf.get_n_splits(X)\n",
    "    test_score = 0.0\n",
    "    \n",
    "    for train_index, test_index in kf.split(X):\n",
    "        X_train, X_val = X[train_index], X[test_index]\n",
    "        y_train, y_val = y[train_index], y[test_index]\n",
    "\n",
    "        score, y_pred = fit_model_and_pred(X_train, y_train, X_val, y_val, X_val)\n",
    "\n",
    "        print('The obtained validation r2 score is : ',score)\n",
    "        test_score += score\n",
    "    print(\"Validation score: %f\"%(test_score/fold_num))\n",
    "    \n",
    "# def train_k_fold_predict(X, y,X_test, fold_num=10):\n",
    "#     kf = KFold(n_splits=fold_num, random_state=None, shuffle=False)\n",
    "#     kf.get_n_splits(X)\n",
    "#     y_test_predict = np.zeros(X_test.shape[0])\n",
    "#     for train_index, test_index in kf.split(X):\n",
    "#         X_train, X_val = X[train_index], X[test_index]\n",
    "#         y_train, y_val = y[train_index], y[test_index]\n",
    "\n",
    "#         y_pred = fit_model_and_pred(1, X_train, y_train, X_val, y_val, X_test)\n",
    "#         y_test_predict += y_pred\n",
    "\n",
    "#     return y_test_predict/fold_num\n",
    "\n",
    "def train_k_fold_predict(X, y, X_test, fold_num=10):\n",
    "    kf = KFold(n_splits=fold_num)\n",
    "    kf.get_n_splits(X)\n",
    "    y_test_predict = np.zeros(X_test.shape[0])\n",
    "    cnt = 0\n",
    "    val_score = 0.0\n",
    "        \n",
    "    for train_index, test_index in kf.split(X):\n",
    "        X_train, X_val = X[train_index], X[test_index]\n",
    "        y_train, y_val = y[train_index], y[test_index]\n",
    "\n",
    "        score, y_pred = fit_model_and_pred(X_train, y_train, X_val, y_val, X_test)\n",
    "        val_score += score\n",
    "        if(score > 0.6):\n",
    "            y_test_predict += y_pred\n",
    "            cnt += 1\n",
    "    return val_score/fold_num, y_test_predict/cnt"
   ]
  },
  {
   "cell_type": "code",
   "execution_count": 8,
   "metadata": {},
   "outputs": [
    {
     "name": "stdout",
     "output_type": "stream",
     "text": [
      "[LightGBM] [Warning] feature_fraction is set=0.5, colsample_bytree=0.8 will be ignored. Current value: feature_fraction=0.5\n",
      "[LightGBM] [Warning] bagging_fraction is set=0.8, subsample=0.8 will be ignored. Current value: bagging_fraction=0.8\n",
      "The obtained validation r2 score is :  0.7364113349465762\n",
      "[LightGBM] [Warning] feature_fraction is set=0.5, colsample_bytree=0.8 will be ignored. Current value: feature_fraction=0.5\n",
      "[LightGBM] [Warning] bagging_fraction is set=0.8, subsample=0.8 will be ignored. Current value: bagging_fraction=0.8\n",
      "The obtained validation r2 score is :  0.6799522152047222\n",
      "[LightGBM] [Warning] feature_fraction is set=0.5, colsample_bytree=0.8 will be ignored. Current value: feature_fraction=0.5\n",
      "[LightGBM] [Warning] bagging_fraction is set=0.8, subsample=0.8 will be ignored. Current value: bagging_fraction=0.8\n",
      "The obtained validation r2 score is :  0.5289969640863835\n",
      "[LightGBM] [Warning] feature_fraction is set=0.5, colsample_bytree=0.8 will be ignored. Current value: feature_fraction=0.5\n",
      "[LightGBM] [Warning] bagging_fraction is set=0.8, subsample=0.8 will be ignored. Current value: bagging_fraction=0.8\n",
      "The obtained validation r2 score is :  0.6593595925358319\n",
      "[LightGBM] [Warning] feature_fraction is set=0.5, colsample_bytree=0.8 will be ignored. Current value: feature_fraction=0.5\n",
      "[LightGBM] [Warning] bagging_fraction is set=0.8, subsample=0.8 will be ignored. Current value: bagging_fraction=0.8\n",
      "The obtained validation r2 score is :  0.5650036656245616\n",
      "[LightGBM] [Warning] feature_fraction is set=0.5, colsample_bytree=0.8 will be ignored. Current value: feature_fraction=0.5\n",
      "[LightGBM] [Warning] bagging_fraction is set=0.8, subsample=0.8 will be ignored. Current value: bagging_fraction=0.8\n",
      "The obtained validation r2 score is :  0.5866930512916614\n",
      "[LightGBM] [Warning] feature_fraction is set=0.5, colsample_bytree=0.8 will be ignored. Current value: feature_fraction=0.5\n",
      "[LightGBM] [Warning] bagging_fraction is set=0.8, subsample=0.8 will be ignored. Current value: bagging_fraction=0.8\n",
      "The obtained validation r2 score is :  0.5552872917271834\n",
      "[LightGBM] [Warning] feature_fraction is set=0.5, colsample_bytree=0.8 will be ignored. Current value: feature_fraction=0.5\n",
      "[LightGBM] [Warning] bagging_fraction is set=0.8, subsample=0.8 will be ignored. Current value: bagging_fraction=0.8\n",
      "The obtained validation r2 score is :  0.6467042655098647\n",
      "[LightGBM] [Warning] feature_fraction is set=0.5, colsample_bytree=0.8 will be ignored. Current value: feature_fraction=0.5\n",
      "[LightGBM] [Warning] bagging_fraction is set=0.8, subsample=0.8 will be ignored. Current value: bagging_fraction=0.8\n",
      "The obtained validation r2 score is :  0.6664434781128953\n",
      "[LightGBM] [Warning] feature_fraction is set=0.5, colsample_bytree=0.8 will be ignored. Current value: feature_fraction=0.5\n",
      "[LightGBM] [Warning] bagging_fraction is set=0.8, subsample=0.8 will be ignored. Current value: bagging_fraction=0.8\n",
      "The obtained validation r2 score is :  0.6211767391023032\n",
      "Validation score: 0.624603\n"
     ]
    }
   ],
   "source": [
    "train_k_fold(X_train,y_train, fold_num=10) "
   ]
  },
  {
   "cell_type": "code",
   "execution_count": 9,
   "metadata": {},
   "outputs": [
    {
     "name": "stdout",
     "output_type": "stream",
     "text": [
      "[LightGBM] [Warning] feature_fraction is set=0.5, colsample_bytree=0.8 will be ignored. Current value: feature_fraction=0.5\n",
      "[LightGBM] [Warning] bagging_fraction is set=0.8, subsample=0.8 will be ignored. Current value: bagging_fraction=0.8\n",
      "[LightGBM] [Warning] feature_fraction is set=0.5, colsample_bytree=0.8 will be ignored. Current value: feature_fraction=0.5\n",
      "[LightGBM] [Warning] bagging_fraction is set=0.8, subsample=0.8 will be ignored. Current value: bagging_fraction=0.8\n",
      "[LightGBM] [Warning] feature_fraction is set=0.5, colsample_bytree=0.8 will be ignored. Current value: feature_fraction=0.5\n",
      "[LightGBM] [Warning] bagging_fraction is set=0.8, subsample=0.8 will be ignored. Current value: bagging_fraction=0.8\n",
      "[LightGBM] [Warning] feature_fraction is set=0.5, colsample_bytree=0.8 will be ignored. Current value: feature_fraction=0.5\n",
      "[LightGBM] [Warning] bagging_fraction is set=0.8, subsample=0.8 will be ignored. Current value: bagging_fraction=0.8\n",
      "[LightGBM] [Warning] feature_fraction is set=0.5, colsample_bytree=0.8 will be ignored. Current value: feature_fraction=0.5\n",
      "[LightGBM] [Warning] bagging_fraction is set=0.8, subsample=0.8 will be ignored. Current value: bagging_fraction=0.8\n",
      "[LightGBM] [Warning] feature_fraction is set=0.5, colsample_bytree=0.8 will be ignored. Current value: feature_fraction=0.5\n",
      "[LightGBM] [Warning] bagging_fraction is set=0.8, subsample=0.8 will be ignored. Current value: bagging_fraction=0.8\n",
      "[LightGBM] [Warning] feature_fraction is set=0.5, colsample_bytree=0.8 will be ignored. Current value: feature_fraction=0.5\n",
      "[LightGBM] [Warning] bagging_fraction is set=0.8, subsample=0.8 will be ignored. Current value: bagging_fraction=0.8\n",
      "[LightGBM] [Warning] feature_fraction is set=0.5, colsample_bytree=0.8 will be ignored. Current value: feature_fraction=0.5\n",
      "[LightGBM] [Warning] bagging_fraction is set=0.8, subsample=0.8 will be ignored. Current value: bagging_fraction=0.8\n",
      "[LightGBM] [Warning] feature_fraction is set=0.5, colsample_bytree=0.8 will be ignored. Current value: feature_fraction=0.5\n",
      "[LightGBM] [Warning] bagging_fraction is set=0.8, subsample=0.8 will be ignored. Current value: bagging_fraction=0.8\n",
      "[LightGBM] [Warning] feature_fraction is set=0.5, colsample_bytree=0.8 will be ignored. Current value: feature_fraction=0.5\n",
      "[LightGBM] [Warning] bagging_fraction is set=0.8, subsample=0.8 will be ignored. Current value: bagging_fraction=0.8\n"
     ]
    }
   ],
   "source": [
    "_, y_test_pred = train_k_fold_predict(X_train, y_train, X_test)\n",
    "final_res = np.vstack((indices_test, y_test_pred)).T"
   ]
  },
  {
   "cell_type": "code",
   "execution_count": 10,
   "metadata": {},
   "outputs": [],
   "source": [
    "df_res = pd.DataFrame(final_res)\n",
    "df_res.to_csv(\"our_result.csv\", header = [\"id\", \"y\"], index=False)"
   ]
  }
 ],
 "metadata": {
  "kernelspec": {
   "display_name": "Python 3 (ipykernel)",
   "language": "python",
   "name": "python3"
  },
  "language_info": {
   "codemirror_mode": {
    "name": "ipython",
    "version": 3
   },
   "file_extension": ".py",
   "mimetype": "text/x-python",
   "name": "python",
   "nbconvert_exporter": "python",
   "pygments_lexer": "ipython3",
   "version": "3.8.12"
  }
 },
 "nbformat": 4,
 "nbformat_minor": 2
}
