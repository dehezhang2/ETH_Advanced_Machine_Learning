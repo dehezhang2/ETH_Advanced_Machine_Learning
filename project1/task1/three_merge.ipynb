{
 "cells": [
  {
   "cell_type": "code",
   "execution_count": 1,
   "id": "4932354f",
   "metadata": {},
   "outputs": [],
   "source": [
    "import numpy as np\n",
    "import pandas as pd\n",
    "\n",
    "from sklearn.impute import (SimpleImputer,KNNImputer)\n",
    "from sklearn.ensemble import (RandomForestRegressor, IsolationForest)\n",
    "from sklearn.neighbors import LocalOutlierFactor\n",
    "from sklearn.model_selection import KFold\n",
    "from sklearn.model_selection import train_test_split\n",
    "from sklearn.neural_network import MLPRegressor\n",
    "from sklearn.ensemble import ExtraTreesRegressor\n",
    "import lightgbm as lgb\n",
    "\n",
    "from sklearn.gaussian_process import GaussianProcessRegressor\n",
    "from sklearn.gaussian_process.kernels import RBF, ConstantKernel as C, DotProduct, WhiteKernel, RationalQuadratic, Matern\n",
    "from sklearn.metrics import r2_score\n",
    "\n",
    "import matplotlib.pyplot as plt\n",
    "\n",
    "%matplotlib inline"
   ]
  },
  {
   "cell_type": "code",
   "execution_count": 2,
   "id": "923f12b1",
   "metadata": {},
   "outputs": [],
   "source": [
    "def fill_missing_values(X, n_neighbors = 75, method=\"KNN\"): \n",
    "    \n",
    "    # normalization\n",
    "    X_std = np.nanstd(X,axis=0,keepdims=True)\n",
    "    X_ave = np.nanmean(X,axis=0,keepdims=True)\n",
    "    X_norma = (X-X_ave)/X_std\n",
    "    \n",
    "    # use KNNImputer\n",
    "    imputer = KNNImputer(missing_values=np.nan, n_neighbors=n_neighbors, weights = 'distance') if method==\"KNN\"\\\n",
    "        else SimpleImputer(missing_values=np.nan, strategy='median')\n",
    "    \n",
    "    X_norma_fixed = imputer.fit_transform(X_norma)\n",
    "    \n",
    "    return X_norma_fixed\n",
    "\n",
    "def remove_outliers(X, y):\n",
    "    print(\"IsolationForest-Traing data shape before removed: {}\".format(X.shape))\n",
    "    Z = np.c_[X, y]\n",
    "    iforest = IsolationForest(max_samples=200, random_state=1, contamination=0.005)\n",
    "    iforest.fit(Z)\n",
    "    iforest_outlier_pred = iforest.predict(Z)\n",
    "    \n",
    "    Z = np.c_[X, y]\n",
    "    local = LocalOutlierFactor(n_neighbors=150, contamination=0.005)\n",
    "    local.fit(Z)\n",
    "    local_outlier_pred = local.fit_predict(Z)\n",
    "\n",
    "    mask = np.logical_and((iforest_outlier_pred!=-1), (local_outlier_pred!=-1))\n",
    "    X , y = X[mask, :], y[mask]\n",
    "    print(\"IsolationForest-Traing data shape after removed: {}\".format(X.shape))\n",
    "    return X, y\n",
    "\n",
    "def select_features(X, y, X_test, feature_num=50, n_estimators=80):\n",
    "    rf = RandomForestRegressor(n_jobs=-1, n_estimators=80, random_state=1)\n",
    "    rf.fit(X, y)\n",
    "    indices = np.asarray(list(rf.feature_importances_)).argsort()[-feature_num:][::-1]\n",
    "    \n",
    "    X = np.take(X, indices, axis = 1)\n",
    "    X_test = np.take(X_test, indices, axis = 1)\n",
    "    return X, X_test"
   ]
  },
  {
   "cell_type": "code",
   "execution_count": 3,
   "id": "dd91d115",
   "metadata": {},
   "outputs": [],
   "source": [
    "\n",
    "X_train_data = pd.read_csv('X_train.csv')\n",
    "y_train_data = pd.read_csv('y_train.csv')\n",
    "X_test_data = pd.read_csv('X_test.csv')\n",
    "\n",
    "indices_test = np.array(X_test_data)[:,0]\n",
    "X_test = np.array(X_test_data)[:,1:]\n",
    "y_train = np.array(y_train_data)[:,1]\n",
    "X_train = np.array(X_train_data)[:,1:]"
   ]
  },
  {
   "cell_type": "markdown",
   "id": "1e93cd94",
   "metadata": {},
   "source": [
    "## 1. Imputation of Missing Values\n",
    "* [Reference](https://scikit-learn.org/stable/modules/impute.html)\n",
    "* We use median of column instead of mean"
   ]
  },
  {
   "cell_type": "code",
   "execution_count": 4,
   "id": "ca8d2d48",
   "metadata": {},
   "outputs": [
    {
     "name": "stderr",
     "output_type": "stream",
     "text": [
      "/opt/anaconda3/lib/python3.7/site-packages/ipykernel_launcher.py:6: RuntimeWarning: invalid value encountered in true_divide\n",
      "  \n",
      "/opt/anaconda3/lib/python3.7/site-packages/ipykernel_launcher.py:6: RuntimeWarning: invalid value encountered in true_divide\n",
      "  \n"
     ]
    },
    {
     "name": "stdout",
     "output_type": "stream",
     "text": [
      "(1212, 828)\n",
      "(776, 828)\n"
     ]
    }
   ],
   "source": [
    "X_train_missing_indices = X_train[X_train==np]\n",
    "X_train = fill_missing_values(X_train, n_neighbors=75)\n",
    "X_test_processed = fill_missing_values(X_test)\n",
    "print(X_train.shape)\n",
    "print(X_test_processed.shape)"
   ]
  },
  {
   "cell_type": "markdown",
   "id": "f2d93c59",
   "metadata": {},
   "source": [
    "## 2. Outlier Detection\n",
    "* [reference_sklearn](https://scikit-learn.org/stable/modules/outlier_detection.html)\n",
    "* [reference_in_detail](https://practicaldatascience.co.uk/machine-learning/how-to-use-the-isolation-forest-model-for-outlier-detection)"
   ]
  },
  {
   "cell_type": "code",
   "execution_count": 5,
   "id": "f03df65d",
   "metadata": {},
   "outputs": [
    {
     "name": "stdout",
     "output_type": "stream",
     "text": [
      "IsolationForest-Traing data shape before removed: (1212, 828)\n",
      "IsolationForest-Traing data shape after removed: (1200, 828)\n"
     ]
    }
   ],
   "source": [
    "X_processed,y_processed = remove_outliers(X_train,y_train)"
   ]
  },
  {
   "cell_type": "markdown",
   "id": "bae45a26",
   "metadata": {},
   "source": [
    "## 3. Feature Selection"
   ]
  },
  {
   "cell_type": "code",
   "execution_count": 6,
   "id": "ca521d1f",
   "metadata": {},
   "outputs": [],
   "source": [
    "# pearsonr feature selection\n",
    "from scipy.stats import pearsonr\n",
    "from sklearn.decomposition import PCA\n",
    "\n",
    "def pearsonr_feature_selection(X, y, X_test,degree,weights):\n",
    "    feature_idx =  np.array([i for i in range(0,X.shape[1])])\n",
    "    correlations = {}\n",
    "#     print(\"feature_idx: \", feature_idx.T)\n",
    "    for idx in feature_idx:\n",
    "        correlation = 0\n",
    "        for degree_idx in range(0,len(weights)):\n",
    "            correlation += abs(weights[degree_idx]*pearsonr(X[:,idx],y**degree[degree_idx])[0])\n",
    "        correlations[idx] = correlation\n",
    "    data_correlations = pd.DataFrame(correlations, index=['correlation']).T\n",
    "    indices_desc = data_correlations['correlation'].abs().sort_values(ascending=False).index\n",
    "#     print(indices_desc)\n",
    "    return data_correlations,indices_desc\n",
    "\n",
    "def pearsonr_feature_selection_correlation(X, X_test,threshold):\n",
    "    feature_idx =  np.array([i for i in range(0,X.shape[1])])\n",
    "    correlation_select = np.array([True for i in range(0,X.shape[1])])\n",
    "    for f_idx in feature_idx:\n",
    "        if(correlation_select[f_idx]):\n",
    "            feature_co,indices_desc = pearsonr_feature_selection(X[:,(f_idx+1):], X[:,f_idx], X_test_processed,np.array([1]),np.array([1]))\n",
    "            reomove_features = feature_co.loc[indices_desc][abs(feature_co['correlation']) >= threshold]\n",
    "            remove_index = reomove_features.index+(f_idx+1)\n",
    "            correlation_select[remove_index] = False\n",
    "    \n",
    "    return X[:,correlation_select],X_test[:,correlation_select]"
   ]
  },
  {
   "cell_type": "code",
   "execution_count": 7,
   "id": "ee0e9463",
   "metadata": {},
   "outputs": [],
   "source": [
    "def LGB_feature_selection(X_processed,X_test_processed,y_processed):\n",
    "    data_relation,indices_desc = pearsonr_feature_selection(X_processed, y_processed, X_test_processed,np.array([1,-3,3]),np.array([0.9,0.05,0.05]))\n",
    "    selected_features = data_relation.loc[indices_desc][abs(data_relation['correlation']) >= 0.025]\n",
    "    X_selection = X_processed[:,selected_features.index]\n",
    "    X_test_selection = X_test_processed[:,selected_features.index]\n",
    "    X_selection_tree, X_test_selection_tree = select_features(X_selection, y_processed, X_test_selection,feature_num = 105)\n",
    "    X_selection_tree_cor, X_test_selection_tree_cor = pearsonr_feature_selection_correlation(X_selection_tree, X_test_selection_tree,0.93)\n",
    "    return X_selection_tree_cor,X_test_selection_tree_cor"
   ]
  },
  {
   "cell_type": "code",
   "execution_count": 8,
   "id": "99a54dbc",
   "metadata": {},
   "outputs": [],
   "source": [
    "def GP_feature_selection(X_processed,X_test_processed,y_processed, tree_num = 43):\n",
    "    data_relation,indices_desc = pearsonr_feature_selection(X_processed, y_processed, X_test_processed,np.array([1,-3,3]),np.array([0.95,0.025,0.025]))\n",
    "    selected_features = data_relation.loc[indices_desc][abs(data_relation['correlation']) >= 0.001]\n",
    "    X_selection = X_processed[:,selected_features.index]\n",
    "    X_test_selection = X_test_processed[:,selected_features.index]\n",
    "    X_selection_tree, X_test_selection_tree = select_features(X_selection, y_processed, X_test_selection,feature_num = tree_num)\n",
    "    X_selection_tree_cor, X_test_selection_tree_cor = pearsonr_feature_selection_correlation(X_selection_tree, X_test_selection_tree,0.96)\n",
    "    return X_selection_tree_cor,X_test_selection_tree_cor"
   ]
  },
  {
   "cell_type": "code",
   "execution_count": 9,
   "id": "ac8082c0",
   "metadata": {},
   "outputs": [],
   "source": [
    "def GP_rbf_feature_selection(X_processed,X_test_processed,y_processed):\n",
    "    data_relation,indices_desc = pearsonr_feature_selection(X_processed, y_processed, X_test_processed,np.array([1,-3,3]),np.array([0.95,0.025,0.025]))\n",
    "    selected_features = data_relation.loc[indices_desc][abs(data_relation['correlation']) >= 0.001]\n",
    "    X_selection = X_processed[:,selected_features.index]\n",
    "    X_test_selection = X_test_processed[:,selected_features.index]\n",
    "    X_selection_tree, X_test_selection_tree = select_features(X_selection, y_processed, X_test_selection,feature_num = 54)\n",
    "    X_selection_tree_cor, X_test_selection_tree_cor = pearsonr_feature_selection_correlation(X_selection_tree, X_test_selection_tree,0.96)\n",
    "    return X_selection_tree_cor,X_test_selection_tree_cor"
   ]
  },
  {
   "cell_type": "code",
   "execution_count": 10,
   "id": "81b4d85b",
   "metadata": {},
   "outputs": [],
   "source": [
    "def Tree_feature_selection(X_processed,X_test_processed,y_processed):\n",
    "    data_relation,indices_desc = pearsonr_feature_selection(X_processed, y_processed, X_test_processed,np.array([1,-3,3]),np.array([0.95,0.025,0.025]))\n",
    "    selected_features = data_relation.loc[indices_desc][abs(data_relation['correlation']) >= 0.1]\n",
    "    X_selection = X_processed[:,selected_features.index]\n",
    "    X_test_selection = X_test_processed[:,selected_features.index]\n",
    "    X_selection_tree, X_test_selection_tree = select_features(X_selection, y_processed, X_test_selection,feature_num = 50, n_estimators= 100)\n",
    "    X_selection_tree_cor, X_test_selection_tree_cor = pearsonr_feature_selection_correlation(X_selection_tree, X_test_selection_tree,0.96)\n",
    "    return X_selection_tree_cor,X_test_selection_tree_cor"
   ]
  },
  {
   "cell_type": "code",
   "execution_count": 11,
   "id": "56fbf5fc",
   "metadata": {},
   "outputs": [
    {
     "name": "stderr",
     "output_type": "stream",
     "text": [
      "/opt/anaconda3/lib/python3.7/site-packages/ipykernel_launcher.py:3: UserWarning: Boolean Series key will be reindexed to match DataFrame index.\n",
      "  This is separate from the ipykernel package so we can avoid doing imports until\n",
      "/opt/anaconda3/lib/python3.7/site-packages/ipykernel_launcher.py:25: UserWarning: Boolean Series key will be reindexed to match DataFrame index.\n",
      "/opt/anaconda3/lib/python3.7/site-packages/ipykernel_launcher.py:25: UserWarning: Boolean Series key will be reindexed to match DataFrame index.\n",
      "/opt/anaconda3/lib/python3.7/site-packages/ipykernel_launcher.py:25: UserWarning: Boolean Series key will be reindexed to match DataFrame index.\n",
      "/opt/anaconda3/lib/python3.7/site-packages/ipykernel_launcher.py:25: UserWarning: Boolean Series key will be reindexed to match DataFrame index.\n",
      "/opt/anaconda3/lib/python3.7/site-packages/ipykernel_launcher.py:25: UserWarning: Boolean Series key will be reindexed to match DataFrame index.\n",
      "/opt/anaconda3/lib/python3.7/site-packages/ipykernel_launcher.py:25: UserWarning: Boolean Series key will be reindexed to match DataFrame index.\n",
      "/opt/anaconda3/lib/python3.7/site-packages/ipykernel_launcher.py:25: UserWarning: Boolean Series key will be reindexed to match DataFrame index.\n",
      "/opt/anaconda3/lib/python3.7/site-packages/ipykernel_launcher.py:25: UserWarning: Boolean Series key will be reindexed to match DataFrame index.\n",
      "/opt/anaconda3/lib/python3.7/site-packages/ipykernel_launcher.py:25: UserWarning: Boolean Series key will be reindexed to match DataFrame index.\n",
      "/opt/anaconda3/lib/python3.7/site-packages/ipykernel_launcher.py:25: UserWarning: Boolean Series key will be reindexed to match DataFrame index.\n",
      "/opt/anaconda3/lib/python3.7/site-packages/ipykernel_launcher.py:25: UserWarning: Boolean Series key will be reindexed to match DataFrame index.\n",
      "/opt/anaconda3/lib/python3.7/site-packages/ipykernel_launcher.py:25: UserWarning: Boolean Series key will be reindexed to match DataFrame index.\n",
      "/opt/anaconda3/lib/python3.7/site-packages/ipykernel_launcher.py:25: UserWarning: Boolean Series key will be reindexed to match DataFrame index.\n",
      "/opt/anaconda3/lib/python3.7/site-packages/ipykernel_launcher.py:25: UserWarning: Boolean Series key will be reindexed to match DataFrame index.\n",
      "/opt/anaconda3/lib/python3.7/site-packages/ipykernel_launcher.py:25: UserWarning: Boolean Series key will be reindexed to match DataFrame index.\n",
      "/opt/anaconda3/lib/python3.7/site-packages/ipykernel_launcher.py:25: UserWarning: Boolean Series key will be reindexed to match DataFrame index.\n",
      "/opt/anaconda3/lib/python3.7/site-packages/ipykernel_launcher.py:25: UserWarning: Boolean Series key will be reindexed to match DataFrame index.\n",
      "/opt/anaconda3/lib/python3.7/site-packages/ipykernel_launcher.py:25: UserWarning: Boolean Series key will be reindexed to match DataFrame index.\n",
      "/opt/anaconda3/lib/python3.7/site-packages/ipykernel_launcher.py:25: UserWarning: Boolean Series key will be reindexed to match DataFrame index.\n",
      "/opt/anaconda3/lib/python3.7/site-packages/ipykernel_launcher.py:25: UserWarning: Boolean Series key will be reindexed to match DataFrame index.\n",
      "/opt/anaconda3/lib/python3.7/site-packages/ipykernel_launcher.py:25: UserWarning: Boolean Series key will be reindexed to match DataFrame index.\n",
      "/opt/anaconda3/lib/python3.7/site-packages/ipykernel_launcher.py:25: UserWarning: Boolean Series key will be reindexed to match DataFrame index.\n",
      "/opt/anaconda3/lib/python3.7/site-packages/ipykernel_launcher.py:25: UserWarning: Boolean Series key will be reindexed to match DataFrame index.\n",
      "/opt/anaconda3/lib/python3.7/site-packages/ipykernel_launcher.py:25: UserWarning: Boolean Series key will be reindexed to match DataFrame index.\n",
      "/opt/anaconda3/lib/python3.7/site-packages/ipykernel_launcher.py:25: UserWarning: Boolean Series key will be reindexed to match DataFrame index.\n",
      "/opt/anaconda3/lib/python3.7/site-packages/ipykernel_launcher.py:25: UserWarning: Boolean Series key will be reindexed to match DataFrame index.\n",
      "/opt/anaconda3/lib/python3.7/site-packages/ipykernel_launcher.py:25: UserWarning: Boolean Series key will be reindexed to match DataFrame index.\n",
      "/opt/anaconda3/lib/python3.7/site-packages/ipykernel_launcher.py:25: UserWarning: Boolean Series key will be reindexed to match DataFrame index.\n",
      "/opt/anaconda3/lib/python3.7/site-packages/ipykernel_launcher.py:25: UserWarning: Boolean Series key will be reindexed to match DataFrame index.\n",
      "/opt/anaconda3/lib/python3.7/site-packages/ipykernel_launcher.py:25: UserWarning: Boolean Series key will be reindexed to match DataFrame index.\n",
      "/opt/anaconda3/lib/python3.7/site-packages/ipykernel_launcher.py:25: UserWarning: Boolean Series key will be reindexed to match DataFrame index.\n",
      "/opt/anaconda3/lib/python3.7/site-packages/ipykernel_launcher.py:25: UserWarning: Boolean Series key will be reindexed to match DataFrame index.\n",
      "/opt/anaconda3/lib/python3.7/site-packages/ipykernel_launcher.py:25: UserWarning: Boolean Series key will be reindexed to match DataFrame index.\n",
      "/opt/anaconda3/lib/python3.7/site-packages/ipykernel_launcher.py:25: UserWarning: Boolean Series key will be reindexed to match DataFrame index.\n",
      "/opt/anaconda3/lib/python3.7/site-packages/ipykernel_launcher.py:25: UserWarning: Boolean Series key will be reindexed to match DataFrame index.\n",
      "/opt/anaconda3/lib/python3.7/site-packages/ipykernel_launcher.py:25: UserWarning: Boolean Series key will be reindexed to match DataFrame index.\n",
      "/opt/anaconda3/lib/python3.7/site-packages/ipykernel_launcher.py:25: UserWarning: Boolean Series key will be reindexed to match DataFrame index.\n",
      "/opt/anaconda3/lib/python3.7/site-packages/ipykernel_launcher.py:25: UserWarning: Boolean Series key will be reindexed to match DataFrame index.\n",
      "/opt/anaconda3/lib/python3.7/site-packages/ipykernel_launcher.py:25: UserWarning: Boolean Series key will be reindexed to match DataFrame index.\n",
      "/opt/anaconda3/lib/python3.7/site-packages/ipykernel_launcher.py:25: UserWarning: Boolean Series key will be reindexed to match DataFrame index.\n",
      "/opt/anaconda3/lib/python3.7/site-packages/ipykernel_launcher.py:25: UserWarning: Boolean Series key will be reindexed to match DataFrame index.\n",
      "/opt/anaconda3/lib/python3.7/site-packages/ipykernel_launcher.py:25: UserWarning: Boolean Series key will be reindexed to match DataFrame index.\n",
      "/opt/anaconda3/lib/python3.7/site-packages/ipykernel_launcher.py:25: UserWarning: Boolean Series key will be reindexed to match DataFrame index.\n",
      "/opt/anaconda3/lib/python3.7/site-packages/ipykernel_launcher.py:25: UserWarning: Boolean Series key will be reindexed to match DataFrame index.\n",
      "/opt/anaconda3/lib/python3.7/site-packages/ipykernel_launcher.py:25: UserWarning: Boolean Series key will be reindexed to match DataFrame index.\n",
      "/opt/anaconda3/lib/python3.7/site-packages/ipykernel_launcher.py:25: UserWarning: Boolean Series key will be reindexed to match DataFrame index.\n",
      "/opt/anaconda3/lib/python3.7/site-packages/ipykernel_launcher.py:25: UserWarning: Boolean Series key will be reindexed to match DataFrame index.\n",
      "/opt/anaconda3/lib/python3.7/site-packages/ipykernel_launcher.py:25: UserWarning: Boolean Series key will be reindexed to match DataFrame index.\n",
      "/opt/anaconda3/lib/python3.7/site-packages/ipykernel_launcher.py:25: UserWarning: Boolean Series key will be reindexed to match DataFrame index.\n",
      "/opt/anaconda3/lib/python3.7/site-packages/ipykernel_launcher.py:25: UserWarning: Boolean Series key will be reindexed to match DataFrame index.\n",
      "/opt/anaconda3/lib/python3.7/site-packages/ipykernel_launcher.py:25: UserWarning: Boolean Series key will be reindexed to match DataFrame index.\n",
      "/opt/anaconda3/lib/python3.7/site-packages/ipykernel_launcher.py:25: UserWarning: Boolean Series key will be reindexed to match DataFrame index.\n",
      "/opt/anaconda3/lib/python3.7/site-packages/ipykernel_launcher.py:25: UserWarning: Boolean Series key will be reindexed to match DataFrame index.\n",
      "/opt/anaconda3/lib/python3.7/site-packages/ipykernel_launcher.py:25: UserWarning: Boolean Series key will be reindexed to match DataFrame index.\n"
     ]
    },
    {
     "name": "stdout",
     "output_type": "stream",
     "text": [
      "(1200, 98)\n",
      "(776, 98)\n"
     ]
    },
    {
     "name": "stderr",
     "output_type": "stream",
     "text": [
      "/opt/anaconda3/lib/python3.7/site-packages/ipykernel_launcher.py:25: UserWarning: Boolean Series key will be reindexed to match DataFrame index.\n",
      "/opt/anaconda3/lib/python3.7/site-packages/ipykernel_launcher.py:25: UserWarning: Boolean Series key will be reindexed to match DataFrame index.\n",
      "/opt/anaconda3/lib/python3.7/site-packages/ipykernel_launcher.py:25: UserWarning: Boolean Series key will be reindexed to match DataFrame index.\n",
      "/opt/anaconda3/lib/python3.7/site-packages/ipykernel_launcher.py:25: UserWarning: Boolean Series key will be reindexed to match DataFrame index.\n",
      "/opt/anaconda3/lib/python3.7/site-packages/ipykernel_launcher.py:25: UserWarning: Boolean Series key will be reindexed to match DataFrame index.\n",
      "/opt/anaconda3/lib/python3.7/site-packages/ipykernel_launcher.py:25: UserWarning: Boolean Series key will be reindexed to match DataFrame index.\n",
      "/opt/anaconda3/lib/python3.7/site-packages/ipykernel_launcher.py:25: UserWarning: Boolean Series key will be reindexed to match DataFrame index.\n",
      "/opt/anaconda3/lib/python3.7/site-packages/ipykernel_launcher.py:25: UserWarning: Boolean Series key will be reindexed to match DataFrame index.\n",
      "/opt/anaconda3/lib/python3.7/site-packages/ipykernel_launcher.py:25: UserWarning: Boolean Series key will be reindexed to match DataFrame index.\n",
      "/opt/anaconda3/lib/python3.7/site-packages/ipykernel_launcher.py:25: UserWarning: Boolean Series key will be reindexed to match DataFrame index.\n",
      "/opt/anaconda3/lib/python3.7/site-packages/ipykernel_launcher.py:25: UserWarning: Boolean Series key will be reindexed to match DataFrame index.\n",
      "/opt/anaconda3/lib/python3.7/site-packages/ipykernel_launcher.py:25: UserWarning: Boolean Series key will be reindexed to match DataFrame index.\n",
      "/opt/anaconda3/lib/python3.7/site-packages/ipykernel_launcher.py:25: UserWarning: Boolean Series key will be reindexed to match DataFrame index.\n",
      "/opt/anaconda3/lib/python3.7/site-packages/ipykernel_launcher.py:25: UserWarning: Boolean Series key will be reindexed to match DataFrame index.\n",
      "/opt/anaconda3/lib/python3.7/site-packages/ipykernel_launcher.py:25: UserWarning: Boolean Series key will be reindexed to match DataFrame index.\n",
      "/opt/anaconda3/lib/python3.7/site-packages/ipykernel_launcher.py:25: UserWarning: Boolean Series key will be reindexed to match DataFrame index.\n",
      "/opt/anaconda3/lib/python3.7/site-packages/ipykernel_launcher.py:25: UserWarning: Boolean Series key will be reindexed to match DataFrame index.\n",
      "/opt/anaconda3/lib/python3.7/site-packages/ipykernel_launcher.py:25: UserWarning: Boolean Series key will be reindexed to match DataFrame index.\n",
      "/opt/anaconda3/lib/python3.7/site-packages/ipykernel_launcher.py:25: UserWarning: Boolean Series key will be reindexed to match DataFrame index.\n",
      "/opt/anaconda3/lib/python3.7/site-packages/ipykernel_launcher.py:25: UserWarning: Boolean Series key will be reindexed to match DataFrame index.\n",
      "/opt/anaconda3/lib/python3.7/site-packages/ipykernel_launcher.py:25: UserWarning: Boolean Series key will be reindexed to match DataFrame index.\n",
      "/opt/anaconda3/lib/python3.7/site-packages/ipykernel_launcher.py:25: UserWarning: Boolean Series key will be reindexed to match DataFrame index.\n",
      "/opt/anaconda3/lib/python3.7/site-packages/ipykernel_launcher.py:25: UserWarning: Boolean Series key will be reindexed to match DataFrame index.\n",
      "/opt/anaconda3/lib/python3.7/site-packages/ipykernel_launcher.py:25: UserWarning: Boolean Series key will be reindexed to match DataFrame index.\n",
      "/opt/anaconda3/lib/python3.7/site-packages/ipykernel_launcher.py:25: UserWarning: Boolean Series key will be reindexed to match DataFrame index.\n",
      "/opt/anaconda3/lib/python3.7/site-packages/ipykernel_launcher.py:25: UserWarning: Boolean Series key will be reindexed to match DataFrame index.\n",
      "/opt/anaconda3/lib/python3.7/site-packages/ipykernel_launcher.py:25: UserWarning: Boolean Series key will be reindexed to match DataFrame index.\n",
      "/opt/anaconda3/lib/python3.7/site-packages/ipykernel_launcher.py:25: UserWarning: Boolean Series key will be reindexed to match DataFrame index.\n",
      "/opt/anaconda3/lib/python3.7/site-packages/ipykernel_launcher.py:25: UserWarning: Boolean Series key will be reindexed to match DataFrame index.\n",
      "/opt/anaconda3/lib/python3.7/site-packages/ipykernel_launcher.py:25: UserWarning: Boolean Series key will be reindexed to match DataFrame index.\n",
      "/opt/anaconda3/lib/python3.7/site-packages/ipykernel_launcher.py:25: UserWarning: Boolean Series key will be reindexed to match DataFrame index.\n",
      "/opt/anaconda3/lib/python3.7/site-packages/ipykernel_launcher.py:25: UserWarning: Boolean Series key will be reindexed to match DataFrame index.\n",
      "/opt/anaconda3/lib/python3.7/site-packages/ipykernel_launcher.py:25: UserWarning: Boolean Series key will be reindexed to match DataFrame index.\n",
      "/opt/anaconda3/lib/python3.7/site-packages/ipykernel_launcher.py:25: UserWarning: Boolean Series key will be reindexed to match DataFrame index.\n",
      "/opt/anaconda3/lib/python3.7/site-packages/ipykernel_launcher.py:25: UserWarning: Boolean Series key will be reindexed to match DataFrame index.\n",
      "/opt/anaconda3/lib/python3.7/site-packages/ipykernel_launcher.py:25: UserWarning: Boolean Series key will be reindexed to match DataFrame index.\n",
      "/opt/anaconda3/lib/python3.7/site-packages/ipykernel_launcher.py:25: UserWarning: Boolean Series key will be reindexed to match DataFrame index.\n",
      "/opt/anaconda3/lib/python3.7/site-packages/ipykernel_launcher.py:25: UserWarning: Boolean Series key will be reindexed to match DataFrame index.\n",
      "/opt/anaconda3/lib/python3.7/site-packages/ipykernel_launcher.py:25: UserWarning: Boolean Series key will be reindexed to match DataFrame index.\n"
     ]
    }
   ],
   "source": [
    "X_lgb,X_test_lgb = LGB_feature_selection(X_processed,X_test_processed,y_processed)\n",
    "print(X_lgb.shape)\n",
    "print(X_test_lgb.shape)"
   ]
  },
  {
   "cell_type": "code",
   "execution_count": 12,
   "id": "5d50e497",
   "metadata": {
    "scrolled": true
   },
   "outputs": [
    {
     "name": "stderr",
     "output_type": "stream",
     "text": [
      "/opt/anaconda3/lib/python3.7/site-packages/ipykernel_launcher.py:3: UserWarning: Boolean Series key will be reindexed to match DataFrame index.\n",
      "  This is separate from the ipykernel package so we can avoid doing imports until\n"
     ]
    },
    {
     "name": "stdout",
     "output_type": "stream",
     "text": [
      "(1200, 42)\n",
      "(776, 42)\n"
     ]
    },
    {
     "name": "stderr",
     "output_type": "stream",
     "text": [
      "/opt/anaconda3/lib/python3.7/site-packages/ipykernel_launcher.py:25: UserWarning: Boolean Series key will be reindexed to match DataFrame index.\n",
      "/opt/anaconda3/lib/python3.7/site-packages/ipykernel_launcher.py:25: UserWarning: Boolean Series key will be reindexed to match DataFrame index.\n",
      "/opt/anaconda3/lib/python3.7/site-packages/ipykernel_launcher.py:25: UserWarning: Boolean Series key will be reindexed to match DataFrame index.\n",
      "/opt/anaconda3/lib/python3.7/site-packages/ipykernel_launcher.py:25: UserWarning: Boolean Series key will be reindexed to match DataFrame index.\n",
      "/opt/anaconda3/lib/python3.7/site-packages/ipykernel_launcher.py:25: UserWarning: Boolean Series key will be reindexed to match DataFrame index.\n",
      "/opt/anaconda3/lib/python3.7/site-packages/ipykernel_launcher.py:25: UserWarning: Boolean Series key will be reindexed to match DataFrame index.\n",
      "/opt/anaconda3/lib/python3.7/site-packages/ipykernel_launcher.py:25: UserWarning: Boolean Series key will be reindexed to match DataFrame index.\n",
      "/opt/anaconda3/lib/python3.7/site-packages/ipykernel_launcher.py:25: UserWarning: Boolean Series key will be reindexed to match DataFrame index.\n",
      "/opt/anaconda3/lib/python3.7/site-packages/ipykernel_launcher.py:25: UserWarning: Boolean Series key will be reindexed to match DataFrame index.\n",
      "/opt/anaconda3/lib/python3.7/site-packages/ipykernel_launcher.py:25: UserWarning: Boolean Series key will be reindexed to match DataFrame index.\n",
      "/opt/anaconda3/lib/python3.7/site-packages/ipykernel_launcher.py:25: UserWarning: Boolean Series key will be reindexed to match DataFrame index.\n",
      "/opt/anaconda3/lib/python3.7/site-packages/ipykernel_launcher.py:25: UserWarning: Boolean Series key will be reindexed to match DataFrame index.\n",
      "/opt/anaconda3/lib/python3.7/site-packages/ipykernel_launcher.py:25: UserWarning: Boolean Series key will be reindexed to match DataFrame index.\n",
      "/opt/anaconda3/lib/python3.7/site-packages/ipykernel_launcher.py:25: UserWarning: Boolean Series key will be reindexed to match DataFrame index.\n",
      "/opt/anaconda3/lib/python3.7/site-packages/ipykernel_launcher.py:25: UserWarning: Boolean Series key will be reindexed to match DataFrame index.\n",
      "/opt/anaconda3/lib/python3.7/site-packages/ipykernel_launcher.py:25: UserWarning: Boolean Series key will be reindexed to match DataFrame index.\n",
      "/opt/anaconda3/lib/python3.7/site-packages/ipykernel_launcher.py:25: UserWarning: Boolean Series key will be reindexed to match DataFrame index.\n",
      "/opt/anaconda3/lib/python3.7/site-packages/ipykernel_launcher.py:25: UserWarning: Boolean Series key will be reindexed to match DataFrame index.\n",
      "/opt/anaconda3/lib/python3.7/site-packages/ipykernel_launcher.py:25: UserWarning: Boolean Series key will be reindexed to match DataFrame index.\n",
      "/opt/anaconda3/lib/python3.7/site-packages/ipykernel_launcher.py:25: UserWarning: Boolean Series key will be reindexed to match DataFrame index.\n",
      "/opt/anaconda3/lib/python3.7/site-packages/ipykernel_launcher.py:25: UserWarning: Boolean Series key will be reindexed to match DataFrame index.\n",
      "/opt/anaconda3/lib/python3.7/site-packages/ipykernel_launcher.py:25: UserWarning: Boolean Series key will be reindexed to match DataFrame index.\n",
      "/opt/anaconda3/lib/python3.7/site-packages/ipykernel_launcher.py:25: UserWarning: Boolean Series key will be reindexed to match DataFrame index.\n",
      "/opt/anaconda3/lib/python3.7/site-packages/ipykernel_launcher.py:25: UserWarning: Boolean Series key will be reindexed to match DataFrame index.\n",
      "/opt/anaconda3/lib/python3.7/site-packages/ipykernel_launcher.py:25: UserWarning: Boolean Series key will be reindexed to match DataFrame index.\n",
      "/opt/anaconda3/lib/python3.7/site-packages/ipykernel_launcher.py:25: UserWarning: Boolean Series key will be reindexed to match DataFrame index.\n",
      "/opt/anaconda3/lib/python3.7/site-packages/ipykernel_launcher.py:25: UserWarning: Boolean Series key will be reindexed to match DataFrame index.\n",
      "/opt/anaconda3/lib/python3.7/site-packages/ipykernel_launcher.py:25: UserWarning: Boolean Series key will be reindexed to match DataFrame index.\n",
      "/opt/anaconda3/lib/python3.7/site-packages/ipykernel_launcher.py:25: UserWarning: Boolean Series key will be reindexed to match DataFrame index.\n",
      "/opt/anaconda3/lib/python3.7/site-packages/ipykernel_launcher.py:25: UserWarning: Boolean Series key will be reindexed to match DataFrame index.\n",
      "/opt/anaconda3/lib/python3.7/site-packages/ipykernel_launcher.py:25: UserWarning: Boolean Series key will be reindexed to match DataFrame index.\n",
      "/opt/anaconda3/lib/python3.7/site-packages/ipykernel_launcher.py:25: UserWarning: Boolean Series key will be reindexed to match DataFrame index.\n",
      "/opt/anaconda3/lib/python3.7/site-packages/ipykernel_launcher.py:25: UserWarning: Boolean Series key will be reindexed to match DataFrame index.\n",
      "/opt/anaconda3/lib/python3.7/site-packages/ipykernel_launcher.py:25: UserWarning: Boolean Series key will be reindexed to match DataFrame index.\n",
      "/opt/anaconda3/lib/python3.7/site-packages/ipykernel_launcher.py:25: UserWarning: Boolean Series key will be reindexed to match DataFrame index.\n",
      "/opt/anaconda3/lib/python3.7/site-packages/ipykernel_launcher.py:25: UserWarning: Boolean Series key will be reindexed to match DataFrame index.\n",
      "/opt/anaconda3/lib/python3.7/site-packages/ipykernel_launcher.py:25: UserWarning: Boolean Series key will be reindexed to match DataFrame index.\n",
      "/opt/anaconda3/lib/python3.7/site-packages/ipykernel_launcher.py:25: UserWarning: Boolean Series key will be reindexed to match DataFrame index.\n",
      "/opt/anaconda3/lib/python3.7/site-packages/ipykernel_launcher.py:25: UserWarning: Boolean Series key will be reindexed to match DataFrame index.\n"
     ]
    }
   ],
   "source": [
    "X_gp_quad,X_test_gp_quad = GP_feature_selection(X_processed,X_test_processed,y_processed)\n",
    "print(X_gp_quad.shape)\n",
    "print(X_test_gp_quad.shape)"
   ]
  },
  {
   "cell_type": "code",
   "execution_count": 13,
   "id": "8251f374",
   "metadata": {
    "scrolled": true
   },
   "outputs": [
    {
     "name": "stderr",
     "output_type": "stream",
     "text": [
      "/opt/anaconda3/lib/python3.7/site-packages/ipykernel_launcher.py:3: UserWarning: Boolean Series key will be reindexed to match DataFrame index.\n",
      "  This is separate from the ipykernel package so we can avoid doing imports until\n"
     ]
    },
    {
     "name": "stdout",
     "output_type": "stream",
     "text": [
      "(1200, 50)\n"
     ]
    },
    {
     "name": "stderr",
     "output_type": "stream",
     "text": [
      "/opt/anaconda3/lib/python3.7/site-packages/ipykernel_launcher.py:25: UserWarning: Boolean Series key will be reindexed to match DataFrame index.\n",
      "/opt/anaconda3/lib/python3.7/site-packages/ipykernel_launcher.py:25: UserWarning: Boolean Series key will be reindexed to match DataFrame index.\n",
      "/opt/anaconda3/lib/python3.7/site-packages/ipykernel_launcher.py:25: UserWarning: Boolean Series key will be reindexed to match DataFrame index.\n",
      "/opt/anaconda3/lib/python3.7/site-packages/ipykernel_launcher.py:25: UserWarning: Boolean Series key will be reindexed to match DataFrame index.\n",
      "/opt/anaconda3/lib/python3.7/site-packages/ipykernel_launcher.py:25: UserWarning: Boolean Series key will be reindexed to match DataFrame index.\n",
      "/opt/anaconda3/lib/python3.7/site-packages/ipykernel_launcher.py:25: UserWarning: Boolean Series key will be reindexed to match DataFrame index.\n",
      "/opt/anaconda3/lib/python3.7/site-packages/ipykernel_launcher.py:25: UserWarning: Boolean Series key will be reindexed to match DataFrame index.\n",
      "/opt/anaconda3/lib/python3.7/site-packages/ipykernel_launcher.py:25: UserWarning: Boolean Series key will be reindexed to match DataFrame index.\n",
      "/opt/anaconda3/lib/python3.7/site-packages/ipykernel_launcher.py:25: UserWarning: Boolean Series key will be reindexed to match DataFrame index.\n",
      "/opt/anaconda3/lib/python3.7/site-packages/ipykernel_launcher.py:25: UserWarning: Boolean Series key will be reindexed to match DataFrame index.\n",
      "/opt/anaconda3/lib/python3.7/site-packages/ipykernel_launcher.py:25: UserWarning: Boolean Series key will be reindexed to match DataFrame index.\n",
      "/opt/anaconda3/lib/python3.7/site-packages/ipykernel_launcher.py:25: UserWarning: Boolean Series key will be reindexed to match DataFrame index.\n",
      "/opt/anaconda3/lib/python3.7/site-packages/ipykernel_launcher.py:25: UserWarning: Boolean Series key will be reindexed to match DataFrame index.\n",
      "/opt/anaconda3/lib/python3.7/site-packages/ipykernel_launcher.py:25: UserWarning: Boolean Series key will be reindexed to match DataFrame index.\n",
      "/opt/anaconda3/lib/python3.7/site-packages/ipykernel_launcher.py:25: UserWarning: Boolean Series key will be reindexed to match DataFrame index.\n",
      "/opt/anaconda3/lib/python3.7/site-packages/ipykernel_launcher.py:25: UserWarning: Boolean Series key will be reindexed to match DataFrame index.\n",
      "/opt/anaconda3/lib/python3.7/site-packages/ipykernel_launcher.py:25: UserWarning: Boolean Series key will be reindexed to match DataFrame index.\n",
      "/opt/anaconda3/lib/python3.7/site-packages/ipykernel_launcher.py:25: UserWarning: Boolean Series key will be reindexed to match DataFrame index.\n",
      "/opt/anaconda3/lib/python3.7/site-packages/ipykernel_launcher.py:25: UserWarning: Boolean Series key will be reindexed to match DataFrame index.\n",
      "/opt/anaconda3/lib/python3.7/site-packages/ipykernel_launcher.py:25: UserWarning: Boolean Series key will be reindexed to match DataFrame index.\n",
      "/opt/anaconda3/lib/python3.7/site-packages/ipykernel_launcher.py:25: UserWarning: Boolean Series key will be reindexed to match DataFrame index.\n",
      "/opt/anaconda3/lib/python3.7/site-packages/ipykernel_launcher.py:25: UserWarning: Boolean Series key will be reindexed to match DataFrame index.\n",
      "/opt/anaconda3/lib/python3.7/site-packages/ipykernel_launcher.py:25: UserWarning: Boolean Series key will be reindexed to match DataFrame index.\n",
      "/opt/anaconda3/lib/python3.7/site-packages/ipykernel_launcher.py:25: UserWarning: Boolean Series key will be reindexed to match DataFrame index.\n",
      "/opt/anaconda3/lib/python3.7/site-packages/ipykernel_launcher.py:25: UserWarning: Boolean Series key will be reindexed to match DataFrame index.\n",
      "/opt/anaconda3/lib/python3.7/site-packages/ipykernel_launcher.py:25: UserWarning: Boolean Series key will be reindexed to match DataFrame index.\n",
      "/opt/anaconda3/lib/python3.7/site-packages/ipykernel_launcher.py:25: UserWarning: Boolean Series key will be reindexed to match DataFrame index.\n",
      "/opt/anaconda3/lib/python3.7/site-packages/ipykernel_launcher.py:25: UserWarning: Boolean Series key will be reindexed to match DataFrame index.\n",
      "/opt/anaconda3/lib/python3.7/site-packages/ipykernel_launcher.py:25: UserWarning: Boolean Series key will be reindexed to match DataFrame index.\n",
      "/opt/anaconda3/lib/python3.7/site-packages/ipykernel_launcher.py:25: UserWarning: Boolean Series key will be reindexed to match DataFrame index.\n",
      "/opt/anaconda3/lib/python3.7/site-packages/ipykernel_launcher.py:25: UserWarning: Boolean Series key will be reindexed to match DataFrame index.\n",
      "/opt/anaconda3/lib/python3.7/site-packages/ipykernel_launcher.py:25: UserWarning: Boolean Series key will be reindexed to match DataFrame index.\n",
      "/opt/anaconda3/lib/python3.7/site-packages/ipykernel_launcher.py:25: UserWarning: Boolean Series key will be reindexed to match DataFrame index.\n",
      "/opt/anaconda3/lib/python3.7/site-packages/ipykernel_launcher.py:25: UserWarning: Boolean Series key will be reindexed to match DataFrame index.\n",
      "/opt/anaconda3/lib/python3.7/site-packages/ipykernel_launcher.py:25: UserWarning: Boolean Series key will be reindexed to match DataFrame index.\n",
      "/opt/anaconda3/lib/python3.7/site-packages/ipykernel_launcher.py:25: UserWarning: Boolean Series key will be reindexed to match DataFrame index.\n",
      "/opt/anaconda3/lib/python3.7/site-packages/ipykernel_launcher.py:25: UserWarning: Boolean Series key will be reindexed to match DataFrame index.\n",
      "/opt/anaconda3/lib/python3.7/site-packages/ipykernel_launcher.py:25: UserWarning: Boolean Series key will be reindexed to match DataFrame index.\n",
      "/opt/anaconda3/lib/python3.7/site-packages/ipykernel_launcher.py:25: UserWarning: Boolean Series key will be reindexed to match DataFrame index.\n",
      "/opt/anaconda3/lib/python3.7/site-packages/ipykernel_launcher.py:25: UserWarning: Boolean Series key will be reindexed to match DataFrame index.\n",
      "/opt/anaconda3/lib/python3.7/site-packages/ipykernel_launcher.py:25: UserWarning: Boolean Series key will be reindexed to match DataFrame index.\n",
      "/opt/anaconda3/lib/python3.7/site-packages/ipykernel_launcher.py:25: UserWarning: Boolean Series key will be reindexed to match DataFrame index.\n",
      "/opt/anaconda3/lib/python3.7/site-packages/ipykernel_launcher.py:25: UserWarning: Boolean Series key will be reindexed to match DataFrame index.\n",
      "/opt/anaconda3/lib/python3.7/site-packages/ipykernel_launcher.py:25: UserWarning: Boolean Series key will be reindexed to match DataFrame index.\n",
      "/opt/anaconda3/lib/python3.7/site-packages/ipykernel_launcher.py:25: UserWarning: Boolean Series key will be reindexed to match DataFrame index.\n",
      "/opt/anaconda3/lib/python3.7/site-packages/ipykernel_launcher.py:25: UserWarning: Boolean Series key will be reindexed to match DataFrame index.\n",
      "/opt/anaconda3/lib/python3.7/site-packages/ipykernel_launcher.py:25: UserWarning: Boolean Series key will be reindexed to match DataFrame index.\n",
      "/opt/anaconda3/lib/python3.7/site-packages/ipykernel_launcher.py:25: UserWarning: Boolean Series key will be reindexed to match DataFrame index.\n",
      "/opt/anaconda3/lib/python3.7/site-packages/ipykernel_launcher.py:25: UserWarning: Boolean Series key will be reindexed to match DataFrame index.\n"
     ]
    }
   ],
   "source": [
    "X_gp_rbf,X_test_gp_rbf = GP_rbf_feature_selection(X_processed,X_test_processed,y_processed)\n",
    "print(X_gp_rbf.shape)"
   ]
  },
  {
   "cell_type": "code",
   "execution_count": 14,
   "id": "e22f81d7",
   "metadata": {
    "scrolled": true
   },
   "outputs": [
    {
     "name": "stderr",
     "output_type": "stream",
     "text": [
      "/opt/anaconda3/lib/python3.7/site-packages/ipykernel_launcher.py:3: UserWarning: Boolean Series key will be reindexed to match DataFrame index.\n",
      "  This is separate from the ipykernel package so we can avoid doing imports until\n"
     ]
    },
    {
     "name": "stdout",
     "output_type": "stream",
     "text": [
      "(1200, 49)\n",
      "(776, 49)\n"
     ]
    },
    {
     "name": "stderr",
     "output_type": "stream",
     "text": [
      "/opt/anaconda3/lib/python3.7/site-packages/ipykernel_launcher.py:25: UserWarning: Boolean Series key will be reindexed to match DataFrame index.\n",
      "/opt/anaconda3/lib/python3.7/site-packages/ipykernel_launcher.py:25: UserWarning: Boolean Series key will be reindexed to match DataFrame index.\n",
      "/opt/anaconda3/lib/python3.7/site-packages/ipykernel_launcher.py:25: UserWarning: Boolean Series key will be reindexed to match DataFrame index.\n",
      "/opt/anaconda3/lib/python3.7/site-packages/ipykernel_launcher.py:25: UserWarning: Boolean Series key will be reindexed to match DataFrame index.\n",
      "/opt/anaconda3/lib/python3.7/site-packages/ipykernel_launcher.py:25: UserWarning: Boolean Series key will be reindexed to match DataFrame index.\n",
      "/opt/anaconda3/lib/python3.7/site-packages/ipykernel_launcher.py:25: UserWarning: Boolean Series key will be reindexed to match DataFrame index.\n",
      "/opt/anaconda3/lib/python3.7/site-packages/ipykernel_launcher.py:25: UserWarning: Boolean Series key will be reindexed to match DataFrame index.\n",
      "/opt/anaconda3/lib/python3.7/site-packages/ipykernel_launcher.py:25: UserWarning: Boolean Series key will be reindexed to match DataFrame index.\n",
      "/opt/anaconda3/lib/python3.7/site-packages/ipykernel_launcher.py:25: UserWarning: Boolean Series key will be reindexed to match DataFrame index.\n",
      "/opt/anaconda3/lib/python3.7/site-packages/ipykernel_launcher.py:25: UserWarning: Boolean Series key will be reindexed to match DataFrame index.\n",
      "/opt/anaconda3/lib/python3.7/site-packages/ipykernel_launcher.py:25: UserWarning: Boolean Series key will be reindexed to match DataFrame index.\n",
      "/opt/anaconda3/lib/python3.7/site-packages/ipykernel_launcher.py:25: UserWarning: Boolean Series key will be reindexed to match DataFrame index.\n",
      "/opt/anaconda3/lib/python3.7/site-packages/ipykernel_launcher.py:25: UserWarning: Boolean Series key will be reindexed to match DataFrame index.\n",
      "/opt/anaconda3/lib/python3.7/site-packages/ipykernel_launcher.py:25: UserWarning: Boolean Series key will be reindexed to match DataFrame index.\n",
      "/opt/anaconda3/lib/python3.7/site-packages/ipykernel_launcher.py:25: UserWarning: Boolean Series key will be reindexed to match DataFrame index.\n",
      "/opt/anaconda3/lib/python3.7/site-packages/ipykernel_launcher.py:25: UserWarning: Boolean Series key will be reindexed to match DataFrame index.\n",
      "/opt/anaconda3/lib/python3.7/site-packages/ipykernel_launcher.py:25: UserWarning: Boolean Series key will be reindexed to match DataFrame index.\n",
      "/opt/anaconda3/lib/python3.7/site-packages/ipykernel_launcher.py:25: UserWarning: Boolean Series key will be reindexed to match DataFrame index.\n",
      "/opt/anaconda3/lib/python3.7/site-packages/ipykernel_launcher.py:25: UserWarning: Boolean Series key will be reindexed to match DataFrame index.\n",
      "/opt/anaconda3/lib/python3.7/site-packages/ipykernel_launcher.py:25: UserWarning: Boolean Series key will be reindexed to match DataFrame index.\n",
      "/opt/anaconda3/lib/python3.7/site-packages/ipykernel_launcher.py:25: UserWarning: Boolean Series key will be reindexed to match DataFrame index.\n",
      "/opt/anaconda3/lib/python3.7/site-packages/ipykernel_launcher.py:25: UserWarning: Boolean Series key will be reindexed to match DataFrame index.\n",
      "/opt/anaconda3/lib/python3.7/site-packages/ipykernel_launcher.py:25: UserWarning: Boolean Series key will be reindexed to match DataFrame index.\n",
      "/opt/anaconda3/lib/python3.7/site-packages/ipykernel_launcher.py:25: UserWarning: Boolean Series key will be reindexed to match DataFrame index.\n",
      "/opt/anaconda3/lib/python3.7/site-packages/ipykernel_launcher.py:25: UserWarning: Boolean Series key will be reindexed to match DataFrame index.\n",
      "/opt/anaconda3/lib/python3.7/site-packages/ipykernel_launcher.py:25: UserWarning: Boolean Series key will be reindexed to match DataFrame index.\n",
      "/opt/anaconda3/lib/python3.7/site-packages/ipykernel_launcher.py:25: UserWarning: Boolean Series key will be reindexed to match DataFrame index.\n",
      "/opt/anaconda3/lib/python3.7/site-packages/ipykernel_launcher.py:25: UserWarning: Boolean Series key will be reindexed to match DataFrame index.\n",
      "/opt/anaconda3/lib/python3.7/site-packages/ipykernel_launcher.py:25: UserWarning: Boolean Series key will be reindexed to match DataFrame index.\n",
      "/opt/anaconda3/lib/python3.7/site-packages/ipykernel_launcher.py:25: UserWarning: Boolean Series key will be reindexed to match DataFrame index.\n",
      "/opt/anaconda3/lib/python3.7/site-packages/ipykernel_launcher.py:25: UserWarning: Boolean Series key will be reindexed to match DataFrame index.\n",
      "/opt/anaconda3/lib/python3.7/site-packages/ipykernel_launcher.py:25: UserWarning: Boolean Series key will be reindexed to match DataFrame index.\n",
      "/opt/anaconda3/lib/python3.7/site-packages/ipykernel_launcher.py:25: UserWarning: Boolean Series key will be reindexed to match DataFrame index.\n",
      "/opt/anaconda3/lib/python3.7/site-packages/ipykernel_launcher.py:25: UserWarning: Boolean Series key will be reindexed to match DataFrame index.\n",
      "/opt/anaconda3/lib/python3.7/site-packages/ipykernel_launcher.py:25: UserWarning: Boolean Series key will be reindexed to match DataFrame index.\n",
      "/opt/anaconda3/lib/python3.7/site-packages/ipykernel_launcher.py:25: UserWarning: Boolean Series key will be reindexed to match DataFrame index.\n",
      "/opt/anaconda3/lib/python3.7/site-packages/ipykernel_launcher.py:25: UserWarning: Boolean Series key will be reindexed to match DataFrame index.\n",
      "/opt/anaconda3/lib/python3.7/site-packages/ipykernel_launcher.py:25: UserWarning: Boolean Series key will be reindexed to match DataFrame index.\n",
      "/opt/anaconda3/lib/python3.7/site-packages/ipykernel_launcher.py:25: UserWarning: Boolean Series key will be reindexed to match DataFrame index.\n",
      "/opt/anaconda3/lib/python3.7/site-packages/ipykernel_launcher.py:25: UserWarning: Boolean Series key will be reindexed to match DataFrame index.\n",
      "/opt/anaconda3/lib/python3.7/site-packages/ipykernel_launcher.py:25: UserWarning: Boolean Series key will be reindexed to match DataFrame index.\n",
      "/opt/anaconda3/lib/python3.7/site-packages/ipykernel_launcher.py:25: UserWarning: Boolean Series key will be reindexed to match DataFrame index.\n",
      "/opt/anaconda3/lib/python3.7/site-packages/ipykernel_launcher.py:25: UserWarning: Boolean Series key will be reindexed to match DataFrame index.\n",
      "/opt/anaconda3/lib/python3.7/site-packages/ipykernel_launcher.py:25: UserWarning: Boolean Series key will be reindexed to match DataFrame index.\n",
      "/opt/anaconda3/lib/python3.7/site-packages/ipykernel_launcher.py:25: UserWarning: Boolean Series key will be reindexed to match DataFrame index.\n",
      "/opt/anaconda3/lib/python3.7/site-packages/ipykernel_launcher.py:25: UserWarning: Boolean Series key will be reindexed to match DataFrame index.\n",
      "/opt/anaconda3/lib/python3.7/site-packages/ipykernel_launcher.py:25: UserWarning: Boolean Series key will be reindexed to match DataFrame index.\n"
     ]
    }
   ],
   "source": [
    "x_tree,X_test_tree = Tree_feature_selection(X_processed,X_test_processed,y_processed)\n",
    "print(x_tree.shape)\n",
    "print(X_test_tree.shape)"
   ]
  },
  {
   "cell_type": "markdown",
   "id": "cff84e4f",
   "metadata": {},
   "source": [
    "## 4. Gaussian Process and lgb"
   ]
  },
  {
   "cell_type": "code",
   "execution_count": 15,
   "id": "170c594d",
   "metadata": {},
   "outputs": [],
   "source": [
    "from sklearn.gaussian_process import GaussianProcessRegressor\n",
    "from sklearn.gaussian_process.kernels import RBF, ConstantKernel as C, DotProduct, WhiteKernel\n",
    "\n",
    "def custom_r2(prediction, train_data):\n",
    "    \"\"\"Regular r2 cost function returned as a tuple to be used with lgb\"\"\"\n",
    "    labels = train_data.get_label()\n",
    "    return 'r2', r2_score(labels, prediction), True\n",
    "\n",
    "def fit_model_and_pred(X_train, y_train, X_val, y_val, X_test):\n",
    "#     kernel = RBF(0.5, (1e-4, 10))\n",
    "#     gpr = GaussianProcessRegressor(kernel=kernel, random_state=0, n_restarts_optimizer=1, alpha=0.07, normalize_y=True)\n",
    "#     gpr.fit(X_train, y_train)\n",
    "#     score = gpr.score(X_val, y_val)   \n",
    "#     y_pred = gpr.predict(X_test) \n",
    "    kernel = RationalQuadratic(length_scale=0.5, alpha=1.0, length_scale_bounds=(1e-4, 10))\n",
    "    gpr = GaussianProcessRegressor(kernel=kernel, random_state=0, n_restarts_optimizer=1, alpha=1e-6, normalize_y=True)\n",
    "    gpr.fit(X_train, y_train)\n",
    "    score = gpr.score(X_val, y_val)\n",
    "    y_val_pred = gpr.predict(X_val)   \n",
    "    y_pred = gpr.predict(X_test)\n",
    "    \n",
    "    return score, y_pred\n",
    "\n",
    "def fit_model_and_pred_gp2(X_train, y_train, X_val, y_val, X_test):\n",
    "    # kernel = RBF(0.5, (1e-4, 10))\n",
    "    kernel = Matern()\n",
    "    gpr = GaussianProcessRegressor(kernel=kernel, random_state=0, n_restarts_optimizer=1, alpha=1e-4, normalize_y=True)\n",
    "    gpr.fit(X_train, y_train)\n",
    "    score = gpr.score(X_val, y_val)   \n",
    "    y_pred = gpr.predict(X_test) \n",
    "    \n",
    "    return score, y_pred\n",
    "\n",
    "def fit_model_and_pred_tree(X_train, y_train, X_val, y_val, X_test, random_state=0):\n",
    "    model = ExtraTreesRegressor(n_jobs=1, max_depth=None, n_estimators=190, random_state=random_state, min_samples_split=3, max_features=None)\n",
    "    model.fit(X_train, y_train)\n",
    "    \n",
    "    y_val_pred = model.predict(X_val)\n",
    "    score = r2_score(y_val, y_val_pred)\n",
    "    \n",
    "    y_pred = model.predict(X_test) \n",
    "    \n",
    "    return score, y_pred\n",
    "\n",
    "def fit_model_and_pred_lgb(X_train, y_train, X_val, y_val, X_test):\n",
    "   \n",
    "    params = {\n",
    "        'task': 'train',\n",
    "        'boosting_type': 'gbdt',\n",
    "        'objective': 'regression',\n",
    "        'num_leaves': 1800,\n",
    "        'learning_rate': 0.025,\n",
    "        'max_depth': 11,\n",
    "        'n_estimators': 1000,\n",
    "        'min_child_weight': 1,\n",
    "        'subsample': 0.8,\n",
    "        'colsample_bytree': 0.8,\n",
    "        'feature_fraction': 0.5,\n",
    "        'bagging_fraction': 0.8,\n",
    "        'bagging_freq': 5,\n",
    "        'verbose': -1,\n",
    "        'num_iterations':1000,\n",
    "    }  \n",
    "    \n",
    "    \n",
    "    lgb_train = lgb.Dataset(X_train, y_train)\n",
    "    lgb_eval = lgb.Dataset(X_val, y_val, reference=lgb_train)\n",
    "\n",
    "    gbm = lgb.train(params,\n",
    "                    lgb_train,\n",
    "                    num_boost_round=500,\n",
    "                    feval=custom_r2,\n",
    "                    valid_sets={lgb_train, lgb_eval},\n",
    "                    early_stopping_rounds=100,\n",
    "                    verbose_eval=False\n",
    "                   )\n",
    "    \n",
    "    y_val_pred = gbm.predict(X_val)\n",
    "    score = r2_score(y_val, y_val_pred)\n",
    "    y_pred = gbm.predict(X_test) \n",
    "    return score, y_pred\n",
    "\n",
    "def train_k_fold_2GP_LGB(X_lgb,X_test_lgb,X_gp,X_test_gp,X_tree,X_test_tree, y , weight1 = 0.5, weight2 = 0.75, fold_num=10):\n",
    "# weight1 is the ratio of gp_rbf to lgb, weight2 is the combine of previous to gp.quadric\n",
    "    kf = KFold(n_splits=fold_num, shuffle=False)\n",
    "    kf.get_n_splits(X_lgb)\n",
    "    test_score = 0.0\n",
    "    train_score = 0.0\n",
    "    y_test_pred = np.zeros((X_test_lgb.shape[0]))\n",
    "#     print(\"shape of y_test_pred:\", y_test_pred.shape)\n",
    "    i = 0\n",
    "    for train_index, test_index in kf.split(X_lgb):\n",
    "        X_lgb_train, X_lgb_val = X_lgb[train_index], X_lgb[test_index]\n",
    "        X_gp_train, X_gp_val = X_gp[train_index], X_gp[test_index]\n",
    "        X_tree_train, X_tree_val = X_tree[train_index], X_tree[test_index]\n",
    "        y_train, y_val = y[train_index], y[test_index]\n",
    "        \n",
    "        _, y_pred1 = fit_model_and_pred(X_gp_train, y_train, X_gp_val, y_val, X_gp_val)\n",
    "        _, y_pred2 = fit_model_and_pred_lgb(X_lgb_train, y_train, X_lgb_val, y_val, X_lgb_val)\n",
    "        _, y_pred3 = fit_model_and_pred_gp2(X_tree_train, y_train, X_tree_val, y_val, X_tree_val)\n",
    "        _, y_pred4 = fit_model_and_pred_tree(X_tree_train, y_train, X_tree_val, y_val, X_tree_val)\n",
    "        y_pred = weight2*(weight1*y_pred3+(1-weight1)*y_pred2) + (1-weight2)*y_pred1\n",
    "\n",
    "        _, y_test_pred1 = fit_model_and_pred(X_gp_train, y_train, X_gp_val, y_val, X_test_gp)\n",
    "        _, y_test_pred2 = fit_model_and_pred_lgb(X_lgb_train, y_train, X_lgb_val, y_val, X_test_lgb)\n",
    "        _, y_test_pred3 = fit_model_and_pred_gp2(X_tree_train, y_train, X_tree_val, y_val, X_test_tree)\n",
    "        _, y_test_pred4 = fit_model_and_pred_tree(X_tree_train, y_train, X_tree_val, y_val, X_test_tree)\n",
    "        y_test_pred += weight2*(weight1*y_test_pred3+(1-weight1)*y_test_pred2) + (1-weight2)*y_test_pred1\n",
    "        \n",
    "        score = r2_score(y_val, y_pred)\n",
    "        print(i+1, 'th . the obtained validation r2 score is : ',score)\n",
    "        test_score += score\n",
    "        i += 1\n",
    "\n",
    "    return test_score/fold_num,y_test_pred/fold_num\n",
    "\n",
    "def train_k_fold_predict(X, y, X_test, fold_num=10):\n",
    "    kf = KFold(n_splits=fold_num)\n",
    "    kf.get_n_splits(X)\n",
    "    y_test_predict = np.zeros(X_test.shape[0])\n",
    "    cnt = 0\n",
    "    val_score = 0.0\n",
    "    train_score = 0.0\n",
    "    for train_index, test_index in kf.split(X):\n",
    "        X_train, X_val = X[train_index], X[test_index]\n",
    "        y_train, y_val = y[train_index], y[test_index]\n",
    "\n",
    "        score, y_pred = fit_model_and_pred(X_train, y_train, X_val, y_val, X_test) \n",
    "        val_score += score\n",
    "        y_test_predict += y_pred\n",
    "        \n",
    "        score, _ = fit_model_and_pred(X_train, y_train, X_train, y_train, X_test)\n",
    "        train_score += score\n",
    "    return train_score/fold_num, val_score/fold_num, y_test_predict/fold_num"
   ]
  },
  {
   "cell_type": "code",
   "execution_count": 31,
   "id": "2542264e",
   "metadata": {
    "scrolled": true
   },
   "outputs": [
    {
     "name": "stderr",
     "output_type": "stream",
     "text": [
      "/opt/anaconda3/lib/python3.7/site-packages/lightgbm/engine.py:151: UserWarning: Found `n_estimators` in params. Will use it instead of argument\n",
      "  warnings.warn(\"Found `{}` in params. Will use it instead of argument\".format(alias))\n",
      "/opt/anaconda3/lib/python3.7/site-packages/lightgbm/engine.py:151: UserWarning: Found `num_iterations` in params. Will use it instead of argument\n",
      "  warnings.warn(\"Found `{}` in params. Will use it instead of argument\".format(alias))\n"
     ]
    },
    {
     "name": "stdout",
     "output_type": "stream",
     "text": [
      "[LightGBM] [Warning] feature_fraction is set=0.5, colsample_bytree=0.8 will be ignored. Current value: feature_fraction=0.5\n",
      "[LightGBM] [Warning] bagging_fraction is set=0.8, subsample=0.8 will be ignored. Current value: bagging_fraction=0.8\n"
     ]
    },
    {
     "name": "stderr",
     "output_type": "stream",
     "text": [
      "/opt/anaconda3/lib/python3.7/site-packages/lightgbm/engine.py:151: UserWarning: Found `n_estimators` in params. Will use it instead of argument\n",
      "  warnings.warn(\"Found `{}` in params. Will use it instead of argument\".format(alias))\n",
      "/opt/anaconda3/lib/python3.7/site-packages/lightgbm/engine.py:151: UserWarning: Found `num_iterations` in params. Will use it instead of argument\n",
      "  warnings.warn(\"Found `{}` in params. Will use it instead of argument\".format(alias))\n"
     ]
    },
    {
     "name": "stdout",
     "output_type": "stream",
     "text": [
      "[LightGBM] [Warning] feature_fraction is set=0.5, colsample_bytree=0.8 will be ignored. Current value: feature_fraction=0.5\n",
      "[LightGBM] [Warning] bagging_fraction is set=0.8, subsample=0.8 will be ignored. Current value: bagging_fraction=0.8\n",
      "1 th . the obtained validation r2 score is :  0.7907270218264033\n"
     ]
    },
    {
     "name": "stderr",
     "output_type": "stream",
     "text": [
      "/opt/anaconda3/lib/python3.7/site-packages/lightgbm/engine.py:151: UserWarning: Found `n_estimators` in params. Will use it instead of argument\n",
      "  warnings.warn(\"Found `{}` in params. Will use it instead of argument\".format(alias))\n",
      "/opt/anaconda3/lib/python3.7/site-packages/lightgbm/engine.py:151: UserWarning: Found `num_iterations` in params. Will use it instead of argument\n",
      "  warnings.warn(\"Found `{}` in params. Will use it instead of argument\".format(alias))\n"
     ]
    },
    {
     "name": "stdout",
     "output_type": "stream",
     "text": [
      "[LightGBM] [Warning] feature_fraction is set=0.5, colsample_bytree=0.8 will be ignored. Current value: feature_fraction=0.5\n",
      "[LightGBM] [Warning] bagging_fraction is set=0.8, subsample=0.8 will be ignored. Current value: bagging_fraction=0.8\n"
     ]
    },
    {
     "name": "stderr",
     "output_type": "stream",
     "text": [
      "/opt/anaconda3/lib/python3.7/site-packages/lightgbm/engine.py:151: UserWarning: Found `n_estimators` in params. Will use it instead of argument\n",
      "  warnings.warn(\"Found `{}` in params. Will use it instead of argument\".format(alias))\n",
      "/opt/anaconda3/lib/python3.7/site-packages/lightgbm/engine.py:151: UserWarning: Found `num_iterations` in params. Will use it instead of argument\n",
      "  warnings.warn(\"Found `{}` in params. Will use it instead of argument\".format(alias))\n"
     ]
    },
    {
     "name": "stdout",
     "output_type": "stream",
     "text": [
      "[LightGBM] [Warning] feature_fraction is set=0.5, colsample_bytree=0.8 will be ignored. Current value: feature_fraction=0.5\n",
      "[LightGBM] [Warning] bagging_fraction is set=0.8, subsample=0.8 will be ignored. Current value: bagging_fraction=0.8\n",
      "2 th . the obtained validation r2 score is :  0.8033402763350072\n"
     ]
    },
    {
     "name": "stderr",
     "output_type": "stream",
     "text": [
      "/opt/anaconda3/lib/python3.7/site-packages/lightgbm/engine.py:151: UserWarning: Found `n_estimators` in params. Will use it instead of argument\n",
      "  warnings.warn(\"Found `{}` in params. Will use it instead of argument\".format(alias))\n",
      "/opt/anaconda3/lib/python3.7/site-packages/lightgbm/engine.py:151: UserWarning: Found `num_iterations` in params. Will use it instead of argument\n",
      "  warnings.warn(\"Found `{}` in params. Will use it instead of argument\".format(alias))\n"
     ]
    },
    {
     "name": "stdout",
     "output_type": "stream",
     "text": [
      "[LightGBM] [Warning] feature_fraction is set=0.5, colsample_bytree=0.8 will be ignored. Current value: feature_fraction=0.5\n",
      "[LightGBM] [Warning] bagging_fraction is set=0.8, subsample=0.8 will be ignored. Current value: bagging_fraction=0.8\n"
     ]
    },
    {
     "name": "stderr",
     "output_type": "stream",
     "text": [
      "/opt/anaconda3/lib/python3.7/site-packages/lightgbm/engine.py:151: UserWarning: Found `n_estimators` in params. Will use it instead of argument\n",
      "  warnings.warn(\"Found `{}` in params. Will use it instead of argument\".format(alias))\n",
      "/opt/anaconda3/lib/python3.7/site-packages/lightgbm/engine.py:151: UserWarning: Found `num_iterations` in params. Will use it instead of argument\n",
      "  warnings.warn(\"Found `{}` in params. Will use it instead of argument\".format(alias))\n"
     ]
    },
    {
     "name": "stdout",
     "output_type": "stream",
     "text": [
      "[LightGBM] [Warning] feature_fraction is set=0.5, colsample_bytree=0.8 will be ignored. Current value: feature_fraction=0.5\n",
      "[LightGBM] [Warning] bagging_fraction is set=0.8, subsample=0.8 will be ignored. Current value: bagging_fraction=0.8\n",
      "3 th . the obtained validation r2 score is :  0.6265472016487184\n"
     ]
    },
    {
     "name": "stderr",
     "output_type": "stream",
     "text": [
      "/opt/anaconda3/lib/python3.7/site-packages/lightgbm/engine.py:151: UserWarning: Found `n_estimators` in params. Will use it instead of argument\n",
      "  warnings.warn(\"Found `{}` in params. Will use it instead of argument\".format(alias))\n",
      "/opt/anaconda3/lib/python3.7/site-packages/lightgbm/engine.py:151: UserWarning: Found `num_iterations` in params. Will use it instead of argument\n",
      "  warnings.warn(\"Found `{}` in params. Will use it instead of argument\".format(alias))\n"
     ]
    },
    {
     "name": "stdout",
     "output_type": "stream",
     "text": [
      "[LightGBM] [Warning] feature_fraction is set=0.5, colsample_bytree=0.8 will be ignored. Current value: feature_fraction=0.5\n",
      "[LightGBM] [Warning] bagging_fraction is set=0.8, subsample=0.8 will be ignored. Current value: bagging_fraction=0.8\n"
     ]
    },
    {
     "name": "stderr",
     "output_type": "stream",
     "text": [
      "/opt/anaconda3/lib/python3.7/site-packages/lightgbm/engine.py:151: UserWarning: Found `n_estimators` in params. Will use it instead of argument\n",
      "  warnings.warn(\"Found `{}` in params. Will use it instead of argument\".format(alias))\n",
      "/opt/anaconda3/lib/python3.7/site-packages/lightgbm/engine.py:151: UserWarning: Found `num_iterations` in params. Will use it instead of argument\n",
      "  warnings.warn(\"Found `{}` in params. Will use it instead of argument\".format(alias))\n"
     ]
    },
    {
     "name": "stdout",
     "output_type": "stream",
     "text": [
      "[LightGBM] [Warning] feature_fraction is set=0.5, colsample_bytree=0.8 will be ignored. Current value: feature_fraction=0.5\n",
      "[LightGBM] [Warning] bagging_fraction is set=0.8, subsample=0.8 will be ignored. Current value: bagging_fraction=0.8\n",
      "4 th . the obtained validation r2 score is :  0.7478400594550803\n"
     ]
    },
    {
     "name": "stderr",
     "output_type": "stream",
     "text": [
      "/opt/anaconda3/lib/python3.7/site-packages/lightgbm/engine.py:151: UserWarning: Found `n_estimators` in params. Will use it instead of argument\n",
      "  warnings.warn(\"Found `{}` in params. Will use it instead of argument\".format(alias))\n",
      "/opt/anaconda3/lib/python3.7/site-packages/lightgbm/engine.py:151: UserWarning: Found `num_iterations` in params. Will use it instead of argument\n",
      "  warnings.warn(\"Found `{}` in params. Will use it instead of argument\".format(alias))\n"
     ]
    },
    {
     "name": "stdout",
     "output_type": "stream",
     "text": [
      "[LightGBM] [Warning] feature_fraction is set=0.5, colsample_bytree=0.8 will be ignored. Current value: feature_fraction=0.5\n",
      "[LightGBM] [Warning] bagging_fraction is set=0.8, subsample=0.8 will be ignored. Current value: bagging_fraction=0.8\n"
     ]
    },
    {
     "name": "stderr",
     "output_type": "stream",
     "text": [
      "/opt/anaconda3/lib/python3.7/site-packages/lightgbm/engine.py:151: UserWarning: Found `n_estimators` in params. Will use it instead of argument\n",
      "  warnings.warn(\"Found `{}` in params. Will use it instead of argument\".format(alias))\n",
      "/opt/anaconda3/lib/python3.7/site-packages/lightgbm/engine.py:151: UserWarning: Found `num_iterations` in params. Will use it instead of argument\n",
      "  warnings.warn(\"Found `{}` in params. Will use it instead of argument\".format(alias))\n"
     ]
    },
    {
     "name": "stdout",
     "output_type": "stream",
     "text": [
      "[LightGBM] [Warning] feature_fraction is set=0.5, colsample_bytree=0.8 will be ignored. Current value: feature_fraction=0.5\n",
      "[LightGBM] [Warning] bagging_fraction is set=0.8, subsample=0.8 will be ignored. Current value: bagging_fraction=0.8\n",
      "5 th . the obtained validation r2 score is :  0.6775664731439983\n"
     ]
    },
    {
     "name": "stderr",
     "output_type": "stream",
     "text": [
      "/opt/anaconda3/lib/python3.7/site-packages/lightgbm/engine.py:151: UserWarning: Found `n_estimators` in params. Will use it instead of argument\n",
      "  warnings.warn(\"Found `{}` in params. Will use it instead of argument\".format(alias))\n",
      "/opt/anaconda3/lib/python3.7/site-packages/lightgbm/engine.py:151: UserWarning: Found `num_iterations` in params. Will use it instead of argument\n",
      "  warnings.warn(\"Found `{}` in params. Will use it instead of argument\".format(alias))\n"
     ]
    },
    {
     "name": "stdout",
     "output_type": "stream",
     "text": [
      "[LightGBM] [Warning] feature_fraction is set=0.5, colsample_bytree=0.8 will be ignored. Current value: feature_fraction=0.5\n",
      "[LightGBM] [Warning] bagging_fraction is set=0.8, subsample=0.8 will be ignored. Current value: bagging_fraction=0.8\n"
     ]
    },
    {
     "name": "stderr",
     "output_type": "stream",
     "text": [
      "/opt/anaconda3/lib/python3.7/site-packages/lightgbm/engine.py:151: UserWarning: Found `n_estimators` in params. Will use it instead of argument\n",
      "  warnings.warn(\"Found `{}` in params. Will use it instead of argument\".format(alias))\n",
      "/opt/anaconda3/lib/python3.7/site-packages/lightgbm/engine.py:151: UserWarning: Found `num_iterations` in params. Will use it instead of argument\n",
      "  warnings.warn(\"Found `{}` in params. Will use it instead of argument\".format(alias))\n"
     ]
    },
    {
     "name": "stdout",
     "output_type": "stream",
     "text": [
      "[LightGBM] [Warning] feature_fraction is set=0.5, colsample_bytree=0.8 will be ignored. Current value: feature_fraction=0.5\n",
      "[LightGBM] [Warning] bagging_fraction is set=0.8, subsample=0.8 will be ignored. Current value: bagging_fraction=0.8\n",
      "6 th . the obtained validation r2 score is :  0.6913990116745712\n"
     ]
    },
    {
     "name": "stderr",
     "output_type": "stream",
     "text": [
      "/opt/anaconda3/lib/python3.7/site-packages/lightgbm/engine.py:151: UserWarning: Found `n_estimators` in params. Will use it instead of argument\n",
      "  warnings.warn(\"Found `{}` in params. Will use it instead of argument\".format(alias))\n",
      "/opt/anaconda3/lib/python3.7/site-packages/lightgbm/engine.py:151: UserWarning: Found `num_iterations` in params. Will use it instead of argument\n",
      "  warnings.warn(\"Found `{}` in params. Will use it instead of argument\".format(alias))\n"
     ]
    },
    {
     "name": "stdout",
     "output_type": "stream",
     "text": [
      "[LightGBM] [Warning] feature_fraction is set=0.5, colsample_bytree=0.8 will be ignored. Current value: feature_fraction=0.5\n",
      "[LightGBM] [Warning] bagging_fraction is set=0.8, subsample=0.8 will be ignored. Current value: bagging_fraction=0.8\n"
     ]
    },
    {
     "name": "stderr",
     "output_type": "stream",
     "text": [
      "/opt/anaconda3/lib/python3.7/site-packages/lightgbm/engine.py:151: UserWarning: Found `n_estimators` in params. Will use it instead of argument\n",
      "  warnings.warn(\"Found `{}` in params. Will use it instead of argument\".format(alias))\n",
      "/opt/anaconda3/lib/python3.7/site-packages/lightgbm/engine.py:151: UserWarning: Found `num_iterations` in params. Will use it instead of argument\n",
      "  warnings.warn(\"Found `{}` in params. Will use it instead of argument\".format(alias))\n"
     ]
    },
    {
     "name": "stdout",
     "output_type": "stream",
     "text": [
      "[LightGBM] [Warning] feature_fraction is set=0.5, colsample_bytree=0.8 will be ignored. Current value: feature_fraction=0.5\n",
      "[LightGBM] [Warning] bagging_fraction is set=0.8, subsample=0.8 will be ignored. Current value: bagging_fraction=0.8\n",
      "7 th . the obtained validation r2 score is :  0.6113854913383805\n"
     ]
    },
    {
     "name": "stderr",
     "output_type": "stream",
     "text": [
      "/opt/anaconda3/lib/python3.7/site-packages/lightgbm/engine.py:151: UserWarning: Found `n_estimators` in params. Will use it instead of argument\n",
      "  warnings.warn(\"Found `{}` in params. Will use it instead of argument\".format(alias))\n",
      "/opt/anaconda3/lib/python3.7/site-packages/lightgbm/engine.py:151: UserWarning: Found `num_iterations` in params. Will use it instead of argument\n",
      "  warnings.warn(\"Found `{}` in params. Will use it instead of argument\".format(alias))\n"
     ]
    },
    {
     "name": "stdout",
     "output_type": "stream",
     "text": [
      "[LightGBM] [Warning] feature_fraction is set=0.5, colsample_bytree=0.8 will be ignored. Current value: feature_fraction=0.5\n",
      "[LightGBM] [Warning] bagging_fraction is set=0.8, subsample=0.8 will be ignored. Current value: bagging_fraction=0.8\n"
     ]
    },
    {
     "name": "stderr",
     "output_type": "stream",
     "text": [
      "/opt/anaconda3/lib/python3.7/site-packages/lightgbm/engine.py:151: UserWarning: Found `n_estimators` in params. Will use it instead of argument\n",
      "  warnings.warn(\"Found `{}` in params. Will use it instead of argument\".format(alias))\n",
      "/opt/anaconda3/lib/python3.7/site-packages/lightgbm/engine.py:151: UserWarning: Found `num_iterations` in params. Will use it instead of argument\n",
      "  warnings.warn(\"Found `{}` in params. Will use it instead of argument\".format(alias))\n"
     ]
    },
    {
     "name": "stdout",
     "output_type": "stream",
     "text": [
      "[LightGBM] [Warning] feature_fraction is set=0.5, colsample_bytree=0.8 will be ignored. Current value: feature_fraction=0.5\n",
      "[LightGBM] [Warning] bagging_fraction is set=0.8, subsample=0.8 will be ignored. Current value: bagging_fraction=0.8\n",
      "8 th . the obtained validation r2 score is :  0.6515266144546039\n"
     ]
    },
    {
     "name": "stderr",
     "output_type": "stream",
     "text": [
      "/opt/anaconda3/lib/python3.7/site-packages/lightgbm/engine.py:151: UserWarning: Found `n_estimators` in params. Will use it instead of argument\n",
      "  warnings.warn(\"Found `{}` in params. Will use it instead of argument\".format(alias))\n",
      "/opt/anaconda3/lib/python3.7/site-packages/lightgbm/engine.py:151: UserWarning: Found `num_iterations` in params. Will use it instead of argument\n",
      "  warnings.warn(\"Found `{}` in params. Will use it instead of argument\".format(alias))\n"
     ]
    },
    {
     "name": "stdout",
     "output_type": "stream",
     "text": [
      "[LightGBM] [Warning] feature_fraction is set=0.5, colsample_bytree=0.8 will be ignored. Current value: feature_fraction=0.5\n",
      "[LightGBM] [Warning] bagging_fraction is set=0.8, subsample=0.8 will be ignored. Current value: bagging_fraction=0.8\n"
     ]
    },
    {
     "name": "stderr",
     "output_type": "stream",
     "text": [
      "/opt/anaconda3/lib/python3.7/site-packages/lightgbm/engine.py:151: UserWarning: Found `n_estimators` in params. Will use it instead of argument\n",
      "  warnings.warn(\"Found `{}` in params. Will use it instead of argument\".format(alias))\n",
      "/opt/anaconda3/lib/python3.7/site-packages/lightgbm/engine.py:151: UserWarning: Found `num_iterations` in params. Will use it instead of argument\n",
      "  warnings.warn(\"Found `{}` in params. Will use it instead of argument\".format(alias))\n"
     ]
    },
    {
     "name": "stdout",
     "output_type": "stream",
     "text": [
      "[LightGBM] [Warning] feature_fraction is set=0.5, colsample_bytree=0.8 will be ignored. Current value: feature_fraction=0.5\n",
      "[LightGBM] [Warning] bagging_fraction is set=0.8, subsample=0.8 will be ignored. Current value: bagging_fraction=0.8\n",
      "9 th . the obtained validation r2 score is :  0.7632023798027\n"
     ]
    },
    {
     "name": "stderr",
     "output_type": "stream",
     "text": [
      "/opt/anaconda3/lib/python3.7/site-packages/lightgbm/engine.py:151: UserWarning: Found `n_estimators` in params. Will use it instead of argument\n",
      "  warnings.warn(\"Found `{}` in params. Will use it instead of argument\".format(alias))\n",
      "/opt/anaconda3/lib/python3.7/site-packages/lightgbm/engine.py:151: UserWarning: Found `num_iterations` in params. Will use it instead of argument\n",
      "  warnings.warn(\"Found `{}` in params. Will use it instead of argument\".format(alias))\n"
     ]
    },
    {
     "name": "stdout",
     "output_type": "stream",
     "text": [
      "[LightGBM] [Warning] feature_fraction is set=0.5, colsample_bytree=0.8 will be ignored. Current value: feature_fraction=0.5\n",
      "[LightGBM] [Warning] bagging_fraction is set=0.8, subsample=0.8 will be ignored. Current value: bagging_fraction=0.8\n"
     ]
    },
    {
     "name": "stderr",
     "output_type": "stream",
     "text": [
      "/opt/anaconda3/lib/python3.7/site-packages/lightgbm/engine.py:151: UserWarning: Found `n_estimators` in params. Will use it instead of argument\n",
      "  warnings.warn(\"Found `{}` in params. Will use it instead of argument\".format(alias))\n",
      "/opt/anaconda3/lib/python3.7/site-packages/lightgbm/engine.py:151: UserWarning: Found `num_iterations` in params. Will use it instead of argument\n",
      "  warnings.warn(\"Found `{}` in params. Will use it instead of argument\".format(alias))\n"
     ]
    },
    {
     "name": "stdout",
     "output_type": "stream",
     "text": [
      "[LightGBM] [Warning] feature_fraction is set=0.5, colsample_bytree=0.8 will be ignored. Current value: feature_fraction=0.5\n",
      "[LightGBM] [Warning] bagging_fraction is set=0.8, subsample=0.8 will be ignored. Current value: bagging_fraction=0.8\n",
      "10 th . the obtained validation r2 score is :  0.6226237572182121\n"
     ]
    }
   ],
   "source": [
    "score,prediction = train_k_fold_2GP_LGB(X_lgb,X_test_lgb,X_gp_quad,X_test_gp_quad,X_gp_rbf,X_test_gp_rbf, y_processed , weight1 = 0.578, weight2 = 0.68, fold_num=10)"
   ]
  },
  {
   "cell_type": "code",
   "execution_count": 32,
   "id": "e30a5dc5",
   "metadata": {},
   "outputs": [
    {
     "data": {
      "text/plain": [
       "0.6986158286897675"
      ]
     },
     "execution_count": 32,
     "metadata": {},
     "output_type": "execute_result"
    }
   ],
   "source": [
    "score"
   ]
  },
  {
   "cell_type": "code",
   "execution_count": 33,
   "id": "1f229108",
   "metadata": {},
   "outputs": [
    {
     "data": {
      "text/plain": [
       "array([67.65583308, 69.12717282, 69.09128998, 70.58399406, 70.47578389,\n",
       "       75.51179843, 62.13918408, 60.04690791, 81.13646267, 78.41051114,\n",
       "       58.46246925, 81.88345073, 71.51511087, 81.69994332, 55.29428354,\n",
       "       81.95810916, 70.08738681, 74.45204432, 71.47902602, 69.9356576 ,\n",
       "       69.78893776, 66.09365384, 79.70548985, 75.36937   , 61.8986995 ,\n",
       "       70.07189221, 55.28272352, 71.34309661, 65.53540596, 74.00201028,\n",
       "       63.77711515, 69.70274477, 57.29171101, 70.54233039, 67.76422513,\n",
       "       65.84495218, 74.94367368, 56.36728908, 71.50736518, 69.44520417,\n",
       "       70.96438131, 74.85462846, 71.52226993, 79.76499194, 72.95379846,\n",
       "       68.10992657, 69.21290362, 72.3219981 , 76.89870968, 70.47006028,\n",
       "       76.6699029 , 65.94860981, 61.33230936, 82.50035943, 77.16444727,\n",
       "       72.9732142 , 64.14192126, 71.46550767, 72.891654  , 60.97176867,\n",
       "       65.25473237, 74.05970432, 64.79492025, 72.34482316, 72.92603114,\n",
       "       58.27927285, 69.57578108, 78.81406279, 62.7327324 , 74.36849161,\n",
       "       60.71974592, 77.41302617, 62.40145843, 60.79033994, 65.27021816,\n",
       "       71.76331962, 76.88696524, 60.38952535, 79.48319969, 84.35939194,\n",
       "       71.57031917, 78.99830188, 73.3746951 , 75.86633046, 60.17451899,\n",
       "       64.52104893, 58.17638018, 77.96383422, 78.04847007, 81.84448182,\n",
       "       67.01798426, 68.2602417 , 77.15175427, 67.32389417, 71.06903293,\n",
       "       56.38372417, 68.29370863, 66.3813195 , 71.81257706, 78.31300578,\n",
       "       79.51069464, 82.03228164, 79.82777383, 83.06117516, 83.0250938 ,\n",
       "       65.18382807, 59.59665622, 67.11690029, 76.08584454, 55.25366373,\n",
       "       71.20682583, 74.54577234, 74.12229566, 55.34365059, 70.11243855,\n",
       "       71.05503407, 75.18694286, 79.38046605, 74.77462347, 73.28718729,\n",
       "       79.32083901, 79.31442402, 65.62742528, 60.22745028, 69.49036033,\n",
       "       59.31009479, 61.57635617, 79.53558448, 75.96903119, 72.57045927,\n",
       "       61.36350557, 77.76467113, 62.50090255, 57.12656982, 76.44303465,\n",
       "       58.25306636, 79.12504061, 72.0168843 , 78.14996258, 74.07248579,\n",
       "       69.08855372, 61.84884207, 75.45605652, 72.67905791, 78.67398213,\n",
       "       57.26635251, 69.20733813, 61.48981074, 75.36555098, 72.30241855,\n",
       "       75.5858844 , 72.03355759, 72.41421493, 61.48011439, 82.238843  ,\n",
       "       55.4223744 , 65.21583116, 73.14049655, 80.23209817, 83.80434029,\n",
       "       79.85125464, 64.41560178, 83.41091962, 70.8157095 , 67.46978531,\n",
       "       74.00343028, 62.50934428, 80.19078178, 68.33628019, 75.69760557,\n",
       "       57.81751558, 74.41604251, 56.52032938, 63.67747241, 78.10161991,\n",
       "       64.52916507, 82.1050951 , 71.00222904, 57.63553973, 64.36553678,\n",
       "       69.51737624, 66.60986069, 73.88021044, 65.03560792, 52.34503685,\n",
       "       56.51551672, 64.87781627, 61.66169114, 55.79860054, 55.57487641,\n",
       "       69.64617835, 64.09352481, 79.52733541, 65.37977621, 56.70430236,\n",
       "       76.17407567, 75.52422488, 75.24915135, 51.87811334, 58.40075334,\n",
       "       63.06117611, 68.29481901, 77.91785912, 77.43168793, 78.39311152,\n",
       "       69.91289969, 71.54187209, 72.46290397, 55.06377787, 61.04776196,\n",
       "       73.22869845, 69.07579259, 72.55020993, 79.31929473, 62.66399039,\n",
       "       72.04823687, 76.38242318, 75.48698775, 62.31579398, 76.58952138,\n",
       "       54.67825637, 73.37061216, 56.86074502, 68.1329296 , 66.12485577,\n",
       "       68.19863304, 81.67923179, 66.82413007, 62.37011368, 72.14076595,\n",
       "       77.16940899, 63.33804241, 67.63265848, 69.974679  , 75.39262101,\n",
       "       78.47886185, 65.93844129, 71.70500311, 83.81501031, 56.30788949,\n",
       "       58.961095  , 50.79142352, 70.77016252, 62.88134323, 67.38421659,\n",
       "       67.78895825, 60.11503249, 74.97782054, 80.87290309, 60.50135173,\n",
       "       61.21348833, 65.57164029, 71.07232153, 60.64684964, 65.41844145,\n",
       "       80.58901401, 73.62209696, 68.86453978, 61.14083822, 64.3106955 ,\n",
       "       66.24840894, 69.4429412 , 57.91206119, 82.34984715, 76.98963116,\n",
       "       67.46085129, 65.62920822, 80.5876983 , 70.84719275, 77.19864302,\n",
       "       69.02473749, 63.43265267, 75.42369499, 56.24758471, 63.31645651,\n",
       "       81.57569897, 64.48112143, 59.51656205, 67.69094001, 74.85404039,\n",
       "       64.45241108, 63.48866917, 78.61503547, 59.73155644, 69.51672601,\n",
       "       83.62201443, 64.11739923, 65.36957656, 57.95685916, 69.73239379,\n",
       "       67.5816489 , 69.14155094, 80.90419274, 61.77812488, 72.51059943,\n",
       "       68.9504468 , 70.30218289, 66.03616189, 65.40485522, 61.02688687,\n",
       "       72.46525056, 72.25670385, 76.79624743, 71.07978569, 59.04707513,\n",
       "       61.26242966, 67.77806284, 62.92855576, 76.75315867, 55.14338724,\n",
       "       78.92533032, 70.91001155, 72.99503716, 64.9448737 , 64.48290389,\n",
       "       64.47687598, 65.84526873, 73.21191384, 62.47835359, 57.05314094,\n",
       "       72.76026727, 67.29423686, 63.41849557, 65.52918201, 71.92850919,\n",
       "       72.82547341, 56.74900445, 59.52620357, 73.39145922, 66.09472126,\n",
       "       78.44911836, 57.17304321, 64.11380995, 65.12180207, 64.18652848,\n",
       "       66.57740597, 60.71814018, 76.10316954, 77.03825679, 76.46992902,\n",
       "       67.59076852, 74.50877152, 60.80283072, 66.46044067, 68.67257614,\n",
       "       81.71165048, 73.29150091, 74.16805975, 78.34550273, 69.30826107,\n",
       "       73.02192013, 69.99704446, 75.09983181, 77.5974595 , 57.07678898,\n",
       "       64.98206081, 53.97923411, 68.78545721, 55.54025046, 79.54339705,\n",
       "       64.98295455, 59.41254812, 79.49078183, 81.31463375, 66.57775164,\n",
       "       69.87381779, 71.87602689, 78.97161987, 84.59110485, 72.08516287,\n",
       "       66.27399931, 69.02002515, 62.55464193, 59.5166989 , 63.08933692,\n",
       "       70.74544097, 73.56999394, 62.81746711, 81.80246018, 75.9848667 ,\n",
       "       70.9517315 , 75.00345636, 65.19333001, 65.78692817, 76.35933507,\n",
       "       73.42593702, 64.44453641, 83.28022274, 59.65329171, 55.59421772,\n",
       "       64.60152093, 70.55716646, 63.69613084, 77.89337188, 76.34835556,\n",
       "       60.18382693, 68.24675732, 61.10101867, 59.05441789, 67.93293121,\n",
       "       72.14269605, 70.88970639, 80.76243927, 81.88042276, 61.89961507,\n",
       "       67.78506183, 59.48092933, 58.35302569, 75.50088773, 60.98508719,\n",
       "       68.81793042, 57.03048649, 73.80337666, 79.4194981 , 64.06623586,\n",
       "       65.6172546 , 66.37187067, 66.58651564, 74.00967994, 62.67633102,\n",
       "       57.92983348, 75.74762657, 64.0489053 , 76.85396856, 78.62804125,\n",
       "       65.03746267, 70.02192536, 56.00793632, 58.10635118, 66.45697673,\n",
       "       61.17430539, 58.92971998, 56.53773562, 69.24570275, 63.62231112,\n",
       "       61.60157347, 80.05431142, 62.37559616, 71.02062854, 76.7477491 ,\n",
       "       66.94178132, 71.96021154, 77.9385068 , 70.11856622, 70.72024063,\n",
       "       78.90304447, 72.11586574, 58.27486648, 67.93607442, 74.15073717,\n",
       "       52.67299095, 77.21347104, 62.13591162, 62.58987301, 67.00660975,\n",
       "       63.86975501, 71.87139043, 75.29728924, 63.11808751, 66.18807408,\n",
       "       65.42397356, 62.66187727, 62.00119346, 73.60362415, 70.07730044,\n",
       "       71.1369334 , 81.97931666, 63.54537914, 67.75225741, 67.37963087,\n",
       "       67.2428849 , 63.62204671, 73.01929774, 78.08243024, 65.83535774,\n",
       "       53.55047146, 62.07537173, 79.10304852, 77.78479337, 77.23241173,\n",
       "       52.98125651, 71.47464   , 52.2066143 , 78.91325291, 83.54445646,\n",
       "       60.96303622, 66.99468649, 67.41256554, 61.58753588, 67.94003839,\n",
       "       68.58337998, 62.23157346, 74.53408278, 77.23703246, 75.07670154,\n",
       "       70.99836237, 67.95177601, 79.11679693, 70.34507034, 57.43881157,\n",
       "       73.88833224, 72.7683416 , 59.41689185, 73.75997144, 71.38948169,\n",
       "       65.14068033, 57.38974407, 78.4104023 , 70.75394163, 72.27058458,\n",
       "       82.97854833, 64.38233968, 80.90699063, 76.72687865, 55.19521601,\n",
       "       75.7225384 , 76.23699449, 63.42863204, 78.33969913, 84.55717142,\n",
       "       60.48583305, 70.80019031, 70.63943978, 61.46157435, 74.07322456,\n",
       "       81.38345566, 69.74812792, 72.87634696, 84.33867666, 70.84436197,\n",
       "       74.86776858, 74.99531073, 71.43439437, 77.12804749, 64.47000294,\n",
       "       68.4761398 , 79.2537569 , 62.18178969, 74.04337862, 74.44969434,\n",
       "       66.39131736, 61.37127801, 59.17556049, 66.43846838, 78.26522808,\n",
       "       72.91507344, 63.72091738, 62.21404006, 69.04297273, 68.58691201,\n",
       "       56.34986396, 67.15149368, 61.25912464, 79.34557557, 81.33892324,\n",
       "       73.43831565, 62.13907644, 70.60350304, 73.41487963, 73.57742018,\n",
       "       66.13077441, 72.42919272, 57.67147506, 75.34545335, 77.66025603,\n",
       "       69.61847379, 76.30868275, 56.47380615, 62.32593311, 78.64075863,\n",
       "       82.63905808, 70.34070615, 83.87862792, 61.67777301, 71.95851039,\n",
       "       74.74479923, 64.96996379, 51.77203017, 59.52090017, 81.05219706,\n",
       "       67.1258809 , 83.25894677, 56.97251423, 73.99827199, 66.68504166,\n",
       "       73.77292354, 77.61774966, 72.83240099, 58.96902873, 69.78225166,\n",
       "       83.95221007, 68.92297897, 72.34910318, 78.86071621, 78.21197328,\n",
       "       68.95563618, 65.26181184, 77.63274974, 72.59076243, 67.24811724,\n",
       "       62.24319513, 67.54548031, 74.22917326, 65.63565259, 81.31741266,\n",
       "       67.90251005, 59.25023158, 76.55208601, 58.96086094, 74.78271287,\n",
       "       61.09577871, 72.20233289, 63.0118088 , 68.28697139, 67.84397965,\n",
       "       64.43939054, 67.40437705, 70.51762903, 64.99934266, 73.9359622 ,\n",
       "       70.8686746 , 82.86266524, 61.15011011, 73.2241357 , 81.67784137,\n",
       "       80.12000856, 79.33020146, 70.0487341 , 60.39200662, 77.83673377,\n",
       "       66.15574071, 77.08382551, 74.30156752, 71.53280405, 68.56585859,\n",
       "       62.55981235, 72.78529514, 76.91273945, 64.32183013, 65.98264438,\n",
       "       71.48782135, 59.32143865, 72.67967547, 79.7954739 , 72.67568791,\n",
       "       66.93407043, 56.9256108 , 54.47530905, 73.99526425, 65.11562385,\n",
       "       81.88112432, 70.65997336, 75.30770922, 70.20448187, 70.20168635,\n",
       "       55.78383195, 77.99833604, 75.86187874, 67.849068  , 59.81391442,\n",
       "       80.77771232, 73.8816222 , 68.73011559, 72.26756179, 79.72322564,\n",
       "       73.11586233, 68.70889752, 71.56318967, 74.86219739, 73.37531548,\n",
       "       59.38423989, 61.76677313, 73.50283653, 60.54771048, 73.17512418,\n",
       "       77.91364144, 66.71696435, 82.64204379, 67.05994976, 73.40739251,\n",
       "       57.35087348, 69.94984475, 65.38353055, 68.56315285, 53.75059935,\n",
       "       57.72971285, 60.52392134, 76.58997268, 68.25405528, 65.29231537,\n",
       "       71.68199038, 71.28572627, 75.18504185, 69.57735333, 70.77525732,\n",
       "       60.39002345, 79.24506931, 70.64712917, 74.63130471, 77.61759918,\n",
       "       71.18971823, 66.60510667, 62.7021242 , 59.21204336, 60.86987662,\n",
       "       77.16200747, 63.31471336, 78.61956777, 71.48012926, 59.64792099,\n",
       "       55.98300552, 71.86894624, 73.15852426, 65.02408393, 55.73083093,\n",
       "       53.1301843 , 70.78665435, 73.07332406, 75.31634535, 80.24462917,\n",
       "       70.8417522 , 82.59455618, 71.90005843, 77.31560507, 83.18878783,\n",
       "       74.72572892, 56.32623196, 64.64002714, 66.49637339, 81.57538418,\n",
       "       72.73753238, 77.8305205 , 79.3151116 , 78.19115522, 79.66170653,\n",
       "       68.47717395, 83.81593005, 81.79081769, 73.2562587 , 78.40535005,\n",
       "       56.03116568, 65.48766831, 80.66745176, 83.48516782, 65.6142792 ,\n",
       "       82.90798861, 73.60874846, 60.10445541, 54.6418845 , 75.26354167,\n",
       "       52.73455528, 64.64161066, 57.71057184, 60.57175509, 55.52945375,\n",
       "       82.07398752, 61.79464838, 72.84036201, 74.87285085, 64.3370427 ,\n",
       "       64.01991216, 76.49191959, 74.15658319, 54.90319949, 62.94822098,\n",
       "       76.63375967, 71.67885136, 78.0056443 , 74.65657819, 59.89691751,\n",
       "       72.53205908, 56.6009774 , 71.76293915, 73.74976153, 72.48090986,\n",
       "       73.52496083])"
      ]
     },
     "execution_count": 33,
     "metadata": {},
     "output_type": "execute_result"
    }
   ],
   "source": [
    "prediction"
   ]
  },
  {
   "cell_type": "code",
   "execution_count": 34,
   "id": "2647ca56",
   "metadata": {},
   "outputs": [],
   "source": [
    "final_res = np.vstack((indices_test, prediction)).T\n",
    "df_res = pd.DataFrame(final_res)\n",
    "df_res.to_csv(\"our_result_rbf_quad_lgb2.csv\", header = [\"id\", \"y\"], index=False)"
   ]
  },
  {
   "cell_type": "code",
   "execution_count": 35,
   "id": "0f09c7a5",
   "metadata": {},
   "outputs": [],
   "source": [
    "# weight_trial = [0.68+0.01*i for i in range(0,15)]\n",
    "# y_pred_trial = np.zeros((X_test_gp.shape[0],len(weight_trial)))\n",
    "# score_trial = np.zeros(len(weight_trial))\n",
    "\n",
    "# for i in range(0,len(weight_trial)):\n",
    "#     score_trial[i],y_pred_trial[:,i] = train_k_fold_2GP_LGB(X_lgb,X_test_lgb,X_gp_quad,X_test_gp_quad,X_gp_rbf,X_test_gp_rbf, y_processed , weight1 = 0.578, weight2 = weight_trial[i], fold_num=10)"
   ]
  },
  {
   "cell_type": "code",
   "execution_count": 36,
   "id": "a0f3510a",
   "metadata": {},
   "outputs": [],
   "source": [
    "# feature_trial = [43 ]\n",
    "# y_pred_trial = np.zeros((X_test_gp.shape[0],len(feature_trial)))\n",
    "# score_trial = np.zeros(len(weight_trial))\n",
    "\n",
    "# for i in range(0,len(weight_trial)):\n",
    "#     X_gp_quad,X_test_gp_quad = GP_feature_selection(X_processed,X_test_processed,y_processed, tree_num = feature_trial[i])\n",
    "#     score_trial[i],y_pred_trial[:,i] = train_k_fold_2GP_LGB(X_lgb,X_test_lgb,X_gp_quad,X_test_gp_quad,X_gp_rbf,X_test_gp_rbf, y_processed , weight1 = 0.578, weight2 = 0.69, fold_num=10)\n"
   ]
  },
  {
   "cell_type": "code",
   "execution_count": 37,
   "id": "348765d3",
   "metadata": {
    "scrolled": true
   },
   "outputs": [],
   "source": [
    "# weight_trial = [0.57+0.002*i for i in range(0,6)]\n",
    "# y_pred_trial = np.zeros((X_test_gp.shape[0],len(weight_trial)))\n",
    "# score_trial = np.zeros(len(weight_trial))\n",
    "\n",
    "# for i in range(0,len(weight_trial)):\n",
    "#     score_trial[i],y_pred_trial[:,i] = train_k_fold_combine(X_lgb,X_test_lgb,X_gp,X_test_gp, y_processed , weight_trial[i], fold_num=10)"
   ]
  },
  {
   "cell_type": "markdown",
   "id": "263d599f",
   "metadata": {},
   "source": [
    "Experiment shows that the ratio of GP(with RBF kernals) to lgb is 0.578, the ratio of combination of above 2 to GP(quadratic) is 0.68. Experiment shows that good feature num for GP with quadratic is 43-45"
   ]
  }
 ],
 "metadata": {
  "kernelspec": {
   "display_name": "Python 3",
   "language": "python",
   "name": "python3"
  },
  "language_info": {
   "codemirror_mode": {
    "name": "ipython",
    "version": 3
   },
   "file_extension": ".py",
   "mimetype": "text/x-python",
   "name": "python",
   "nbconvert_exporter": "python",
   "pygments_lexer": "ipython3",
   "version": "3.7.0"
  }
 },
 "nbformat": 4,
 "nbformat_minor": 5
}
