{
 "cells": [
  {
   "cell_type": "code",
   "execution_count": null,
   "metadata": {},
   "outputs": [],
   "source": [
    "import numpy as np\n",
    "import pandas as pd\n",
    "\n",
    "import lightgbm as lgb\n",
    "from sklearn.experimental import enable_iterative_imputer\n",
    "from sklearn.impute import (SimpleImputer,KNNImputer, IterativeImputer)\n",
    "from sklearn.ensemble import (RandomForestRegressor, IsolationForest)\n",
    "from sklearn.neighbors import LocalOutlierFactor\n",
    "from sklearn.preprocessing import StandardScaler\n",
    "\n",
    "from sklearn.model_selection import KFold\n",
    "from sklearn.model_selection import train_test_split\n",
    "\n",
    "from sklearn.linear_model import Lasso\n",
    "from sklearn.preprocessing import PolynomialFeatures, normalize\n",
    "from sklearn.neural_network import MLPRegressor\n",
    "from sklearn.ensemble import ExtraTreesRegressor\n",
    "\n",
    "from sklearn.metrics import r2_score\n",
    "\n",
    "import matplotlib.pyplot as plt\n",
    "from tqdm import tqdm\n",
    "%matplotlib inline"
   ]
  },
  {
   "cell_type": "code",
   "execution_count": null,
   "metadata": {},
   "outputs": [],
   "source": [
    "def normalize_data(X):\n",
    "    # normalization\n",
    "    X_std = np.nanstd(X,axis=0,keepdims=True)\n",
    "    X_ave = np.nanmean(X,axis=0,keepdims=True)\n",
    "    X_norma = (X-X_ave)/X_std\n",
    "    return X_norma\n",
    "\n",
    "def fill_missing_values(X, n_neighbors = 75, method=\"KNN\"): \n",
    "    imputer = KNNImputer(missing_values=np.nan, n_neighbors=n_neighbors, weights = 'distance') if method==\"KNN\"\\\n",
    "        else IterativeImputer(random_state=0)\n",
    "    X_fixed = imputer.fit_transform(X)\n",
    "    return X_fixed\n",
    "\n",
    "def remove_outliers(X, y):\n",
    "    print(\"IsolationForest-Traing data shape before removed: {}\".format(X.shape))\n",
    "    Z = np.c_[X, y]\n",
    "    iforest = IsolationForest(max_samples=200, random_state=1, contamination=0.005)\n",
    "    iforest.fit(Z)\n",
    "    iforest_outlier_pred = iforest.predict(Z)\n",
    "    \n",
    "    Z = np.c_[X, y]\n",
    "    local = LocalOutlierFactor(n_neighbors=150, contamination=0.005)\n",
    "    local.fit(Z)\n",
    "    local_outlier_pred = local.fit_predict(Z)\n",
    "\n",
    "    mask = np.logical_and((iforest_outlier_pred!=-1), (local_outlier_pred!=-1))\n",
    "    return mask\n",
    "\n",
    "def find_missing_value_and_move_outliers(X, y, X_test):\n",
    "    print(\"Traing data shape before impute and outlier remove: {}\".format(X.shape))\n",
    "    print(\"Testing data shape before impute and outlier remove: {}\".format(X_test.shape))\n",
    "    X_nan = np.isnan(X)  \n",
    "    X_median = fill_missing_values(X, method=\"median\")\n",
    "    \n",
    "    IstInLiers = remove_outliers(X_median, y)\n",
    "    X_median = X_median[IstInLiers, :]\n",
    "    X_nan = X_nan[IstInLiers, :]\n",
    "    y = y[IstInLiers]\n",
    "    X_median[X_nan] = np.nan\n",
    "    \n",
    "    X_median = normalize_data(X_median)\n",
    "    X_test = normalize_data(X_test)\n",
    "    \n",
    "#     X_all = np.r_[X_median, X_test]\n",
    "    X_KNN = fill_missing_values(X_median, method=\"KNN\")\n",
    "    X_test_KNN = fill_missing_values(X_test, method=\"KNN\")\n",
    "    \n",
    "#     X_all_KNN = fill_missing_values(X_all, method=\"KNN\")\n",
    "#     X_KNN = X_all_KNN[:X_median.shape[0]]\n",
    "#     X_test_KNN = X_all_KNN[X_median.shape[0]:]\n",
    "    print(\"Traing data shape after impute and outlier remove: {}\".format(X_KNN.shape))\n",
    "    print(\"Testing data shape after impute and outlier remove: {}\".format(X_test_KNN.shape))\n",
    "    \n",
    "    return X_KNN, X_test_KNN, y\n",
    "\n",
    "def select_features(X, y, X_test, feature_num=50):\n",
    "    rf = RandomForestRegressor(n_jobs=-1, n_estimators=80, random_state=1)\n",
    "    rf.fit(X, y)\n",
    "    indices = np.asarray(list(rf.feature_importances_)).argsort()[-feature_num:][::-1]\n",
    "    \n",
    "    X = np.take(X, indices, axis = 1)\n",
    "    X_test = np.take(X_test, indices, axis = 1)\n",
    "    return X, X_test"
   ]
  },
  {
   "cell_type": "code",
   "execution_count": null,
   "metadata": {},
   "outputs": [],
   "source": [
    "X_train_data = pd.read_csv('X_train.csv')\n",
    "y_train_data = pd.read_csv('y_train.csv')\n",
    "X_test_data = pd.read_csv('X_test.csv')\n",
    "\n",
    "indices_test = np.array(X_test_data)[:,0]\n",
    "X_test = np.array(X_test_data)[:,1:]\n",
    "y_train = np.array(y_train_data)[:,1]\n",
    "X_train = np.array(X_train_data)[:,1:]"
   ]
  },
  {
   "cell_type": "markdown",
   "metadata": {},
   "source": [
    "## 1. Normalization\n",
    "* There are four fucking columns containing constant values."
   ]
  },
  {
   "cell_type": "code",
   "execution_count": null,
   "metadata": {},
   "outputs": [],
   "source": [
    "# X_train = normalize_data(X_train)\n",
    "# X_test = normalize_data(X_test)"
   ]
  },
  {
   "cell_type": "markdown",
   "metadata": {},
   "source": [
    "## 2. Imputation of Missing Values & Outlier detection\n",
    "* Imputation [Reference](https://scikit-learn.org/stable/modules/impute.html)\n",
    "* Outlier [reference_sklearn](https://scikit-learn.org/stable/modules/outlier_detection.html)\n",
    "* Outlier [reference_in_detail](https://practicaldatascience.co.uk/machine-learning/how-to-use-the-isolation-forest-model-for-outlier-detection)\n",
    "* We use median first and KNN again after outlier detection"
   ]
  },
  {
   "cell_type": "code",
   "execution_count": null,
   "metadata": {},
   "outputs": [],
   "source": [
    "X_train, X_test, y_train = find_missing_value_and_move_outliers(X_train, y_train, X_test)"
   ]
  },
  {
   "cell_type": "markdown",
   "metadata": {},
   "source": [
    "## 3. Feature Selection"
   ]
  },
  {
   "cell_type": "code",
   "execution_count": null,
   "metadata": {},
   "outputs": [],
   "source": [
    "# X, X_test = feature_reduction(X, X_test,750)\n",
    "X_train, X_test = select_features(X_train, y_train, X_test,feature_num = 50)\n",
    "print(\"Traing data shape after selection: {}\".format(X_train.shape))\n",
    "print(\"Testing data shape after selection: {}\".format(X_test.shape))"
   ]
  },
  {
   "cell_type": "markdown",
   "metadata": {},
   "source": [
    "## 4. Extra Tree"
   ]
  },
  {
   "cell_type": "code",
   "execution_count": null,
   "metadata": {},
   "outputs": [],
   "source": [
    "def fit_model_and_pred(X_train, y_train, X_val, y_val, X_test, random_state=0):\n",
    "    model = ExtraTreesRegressor(n_jobs=1, max_depth=None, n_estimators=190, random_state=random_state, min_samples_split=3, max_features=None)\n",
    "    model.fit(X_train, y_train)\n",
    "    \n",
    "    y_val_pred = model.predict(X_val)\n",
    "    score = r2_score(y_val, y_val_pred)\n",
    "    \n",
    "    y_pred = model.predict(X_test) \n",
    "    \n",
    "    return score, y_pred\n",
    "\n",
    "def train_k_fold(X, y, fold_num=10):\n",
    "    kf = KFold(n_splits=fold_num, shuffle=False)\n",
    "    kf.get_n_splits(X)\n",
    "    test_score = 0.0\n",
    "    \n",
    "    for train_index, test_index in kf.split(X):\n",
    "        X_train, X_val = X[train_index], X[test_index]\n",
    "        y_train, y_val = y[train_index], y[test_index]\n",
    "\n",
    "        score, y_pred = fit_model_and_pred(X_train, y_train, X_val, y_val, X_val, random_state=0)\n",
    "\n",
    "        print('The obtained validation r2 score is : ',score)\n",
    "        test_score += score\n",
    "    print(\"Validation score: %f\"%(test_score/fold_num))\n",
    "    \n",
    "def train_k_fold_predict(X, y, X_test, fold_num=10, random_state=0):\n",
    "    kf = KFold(n_splits=fold_num)\n",
    "    kf.get_n_splits(X)\n",
    "    y_test_predict = np.zeros(X_test.shape[0])\n",
    "    cnt = 0\n",
    "    val_score = 0.0\n",
    "        \n",
    "    for train_index, test_index in kf.split(X):\n",
    "        X_train, X_val = X[train_index], X[test_index]\n",
    "        y_train, y_val = y[train_index], y[test_index]\n",
    "\n",
    "        score, y_pred = fit_model_and_pred(X_train, y_train, X_val, y_val, X_test, random_state=random_state)\n",
    "        val_score += score\n",
    "        if(score > 0.68):\n",
    "            y_test_predict += y_pred\n",
    "            cnt += 1\n",
    "    return val_score/fold_num, y_test_predict/cnt\n",
    "\n",
    "def train_random_iterations(X, y, X_test, iterations=100):\n",
    "    y_test_predict = np.zeros(X_test.shape[0])\n",
    "    y_pred_best = np.zeros(X_test.shape[0])\n",
    "    cnt = 0\n",
    "    best_score = -10000\n",
    "    \n",
    "    for i in tqdm(range(iterations)):\n",
    "        score, y_pred = train_k_fold_predict(X, y, X_test, random_state=i)\n",
    "        if(score > 0.635):\n",
    "            print(score)\n",
    "            y_pred_best += y_pred\n",
    "            cnt += 1\n",
    "            \n",
    "    return y_pred_best / cnt\n",
    "    "
   ]
  },
  {
   "cell_type": "code",
   "execution_count": null,
   "metadata": {},
   "outputs": [],
   "source": [
    "train_k_fold(X_train,y_train) #Knn with std and feature num = 100"
   ]
  },
  {
   "cell_type": "code",
   "execution_count": null,
   "metadata": {},
   "outputs": [],
   "source": [
    "_, y_test_pred = train_k_fold_predict(X_train, y_train, X_test)\n",
    "final_res = np.vstack((indices_test, y_test_pred)).T"
   ]
  },
  {
   "cell_type": "code",
   "execution_count": null,
   "metadata": {},
   "outputs": [],
   "source": [
    "pd.DataFrame(final_res).to_csv(\"our_result.csv\", header = [\"id\", \"y\"], index=False)"
   ]
  }
 ],
 "metadata": {
  "kernelspec": {
   "display_name": "Python 3 (ipykernel)",
   "language": "python",
   "name": "python3"
  },
  "language_info": {
   "codemirror_mode": {
    "name": "ipython",
    "version": 3
   },
   "file_extension": ".py",
   "mimetype": "text/x-python",
   "name": "python",
   "nbconvert_exporter": "python",
   "pygments_lexer": "ipython3",
   "version": "3.8.12"
  }
 },
 "nbformat": 4,
 "nbformat_minor": 2
}
