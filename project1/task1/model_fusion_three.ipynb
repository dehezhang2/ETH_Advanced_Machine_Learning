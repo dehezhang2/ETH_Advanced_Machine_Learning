{
 "cells": [
  {
   "cell_type": "code",
   "execution_count": 1,
   "id": "0de58a7b",
   "metadata": {},
   "outputs": [],
   "source": [
    "import numpy as np\n",
    "import pandas as pd\n",
    "\n",
    "from sklearn.impute import (SimpleImputer,KNNImputer)\n",
    "from sklearn.ensemble import (RandomForestRegressor, IsolationForest)\n",
    "from sklearn.neighbors import LocalOutlierFactor\n",
    "from sklearn.model_selection import KFold\n",
    "from sklearn.model_selection import train_test_split\n",
    "\n",
    "import lightgbm as lgb\n",
    "from sklearn.ensemble import ExtraTreesRegressor\n",
    "\n",
    "from sklearn.metrics import r2_score\n",
    "\n",
    "import matplotlib.pyplot as plt\n",
    "\n",
    "%matplotlib inline"
   ]
  },
  {
   "cell_type": "code",
   "execution_count": 2,
   "id": "c013dcb5",
   "metadata": {},
   "outputs": [],
   "source": [
    "def fill_missing_values(X, n_neighbors = 75, method=\"KNN\"): \n",
    "    \n",
    "    # normalization\n",
    "    X_std = np.nanstd(X,axis=0,keepdims=True)\n",
    "    X_ave = np.nanmean(X,axis=0,keepdims=True)\n",
    "    X_norma = (X-X_ave)/X_std\n",
    "    \n",
    "    # use KNNImputer\n",
    "    imputer = KNNImputer(missing_values=np.nan, n_neighbors=n_neighbors, weights = 'distance') if method==\"KNN\"\\\n",
    "        else SimpleImputer(missing_values=np.nan, strategy='median')\n",
    "    \n",
    "    X_norma_fixed = imputer.fit_transform(X_norma)\n",
    "    \n",
    "    return X_norma_fixed\n",
    "\n",
    "def remove_outliers(X, y):\n",
    "    print(\"IsolationForest-Traing data shape before removed: {}\".format(X.shape))\n",
    "    Z = np.c_[X, y]\n",
    "    iforest = IsolationForest(max_samples=200, random_state=1, contamination=0.005)\n",
    "    iforest.fit(Z)\n",
    "    iforest_outlier_pred = iforest.predict(Z)\n",
    "    \n",
    "    Z = np.c_[X, y]\n",
    "    local = LocalOutlierFactor(n_neighbors=150, contamination=0.005)\n",
    "    local.fit(Z)\n",
    "    local_outlier_pred = local.fit_predict(Z)\n",
    "\n",
    "    mask = np.logical_and((iforest_outlier_pred!=-1), (local_outlier_pred!=-1))\n",
    "    X , y = X[mask, :], y[mask]\n",
    "    print(\"IsolationForest-Traing data shape after removed: {}\".format(X.shape))\n",
    "    return X, y\n",
    "\n",
    "def select_features(X, y, X_test, feature_num=50):\n",
    "    rf = RandomForestRegressor(n_jobs=-1, n_estimators=80, random_state=1)\n",
    "    rf.fit(X, y)\n",
    "    indices = np.asarray(list(rf.feature_importances_)).argsort()[-feature_num:][::-1]\n",
    "    \n",
    "    X = np.take(X, indices, axis = 1)\n",
    "    X_test = np.take(X_test, indices, axis = 1)\n",
    "    return X, X_test"
   ]
  },
  {
   "cell_type": "code",
   "execution_count": 3,
   "id": "b6577f75",
   "metadata": {},
   "outputs": [],
   "source": [
    "\n",
    "X_train_data = pd.read_csv('X_train.csv')\n",
    "y_train_data = pd.read_csv('y_train.csv')\n",
    "X_test_data = pd.read_csv('X_test.csv')\n",
    "\n",
    "indices_test = np.array(X_test_data)[:,0]\n",
    "X_test = np.array(X_test_data)[:,1:]\n",
    "y_train = np.array(y_train_data)[:,1]\n",
    "X_train = np.array(X_train_data)[:,1:]"
   ]
  },
  {
   "cell_type": "markdown",
   "id": "0e26dda0",
   "metadata": {},
   "source": [
    "## 1. Imputation of Missing Values\n",
    "* [Reference](https://scikit-learn.org/stable/modules/impute.html)\n",
    "* We use median of column instead of mean"
   ]
  },
  {
   "cell_type": "code",
   "execution_count": 4,
   "id": "1a350cde",
   "metadata": {},
   "outputs": [
    {
     "name": "stderr",
     "output_type": "stream",
     "text": [
      "/var/folders/df/qjssdfqd3f52ltwv16hkg4kh0000gn/T/ipykernel_70368/2723553188.py:6: RuntimeWarning: invalid value encountered in true_divide\n",
      "  X_norma = (X-X_ave)/X_std\n",
      "/var/folders/df/qjssdfqd3f52ltwv16hkg4kh0000gn/T/ipykernel_70368/2723553188.py:6: RuntimeWarning: invalid value encountered in true_divide\n",
      "  X_norma = (X-X_ave)/X_std\n"
     ]
    },
    {
     "name": "stdout",
     "output_type": "stream",
     "text": [
      "(1212, 828)\n",
      "(776, 828)\n"
     ]
    }
   ],
   "source": [
    "X_train_missing_indices = X_train[X_train==np]\n",
    "X_train = fill_missing_values(X_train, n_neighbors=75)\n",
    "X_test_processed = fill_missing_values(X_test)\n",
    "print(X_train.shape)\n",
    "print(X_test_processed.shape)"
   ]
  },
  {
   "cell_type": "markdown",
   "id": "225b0e20",
   "metadata": {},
   "source": [
    "## 2. Outlier Detection\n",
    "* [reference_sklearn](https://scikit-learn.org/stable/modules/outlier_detection.html)\n",
    "* [reference_in_detail](https://practicaldatascience.co.uk/machine-learning/how-to-use-the-isolation-forest-model-for-outlier-detection)"
   ]
  },
  {
   "cell_type": "code",
   "execution_count": 5,
   "id": "fceac061",
   "metadata": {},
   "outputs": [
    {
     "name": "stdout",
     "output_type": "stream",
     "text": [
      "IsolationForest-Traing data shape before removed: (1212, 828)\n",
      "IsolationForest-Traing data shape after removed: (1200, 828)\n"
     ]
    }
   ],
   "source": [
    "X_processed,y_processed = remove_outliers(X_train,y_train)"
   ]
  },
  {
   "cell_type": "markdown",
   "id": "9974a376",
   "metadata": {},
   "source": [
    "## 3. Feature Selection"
   ]
  },
  {
   "cell_type": "code",
   "execution_count": 6,
   "id": "a27c59fb",
   "metadata": {},
   "outputs": [],
   "source": [
    "# pearsonr feature selection\n",
    "from scipy.stats import pearsonr\n",
    "from sklearn.decomposition import PCA\n",
    "\n",
    "def pearsonr_feature_selection(X, y, X_test,degree,weights):\n",
    "    feature_idx =  np.array([i for i in range(0,X.shape[1])])\n",
    "    correlations = {}\n",
    "#     print(\"feature_idx: \", feature_idx.T)\n",
    "    for idx in feature_idx:\n",
    "        correlation = 0\n",
    "        for degree_idx in range(0,len(weights)):\n",
    "            correlation += abs(weights[degree_idx]*pearsonr(X[:,idx],y**degree[degree_idx])[0])\n",
    "        correlations[idx] = correlation\n",
    "    data_correlations = pd.DataFrame(correlations, index=['correlation']).T\n",
    "    indices_desc = data_correlations['correlation'].abs().sort_values(ascending=False).index\n",
    "#     print(indices_desc)\n",
    "    return data_correlations,indices_desc\n",
    "\n",
    "def pearsonr_feature_selection_correlation(X, X_test,threshold):\n",
    "    feature_idx =  np.array([i for i in range(0,X.shape[1])])\n",
    "    correlation_select = np.array([True for i in range(0,X.shape[1])])\n",
    "    for f_idx in feature_idx:\n",
    "        if(correlation_select[f_idx]):\n",
    "            feature_co,indices_desc = pearsonr_feature_selection(X[:,(f_idx+1):], X[:,f_idx], X_test_processed,np.array([1]),np.array([1]))\n",
    "            reomove_features = feature_co.loc[indices_desc][abs(feature_co['correlation']) >= threshold]\n",
    "            remove_index = reomove_features.index+(f_idx+1)\n",
    "            correlation_select[remove_index] = False\n",
    "    \n",
    "    return X[:,correlation_select],X_test[:,correlation_select]"
   ]
  },
  {
   "cell_type": "code",
   "execution_count": 7,
   "id": "0a094674",
   "metadata": {},
   "outputs": [],
   "source": [
    "def LGB_feature_selection(X_processed,X_test_processed,y_processed):\n",
    "    data_relation,indices_desc = pearsonr_feature_selection(X_processed, y_processed, X_test_processed,np.array([1,-3,3]),np.array([0.9,0.05,0.05]))\n",
    "    selected_features = data_relation.loc[indices_desc][abs(data_relation['correlation']) >= 0.025]\n",
    "    X_selection = X_processed[:,selected_features.index]\n",
    "    X_test_selection = X_test_processed[:,selected_features.index]\n",
    "    X_selection_tree, X_test_selection_tree = select_features(X_selection, y_processed, X_test_selection,feature_num = 105)\n",
    "    X_selection_tree_cor, X_test_selection_tree_cor = pearsonr_feature_selection_correlation(X_selection_tree, X_test_selection_tree,0.93)\n",
    "    return X_selection_tree_cor,X_test_selection_tree_cor"
   ]
  },
  {
   "cell_type": "code",
   "execution_count": 8,
   "id": "12f94cf9",
   "metadata": {},
   "outputs": [],
   "source": [
    "def GP_feature_selection(X_processed,X_test_processed,y_processed):\n",
    "    data_relation,indices_desc = pearsonr_feature_selection(X_processed, y_processed, X_test_processed,np.array([1,-3,3]),np.array([0.95,0.025,0.025]))\n",
    "    selected_features = data_relation.loc[indices_desc][abs(data_relation['correlation']) >= 0.001]\n",
    "    X_selection = X_processed[:,selected_features.index]\n",
    "    X_test_selection = X_test_processed[:,selected_features.index]\n",
    "    X_selection_tree, X_test_selection_tree = select_features(X_selection, y_processed, X_test_selection,feature_num = 54)\n",
    "    X_selection_tree_cor, X_test_selection_tree_cor = pearsonr_feature_selection_correlation(X_selection_tree, X_test_selection_tree,0.96)\n",
    "    return X_selection_tree_cor,X_test_selection_tree_cor"
   ]
  },
  {
   "cell_type": "code",
   "execution_count": 9,
   "id": "92fc5443",
   "metadata": {},
   "outputs": [
    {
     "name": "stderr",
     "output_type": "stream",
     "text": [
      "/var/folders/df/qjssdfqd3f52ltwv16hkg4kh0000gn/T/ipykernel_70368/1493064456.py:3: UserWarning: Boolean Series key will be reindexed to match DataFrame index.\n",
      "  selected_features = data_relation.loc[indices_desc][abs(data_relation['correlation']) >= 0.025]\n",
      "/var/folders/df/qjssdfqd3f52ltwv16hkg4kh0000gn/T/ipykernel_70368/4248551713.py:25: UserWarning: Boolean Series key will be reindexed to match DataFrame index.\n",
      "  reomove_features = feature_co.loc[indices_desc][abs(feature_co['correlation']) >= threshold]\n"
     ]
    }
   ],
   "source": [
    "X_lgb,X_test_lgb = LGB_feature_selection(X_processed,X_test_processed,y_processed)"
   ]
  },
  {
   "cell_type": "code",
   "execution_count": 10,
   "id": "814ed3ac",
   "metadata": {
    "scrolled": true
   },
   "outputs": [
    {
     "name": "stderr",
     "output_type": "stream",
     "text": [
      "/var/folders/df/qjssdfqd3f52ltwv16hkg4kh0000gn/T/ipykernel_70368/3447698863.py:3: UserWarning: Boolean Series key will be reindexed to match DataFrame index.\n",
      "  selected_features = data_relation.loc[indices_desc][abs(data_relation['correlation']) >= 0.001]\n",
      "/var/folders/df/qjssdfqd3f52ltwv16hkg4kh0000gn/T/ipykernel_70368/4248551713.py:25: UserWarning: Boolean Series key will be reindexed to match DataFrame index.\n",
      "  reomove_features = feature_co.loc[indices_desc][abs(feature_co['correlation']) >= threshold]\n"
     ]
    }
   ],
   "source": [
    "X_gp,X_test_gp = GP_feature_selection(X_processed,X_test_processed,y_processed)"
   ]
  },
  {
   "cell_type": "code",
   "execution_count": 11,
   "id": "9b49662a",
   "metadata": {},
   "outputs": [],
   "source": [
    "X_extra,X_test_extra = select_features(X_processed, y_processed, X_test_processed,feature_num = 50)"
   ]
  },
  {
   "cell_type": "markdown",
   "id": "be7088f5",
   "metadata": {},
   "source": [
    "## 4. Gaussian Process and lgb"
   ]
  },
  {
   "cell_type": "code",
   "execution_count": 12,
   "id": "6e8a19fa",
   "metadata": {},
   "outputs": [],
   "source": [
    "from sklearn.gaussian_process import GaussianProcessRegressor\n",
    "from sklearn.gaussian_process.kernels import RBF, ConstantKernel as C, DotProduct, WhiteKernel, RationalQuadratic\n",
    "\n",
    "def custom_r2(prediction, train_data):\n",
    "    \"\"\"Regular r2 cost function returned as a tuple to be used with lgb\"\"\"\n",
    "    labels = train_data.get_label()\n",
    "    return 'r2', r2_score(labels, prediction), True\n",
    "\n",
    "def fit_model_and_pred_extra(X_train, y_train, X_val, y_val, X_test):\n",
    "    model = ExtraTreesRegressor(n_jobs=1, max_depth=None, n_estimators=190, random_state=0, min_samples_split=3, max_features=None)\n",
    "\n",
    "    model.fit(X_train, y_train)\n",
    "    \n",
    "    y_val_pred = model.predict(X_val)\n",
    "    score = r2_score(y_val, y_val_pred)\n",
    "    \n",
    "    y_pred = model.predict(X_test) \n",
    "    \n",
    "    return y_val_pred, y_pred\n",
    "\n",
    "def fit_model_and_pred_gp(X_train, y_train, X_val, y_val, X_test):\n",
    "    kernel = RationalQuadratic(length_scale=0.5, alpha=1.0, length_scale_bounds=(1e-4, 10))\n",
    "    gpr = GaussianProcessRegressor(kernel=kernel, random_state=0, n_restarts_optimizer=1, alpha=0.07, normalize_y=True)\n",
    "    gpr.fit(X_train, y_train)\n",
    "    y_val_pred = gpr.predict(X_val)   \n",
    "    y_pred = gpr.predict(X_test) \n",
    "\n",
    "    return y_val_pred, y_pred\n",
    "\n",
    "def fit_model_and_pred_lgb(X_train, y_train, X_val, y_val, X_test):\n",
    "   \n",
    "    params = {\n",
    "        'task': 'train',\n",
    "        'boosting_type': 'gbdt',\n",
    "        'objective': 'regression',\n",
    "        'num_leaves': 1800,\n",
    "        'learning_rate': 0.025,\n",
    "        'max_depth': 11,\n",
    "        'n_estimators': 1000,\n",
    "        'min_child_weight': 1,\n",
    "        'subsample': 0.8,\n",
    "        'colsample_bytree': 0.8,\n",
    "        'feature_fraction': 0.5,\n",
    "        'bagging_fraction': 0.8,\n",
    "        'bagging_freq': 5,\n",
    "        'verbose': -1,\n",
    "        'num_iterations':1000,\n",
    "    }  \n",
    "    \n",
    "    \n",
    "    lgb_train = lgb.Dataset(X_train, y_train)\n",
    "    lgb_eval = lgb.Dataset(X_val, y_val, reference=lgb_train)\n",
    "\n",
    "    gbm = lgb.train(params,\n",
    "                    lgb_train,\n",
    "                    num_boost_round=500,\n",
    "                    feval=custom_r2,\n",
    "                    valid_sets={lgb_train, lgb_eval},\n",
    "                    early_stopping_rounds=100,\n",
    "                    verbose_eval=False\n",
    "                   )\n",
    "    \n",
    "    y_val_pred = gbm.predict(X_val)\n",
    "    score = r2_score(y_val, y_val_pred)\n",
    "    y_pred = gbm.predict(X_test) \n",
    "    return y_val_pred, y_pred\n",
    "\n",
    "def train_k_fold_combine(X_lgb,X_test_lgb,X_gp,X_test_gp, X_extra,X_test_extra, y ,w1=0.33, w2=0.33, w3=0.33, fold_num=10):\n",
    "    kf = KFold(n_splits=fold_num, shuffle=False)\n",
    "    kf.get_n_splits(X_lgb)\n",
    "    test_score = 0.0\n",
    "    train_score = 0.0\n",
    "    i = 0\n",
    "    for train_index, test_index in kf.split(X_lgb):\n",
    "        X_lgb_train, X_lgb_val = X_lgb[train_index], X_lgb[test_index]\n",
    "        X_gp_train, X_gp_val = X_gp[train_index], X_gp[test_index]\n",
    "        X_extra_train, X_extra_val = X_extra[train_index], X_extra[test_index]\n",
    "        y_train, y_val = y[train_index], y[test_index]\n",
    "\n",
    "        _, y_pred1 = fit_model_and_pred_gp(X_gp_train, y_train, X_gp_val, y_val, X_gp_val)\n",
    "        _, y_pred2 = fit_model_and_pred_lgb(X_lgb_train, y_train, X_lgb_val, y_val, X_lgb_val)\n",
    "        _, y_pred3 = fit_model_and_pred_extra(X_extra_train, y_train, X_extra_val, y_val, X_extra_val)\n",
    "        y_pred = w1*y_pred1 + w2*y_pred2 + w3 * y_pred3\n",
    "\n",
    "        \n",
    "        score = r2_score(y_val, y_pred)\n",
    "        print(i+1, 'th . the obtained validation r2 score is : ',score)\n",
    "        test_score += score\n",
    "        print(' ')\n",
    "        i += 1\n",
    "       \n",
    "    print(\"Validation score: %f\"%(test_score/fold_num))\n",
    "    \n",
    "def train_k_fold_combine_predict(X_lgb,X_test_lgb,X_gp,X_test_gp, X_extra,X_test_extra, y ,w1=0.33, w2=0.33, w3=0.33, fold_num=10):\n",
    "    kf = KFold(n_splits=fold_num, shuffle=False)\n",
    "    kf.get_n_splits(X_lgb)\n",
    "    test_score = 0.0\n",
    "    train_score = 0.0\n",
    "    cnt = 0\n",
    "    y_test_predict = np.zeros(X_test.shape[0])\n",
    "\n",
    "    for train_index, test_index in kf.split(X_lgb):\n",
    "        X_lgb_train, X_lgb_val = X_lgb[train_index], X_lgb[test_index]\n",
    "        X_gp_train, X_gp_val = X_gp[train_index], X_gp[test_index]\n",
    "        X_extra_train, X_extra_val = X_extra[train_index], X_extra[test_index]\n",
    "        y_train, y_val = y[train_index], y[test_index]\n",
    "\n",
    "        y_val_pred1, y_pred1 = fit_model_and_pred_gp(X_gp_train, y_train, X_gp_val, y_val, X_test_gp)\n",
    "        y_val_pred2, y_pred2 = fit_model_and_pred_lgb(X_lgb_train, y_train, X_lgb_val, y_val, X_test_lgb)\n",
    "        y_val_pred3, y_pred3 = fit_model_and_pred_extra(X_extra_train, y_train, X_extra_val, y_val, X_test_extra)\n",
    "        \n",
    "        y_pred = w1*y_pred1 + w2*y_pred2 + w3 * y_pred3\n",
    "        y_val_pred = w1*y_val_pred1 + w2*y_val_pred2 + w3 * y_val_pred3\n",
    "        score = r2_score(y_val, y_val_pred)\n",
    "\n",
    "        y_test_predict += y_pred\n",
    "       \n",
    "    return y_test_predict/fold_num\n"
   ]
  },
  {
   "cell_type": "code",
   "execution_count": 15,
   "id": "ab4748bd",
   "metadata": {},
   "outputs": [],
   "source": [
    "# 1/2: 57/43\n",
    "# 2/3 : 6/4\n",
    "# 1/3: 65/35\n",
    "p = 0\n",
    "p2 = 0.725\n",
    "# train_k_fold_combine(X_lgb,X_test_lgb,X_gp,X_test_gp, X_extra, X_test_extra, y_processed , w1 = p2 *(1-p), w2 = (1-p)*(1-p2), w3=p, fold_num=10)"
   ]
  },
  {
   "cell_type": "code",
   "execution_count": 16,
   "id": "6d3e4831",
   "metadata": {},
   "outputs": [
    {
     "name": "stderr",
     "output_type": "stream",
     "text": [
      "/Users/zdh/anaconda3/envs/aml_project/lib/python3.8/site-packages/lightgbm/engine.py:148: UserWarning: Found `num_iterations` in params. Will use it instead of argument\n",
      "  _log_warning(\"Found `{}` in params. Will use it instead of argument\".format(alias))\n",
      "/Users/zdh/anaconda3/envs/aml_project/lib/python3.8/site-packages/lightgbm/engine.py:148: UserWarning: Found `n_estimators` in params. Will use it instead of argument\n",
      "  _log_warning(\"Found `{}` in params. Will use it instead of argument\".format(alias))\n"
     ]
    },
    {
     "name": "stdout",
     "output_type": "stream",
     "text": [
      "[LightGBM] [Warning] feature_fraction is set=0.5, colsample_bytree=0.8 will be ignored. Current value: feature_fraction=0.5\n",
      "[LightGBM] [Warning] bagging_fraction is set=0.8, subsample=0.8 will be ignored. Current value: bagging_fraction=0.8\n"
     ]
    },
    {
     "name": "stderr",
     "output_type": "stream",
     "text": [
      "/Users/zdh/anaconda3/envs/aml_project/lib/python3.8/site-packages/lightgbm/engine.py:148: UserWarning: Found `num_iterations` in params. Will use it instead of argument\n",
      "  _log_warning(\"Found `{}` in params. Will use it instead of argument\".format(alias))\n",
      "/Users/zdh/anaconda3/envs/aml_project/lib/python3.8/site-packages/lightgbm/engine.py:148: UserWarning: Found `n_estimators` in params. Will use it instead of argument\n",
      "  _log_warning(\"Found `{}` in params. Will use it instead of argument\".format(alias))\n"
     ]
    },
    {
     "name": "stdout",
     "output_type": "stream",
     "text": [
      "[LightGBM] [Warning] feature_fraction is set=0.5, colsample_bytree=0.8 will be ignored. Current value: feature_fraction=0.5\n",
      "[LightGBM] [Warning] bagging_fraction is set=0.8, subsample=0.8 will be ignored. Current value: bagging_fraction=0.8\n"
     ]
    },
    {
     "name": "stderr",
     "output_type": "stream",
     "text": [
      "/Users/zdh/anaconda3/envs/aml_project/lib/python3.8/site-packages/lightgbm/engine.py:148: UserWarning: Found `num_iterations` in params. Will use it instead of argument\n",
      "  _log_warning(\"Found `{}` in params. Will use it instead of argument\".format(alias))\n",
      "/Users/zdh/anaconda3/envs/aml_project/lib/python3.8/site-packages/lightgbm/engine.py:148: UserWarning: Found `n_estimators` in params. Will use it instead of argument\n",
      "  _log_warning(\"Found `{}` in params. Will use it instead of argument\".format(alias))\n"
     ]
    },
    {
     "name": "stdout",
     "output_type": "stream",
     "text": [
      "[LightGBM] [Warning] feature_fraction is set=0.5, colsample_bytree=0.8 will be ignored. Current value: feature_fraction=0.5\n",
      "[LightGBM] [Warning] bagging_fraction is set=0.8, subsample=0.8 will be ignored. Current value: bagging_fraction=0.8\n"
     ]
    },
    {
     "name": "stderr",
     "output_type": "stream",
     "text": [
      "/Users/zdh/anaconda3/envs/aml_project/lib/python3.8/site-packages/lightgbm/engine.py:148: UserWarning: Found `num_iterations` in params. Will use it instead of argument\n",
      "  _log_warning(\"Found `{}` in params. Will use it instead of argument\".format(alias))\n",
      "/Users/zdh/anaconda3/envs/aml_project/lib/python3.8/site-packages/lightgbm/engine.py:148: UserWarning: Found `n_estimators` in params. Will use it instead of argument\n",
      "  _log_warning(\"Found `{}` in params. Will use it instead of argument\".format(alias))\n"
     ]
    },
    {
     "name": "stdout",
     "output_type": "stream",
     "text": [
      "[LightGBM] [Warning] feature_fraction is set=0.5, colsample_bytree=0.8 will be ignored. Current value: feature_fraction=0.5\n",
      "[LightGBM] [Warning] bagging_fraction is set=0.8, subsample=0.8 will be ignored. Current value: bagging_fraction=0.8\n"
     ]
    },
    {
     "name": "stderr",
     "output_type": "stream",
     "text": [
      "/Users/zdh/anaconda3/envs/aml_project/lib/python3.8/site-packages/lightgbm/engine.py:148: UserWarning: Found `num_iterations` in params. Will use it instead of argument\n",
      "  _log_warning(\"Found `{}` in params. Will use it instead of argument\".format(alias))\n",
      "/Users/zdh/anaconda3/envs/aml_project/lib/python3.8/site-packages/lightgbm/engine.py:148: UserWarning: Found `n_estimators` in params. Will use it instead of argument\n",
      "  _log_warning(\"Found `{}` in params. Will use it instead of argument\".format(alias))\n"
     ]
    },
    {
     "name": "stdout",
     "output_type": "stream",
     "text": [
      "[LightGBM] [Warning] feature_fraction is set=0.5, colsample_bytree=0.8 will be ignored. Current value: feature_fraction=0.5\n",
      "[LightGBM] [Warning] bagging_fraction is set=0.8, subsample=0.8 will be ignored. Current value: bagging_fraction=0.8\n"
     ]
    },
    {
     "name": "stderr",
     "output_type": "stream",
     "text": [
      "/Users/zdh/anaconda3/envs/aml_project/lib/python3.8/site-packages/lightgbm/engine.py:148: UserWarning: Found `num_iterations` in params. Will use it instead of argument\n",
      "  _log_warning(\"Found `{}` in params. Will use it instead of argument\".format(alias))\n",
      "/Users/zdh/anaconda3/envs/aml_project/lib/python3.8/site-packages/lightgbm/engine.py:148: UserWarning: Found `n_estimators` in params. Will use it instead of argument\n",
      "  _log_warning(\"Found `{}` in params. Will use it instead of argument\".format(alias))\n"
     ]
    },
    {
     "name": "stdout",
     "output_type": "stream",
     "text": [
      "[LightGBM] [Warning] feature_fraction is set=0.5, colsample_bytree=0.8 will be ignored. Current value: feature_fraction=0.5\n",
      "[LightGBM] [Warning] bagging_fraction is set=0.8, subsample=0.8 will be ignored. Current value: bagging_fraction=0.8\n"
     ]
    },
    {
     "name": "stderr",
     "output_type": "stream",
     "text": [
      "/Users/zdh/anaconda3/envs/aml_project/lib/python3.8/site-packages/lightgbm/engine.py:148: UserWarning: Found `num_iterations` in params. Will use it instead of argument\n",
      "  _log_warning(\"Found `{}` in params. Will use it instead of argument\".format(alias))\n",
      "/Users/zdh/anaconda3/envs/aml_project/lib/python3.8/site-packages/lightgbm/engine.py:148: UserWarning: Found `n_estimators` in params. Will use it instead of argument\n",
      "  _log_warning(\"Found `{}` in params. Will use it instead of argument\".format(alias))\n"
     ]
    },
    {
     "name": "stdout",
     "output_type": "stream",
     "text": [
      "[LightGBM] [Warning] feature_fraction is set=0.5, colsample_bytree=0.8 will be ignored. Current value: feature_fraction=0.5\n",
      "[LightGBM] [Warning] bagging_fraction is set=0.8, subsample=0.8 will be ignored. Current value: bagging_fraction=0.8\n"
     ]
    },
    {
     "name": "stderr",
     "output_type": "stream",
     "text": [
      "/Users/zdh/anaconda3/envs/aml_project/lib/python3.8/site-packages/lightgbm/engine.py:148: UserWarning: Found `num_iterations` in params. Will use it instead of argument\n",
      "  _log_warning(\"Found `{}` in params. Will use it instead of argument\".format(alias))\n",
      "/Users/zdh/anaconda3/envs/aml_project/lib/python3.8/site-packages/lightgbm/engine.py:148: UserWarning: Found `n_estimators` in params. Will use it instead of argument\n",
      "  _log_warning(\"Found `{}` in params. Will use it instead of argument\".format(alias))\n"
     ]
    },
    {
     "name": "stdout",
     "output_type": "stream",
     "text": [
      "[LightGBM] [Warning] feature_fraction is set=0.5, colsample_bytree=0.8 will be ignored. Current value: feature_fraction=0.5\n",
      "[LightGBM] [Warning] bagging_fraction is set=0.8, subsample=0.8 will be ignored. Current value: bagging_fraction=0.8\n"
     ]
    },
    {
     "name": "stderr",
     "output_type": "stream",
     "text": [
      "/Users/zdh/anaconda3/envs/aml_project/lib/python3.8/site-packages/lightgbm/engine.py:148: UserWarning: Found `num_iterations` in params. Will use it instead of argument\n",
      "  _log_warning(\"Found `{}` in params. Will use it instead of argument\".format(alias))\n",
      "/Users/zdh/anaconda3/envs/aml_project/lib/python3.8/site-packages/lightgbm/engine.py:148: UserWarning: Found `n_estimators` in params. Will use it instead of argument\n",
      "  _log_warning(\"Found `{}` in params. Will use it instead of argument\".format(alias))\n"
     ]
    },
    {
     "name": "stdout",
     "output_type": "stream",
     "text": [
      "[LightGBM] [Warning] feature_fraction is set=0.5, colsample_bytree=0.8 will be ignored. Current value: feature_fraction=0.5\n",
      "[LightGBM] [Warning] bagging_fraction is set=0.8, subsample=0.8 will be ignored. Current value: bagging_fraction=0.8\n"
     ]
    },
    {
     "name": "stderr",
     "output_type": "stream",
     "text": [
      "/Users/zdh/anaconda3/envs/aml_project/lib/python3.8/site-packages/lightgbm/engine.py:148: UserWarning: Found `num_iterations` in params. Will use it instead of argument\n",
      "  _log_warning(\"Found `{}` in params. Will use it instead of argument\".format(alias))\n",
      "/Users/zdh/anaconda3/envs/aml_project/lib/python3.8/site-packages/lightgbm/engine.py:148: UserWarning: Found `n_estimators` in params. Will use it instead of argument\n",
      "  _log_warning(\"Found `{}` in params. Will use it instead of argument\".format(alias))\n"
     ]
    },
    {
     "name": "stdout",
     "output_type": "stream",
     "text": [
      "[LightGBM] [Warning] feature_fraction is set=0.5, colsample_bytree=0.8 will be ignored. Current value: feature_fraction=0.5\n",
      "[LightGBM] [Warning] bagging_fraction is set=0.8, subsample=0.8 will be ignored. Current value: bagging_fraction=0.8\n"
     ]
    }
   ],
   "source": [
    "y_test_pred = train_k_fold_combine_predict(X_lgb,X_test_lgb,X_gp,X_test_gp, X_extra, X_test_extra, y_processed , w1 = p2 *(1-p), w2 = (1-p)*(1-p2), w3=p, fold_num=10)"
   ]
  },
  {
   "cell_type": "code",
   "execution_count": 17,
   "id": "26abaa5d",
   "metadata": {},
   "outputs": [],
   "source": [
    "final_res = np.vstack((indices_test, y_test_pred)).T\n",
    "pd.DataFrame(final_res).to_csv(\"our_result.csv\", header = [\"id\", \"y\"], index=False)"
   ]
  }
 ],
 "metadata": {
  "kernelspec": {
   "display_name": "Python 3 (ipykernel)",
   "language": "python",
   "name": "python3"
  },
  "language_info": {
   "codemirror_mode": {
    "name": "ipython",
    "version": 3
   },
   "file_extension": ".py",
   "mimetype": "text/x-python",
   "name": "python",
   "nbconvert_exporter": "python",
   "pygments_lexer": "ipython3",
   "version": "3.8.12"
  }
 },
 "nbformat": 4,
 "nbformat_minor": 5
}
