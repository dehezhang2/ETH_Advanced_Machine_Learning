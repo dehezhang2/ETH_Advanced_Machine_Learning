{
 "cells": [
  {
   "cell_type": "code",
   "execution_count": 4,
   "id": "ca952a07",
   "metadata": {},
   "outputs": [],
   "source": [
    "import numpy as np\n",
    "import pandas as pd\n",
    "from sklearn.metrics import f1_score"
   ]
  },
  {
   "cell_type": "code",
   "execution_count": 5,
   "id": "617b85b9",
   "metadata": {},
   "outputs": [],
   "source": [
    "\n",
    "gb_out = np.array(pd.read_csv('output_hierarchy_extra.csv'))[:,1]\n",
    "hgb_out = np.array(pd.read_csv('stack_predict12_42 (3).csv'))[:,1]"
   ]
  },
  {
   "cell_type": "code",
   "execution_count": 6,
   "id": "69c351e5",
   "metadata": {},
   "outputs": [
    {
     "name": "stdout",
     "output_type": "stream",
     "text": [
      "(334,)\n",
      "0.9020815010260921\n"
     ]
    }
   ],
   "source": [
    "print(gb_out[gb_out != hgb_out].shape)\n",
    "print(f1_score(gb_out, hgb_out,  average='micro'))"
   ]
  },
  {
   "cell_type": "code",
   "execution_count": null,
   "id": "4b6171fd",
   "metadata": {},
   "outputs": [],
   "source": []
  }
 ],
 "metadata": {
  "kernelspec": {
   "display_name": "Python 3 (ipykernel)",
   "language": "python",
   "name": "python3"
  },
  "language_info": {
   "codemirror_mode": {
    "name": "ipython",
    "version": 3
   },
   "file_extension": ".py",
   "mimetype": "text/x-python",
   "name": "python",
   "nbconvert_exporter": "python",
   "pygments_lexer": "ipython3",
   "version": "3.8.12"
  }
 },
 "nbformat": 4,
 "nbformat_minor": 5
}
