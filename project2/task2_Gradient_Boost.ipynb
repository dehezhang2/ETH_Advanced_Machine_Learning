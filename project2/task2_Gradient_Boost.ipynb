{
 "cells": [
  {
   "cell_type": "code",
   "execution_count": 1,
   "id": "bad74d3c",
   "metadata": {},
   "outputs": [],
   "source": [
    "import numpy as np\n",
    "import pandas as pd\n",
    "\n",
    "from sklearn.preprocessing import StandardScaler\n",
    "from sklearn.metrics import f1_score\n",
    "\n",
    "from sklearn.ensemble import GradientBoostingClassifier\n",
    "\n",
    "from sklearn.model_selection import KFold, GridSearchCV\n",
    "from sklearn.pipeline import Pipeline, make_pipeline\n",
    "from sklearn.metrics import make_scorer\n",
    "from sklearn.impute import SimpleImputer"
   ]
  },
  {
   "cell_type": "code",
   "execution_count": 2,
   "id": "a40c7f85",
   "metadata": {},
   "outputs": [
    {
     "name": "stdout",
     "output_type": "stream",
     "text": [
      "(5117, 936)\n",
      "(5117,)\n",
      "(3411, 936)\n"
     ]
    }
   ],
   "source": [
    "X_train_data = pd.read_csv('X_train_feature.csv')\n",
    "y_train_data = pd.read_csv('y_train.csv')\n",
    "X_test_data = pd.read_csv('X_test_feature.csv')\n",
    "\n",
    "indices_test = np.array(X_test_data)[:,0]\n",
    "indices_train = np.array(X_train_data)[:,0]\n",
    "X_test = np.array(X_test_data)[:,1:]\n",
    "y_train = np.array(y_train_data)[:,1]\n",
    "X_train = np.array(X_train_data)[:,1:]\n",
    "print(X_train.shape)\n",
    "print(y_train.shape)\n",
    "print(X_test.shape)"
   ]
  },
  {
   "cell_type": "code",
   "execution_count": 3,
   "id": "fdec97a0",
   "metadata": {},
   "outputs": [
    {
     "name": "stdout",
     "output_type": "stream",
     "text": [
      "3030\n",
      "443\n",
      "1474\n",
      "170\n",
      "(5117, 937)\n",
      "(10506, 937)\n"
     ]
    }
   ],
   "source": [
    "print((y_train==0).sum())\n",
    "print((y_train==1).sum())\n",
    "print((y_train==2).sum())\n",
    "print((y_train==3).sum())\n",
    "\n",
    "train_dataset = np.hstack((X_train, np.reshape(y_train, (5117, 1))))\n",
    "print(train_dataset.shape)\n",
    "    \n",
    "class_one = np.zeros((443,937))\n",
    "index = 0\n",
    "for row in train_dataset:\n",
    "    if row[936] == 1:\n",
    "        class_one[index] = row\n",
    "        index += 1\n",
    "class_two = np.zeros((1474,937))\n",
    "index = 0\n",
    "for row in train_dataset:\n",
    "    if row[936] == 2:\n",
    "        class_two[index] = row\n",
    "        index += 1\n",
    "class_three = np.zeros((170,937))\n",
    "index = 0\n",
    "for row in train_dataset:\n",
    "    if row[936] == 3:\n",
    "        class_three[index] = row\n",
    "        index += 1\n",
    "        \n",
    "for i in range(5):\n",
    "    train_dataset = np.vstack((train_dataset, class_one))\n",
    "train_dataset = np.vstack((train_dataset, class_two))\n",
    "for i in range(10):\n",
    "    train_dataset = np.vstack((train_dataset, class_three))\n",
    "print(train_dataset.shape)\n",
    "\n",
    "X_train = train_dataset[:,:936]\n",
    "y_train = train_dataset[:,936]"
   ]
  },
  {
   "cell_type": "code",
   "execution_count": 4,
   "id": "977d9b82",
   "metadata": {},
   "outputs": [
    {
     "name": "stdout",
     "output_type": "stream",
     "text": [
      "The obtained validation r1 score is :  0.9567078972407231\n",
      "The obtained validation r1 score is :  0.9557353641123275\n",
      "The obtained validation r1 score is :  0.9547834364588291\n",
      "The obtained validation r1 score is :  0.9576392194193242\n",
      "The obtained validation r1 score is :  0.9504997620180866\n",
      "Validation score: 0.955073\n"
     ]
    }
   ],
   "source": [
    "impute1 = SimpleImputer(strategy = 'median', fill_value = 0)\n",
    "X_train = impute1.fit_transform(X_train)\n",
    "impute2 = SimpleImputer(strategy = 'median', fill_value = 0)\n",
    "X_test = impute2.fit_transform(X_test)\n",
    "\n",
    "#rescaling data\n",
    "scaler = StandardScaler() \n",
    "scaler.fit(X_train)\n",
    "X_train = scaler.transform(X_train)\n",
    "X_test = scaler.transform(X_test)\n",
    "\n",
    "\n",
    "#using best parameter given by GS\n",
    "\n",
    "def fit_model_and_pred(X_train, y_train, X_val, y_val, X_test):\n",
    "    #using best parameter given by GS\n",
    "    estimator = GradientBoostingClassifier(n_estimators = 250, \n",
    "                                           max_depth = 5,\n",
    "                                           learning_rate = 0.1, \n",
    "                                           max_features = 60,\n",
    "                                           random_state = 0\n",
    "                                          )\n",
    "    estimator.fit(X_train, y_train)\n",
    "    y_val_pred = estimator.predict(X_val)\n",
    "    score = f1_score(y_val, y_val_pred, average='micro')  \n",
    "    y_pred = estimator.predict(X_test)\n",
    "\n",
    "    return score, y_pred\n",
    "\n",
    "def train_k_fold(X, y, X_test, fold_num=5):\n",
    "    kf = KFold(n_splits=fold_num, random_state=None, shuffle=True)\n",
    "    kf.get_n_splits(X)\n",
    "    test_score = 0.0\n",
    "    y_pred_list = []\n",
    "    \n",
    "    for train_index, test_index in kf.split(X):\n",
    "        X_train, X_val = X[train_index], X[test_index]\n",
    "        y_train, y_val = y[train_index], y[test_index]\n",
    "\n",
    "        score, y_pred = fit_model_and_pred(X_train, y_train, X_val, y_val, X_test)\n",
    "        y_pred_list.append(y_pred)\n",
    "        print('The obtained validation r1 score is : ',score)\n",
    "        test_score += score\n",
    "    print(\"Validation score: %f\"%(test_score/fold_num))\n",
    "    \n",
    "    y_pred_list = np.array(y_pred_list)\n",
    "    y_test_predict = []\n",
    "    for i in range(y_pred_list.shape[1]):\n",
    "        item = y_pred_list[:,i]\n",
    "        a = item[item==0].shape\n",
    "        b = item[item==1].shape\n",
    "        c = item[item==2].shape\n",
    "        d = item[item==3].shape\n",
    "        candidate = [a, b, c, d]\n",
    "        y_test_predict.append(np.argmax(candidate))\n",
    "    y_test_predict = np.array(y_test_predict)\n",
    "    return test_score/fold_num, y_test_predict\n",
    "\n",
    "score, predictions = train_k_fold(X_train, y_train, X_test)\n",
    "\n",
    "# estimator = GradientBoostingClassifier(n_estimators = 250, \n",
    "#                                            max_depth = 5,\n",
    "#                                            learning_rate = 0.1, \n",
    "#                                            max_features = 60,\n",
    "#                                            random_state = 0\n",
    "#                                       )\n",
    "# estimator.fit(X_train, y_train)\n",
    "# predictions= estimator.predict(X_test)\n",
    "sample =  pd.read_csv(\"sample.csv\")\n",
    "sample[\"y\"] = predictions\n",
    "sample.to_csv(\"output.csv\", index = False)"
   ]
  },
  {
   "cell_type": "code",
   "execution_count": null,
   "id": "25ca48a0",
   "metadata": {},
   "outputs": [],
   "source": []
  }
 ],
 "metadata": {
  "kernelspec": {
   "display_name": "Python 3",
   "language": "python",
   "name": "python3"
  },
  "language_info": {
   "codemirror_mode": {
    "name": "ipython",
    "version": 3
   },
   "file_extension": ".py",
   "mimetype": "text/x-python",
   "name": "python",
   "nbconvert_exporter": "python",
   "pygments_lexer": "ipython3",
   "version": "3.7.0"
  }
 },
 "nbformat": 4,
 "nbformat_minor": 5
}
