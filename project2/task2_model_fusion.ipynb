{
 "cells": [
  {
   "cell_type": "code",
   "execution_count": 1,
   "id": "fd6f6c0f",
   "metadata": {},
   "outputs": [],
   "source": [
    "import numpy as np\n",
    "import pandas as pd"
   ]
  },
  {
   "cell_type": "code",
   "execution_count": 2,
   "id": "e12944d6",
   "metadata": {},
   "outputs": [],
   "source": [
    "gb_out = np.array(pd.read_csv('output_hierarchy.csv'))[:,1]\n",
    "rf_out = np.array(pd.read_csv('output_hist_gradient_boosting.csv'))[:,1]\n",
    "mlp_out = np.array(pd.read_csv('output_random_forest.csv'))[:,1]"
   ]
  },
  {
   "cell_type": "code",
   "execution_count": 3,
   "id": "19148e43",
   "metadata": {},
   "outputs": [],
   "source": [
    "gb_weight = 5\n",
    "rf_weight = 4\n",
    "mlp_weight = 3"
   ]
  },
  {
   "cell_type": "code",
   "execution_count": 4,
   "id": "ca696ca7",
   "metadata": {},
   "outputs": [],
   "source": [
    "final_predict_list = []\n",
    "for i in range(gb_weight):\n",
    "    final_predict_list.append(gb_out)\n",
    "for i in range(rf_weight):\n",
    "    final_predict_list.append(rf_out)\n",
    "for i in range(mlp_weight):\n",
    "    final_predict_list.append(mlp_out)"
   ]
  },
  {
   "cell_type": "code",
   "execution_count": 5,
   "id": "77922ed5",
   "metadata": {},
   "outputs": [],
   "source": [
    "final_predict_list = np.array(final_predict_list)"
   ]
  },
  {
   "cell_type": "code",
   "execution_count": 6,
   "id": "13c416fc",
   "metadata": {},
   "outputs": [],
   "source": [
    "final_predict = []\n",
    "for i in range(final_predict_list.shape[1]):\n",
    "    item = final_predict_list[:,i]\n",
    "    a = item[item==0].shape\n",
    "    b = item[item==1].shape\n",
    "    c = item[item==2].shape\n",
    "    d = item[item==3].shape\n",
    "    candidate = [a, b, c, d]\n",
    "    final_predict.append(np.argmax(candidate))"
   ]
  },
  {
   "cell_type": "code",
   "execution_count": 7,
   "id": "3bc38690",
   "metadata": {},
   "outputs": [
    {
     "data": {
      "text/plain": [
       "(3411,)"
      ]
     },
     "execution_count": 7,
     "metadata": {},
     "output_type": "execute_result"
    }
   ],
   "source": [
    "final_predict = np.array(final_predict)\n",
    "final_predict.shape"
   ]
  },
  {
   "cell_type": "code",
   "execution_count": 8,
   "id": "9a8ef2d0",
   "metadata": {},
   "outputs": [],
   "source": [
    "sample =  pd.read_csv(\"sample.csv\")\n",
    "sample[\"y\"] = final_predict\n",
    "sample.to_csv(\"output_merged.csv\", index = False)"
   ]
  }
 ],
 "metadata": {
  "kernelspec": {
   "display_name": "Python 3 (ipykernel)",
   "language": "python",
   "name": "python3"
  },
  "language_info": {
   "codemirror_mode": {
    "name": "ipython",
    "version": 3
   },
   "file_extension": ".py",
   "mimetype": "text/x-python",
   "name": "python",
   "nbconvert_exporter": "python",
   "pygments_lexer": "ipython3",
   "version": "3.8.12"
  }
 },
 "nbformat": 4,
 "nbformat_minor": 5
}
