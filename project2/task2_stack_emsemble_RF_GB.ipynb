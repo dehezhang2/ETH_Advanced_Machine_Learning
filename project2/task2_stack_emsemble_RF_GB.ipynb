{
 "cells": [
  {
   "cell_type": "code",
   "execution_count": 11,
   "id": "2eb67760",
   "metadata": {},
   "outputs": [],
   "source": [
    "import numpy as np\n",
    "import pandas as pd\n",
    "\n",
    "from sklearn.preprocessing import StandardScaler\n",
    "from sklearn.metrics import f1_score\n",
    "\n",
    "from sklearn.ensemble import GradientBoostingClassifier\n",
    "from sklearn.ensemble import RandomForestClassifier\n",
    "from sklearn.ensemble import StackingClassifier\n",
    "from sklearn.neural_network import MLPClassifier\n",
    "\n",
    "from sklearn.linear_model import LogisticRegression\n",
    "\n",
    "from sklearn.model_selection import KFold, GridSearchCV\n",
    "from sklearn.pipeline import Pipeline, make_pipeline\n",
    "from sklearn.metrics import make_scorer\n",
    "from sklearn.impute import SimpleImputer"
   ]
  },
  {
   "cell_type": "code",
   "execution_count": 12,
   "id": "55846e1a",
   "metadata": {},
   "outputs": [],
   "source": [
    "def fill_missing_values(X, n_neighbors = 75, method=\"KNN\"): \n",
    "    \n",
    "    # normalization\n",
    "    X_std = np.nanstd(X,axis=0,keepdims=True)\n",
    "    X_ave = np.nanmean(X,axis=0,keepdims=True)\n",
    "    X_norma = (X-X_ave)/X_std\n",
    "    \n",
    "    # use KNNImputer\n",
    "    imputer = KNNImputer(missing_values=np.nan, n_neighbors=n_neighbors, weights = 'distance') if method==\"KNN\"\\\n",
    "        else SimpleImputer(missing_values=np.nan, strategy='median')\n",
    "    \n",
    "    X_norma_fixed = imputer.fit_transform(X_norma)\n",
    "    \n",
    "    return X_norma_fixed\n",
    "\n",
    "def expand_dataset(X_train, y_train, num_class = 4):\n",
    "    sample = np.c_[X_train, y_train]\n",
    "    sample_by_class = [sample[(sample[:,-1] == i)] for i in range(num_class)]\n",
    "    sample_sizes = [ sample_class.shape[0] for sample_class in sample_by_class]\n",
    "    expand_ratio = np.round(np.max(np.array(sample_sizes))/sample_sizes)\n",
    "    expanded_sample_by_class = [ np.repeat(sample_by_class[i], expand_ratio[i], axis = 0) for i in range(num_class)]\n",
    "    expanded_sample = np.concatenate(expanded_sample_by_class)\n",
    "    return expanded_sample[:, :-1], expanded_sample[:, -1]"
   ]
  },
  {
   "cell_type": "code",
   "execution_count": 13,
   "id": "122eb435",
   "metadata": {},
   "outputs": [
    {
     "name": "stdout",
     "output_type": "stream",
     "text": [
      "(5117, 690)\n",
      "(5117,)\n",
      "(3411, 690)\n"
     ]
    }
   ],
   "source": [
    "X_train_data = pd.read_csv('X_train_feature_fusion2.csv')\n",
    "y_train_data = pd.read_csv('y_train.csv')\n",
    "X_test_data = pd.read_csv('X_test_feature_fusion2.csv')\n",
    "\n",
    "indices_test = np.array(X_test_data)[:,0]\n",
    "indices_train = np.array(X_train_data)[:,0]\n",
    "X_test = np.array(X_test_data)[:,1:]\n",
    "y_train = np.array(y_train_data)[:,1]\n",
    "X_train = np.array(X_train_data)[:,1:]\n",
    "print(X_train.shape)\n",
    "print(y_train.shape)\n",
    "print(X_test.shape)"
   ]
  },
  {
   "cell_type": "code",
   "execution_count": 14,
   "id": "02beb653",
   "metadata": {},
   "outputs": [],
   "source": [
    "# X_train = fill_missing_values(X_train, method=\"median\")\n",
    "# X_test = fill_missing_values(X_test, method=\"median\")"
   ]
  },
  {
   "cell_type": "code",
   "execution_count": 19,
   "id": "180a336a",
   "metadata": {},
   "outputs": [],
   "source": [
    "def fit_model_and_pred(X_train, y_train, X_val, y_val, X_test):\n",
    "    estimators = [# ('rf', RandomForestClassifier(random_state=0, min_samples_leaf=2, n_estimators=1000)),\n",
    "                  ('gb', GradientBoostingClassifier(n_estimators = 250, \n",
    "                                                    max_depth = 5, \n",
    "                                                    learning_rate = 0.1, \n",
    "                                                    max_features = 60, \n",
    "                                                    random_state = 0\n",
    "                                                   )\n",
    "                  ),\n",
    "                  ('mlp', MLPClassifier(hidden_layer_sizes=(900,),\n",
    "                                        solver='sgd',\n",
    "                                        max_iter=200,\n",
    "                                        random_state=0,\n",
    "                                        verbose=False,\n",
    "                                       )\n",
    "                  )\n",
    "                 ]\n",
    "    clf = StackingClassifier(estimators=estimators, final_estimator=LogisticRegression())\n",
    "    clf.fit(X_train, y_train)\n",
    "    y_val_pred = clf.predict(X_val)\n",
    "    score = f1_score(y_val, y_val_pred, average='micro')\n",
    "    y_pred = clf.predict(X_test) \n",
    "    return score, y_pred\n",
    "\n",
    "def train_k_fold_pred(X, y, X_test, fold_num=10):\n",
    "    kf = KFold(n_splits=fold_num, random_state=None, shuffle=False)\n",
    "    kf.get_n_splits(X)\n",
    "    test_score = 0.0\n",
    "    y_pred_list = []\n",
    "    \n",
    "    for train_index, test_index in kf.split(X):\n",
    "        X_train, X_val = X[train_index], X[test_index]\n",
    "        y_train, y_val = y[train_index], y[test_index]\n",
    "        # X_train, y_train = expand_dataset(X_train, y_train)\n",
    "        \n",
    "        score, y_pred = fit_model_and_pred(X_train, y_train, X_val, y_val, X_test)\n",
    "        y_pred_list.append(y_pred)\n",
    "        print('The obtained validation r1 score is : ',score)\n",
    "        test_score += score\n",
    "    print(\"Validation score: %f\"%(test_score/fold_num))\n",
    "    \n",
    "    y_pred_list = np.array(y_pred_list)\n",
    "    y_test_predict = []\n",
    "    for i in range(y_pred_list.shape[1]):\n",
    "        item = y_pred_list[:,i]\n",
    "        a = item[item==0].shape\n",
    "        b = item[item==1].shape\n",
    "        c = item[item==2].shape\n",
    "        d = item[item==3].shape\n",
    "        candidate = [a, b, c, d]\n",
    "        y_test_predict.append(np.argmax(candidate))\n",
    "    y_test_predict = np.array(y_test_predict)\n",
    "    return test_score/fold_num, y_test_predict\n",
    "\n",
    "def train_k_fold_pred_trick(X, y, X_test, fold_num=10):\n",
    "    kf = KFold(n_splits=fold_num, random_state=None, shuffle=False)\n",
    "    kf.get_n_splits(X)\n",
    "    test_score = 0.0\n",
    "    y_pred_list = []\n",
    "    \n",
    "    for train_index, test_index in kf.split(X):\n",
    "        X_train, X_val = X[train_index], X[test_index]\n",
    "        y_train, y_val = y[train_index], y[test_index]\n",
    "        score, y_pred = fit_model_and_pred(X_train, y_train, X_val, y_val, X_test)\n",
    "        print('The obtained validation r1 score is : ',score)\n",
    "        test_score += score\n",
    "        if score > 0.81:        \n",
    "            y_pred_list.append(y_pred)\n",
    "    print(\"Validation score: %f\"%(test_score/fold_num))\n",
    "    \n",
    "    y_pred_list = np.array(y_pred_list)\n",
    "    y_test_predict = []\n",
    "    for i in range(y_pred_list.shape[1]):\n",
    "        item = y_pred_list[:,i]\n",
    "        a = item[item==0].shape\n",
    "        b = item[item==1].shape\n",
    "        c = item[item==2].shape\n",
    "        d = item[item==3].shape\n",
    "        candidate = [a, b, c, d]\n",
    "        y_test_predict.append(np.argmax(candidate))\n",
    "    y_test_predict = np.array(y_test_predict)\n",
    "    return test_score/fold_num, y_test_predict"
   ]
  },
  {
   "cell_type": "code",
   "execution_count": 20,
   "id": "81907643",
   "metadata": {},
   "outputs": [
    {
     "name": "stderr",
     "output_type": "stream",
     "text": [
      "/opt/anaconda3/lib/python3.7/site-packages/sklearn/neural_network/_multilayer_perceptron.py:617: ConvergenceWarning: Stochastic Optimizer: Maximum iterations (200) reached and the optimization hasn't converged yet.\n",
      "  % self.max_iter, ConvergenceWarning)\n",
      "/opt/anaconda3/lib/python3.7/site-packages/sklearn/neural_network/_multilayer_perceptron.py:617: ConvergenceWarning: Stochastic Optimizer: Maximum iterations (200) reached and the optimization hasn't converged yet.\n",
      "  % self.max_iter, ConvergenceWarning)\n",
      "/opt/anaconda3/lib/python3.7/site-packages/sklearn/neural_network/_multilayer_perceptron.py:617: ConvergenceWarning: Stochastic Optimizer: Maximum iterations (200) reached and the optimization hasn't converged yet.\n",
      "  % self.max_iter, ConvergenceWarning)\n",
      "/opt/anaconda3/lib/python3.7/site-packages/sklearn/neural_network/_multilayer_perceptron.py:617: ConvergenceWarning: Stochastic Optimizer: Maximum iterations (200) reached and the optimization hasn't converged yet.\n",
      "  % self.max_iter, ConvergenceWarning)\n",
      "/opt/anaconda3/lib/python3.7/site-packages/sklearn/neural_network/_multilayer_perceptron.py:617: ConvergenceWarning: Stochastic Optimizer: Maximum iterations (200) reached and the optimization hasn't converged yet.\n",
      "  % self.max_iter, ConvergenceWarning)\n",
      "/opt/anaconda3/lib/python3.7/site-packages/sklearn/neural_network/_multilayer_perceptron.py:617: ConvergenceWarning: Stochastic Optimizer: Maximum iterations (200) reached and the optimization hasn't converged yet.\n",
      "  % self.max_iter, ConvergenceWarning)\n"
     ]
    },
    {
     "name": "stdout",
     "output_type": "stream",
     "text": [
      "The obtained validation r1 score is :  0.8037109375\n"
     ]
    },
    {
     "name": "stderr",
     "output_type": "stream",
     "text": [
      "/opt/anaconda3/lib/python3.7/site-packages/sklearn/neural_network/_multilayer_perceptron.py:617: ConvergenceWarning: Stochastic Optimizer: Maximum iterations (200) reached and the optimization hasn't converged yet.\n",
      "  % self.max_iter, ConvergenceWarning)\n",
      "/opt/anaconda3/lib/python3.7/site-packages/sklearn/neural_network/_multilayer_perceptron.py:617: ConvergenceWarning: Stochastic Optimizer: Maximum iterations (200) reached and the optimization hasn't converged yet.\n",
      "  % self.max_iter, ConvergenceWarning)\n",
      "/opt/anaconda3/lib/python3.7/site-packages/sklearn/neural_network/_multilayer_perceptron.py:617: ConvergenceWarning: Stochastic Optimizer: Maximum iterations (200) reached and the optimization hasn't converged yet.\n",
      "  % self.max_iter, ConvergenceWarning)\n",
      "/opt/anaconda3/lib/python3.7/site-packages/sklearn/neural_network/_multilayer_perceptron.py:617: ConvergenceWarning: Stochastic Optimizer: Maximum iterations (200) reached and the optimization hasn't converged yet.\n",
      "  % self.max_iter, ConvergenceWarning)\n",
      "/opt/anaconda3/lib/python3.7/site-packages/sklearn/neural_network/_multilayer_perceptron.py:617: ConvergenceWarning: Stochastic Optimizer: Maximum iterations (200) reached and the optimization hasn't converged yet.\n",
      "  % self.max_iter, ConvergenceWarning)\n",
      "/opt/anaconda3/lib/python3.7/site-packages/sklearn/neural_network/_multilayer_perceptron.py:617: ConvergenceWarning: Stochastic Optimizer: Maximum iterations (200) reached and the optimization hasn't converged yet.\n",
      "  % self.max_iter, ConvergenceWarning)\n"
     ]
    },
    {
     "name": "stdout",
     "output_type": "stream",
     "text": [
      "The obtained validation r1 score is :  0.8125\n"
     ]
    },
    {
     "name": "stderr",
     "output_type": "stream",
     "text": [
      "/opt/anaconda3/lib/python3.7/site-packages/sklearn/neural_network/_multilayer_perceptron.py:617: ConvergenceWarning: Stochastic Optimizer: Maximum iterations (200) reached and the optimization hasn't converged yet.\n",
      "  % self.max_iter, ConvergenceWarning)\n",
      "/opt/anaconda3/lib/python3.7/site-packages/sklearn/neural_network/_multilayer_perceptron.py:617: ConvergenceWarning: Stochastic Optimizer: Maximum iterations (200) reached and the optimization hasn't converged yet.\n",
      "  % self.max_iter, ConvergenceWarning)\n",
      "/opt/anaconda3/lib/python3.7/site-packages/sklearn/neural_network/_multilayer_perceptron.py:617: ConvergenceWarning: Stochastic Optimizer: Maximum iterations (200) reached and the optimization hasn't converged yet.\n",
      "  % self.max_iter, ConvergenceWarning)\n",
      "/opt/anaconda3/lib/python3.7/site-packages/sklearn/neural_network/_multilayer_perceptron.py:617: ConvergenceWarning: Stochastic Optimizer: Maximum iterations (200) reached and the optimization hasn't converged yet.\n",
      "  % self.max_iter, ConvergenceWarning)\n",
      "/opt/anaconda3/lib/python3.7/site-packages/sklearn/neural_network/_multilayer_perceptron.py:617: ConvergenceWarning: Stochastic Optimizer: Maximum iterations (200) reached and the optimization hasn't converged yet.\n",
      "  % self.max_iter, ConvergenceWarning)\n",
      "/opt/anaconda3/lib/python3.7/site-packages/sklearn/neural_network/_multilayer_perceptron.py:617: ConvergenceWarning: Stochastic Optimizer: Maximum iterations (200) reached and the optimization hasn't converged yet.\n",
      "  % self.max_iter, ConvergenceWarning)\n"
     ]
    },
    {
     "name": "stdout",
     "output_type": "stream",
     "text": [
      "The obtained validation r1 score is :  0.8396871945259042\n"
     ]
    },
    {
     "name": "stderr",
     "output_type": "stream",
     "text": [
      "/opt/anaconda3/lib/python3.7/site-packages/sklearn/neural_network/_multilayer_perceptron.py:617: ConvergenceWarning: Stochastic Optimizer: Maximum iterations (200) reached and the optimization hasn't converged yet.\n",
      "  % self.max_iter, ConvergenceWarning)\n",
      "/opt/anaconda3/lib/python3.7/site-packages/sklearn/neural_network/_multilayer_perceptron.py:617: ConvergenceWarning: Stochastic Optimizer: Maximum iterations (200) reached and the optimization hasn't converged yet.\n",
      "  % self.max_iter, ConvergenceWarning)\n",
      "/opt/anaconda3/lib/python3.7/site-packages/sklearn/neural_network/_multilayer_perceptron.py:617: ConvergenceWarning: Stochastic Optimizer: Maximum iterations (200) reached and the optimization hasn't converged yet.\n",
      "  % self.max_iter, ConvergenceWarning)\n",
      "/opt/anaconda3/lib/python3.7/site-packages/sklearn/neural_network/_multilayer_perceptron.py:617: ConvergenceWarning: Stochastic Optimizer: Maximum iterations (200) reached and the optimization hasn't converged yet.\n",
      "  % self.max_iter, ConvergenceWarning)\n",
      "/opt/anaconda3/lib/python3.7/site-packages/sklearn/neural_network/_multilayer_perceptron.py:617: ConvergenceWarning: Stochastic Optimizer: Maximum iterations (200) reached and the optimization hasn't converged yet.\n",
      "  % self.max_iter, ConvergenceWarning)\n",
      "/opt/anaconda3/lib/python3.7/site-packages/sklearn/neural_network/_multilayer_perceptron.py:617: ConvergenceWarning: Stochastic Optimizer: Maximum iterations (200) reached and the optimization hasn't converged yet.\n",
      "  % self.max_iter, ConvergenceWarning)\n"
     ]
    },
    {
     "name": "stdout",
     "output_type": "stream",
     "text": [
      "The obtained validation r1 score is :  0.8054740957966764\n"
     ]
    },
    {
     "name": "stderr",
     "output_type": "stream",
     "text": [
      "/opt/anaconda3/lib/python3.7/site-packages/sklearn/neural_network/_multilayer_perceptron.py:617: ConvergenceWarning: Stochastic Optimizer: Maximum iterations (200) reached and the optimization hasn't converged yet.\n",
      "  % self.max_iter, ConvergenceWarning)\n",
      "/opt/anaconda3/lib/python3.7/site-packages/sklearn/neural_network/_multilayer_perceptron.py:617: ConvergenceWarning: Stochastic Optimizer: Maximum iterations (200) reached and the optimization hasn't converged yet.\n",
      "  % self.max_iter, ConvergenceWarning)\n",
      "/opt/anaconda3/lib/python3.7/site-packages/sklearn/neural_network/_multilayer_perceptron.py:617: ConvergenceWarning: Stochastic Optimizer: Maximum iterations (200) reached and the optimization hasn't converged yet.\n",
      "  % self.max_iter, ConvergenceWarning)\n",
      "/opt/anaconda3/lib/python3.7/site-packages/sklearn/neural_network/_multilayer_perceptron.py:617: ConvergenceWarning: Stochastic Optimizer: Maximum iterations (200) reached and the optimization hasn't converged yet.\n",
      "  % self.max_iter, ConvergenceWarning)\n",
      "/opt/anaconda3/lib/python3.7/site-packages/sklearn/neural_network/_multilayer_perceptron.py:617: ConvergenceWarning: Stochastic Optimizer: Maximum iterations (200) reached and the optimization hasn't converged yet.\n",
      "  % self.max_iter, ConvergenceWarning)\n",
      "/opt/anaconda3/lib/python3.7/site-packages/sklearn/neural_network/_multilayer_perceptron.py:617: ConvergenceWarning: Stochastic Optimizer: Maximum iterations (200) reached and the optimization hasn't converged yet.\n",
      "  % self.max_iter, ConvergenceWarning)\n"
     ]
    },
    {
     "name": "stdout",
     "output_type": "stream",
     "text": [
      "The obtained validation r1 score is :  0.793743890518084\n",
      "Validation score: 0.811023\n"
     ]
    }
   ],
   "source": [
    "_, y_pred = train_k_fold_pred(X_train, y_train, X_test, fold_num=5) "
   ]
  },
  {
   "cell_type": "code",
   "execution_count": 21,
   "id": "375d26c5",
   "metadata": {},
   "outputs": [],
   "source": [
    "sample =  pd.read_csv(\"sample.csv\")\n",
    "sample[\"y\"] = y_pred\n",
    "sample.to_csv(\"output.csv\", index = False)"
   ]
  },
  {
   "cell_type": "code",
   "execution_count": null,
   "id": "52803dd3",
   "metadata": {},
   "outputs": [],
   "source": []
  }
 ],
 "metadata": {
  "kernelspec": {
   "display_name": "Python 3",
   "language": "python",
   "name": "python3"
  },
  "language_info": {
   "codemirror_mode": {
    "name": "ipython",
    "version": 3
   },
   "file_extension": ".py",
   "mimetype": "text/x-python",
   "name": "python",
   "nbconvert_exporter": "python",
   "pygments_lexer": "ipython3",
   "version": "3.7.0"
  }
 },
 "nbformat": 4,
 "nbformat_minor": 5
}
