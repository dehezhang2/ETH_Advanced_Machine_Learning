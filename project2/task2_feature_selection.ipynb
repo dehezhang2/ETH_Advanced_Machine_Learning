{
 "cells": [
  {
   "cell_type": "code",
   "execution_count": 1,
   "id": "d9f83a84",
   "metadata": {},
   "outputs": [],
   "source": [
    "import numpy as np\n",
    "import pandas as pd\n",
    "from biosppy.signals import ecg"
   ]
  },
  {
   "cell_type": "code",
   "execution_count": 2,
   "id": "320af55a",
   "metadata": {},
   "outputs": [],
   "source": [
    "def mean_squared_distance(rpeaks):\n",
    "    diff = np.diff(rpeaks)\n",
    "    dist = np.mean(diff*diff)\n",
    "    return dist\n",
    "\n",
    "def extract_feature(X_signal, sampling_rate):\n",
    "    ts, filtered, rpeaks, templates_ts, templates, heart_rate_ts, heart_rate = ecg.ecg(X_signal, sampling_rate, show = False)\n",
    "    rpeaks = ecg.correct_rpeaks(signal = X_signal, rpeaks = rpeaks, sampling_rate = sampling_rate, tol = 0.01)  \n",
    "    peak_values = X_signal[rpeaks]\n",
    "\n",
    "    if len(heart_rate) == 0:\n",
    "        heart_rate = np.array([np.nan, np.nan])\n",
    "    if len(heart_rate_ts) == 0:\n",
    "        heart_rate_ts = np.array([np.nan, np.nan])\n",
    "\n",
    "    feats = np.array([])\n",
    "    \n",
    "    \n",
    "    feats = np.append(feats, np.mean(peak_values))\n",
    "    feats = np.append(feats, np.median(peak_values))\n",
    "    feats = np.append(feats, np.min(peak_values))\n",
    "    feats = np.append(feats, np.max(peak_values))\n",
    "    feats = np.append(feats, np.std(peak_values))\n",
    "    \n",
    "    feats = np.append(feats, np.mean(rpeaks))\n",
    "    feats = np.append(feats, np.median(rpeaks))\n",
    "    feats = np.append(feats, np.min(rpeaks))\n",
    "    feats = np.append(feats, np.max(rpeaks))\n",
    "    feats = np.append(feats, np.std(rpeaks))\n",
    "    \n",
    "    feats = np.append(feats, np.sqrt(mean_squared_distance(rpeaks)))\n",
    "    \n",
    "    feats = np.append(feats, np.mean(np.diff(rpeaks)))\n",
    "    feats = np.append(feats, np.median(np.diff(rpeaks)))\n",
    "    feats = np.append(feats, np.min(np.diff(rpeaks)))\n",
    "    feats = np.append(feats, np.max(np.diff(rpeaks)))\n",
    "    feats = np.append(feats, np.std(np.diff(rpeaks)))\n",
    "    \n",
    "    feats = np.append(feats, np.mean(templates, axis = 0))\n",
    "    feats = np.append(feats, np.median(templates, axis = 0))\n",
    "    feats = np.append(feats, np.min(templates, axis=0))\n",
    "    feats = np.append(feats, np.max(templates, axis=0))\n",
    "    feats = np.append(feats, np.std(templates, axis = 0))\n",
    "    \n",
    "    feats = np.append(feats, np.mean(heart_rate))\n",
    "    feats = np.append(feats, np.median(heart_rate))\n",
    "    feats = np.append(feats, np.min(heart_rate))\n",
    "    feats = np.append(feats, np.max(heart_rate))\n",
    "    feats = np.append(feats, np.std(heart_rate))\n",
    "    \n",
    "    feats = np.append(feats, np.mean(heart_rate_ts))\n",
    "    feats = np.append(feats, np.median(heart_rate_ts))\n",
    "    feats = np.append(feats, np.min(heart_rate_ts))\n",
    "    feats = np.append(feats, np.max(heart_rate_ts))\n",
    "    feats = np.append(feats, np.std(heart_rate_ts))\n",
    "    \n",
    "\n",
    "    if len(heart_rate) == 1:\n",
    "        heart_rate = np.array([np.nan, np.nan])\n",
    "    if len(heart_rate_ts) == 1:\n",
    "        heart_rate_ts = np.array([np.nan, np.nan])\n",
    "    feats = np.append(feats, np.mean(np.diff(heart_rate)))\n",
    "    feats = np.append(feats, np.median(np.diff(heart_rate)))\n",
    "    feats = np.append(feats, np.min(np.diff(heart_rate)))\n",
    "    feats = np.append(feats, np.max(np.diff(heart_rate)))\n",
    "    feats = np.append(feats, np.std(np.diff(heart_rate)))\n",
    "    feats = np.append(feats, np.mean(np.diff(heart_rate_ts)))\n",
    "    feats = np.append(feats, np.median(np.diff(heart_rate_ts)))\n",
    "    feats = np.append(feats, np.min(np.diff(heart_rate_ts)))\n",
    "    feats = np.append(feats, np.max(np.diff(heart_rate_ts)))\n",
    "    feats = np.append(feats, np.std(np.diff(heart_rate_ts)))\n",
    "\n",
    "    return feats\n",
    "\n",
    "def extract_feature_batch(X_signal_batch):\n",
    "    X_feat = []\n",
    "    for i in range(X_signal_batch.shape[0]):\n",
    "        signal = X_signal_batch.iloc[i]\n",
    "        signal_cut = np.array(signal.dropna())\n",
    "        X_feat.append(extract_feature(signal_cut, 300))\n",
    "    return np.array(X_feat)"
   ]
  },
  {
   "cell_type": "code",
   "execution_count": 3,
   "id": "7c3624ca",
   "metadata": {},
   "outputs": [],
   "source": [
    "X_train_data = pd.read_csv(\"X_train.csv\")\n",
    "indices_train = np.array(X_train_data)[:,0]\n",
    "X_train_data.drop(\"id\", axis=1, inplace = True)\n",
    "\n",
    "X_test_data =  pd.read_csv(\"X_test.csv\")\n",
    "indices_test = np.array(X_test_data)[:,0]\n",
    "X_test_data.drop(\"id\", axis=1, inplace = True)\n"
   ]
  },
  {
   "cell_type": "code",
   "execution_count": 4,
   "id": "dda97837",
   "metadata": {},
   "outputs": [],
   "source": [
    "X_train = extract_feature_batch(X_train_data)\n",
    "X_test = extract_feature_batch(X_test_data)"
   ]
  },
  {
   "cell_type": "code",
   "execution_count": 5,
   "id": "77f3f148",
   "metadata": {},
   "outputs": [],
   "source": [
    "X_train_feat = np.insert(X_train,0,[indices_train],axis=1)\n",
    "X_test_feat = np.insert(X_test,0,[indices_test],axis= 1)"
   ]
  },
  {
   "cell_type": "code",
   "execution_count": 6,
   "id": "d7c41ed9",
   "metadata": {},
   "outputs": [],
   "source": [
    "df_X_train = pd.DataFrame(X_train_feat)\n",
    "df_X_test = pd.DataFrame(X_test_feat)\n",
    "df_X_train.to_csv(\"X_train_feature.csv\", index=False)\n",
    "df_X_test.to_csv(\"X_test_feature.csv\", index=False)"
   ]
  },
  {
   "cell_type": "code",
   "execution_count": null,
   "id": "f17461bb",
   "metadata": {},
   "outputs": [],
   "source": []
  }
 ],
 "metadata": {
  "kernelspec": {
   "display_name": "Python 3",
   "language": "python",
   "name": "python3"
  },
  "language_info": {
   "codemirror_mode": {
    "name": "ipython",
    "version": 3
   },
   "file_extension": ".py",
   "mimetype": "text/x-python",
   "name": "python",
   "nbconvert_exporter": "python",
   "pygments_lexer": "ipython3",
   "version": "3.7.0"
  }
 },
 "nbformat": 4,
 "nbformat_minor": 5
}
