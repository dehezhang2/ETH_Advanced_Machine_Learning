{
 "cells": [
  {
   "cell_type": "code",
   "execution_count": 1,
   "id": "63cce992",
   "metadata": {},
   "outputs": [],
   "source": [
    "import numpy as np\n",
    "import pandas as pd\n",
    "from biosppy.signals import ecg"
   ]
  },
  {
   "cell_type": "markdown",
   "id": "5564caea",
   "metadata": {},
   "source": [
    "* wavelate (+++++)\n",
    "    * cD_list,cA_list (sym6)\n",
    "* U_list,U_value_list (++++)\n",
    "* fft (++++)\n",
    "* wave indices list (++++)\n",
    "    * T_list,S_list,R_list,Q_list,P_list,ST_list,QRS_list,PR_list,QRS_T_list,QRS_P_list\n",
    "* correlation (+++??)\n",
    "* ptp (largest - smallest) (+++)\n",
    "* energy list (++)"
   ]
  },
  {
   "cell_type": "code",
   "execution_count": 2,
   "id": "24d19b84",
   "metadata": {},
   "outputs": [],
   "source": [
    "def mean_squared_distance(rpeaks):\n",
    "    diff = np.diff(rpeaks)\n",
    "    dist = np.mean(diff*diff)\n",
    "    return dist\n",
    "\n",
    "def get_feature_list(feature, axis=-1):\n",
    "    feats = np.array([])\n",
    "    \n",
    "    if axis == -1:\n",
    "        feats = np.append(feats, np.mean(feature))\n",
    "        feats = np.append(feats, np.median(feature))\n",
    "        feats = np.append(feats, np.min(feature))\n",
    "        feats = np.append(feats, np.max(feature))\n",
    "        feats = np.append(feats, np.std(feature))\n",
    "    elif axis == 0:\n",
    "        feats = np.append(feats, np.mean(feature, axis = 0))\n",
    "        feats = np.append(feats, np.median(feature, axis = 0))\n",
    "        feats = np.append(feats, np.min(feature, axis = 0))\n",
    "        feats = np.append(feats, np.max(feature, axis = 0))\n",
    "        feats = np.append(feats, np.std(feature, axis = 0))\n",
    "        \n",
    "    return feats\n",
    "\n",
    "def extract_feature(X_signal, sampling_rate):\n",
    "    ts, filtered, rpeaks, templates_ts, templates, heart_rate_ts, heart_rate = ecg.ecg(X_signal, sampling_rate, show = False)\n",
    "    rpeaks = ecg.correct_rpeaks(signal = X_signal, rpeaks = rpeaks, sampling_rate = sampling_rate, tol = 0.01)  \n",
    "    peak_values = X_signal[rpeaks]\n",
    "\n",
    "    feats = np.array([])\n",
    "    \n",
    "    feats = np.concatenate([feats, get_feature_list(peak_values)])\n",
    "    feats = np.concatenate([feats, get_feature_list(rpeaks)])\n",
    "    feats = np.append(feats, np.sqrt(mean_squared_distance(rpeaks)))\n",
    "    feats = np.concatenate([feats, get_feature_list(np.diff(rpeaks))])\n",
    "    \n",
    "    feats = np.concatenate([feats, get_feature_list(templates, axis = 0)])\n",
    "    \n",
    "    heart_rate = np.array([np.nan, np.nan])  if len(heart_rate) == 0 else heart_rate\n",
    "    feats = np.concatenate([feats, get_feature_list(heart_rate)])\n",
    "    heart_rate_ts = np.array([np.nan, np.nan])  if len(heart_rate_ts) == 0 else heart_rate_ts\n",
    "    feats = np.concatenate([feats, get_feature_list(heart_rate_ts)])\n",
    "    \n",
    "    heart_rate = np.array([np.nan, np.nan])  if len(heart_rate) == 1 else heart_rate\n",
    "    feats = np.concatenate([feats, get_feature_list(np.diff(heart_rate))])\n",
    "    heart_rate_ts = np.array([np.nan, np.nan])  if len(heart_rate_ts) == 1 else heart_rate_ts\n",
    "    feats = np.concatenate([feats, get_feature_list(np.diff(heart_rate_ts))])\n",
    "    \n",
    "    \n",
    "    return feats\n",
    "\n",
    "def extract_feature_batch(X_signal_batch):\n",
    "    X_feat = []\n",
    "    for i in range(X_signal_batch.shape[0]):\n",
    "        signal = X_signal_batch.iloc[i]\n",
    "        signal_cut = np.array(signal.dropna())\n",
    "        X_feat.append(extract_feature(signal_cut, 300))\n",
    "    return np.array(X_feat)"
   ]
  },
  {
   "cell_type": "code",
   "execution_count": 3,
   "id": "8221d1a6",
   "metadata": {},
   "outputs": [],
   "source": [
    "X_train_data = pd.read_csv(\"X_train.csv\")\n",
    "indices_train = np.array(X_train_data)[:,0]\n",
    "X_train_data.drop(\"id\", axis=1, inplace = True)\n",
    "\n",
    "X_test_data =  pd.read_csv(\"X_test.csv\")\n",
    "indices_test = np.array(X_test_data)[:,0]\n",
    "X_test_data.drop(\"id\", axis=1, inplace = True)\n"
   ]
  },
  {
   "cell_type": "code",
   "execution_count": 4,
   "id": "57f2225c",
   "metadata": {},
   "outputs": [],
   "source": [
    "X_train = extract_feature_batch(X_train_data)\n",
    "X_test = extract_feature_batch(X_test_data)"
   ]
  },
  {
   "cell_type": "code",
   "execution_count": 5,
   "id": "d8ab8337",
   "metadata": {},
   "outputs": [],
   "source": [
    "X_train_feat = np.insert(X_train,0,[indices_train],axis=1)\n",
    "X_test_feat = np.insert(X_test,0,[indices_test],axis= 1)"
   ]
  },
  {
   "cell_type": "code",
   "execution_count": 6,
   "id": "2c8d103a",
   "metadata": {},
   "outputs": [],
   "source": [
    "df_X_train = pd.DataFrame(X_train_feat)\n",
    "df_X_test = pd.DataFrame(X_test_feat)\n",
    "df_X_train.to_csv(\"X_train_feature_rm.csv\", index=False)\n",
    "df_X_test.to_csv(\"X_test_feature_rm.csv\", index=False)"
   ]
  }
 ],
 "metadata": {
  "kernelspec": {
   "display_name": "Python 3 (ipykernel)",
   "language": "python",
   "name": "python3"
  },
  "language_info": {
   "codemirror_mode": {
    "name": "ipython",
    "version": 3
   },
   "file_extension": ".py",
   "mimetype": "text/x-python",
   "name": "python",
   "nbconvert_exporter": "python",
   "pygments_lexer": "ipython3",
   "version": "3.8.12"
  }
 },
 "nbformat": 4,
 "nbformat_minor": 5
}
