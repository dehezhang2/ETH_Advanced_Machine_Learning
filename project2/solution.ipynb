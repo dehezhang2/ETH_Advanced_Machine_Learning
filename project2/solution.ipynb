{
 "cells": [
  {
   "cell_type": "markdown",
   "metadata": {},
   "source": [
    "# Advanced machine learning - Task 3"
   ]
  },
  {
   "cell_type": "markdown",
   "metadata": {},
   "source": [
    "While the previous projects dealt with medical image features, we turn now to the classification of entire time series into one of 4 classes. This time you will work with the original ECG recordings of different length sampled as 300Hz to predict heart rhythm."
   ]
  },
  {
   "cell_type": "code",
   "execution_count": 1,
   "metadata": {},
   "outputs": [],
   "source": [
    "import numpy as np\n",
    "import pandas as pd\n",
    "import pywt\n",
    "import sklearn\n",
    "import matplotlib.pyplot as plt\n",
    "import biosppy\n",
    "from sklearn.preprocessing import normalize\n",
    "from sklearn.ensemble import GradientBoostingClassifier\n",
    "from sklearn.metrics import f1_score"
   ]
  },
  {
   "cell_type": "code",
   "execution_count": 2,
   "metadata": {},
   "outputs": [],
   "source": [
    "X_train_df = pd.read_csv(\"X_train.csv\", index_col='id')\n",
    "y_train_df = pd.read_csv(\"y_train.csv\", index_col='id')\n",
    "y_train_df = y_train_df.to_numpy()\n",
    "X_test_df = pd.read_csv(\"X_test.csv\", index_col='id')"
   ]
  },
  {
   "cell_type": "code",
   "execution_count": 3,
   "metadata": {
    "scrolled": true
   },
   "outputs": [
    {
     "data": {
      "text/html": [
       "<div>\n",
       "<style scoped>\n",
       "    .dataframe tbody tr th:only-of-type {\n",
       "        vertical-align: middle;\n",
       "    }\n",
       "\n",
       "    .dataframe tbody tr th {\n",
       "        vertical-align: top;\n",
       "    }\n",
       "\n",
       "    .dataframe thead th {\n",
       "        text-align: right;\n",
       "    }\n",
       "</style>\n",
       "<table border=\"1\" class=\"dataframe\">\n",
       "  <thead>\n",
       "    <tr style=\"text-align: right;\">\n",
       "      <th></th>\n",
       "      <th>x0</th>\n",
       "      <th>x1</th>\n",
       "      <th>x2</th>\n",
       "      <th>x3</th>\n",
       "      <th>x4</th>\n",
       "      <th>x5</th>\n",
       "      <th>x6</th>\n",
       "      <th>x7</th>\n",
       "      <th>x8</th>\n",
       "      <th>x9</th>\n",
       "      <th>...</th>\n",
       "      <th>x17832</th>\n",
       "      <th>x17833</th>\n",
       "      <th>x17834</th>\n",
       "      <th>x17835</th>\n",
       "      <th>x17836</th>\n",
       "      <th>x17837</th>\n",
       "      <th>x17838</th>\n",
       "      <th>x17839</th>\n",
       "      <th>x17840</th>\n",
       "      <th>x17841</th>\n",
       "    </tr>\n",
       "  </thead>\n",
       "  <tbody>\n",
       "    <tr>\n",
       "      <th>count</th>\n",
       "      <td>5117.000000</td>\n",
       "      <td>5117.000000</td>\n",
       "      <td>5117.000000</td>\n",
       "      <td>5117.000000</td>\n",
       "      <td>5117.000000</td>\n",
       "      <td>5117.000000</td>\n",
       "      <td>5117.000000</td>\n",
       "      <td>5117.000000</td>\n",
       "      <td>5117.000000</td>\n",
       "      <td>5117.000000</td>\n",
       "      <td>...</td>\n",
       "      <td>1.0</td>\n",
       "      <td>1.0</td>\n",
       "      <td>1.0</td>\n",
       "      <td>1.0</td>\n",
       "      <td>1.0</td>\n",
       "      <td>1.0</td>\n",
       "      <td>1.0</td>\n",
       "      <td>1.0</td>\n",
       "      <td>1.0</td>\n",
       "      <td>0.0</td>\n",
       "    </tr>\n",
       "    <tr>\n",
       "      <th>mean</th>\n",
       "      <td>6.382842</td>\n",
       "      <td>5.607387</td>\n",
       "      <td>5.115888</td>\n",
       "      <td>4.909713</td>\n",
       "      <td>5.092828</td>\n",
       "      <td>5.723471</td>\n",
       "      <td>6.469220</td>\n",
       "      <td>7.278483</td>\n",
       "      <td>8.176471</td>\n",
       "      <td>9.098886</td>\n",
       "      <td>...</td>\n",
       "      <td>-121.0</td>\n",
       "      <td>-120.0</td>\n",
       "      <td>-118.0</td>\n",
       "      <td>-116.0</td>\n",
       "      <td>-115.0</td>\n",
       "      <td>-114.0</td>\n",
       "      <td>-113.0</td>\n",
       "      <td>-112.0</td>\n",
       "      <td>-111.0</td>\n",
       "      <td>NaN</td>\n",
       "    </tr>\n",
       "    <tr>\n",
       "      <th>std</th>\n",
       "      <td>339.371828</td>\n",
       "      <td>337.717355</td>\n",
       "      <td>336.734976</td>\n",
       "      <td>337.096437</td>\n",
       "      <td>338.294857</td>\n",
       "      <td>340.230604</td>\n",
       "      <td>342.761518</td>\n",
       "      <td>345.464582</td>\n",
       "      <td>348.134195</td>\n",
       "      <td>351.312129</td>\n",
       "      <td>...</td>\n",
       "      <td>NaN</td>\n",
       "      <td>NaN</td>\n",
       "      <td>NaN</td>\n",
       "      <td>NaN</td>\n",
       "      <td>NaN</td>\n",
       "      <td>NaN</td>\n",
       "      <td>NaN</td>\n",
       "      <td>NaN</td>\n",
       "      <td>NaN</td>\n",
       "      <td>NaN</td>\n",
       "    </tr>\n",
       "    <tr>\n",
       "      <th>min</th>\n",
       "      <td>-5888.000000</td>\n",
       "      <td>-5849.000000</td>\n",
       "      <td>-5750.000000</td>\n",
       "      <td>-5638.000000</td>\n",
       "      <td>-5515.000000</td>\n",
       "      <td>-5379.000000</td>\n",
       "      <td>-5233.000000</td>\n",
       "      <td>-5168.000000</td>\n",
       "      <td>-5760.000000</td>\n",
       "      <td>-6279.000000</td>\n",
       "      <td>...</td>\n",
       "      <td>-121.0</td>\n",
       "      <td>-120.0</td>\n",
       "      <td>-118.0</td>\n",
       "      <td>-116.0</td>\n",
       "      <td>-115.0</td>\n",
       "      <td>-114.0</td>\n",
       "      <td>-113.0</td>\n",
       "      <td>-112.0</td>\n",
       "      <td>-111.0</td>\n",
       "      <td>NaN</td>\n",
       "    </tr>\n",
       "    <tr>\n",
       "      <th>25%</th>\n",
       "      <td>-89.000000</td>\n",
       "      <td>-89.000000</td>\n",
       "      <td>-89.000000</td>\n",
       "      <td>-89.000000</td>\n",
       "      <td>-87.000000</td>\n",
       "      <td>-87.000000</td>\n",
       "      <td>-85.000000</td>\n",
       "      <td>-85.000000</td>\n",
       "      <td>-86.000000</td>\n",
       "      <td>-86.000000</td>\n",
       "      <td>...</td>\n",
       "      <td>-121.0</td>\n",
       "      <td>-120.0</td>\n",
       "      <td>-118.0</td>\n",
       "      <td>-116.0</td>\n",
       "      <td>-115.0</td>\n",
       "      <td>-114.0</td>\n",
       "      <td>-113.0</td>\n",
       "      <td>-112.0</td>\n",
       "      <td>-111.0</td>\n",
       "      <td>NaN</td>\n",
       "    </tr>\n",
       "    <tr>\n",
       "      <th>50%</th>\n",
       "      <td>-9.000000</td>\n",
       "      <td>-10.000000</td>\n",
       "      <td>-11.000000</td>\n",
       "      <td>-10.000000</td>\n",
       "      <td>-10.000000</td>\n",
       "      <td>-10.000000</td>\n",
       "      <td>-9.000000</td>\n",
       "      <td>-8.000000</td>\n",
       "      <td>-8.000000</td>\n",
       "      <td>-8.000000</td>\n",
       "      <td>...</td>\n",
       "      <td>-121.0</td>\n",
       "      <td>-120.0</td>\n",
       "      <td>-118.0</td>\n",
       "      <td>-116.0</td>\n",
       "      <td>-115.0</td>\n",
       "      <td>-114.0</td>\n",
       "      <td>-113.0</td>\n",
       "      <td>-112.0</td>\n",
       "      <td>-111.0</td>\n",
       "      <td>NaN</td>\n",
       "    </tr>\n",
       "    <tr>\n",
       "      <th>75%</th>\n",
       "      <td>88.000000</td>\n",
       "      <td>86.000000</td>\n",
       "      <td>86.000000</td>\n",
       "      <td>85.000000</td>\n",
       "      <td>87.000000</td>\n",
       "      <td>87.000000</td>\n",
       "      <td>87.000000</td>\n",
       "      <td>87.000000</td>\n",
       "      <td>87.000000</td>\n",
       "      <td>86.000000</td>\n",
       "      <td>...</td>\n",
       "      <td>-121.0</td>\n",
       "      <td>-120.0</td>\n",
       "      <td>-118.0</td>\n",
       "      <td>-116.0</td>\n",
       "      <td>-115.0</td>\n",
       "      <td>-114.0</td>\n",
       "      <td>-113.0</td>\n",
       "      <td>-112.0</td>\n",
       "      <td>-111.0</td>\n",
       "      <td>NaN</td>\n",
       "    </tr>\n",
       "    <tr>\n",
       "      <th>max</th>\n",
       "      <td>5471.000000</td>\n",
       "      <td>5487.000000</td>\n",
       "      <td>5470.000000</td>\n",
       "      <td>5452.000000</td>\n",
       "      <td>5437.000000</td>\n",
       "      <td>5432.000000</td>\n",
       "      <td>5431.000000</td>\n",
       "      <td>5429.000000</td>\n",
       "      <td>5427.000000</td>\n",
       "      <td>5410.000000</td>\n",
       "      <td>...</td>\n",
       "      <td>-121.0</td>\n",
       "      <td>-120.0</td>\n",
       "      <td>-118.0</td>\n",
       "      <td>-116.0</td>\n",
       "      <td>-115.0</td>\n",
       "      <td>-114.0</td>\n",
       "      <td>-113.0</td>\n",
       "      <td>-112.0</td>\n",
       "      <td>-111.0</td>\n",
       "      <td>NaN</td>\n",
       "    </tr>\n",
       "  </tbody>\n",
       "</table>\n",
       "<p>8 rows × 17842 columns</p>\n",
       "</div>"
      ],
      "text/plain": [
       "                x0           x1           x2           x3           x4  \\\n",
       "count  5117.000000  5117.000000  5117.000000  5117.000000  5117.000000   \n",
       "mean      6.382842     5.607387     5.115888     4.909713     5.092828   \n",
       "std     339.371828   337.717355   336.734976   337.096437   338.294857   \n",
       "min   -5888.000000 -5849.000000 -5750.000000 -5638.000000 -5515.000000   \n",
       "25%     -89.000000   -89.000000   -89.000000   -89.000000   -87.000000   \n",
       "50%      -9.000000   -10.000000   -11.000000   -10.000000   -10.000000   \n",
       "75%      88.000000    86.000000    86.000000    85.000000    87.000000   \n",
       "max    5471.000000  5487.000000  5470.000000  5452.000000  5437.000000   \n",
       "\n",
       "                x5           x6           x7           x8           x9  ...  \\\n",
       "count  5117.000000  5117.000000  5117.000000  5117.000000  5117.000000  ...   \n",
       "mean      5.723471     6.469220     7.278483     8.176471     9.098886  ...   \n",
       "std     340.230604   342.761518   345.464582   348.134195   351.312129  ...   \n",
       "min   -5379.000000 -5233.000000 -5168.000000 -5760.000000 -6279.000000  ...   \n",
       "25%     -87.000000   -85.000000   -85.000000   -86.000000   -86.000000  ...   \n",
       "50%     -10.000000    -9.000000    -8.000000    -8.000000    -8.000000  ...   \n",
       "75%      87.000000    87.000000    87.000000    87.000000    86.000000  ...   \n",
       "max    5432.000000  5431.000000  5429.000000  5427.000000  5410.000000  ...   \n",
       "\n",
       "       x17832  x17833  x17834  x17835  x17836  x17837  x17838  x17839  x17840  \\\n",
       "count     1.0     1.0     1.0     1.0     1.0     1.0     1.0     1.0     1.0   \n",
       "mean   -121.0  -120.0  -118.0  -116.0  -115.0  -114.0  -113.0  -112.0  -111.0   \n",
       "std       NaN     NaN     NaN     NaN     NaN     NaN     NaN     NaN     NaN   \n",
       "min    -121.0  -120.0  -118.0  -116.0  -115.0  -114.0  -113.0  -112.0  -111.0   \n",
       "25%    -121.0  -120.0  -118.0  -116.0  -115.0  -114.0  -113.0  -112.0  -111.0   \n",
       "50%    -121.0  -120.0  -118.0  -116.0  -115.0  -114.0  -113.0  -112.0  -111.0   \n",
       "75%    -121.0  -120.0  -118.0  -116.0  -115.0  -114.0  -113.0  -112.0  -111.0   \n",
       "max    -121.0  -120.0  -118.0  -116.0  -115.0  -114.0  -113.0  -112.0  -111.0   \n",
       "\n",
       "       x17841  \n",
       "count     0.0  \n",
       "mean      NaN  \n",
       "std       NaN  \n",
       "min       NaN  \n",
       "25%       NaN  \n",
       "50%       NaN  \n",
       "75%       NaN  \n",
       "max       NaN  \n",
       "\n",
       "[8 rows x 17842 columns]"
      ]
     },
     "execution_count": 3,
     "metadata": {},
     "output_type": "execute_result"
    }
   ],
   "source": [
    "X_train_df.describe()"
   ]
  },
  {
   "cell_type": "code",
   "execution_count": 4,
   "metadata": {
    "scrolled": true
   },
   "outputs": [
    {
     "data": {
      "text/html": [
       "<div>\n",
       "<style scoped>\n",
       "    .dataframe tbody tr th:only-of-type {\n",
       "        vertical-align: middle;\n",
       "    }\n",
       "\n",
       "    .dataframe tbody tr th {\n",
       "        vertical-align: top;\n",
       "    }\n",
       "\n",
       "    .dataframe thead th {\n",
       "        text-align: right;\n",
       "    }\n",
       "</style>\n",
       "<table border=\"1\" class=\"dataframe\">\n",
       "  <thead>\n",
       "    <tr style=\"text-align: right;\">\n",
       "      <th></th>\n",
       "      <th>x0</th>\n",
       "      <th>x1</th>\n",
       "      <th>x2</th>\n",
       "      <th>x3</th>\n",
       "      <th>x4</th>\n",
       "      <th>x5</th>\n",
       "      <th>x6</th>\n",
       "      <th>x7</th>\n",
       "      <th>x8</th>\n",
       "      <th>x9</th>\n",
       "      <th>...</th>\n",
       "      <th>x17832</th>\n",
       "      <th>x17833</th>\n",
       "      <th>x17834</th>\n",
       "      <th>x17835</th>\n",
       "      <th>x17836</th>\n",
       "      <th>x17837</th>\n",
       "      <th>x17838</th>\n",
       "      <th>x17839</th>\n",
       "      <th>x17840</th>\n",
       "      <th>x17841</th>\n",
       "    </tr>\n",
       "  </thead>\n",
       "  <tbody>\n",
       "    <tr>\n",
       "      <th>count</th>\n",
       "      <td>3411.00000</td>\n",
       "      <td>3411.000000</td>\n",
       "      <td>3411.000000</td>\n",
       "      <td>3411.000000</td>\n",
       "      <td>3411.000000</td>\n",
       "      <td>3411.000000</td>\n",
       "      <td>3411.000000</td>\n",
       "      <td>3411.000000</td>\n",
       "      <td>3411.000000</td>\n",
       "      <td>3411.000000</td>\n",
       "      <td>...</td>\n",
       "      <td>0.0</td>\n",
       "      <td>0.0</td>\n",
       "      <td>0.0</td>\n",
       "      <td>0.0</td>\n",
       "      <td>0.0</td>\n",
       "      <td>0.0</td>\n",
       "      <td>0.0</td>\n",
       "      <td>0.0</td>\n",
       "      <td>0.0</td>\n",
       "      <td>0.0</td>\n",
       "    </tr>\n",
       "    <tr>\n",
       "      <th>mean</th>\n",
       "      <td>3.04808</td>\n",
       "      <td>2.534741</td>\n",
       "      <td>2.179420</td>\n",
       "      <td>1.850191</td>\n",
       "      <td>1.758135</td>\n",
       "      <td>1.567869</td>\n",
       "      <td>1.339197</td>\n",
       "      <td>1.150982</td>\n",
       "      <td>0.745529</td>\n",
       "      <td>0.233949</td>\n",
       "      <td>...</td>\n",
       "      <td>NaN</td>\n",
       "      <td>NaN</td>\n",
       "      <td>NaN</td>\n",
       "      <td>NaN</td>\n",
       "      <td>NaN</td>\n",
       "      <td>NaN</td>\n",
       "      <td>NaN</td>\n",
       "      <td>NaN</td>\n",
       "      <td>NaN</td>\n",
       "      <td>NaN</td>\n",
       "    </tr>\n",
       "    <tr>\n",
       "      <th>std</th>\n",
       "      <td>348.66225</td>\n",
       "      <td>349.111943</td>\n",
       "      <td>350.413328</td>\n",
       "      <td>351.938566</td>\n",
       "      <td>352.962295</td>\n",
       "      <td>353.457038</td>\n",
       "      <td>353.036545</td>\n",
       "      <td>351.921339</td>\n",
       "      <td>350.292242</td>\n",
       "      <td>348.996013</td>\n",
       "      <td>...</td>\n",
       "      <td>NaN</td>\n",
       "      <td>NaN</td>\n",
       "      <td>NaN</td>\n",
       "      <td>NaN</td>\n",
       "      <td>NaN</td>\n",
       "      <td>NaN</td>\n",
       "      <td>NaN</td>\n",
       "      <td>NaN</td>\n",
       "      <td>NaN</td>\n",
       "      <td>NaN</td>\n",
       "    </tr>\n",
       "    <tr>\n",
       "      <th>min</th>\n",
       "      <td>-4146.00000</td>\n",
       "      <td>-4193.000000</td>\n",
       "      <td>-4225.000000</td>\n",
       "      <td>-4253.000000</td>\n",
       "      <td>-4273.000000</td>\n",
       "      <td>-4285.000000</td>\n",
       "      <td>-4292.000000</td>\n",
       "      <td>-4297.000000</td>\n",
       "      <td>-4301.000000</td>\n",
       "      <td>-4301.000000</td>\n",
       "      <td>...</td>\n",
       "      <td>NaN</td>\n",
       "      <td>NaN</td>\n",
       "      <td>NaN</td>\n",
       "      <td>NaN</td>\n",
       "      <td>NaN</td>\n",
       "      <td>NaN</td>\n",
       "      <td>NaN</td>\n",
       "      <td>NaN</td>\n",
       "      <td>NaN</td>\n",
       "      <td>NaN</td>\n",
       "    </tr>\n",
       "    <tr>\n",
       "      <th>25%</th>\n",
       "      <td>-87.50000</td>\n",
       "      <td>-87.000000</td>\n",
       "      <td>-88.000000</td>\n",
       "      <td>-87.000000</td>\n",
       "      <td>-88.000000</td>\n",
       "      <td>-87.000000</td>\n",
       "      <td>-87.000000</td>\n",
       "      <td>-87.000000</td>\n",
       "      <td>-88.000000</td>\n",
       "      <td>-87.500000</td>\n",
       "      <td>...</td>\n",
       "      <td>NaN</td>\n",
       "      <td>NaN</td>\n",
       "      <td>NaN</td>\n",
       "      <td>NaN</td>\n",
       "      <td>NaN</td>\n",
       "      <td>NaN</td>\n",
       "      <td>NaN</td>\n",
       "      <td>NaN</td>\n",
       "      <td>NaN</td>\n",
       "      <td>NaN</td>\n",
       "    </tr>\n",
       "    <tr>\n",
       "      <th>50%</th>\n",
       "      <td>-10.00000</td>\n",
       "      <td>-11.000000</td>\n",
       "      <td>-10.000000</td>\n",
       "      <td>-10.000000</td>\n",
       "      <td>-9.000000</td>\n",
       "      <td>-10.000000</td>\n",
       "      <td>-9.000000</td>\n",
       "      <td>-9.000000</td>\n",
       "      <td>-9.000000</td>\n",
       "      <td>-9.000000</td>\n",
       "      <td>...</td>\n",
       "      <td>NaN</td>\n",
       "      <td>NaN</td>\n",
       "      <td>NaN</td>\n",
       "      <td>NaN</td>\n",
       "      <td>NaN</td>\n",
       "      <td>NaN</td>\n",
       "      <td>NaN</td>\n",
       "      <td>NaN</td>\n",
       "      <td>NaN</td>\n",
       "      <td>NaN</td>\n",
       "    </tr>\n",
       "    <tr>\n",
       "      <th>75%</th>\n",
       "      <td>85.50000</td>\n",
       "      <td>84.500000</td>\n",
       "      <td>84.000000</td>\n",
       "      <td>82.000000</td>\n",
       "      <td>81.000000</td>\n",
       "      <td>82.000000</td>\n",
       "      <td>83.000000</td>\n",
       "      <td>83.000000</td>\n",
       "      <td>84.000000</td>\n",
       "      <td>83.000000</td>\n",
       "      <td>...</td>\n",
       "      <td>NaN</td>\n",
       "      <td>NaN</td>\n",
       "      <td>NaN</td>\n",
       "      <td>NaN</td>\n",
       "      <td>NaN</td>\n",
       "      <td>NaN</td>\n",
       "      <td>NaN</td>\n",
       "      <td>NaN</td>\n",
       "      <td>NaN</td>\n",
       "      <td>NaN</td>\n",
       "    </tr>\n",
       "    <tr>\n",
       "      <th>max</th>\n",
       "      <td>3734.00000</td>\n",
       "      <td>3598.000000</td>\n",
       "      <td>3453.000000</td>\n",
       "      <td>3306.000000</td>\n",
       "      <td>3167.000000</td>\n",
       "      <td>3038.000000</td>\n",
       "      <td>2926.000000</td>\n",
       "      <td>2933.000000</td>\n",
       "      <td>3112.000000</td>\n",
       "      <td>3255.000000</td>\n",
       "      <td>...</td>\n",
       "      <td>NaN</td>\n",
       "      <td>NaN</td>\n",
       "      <td>NaN</td>\n",
       "      <td>NaN</td>\n",
       "      <td>NaN</td>\n",
       "      <td>NaN</td>\n",
       "      <td>NaN</td>\n",
       "      <td>NaN</td>\n",
       "      <td>NaN</td>\n",
       "      <td>NaN</td>\n",
       "    </tr>\n",
       "  </tbody>\n",
       "</table>\n",
       "<p>8 rows × 17842 columns</p>\n",
       "</div>"
      ],
      "text/plain": [
       "               x0           x1           x2           x3           x4  \\\n",
       "count  3411.00000  3411.000000  3411.000000  3411.000000  3411.000000   \n",
       "mean      3.04808     2.534741     2.179420     1.850191     1.758135   \n",
       "std     348.66225   349.111943   350.413328   351.938566   352.962295   \n",
       "min   -4146.00000 -4193.000000 -4225.000000 -4253.000000 -4273.000000   \n",
       "25%     -87.50000   -87.000000   -88.000000   -87.000000   -88.000000   \n",
       "50%     -10.00000   -11.000000   -10.000000   -10.000000    -9.000000   \n",
       "75%      85.50000    84.500000    84.000000    82.000000    81.000000   \n",
       "max    3734.00000  3598.000000  3453.000000  3306.000000  3167.000000   \n",
       "\n",
       "                x5           x6           x7           x8           x9  ...  \\\n",
       "count  3411.000000  3411.000000  3411.000000  3411.000000  3411.000000  ...   \n",
       "mean      1.567869     1.339197     1.150982     0.745529     0.233949  ...   \n",
       "std     353.457038   353.036545   351.921339   350.292242   348.996013  ...   \n",
       "min   -4285.000000 -4292.000000 -4297.000000 -4301.000000 -4301.000000  ...   \n",
       "25%     -87.000000   -87.000000   -87.000000   -88.000000   -87.500000  ...   \n",
       "50%     -10.000000    -9.000000    -9.000000    -9.000000    -9.000000  ...   \n",
       "75%      82.000000    83.000000    83.000000    84.000000    83.000000  ...   \n",
       "max    3038.000000  2926.000000  2933.000000  3112.000000  3255.000000  ...   \n",
       "\n",
       "       x17832  x17833  x17834  x17835  x17836  x17837  x17838  x17839  x17840  \\\n",
       "count     0.0     0.0     0.0     0.0     0.0     0.0     0.0     0.0     0.0   \n",
       "mean      NaN     NaN     NaN     NaN     NaN     NaN     NaN     NaN     NaN   \n",
       "std       NaN     NaN     NaN     NaN     NaN     NaN     NaN     NaN     NaN   \n",
       "min       NaN     NaN     NaN     NaN     NaN     NaN     NaN     NaN     NaN   \n",
       "25%       NaN     NaN     NaN     NaN     NaN     NaN     NaN     NaN     NaN   \n",
       "50%       NaN     NaN     NaN     NaN     NaN     NaN     NaN     NaN     NaN   \n",
       "75%       NaN     NaN     NaN     NaN     NaN     NaN     NaN     NaN     NaN   \n",
       "max       NaN     NaN     NaN     NaN     NaN     NaN     NaN     NaN     NaN   \n",
       "\n",
       "       x17841  \n",
       "count     0.0  \n",
       "mean      NaN  \n",
       "std       NaN  \n",
       "min       NaN  \n",
       "25%       NaN  \n",
       "50%       NaN  \n",
       "75%       NaN  \n",
       "max       NaN  \n",
       "\n",
       "[8 rows x 17842 columns]"
      ]
     },
     "execution_count": 4,
     "metadata": {},
     "output_type": "execute_result"
    }
   ],
   "source": [
    "X_test_df.describe()"
   ]
  },
  {
   "cell_type": "markdown",
   "metadata": {},
   "source": [
    "## Define necessary functions"
   ]
  },
  {
   "cell_type": "code",
   "execution_count": 5,
   "metadata": {},
   "outputs": [],
   "source": [
    "def remove_starting_period(data):\n",
    "    start = 700\n",
    "    data = data.drop(data.columns[range(start)], axis=1)\n",
    "    return data\n",
    "\n",
    "def check_flipped_ecg(data):\n",
    "    a = (np.max(data, axis=1) <= -0.75*np.min(data, axis=1))\n",
    "    idx = np.where(a)[0]\n",
    "    data.loc[idx,:] = - data.loc[idx,:]\n",
    "    return data\n",
    "\n",
    "def extract_peaks_intervals(tmpl):\n",
    "    norm_tmpl = normalize(tmpl)\n",
    "    wave = np.array(sum(norm_tmpl) / len(norm_tmpl))\n",
    "    idx = np.where(wave == np.max(wave))\n",
    "    R_location = idx[0][0]\n",
    "    before_R = wave[:R_location]\n",
    "    Q_location = np.where(wave == np.min(before_R[R_location-35:R_location]))\n",
    "    Q_location = Q_location[0][0]\n",
    "    P_location = np.where(before_R[0:Q_location] == np.max(before_R[0:Q_location]))\n",
    "    P_location = P_location[0][0]\n",
    "    after_R = wave[R_location:]\n",
    "    S_location = np.where(wave == np.min(after_R[:25]))[0][0]\n",
    "    T_location = np.where(wave == np.max(after_R[S_location-R_location+1:]))[0][0]\n",
    "\n",
    "    PR_interval = R_location - P_location\n",
    "    QRS_interval = S_location - Q_location\n",
    "    ST_interval = T_location - S_location\n",
    "    \n",
    "    return R_location, Q_location, P_location, S_location, T_location, PR_interval, QRS_interval, ST_interval, np.ptp(wave), np.average(wave)\n",
    "\n",
    "def features(data):\n",
    "    num_row = data.shape[0]\n",
    "    num_col = 118  # num of features defined below\n",
    "      \n",
    "    output = np.empty((num_row, num_col))\n",
    "    \n",
    "    for i in range(num_row):\n",
    "        # extract ecg information\n",
    "        idx = np.isfinite(data.loc[i,:])\n",
    "        ecg_output = biosppy.signals.ecg.ecg(data.loc[i,idx],sampling_rate=300, show=False)\n",
    "        \n",
    "        # rpeaks => 5 features\n",
    "        rpeaks = ecg_output['rpeaks']\n",
    "        # relative to number of observations\n",
    "        output[i,0] = rpeaks.shape[0] / np.sum(idx==True)\n",
    "        #average and std of delta betweeen rpeaks\n",
    "        output[i,1] = np.mean(np.diff(rpeaks))   \n",
    "        output[i,2] = np.std(np.diff(rpeaks))        \n",
    "        output[i,3] = np.quantile(np.diff(rpeaks),0.05) \n",
    "        output[i,4] = np.quantile(np.diff(rpeaks),0.95)\n",
    "        \n",
    "        # heart rate => 7 features\n",
    "        hr = ecg_output['heart_rate']\n",
    "        if hr.shape[0] != 0:\n",
    "            output[i,5] = np.min(hr)\n",
    "            output[i,6] = np.max(hr)\n",
    "            output[i,7] = np.quantile(hr, 0.05)\n",
    "            output[i,8] = np.quantile(hr, 0.95)\n",
    "            output[i,9] = np.std(hr)\n",
    "            output[i,10] = np.std(hr)\n",
    "        else:\n",
    "            output[i,5:11] = float(\"nan\")\n",
    "            \n",
    "        # templates => \n",
    "        tmpl = ecg_output['templates']\n",
    "        # median, mean and std across templates (rows) for each time point (col)\n",
    "        data_mean = np.mean(tmpl, axis=0)\n",
    "        data_median = np.median(tmpl, axis=0)\n",
    "        data_std = np.std(tmpl, axis=0)\n",
    "        data_max = np.max(tmpl, axis=0)\n",
    "        data_min = np.min(tmpl, axis=0)\n",
    "        output[i,11] = np.mean(np.abs(data_mean - data_median))\n",
    "        output[i,12] = np.mean(np.abs(data_max))\n",
    "        output[i,13] = np.mean(np.abs(data_min))\n",
    "        output[i,14] = np.mean(data_std)\n",
    "        output[i,15] = output[i, 14] / output[i, 12]  # like a normalized volatility (peak=1)\n",
    "        \n",
    "        # wavelet transform\n",
    "        cA, cD = pywt.dwt(ecg_output['templates'], 'db2')\n",
    "        # calc stats per bucket (covering 20pts)\n",
    "        k=16\n",
    "        for j in range(9):\n",
    "            idx = range(j*10,(j+1)*10)\n",
    "            data_mean = np.mean(cD[:,idx], axis=0)\n",
    "            data_median = np.median(cD[:,idx], axis=0)\n",
    "            data_std = np.std(cD[:,idx], axis=0)\n",
    "            data_max = np.max(cD[:,idx], axis=0)\n",
    "            data_min = np.min(cD[:,idx], axis=0)\n",
    "            output[i,k] = np.mean(data_median)\n",
    "            output[i,k+1] = np.mean(data_max)\n",
    "            output[i,k+2] = np.mean(data_min)\n",
    "            output[i,k+3] = np.mean(data_mean)   \n",
    "            output[i,k+4] = np.mean(data_std)       \n",
    "            # same with data normalized by peak value\n",
    "            data_mean = np.mean(cA[:,idx], axis=0)\n",
    "            data_median = np.median(cA[:,idx], axis=0)\n",
    "            data_std = np.std(cA[:,idx], axis=0)\n",
    "            data_max = np.max(cA[:,idx], axis=0)\n",
    "            data_min = np.min(cA[:,idx], axis=0)\n",
    "            output[i,k+5] = np.mean(data_median)\n",
    "            output[i,k+6] = np.mean(data_max)\n",
    "            output[i,k+7] = np.mean(data_min)\n",
    "            output[i,k+8] = np.mean(data_mean)   \n",
    "            output[i,k+9] = np.mean(data_std)               \n",
    "            k = k+10\n",
    "            \n",
    "        \n",
    "        # add R, Q, P, S, T and their intervals\n",
    "        peaks_intervals = extract_peaks_intervals(tmpl)\n",
    "        for feature in peaks_intervals:\n",
    "            output[i, k] = feature\n",
    "            k += 1\n",
    "            \n",
    "        # ptp = np.ptp(data.loc[i,idx])\n",
    "        # avg = np.avg(data.loc[i,idx])\n",
    "        # output[i, k] = ptp\n",
    "        # output[i, k+1] = avg\n",
    "        \n",
    "            \n",
    "        if i % 500 == 0:\n",
    "            print(i)\n",
    "            \n",
    "    col_mean = np.nanmean(output, axis=0)\n",
    "    idx = np.where(np.isnan(output))\n",
    "    print('Nr of NaNs: ', idx[1].shape[0])\n",
    "    print(idx)\n",
    "    output[idx] = np.take(col_mean, idx[1])\n",
    "    \n",
    "    return output\n",
    "\n",
    "def process_data(data):\n",
    "    data = remove_starting_period(data)\n",
    "    data = check_flipped_ecg(data)\n",
    "    return features(data)\n",
    "    \n",
    "\n"
   ]
  },
  {
   "cell_type": "markdown",
   "metadata": {},
   "source": [
    "## Extracting peaks and intervals"
   ]
  },
  {
   "cell_type": "code",
   "execution_count": 6,
   "metadata": {},
   "outputs": [
    {
     "data": {
      "image/png": "[encoded data removed]",
      "text/plain": [
       "<Figure size 432x288 with 4 Axes>"
      ]
     },
     "metadata": {
      "needs_background": "light"
     },
     "output_type": "display_data"
    }
   ],
   "source": [
    "i = 100\n",
    "idx = np.isfinite(X_train_df.loc[i,:])\n",
    "a = biosppy.signals.ecg.ecg(X_train_df.loc[i,idx], sampling_rate=300)\n"
   ]
  },
  {
   "cell_type": "code",
   "execution_count": 7,
   "metadata": {},
   "outputs": [
    {
     "data": {
      "text/plain": [
       "[<matplotlib.lines.Line2D at 0x7fd81d571e10>]"
      ]
     },
     "execution_count": 7,
     "metadata": {},
     "output_type": "execute_result"
    },
    {
     "data": {
      "image/png": "[encoded data removed]",
      "text/plain": [
       "<Figure size 432x288 with 1 Axes>"
      ]
     },
     "metadata": {
      "needs_background": "light"
     },
     "output_type": "display_data"
    }
   ],
   "source": [
    "norm_tmpl = normalize(a[\"templates\"])\n",
    "wave = np.array(sum(norm_tmpl) / len(norm_tmpl))\n",
    "plt.plot(wave)"
   ]
  },
  {
   "cell_type": "code",
   "execution_count": 8,
   "metadata": {},
   "outputs": [
    {
     "data": {
      "image/png": "[encoded data removed]",
      "text/plain": [
       "<Figure size 432x288 with 1 Axes>"
      ]
     },
     "metadata": {
      "needs_background": "light"
     },
     "output_type": "display_data"
    }
   ],
   "source": [
    "idx = np.where(wave == np.max(wave))\n",
    "R_location = idx[0][0]\n",
    "before_R = wave[:R_location]\n",
    "Q_location = np.where(wave == np.min(before_R[R_location-35:R_location]))\n",
    "Q_location = Q_location[0][0]\n",
    "P_location = np.where(before_R[0:Q_location] == np.max(before_R[0:Q_location]))\n",
    "P_location = P_location[0][0]\n",
    "after_R = wave[R_location:]\n",
    "S_location = np.where(wave == np.min(after_R[:25]))[0][0]\n",
    "T_location = np.where(wave == np.max(after_R[S_location+1:]))[0][0]\n",
    "\n",
    "PR_interval = R_location - P_location\n",
    "QRS_interval = S_location - Q_location\n",
    "ST_interval = T_location - S_location\n",
    "\n",
    "plt.plot(wave)\n",
    "plt.scatter(R_location, wave[R_location], label='R')\n",
    "plt.scatter(Q_location, wave[Q_location], label='Q')\n",
    "plt.scatter(P_location, wave[P_location], label='P')\n",
    "plt.scatter(S_location, wave[S_location], label='S')\n",
    "plt.scatter(T_location, wave[T_location], label='T')\n",
    "plt.legend()\n",
    "plt.show()\n"
   ]
  },
  {
   "cell_type": "markdown",
   "metadata": {},
   "source": [
    "## Training"
   ]
  },
  {
   "cell_type": "code",
   "execution_count": 10,
   "metadata": {},
   "outputs": [
    {
     "name": "stderr",
     "output_type": "stream",
     "text": [
      "/opt/anaconda3/lib/python3.7/site-packages/sklearn/utils/validation.py:63: DataConversionWarning: A column-vector y was passed when a 1d array was expected. Please change the shape of y to (n_samples, ), for example using ravel().\n",
      "  return f(*args, **kwargs)\n"
     ]
    },
    {
     "ename": "IndexError",
     "evalue": "index 60 is out of bounds for axis 0 with size 5",
     "output_type": "error",
     "traceback": [
      "\u001b[0;31m---------------------------------------------------------------------------\u001b[0m",
      "\u001b[0;31mIndexError\u001b[0m                                Traceback (most recent call last)",
      "\u001b[0;32m<ipython-input-10-85f669b10ebc>\u001b[0m in \u001b[0;36m<module>\u001b[0;34m\u001b[0m\n\u001b[1;32m     15\u001b[0m         \u001b[0mclf\u001b[0m\u001b[0;34m.\u001b[0m\u001b[0mfit\u001b[0m\u001b[0;34m(\u001b[0m\u001b[0mx_trn\u001b[0m\u001b[0;34m,\u001b[0m \u001b[0my_trn\u001b[0m\u001b[0;34m)\u001b[0m\u001b[0;34m\u001b[0m\u001b[0m\n\u001b[1;32m     16\u001b[0m         \u001b[0my_pred\u001b[0m \u001b[0;34m=\u001b[0m \u001b[0mclf\u001b[0m\u001b[0;34m.\u001b[0m\u001b[0mpredict\u001b[0m\u001b[0;34m(\u001b[0m\u001b[0mx_tst\u001b[0m\u001b[0;34m)\u001b[0m\u001b[0;34m\u001b[0m\u001b[0m\n\u001b[0;32m---> 17\u001b[0;31m         \u001b[0mavg_F1\u001b[0m\u001b[0;34m[\u001b[0m\u001b[0midx\u001b[0m\u001b[0;34m]\u001b[0m \u001b[0;34m=\u001b[0m \u001b[0mavg_F1\u001b[0m\u001b[0;34m[\u001b[0m\u001b[0midx\u001b[0m\u001b[0;34m]\u001b[0m \u001b[0;34m+\u001b[0m \u001b[0mf1_score\u001b[0m\u001b[0;34m(\u001b[0m\u001b[0my_tst\u001b[0m\u001b[0;34m,\u001b[0m \u001b[0my_pred\u001b[0m\u001b[0;34m,\u001b[0m \u001b[0maverage\u001b[0m\u001b[0;34m=\u001b[0m\u001b[0;34m'micro'\u001b[0m\u001b[0;34m)\u001b[0m \u001b[0;34m/\u001b[0m \u001b[0mnum_folds\u001b[0m\u001b[0;34m\u001b[0m\u001b[0m\n\u001b[0m\u001b[1;32m     18\u001b[0m         \u001b[0mconf_mat\u001b[0m \u001b[0;34m=\u001b[0m \u001b[0mconf_mat\u001b[0m \u001b[0;34m+\u001b[0m \u001b[0mconfusion_matrix\u001b[0m\u001b[0;34m(\u001b[0m\u001b[0my_tst\u001b[0m\u001b[0;34m,\u001b[0m \u001b[0my_pred\u001b[0m\u001b[0;34m)\u001b[0m\u001b[0;34m/\u001b[0m \u001b[0mnum_folds\u001b[0m\u001b[0;34m\u001b[0m\u001b[0m\n\u001b[1;32m     19\u001b[0m \u001b[0;34m\u001b[0m\u001b[0m\n",
      "\u001b[0;31mIndexError\u001b[0m: index 60 is out of bounds for axis 0 with size 5"
     ]
    }
   ],
   "source": [
    "# num_folds = 10\n",
    "# kf = sklearn.model_selection.KFold(num_folds)\n",
    "# lr = [0.01, 0.05, 0.1, 0.25, 0.5]\n",
    "# n_estimators = [100, 250, 500, 750, 1000]\n",
    "# max_depth = [5, 6, 7, 8, 9]\n",
    "# avg_F1 = np.zeros(len(lr))\n",
    "# conf_mat = np.zeros((4,4))\n",
    "# for lr_i in lr:\n",
    "#     for train_index, test_index in kf.split(train_data):\n",
    "#         x_trn, y_trn = train_data[train_index], y_train_df[train_index]\n",
    "#         x_tst, y_tst = train_data[test_index], y_train_df[test_index]\n",
    "#         clf = sklearn.ensemble.GradientBoostingClassifier(learning_rate=0.1, n_estimators=600, max_depth=8, \n",
    "#                                     min_samples_split=50, min_samples_leaf=30,\n",
    "#                                     max_features='sqrt', random_state=1, subsample=0.8)\n",
    "#         clf.fit(x_trn, y_trn)\n",
    "#         y_pred = clf.predict(x_tst)\n",
    "#         avg_F1[idx] = avg_F1[idx] + f1_score(y_tst, y_pred, average='micro') / num_folds\n",
    "#         conf_mat = conf_mat + confusion_matrix(y_tst, y_pred)/ num_folds\n",
    "    \n",
    "    "
   ]
  },
  {
   "cell_type": "markdown",
   "metadata": {},
   "source": [
    "## Prediction"
   ]
  },
  {
   "cell_type": "code",
   "execution_count": 20,
   "metadata": {},
   "outputs": [],
   "source": [
    "def fit_model_and_pred(X_train, y_train, X_val, y_val, X_test):\n",
    "    clf = sklearn.ensemble.GradientBoostingClassifier(learning_rate=0.1, n_estimators=600, max_depth=8, \n",
    "                                                      min_samples_split=50, min_samples_leaf=30,\n",
    "                                                      max_features='sqrt', random_state=1, subsample=0.8)\n",
    "    clf.fit(X_train, y_train)\n",
    "    y_val_pred = clf.predict(X_val)\n",
    "    score = f1_score(y_val, y_val_pred, average='micro')  \n",
    "    y_pred = clf.predict(X_test)\n",
    "\n",
    "    return score, y_pred\n",
    "\n",
    "def train_k_fold(X, y, X_test, fold_num=5):\n",
    "    kf = sklearn.model_selection.KFold(fold_num)\n",
    "    kf.get_n_splits(X)\n",
    "    test_score = 0.0\n",
    "    predictions = np.zeros(X_test.shape[0])\n",
    "    \n",
    "    for train_index, test_index in kf.split(X):\n",
    "        X_train, X_val = X[train_index], X[test_index]\n",
    "        y_train, y_val = y[train_index], y[test_index]\n",
    "\n",
    "        score, y_pred = fit_model_and_pred(X_train, y_train, X_val, y_val, X_test)\n",
    "\n",
    "        print('The obtained validation f1 score is : ',score)\n",
    "        test_score += score\n",
    "    print(\"Validation score: %f\"%(test_score/fold_num))"
   ]
  },
  {
   "cell_type": "code",
   "execution_count": null,
   "metadata": {},
   "outputs": [],
   "source": [
    "train_data = process_data(X_train_df)\n",
    "test_data = process_data(X_test_df)"
   ]
  },
  {
   "cell_type": "code",
   "execution_count": 21,
   "metadata": {},
   "outputs": [
    {
     "name": "stderr",
     "output_type": "stream",
     "text": [
      "/opt/anaconda3/lib/python3.7/site-packages/sklearn/utils/validation.py:63: DataConversionWarning: A column-vector y was passed when a 1d array was expected. Please change the shape of y to (n_samples, ), for example using ravel().\n",
      "  return f(*args, **kwargs)\n"
     ]
    },
    {
     "name": "stdout",
     "output_type": "stream",
     "text": [
      "The obtained validation f1 score is :  0.802734375\n"
     ]
    },
    {
     "name": "stderr",
     "output_type": "stream",
     "text": [
      "/opt/anaconda3/lib/python3.7/site-packages/sklearn/utils/validation.py:63: DataConversionWarning: A column-vector y was passed when a 1d array was expected. Please change the shape of y to (n_samples, ), for example using ravel().\n",
      "  return f(*args, **kwargs)\n"
     ]
    },
    {
     "name": "stdout",
     "output_type": "stream",
     "text": [
      "The obtained validation f1 score is :  0.810546875\n"
     ]
    },
    {
     "name": "stderr",
     "output_type": "stream",
     "text": [
      "/opt/anaconda3/lib/python3.7/site-packages/sklearn/utils/validation.py:63: DataConversionWarning: A column-vector y was passed when a 1d array was expected. Please change the shape of y to (n_samples, ), for example using ravel().\n",
      "  return f(*args, **kwargs)\n"
     ]
    },
    {
     "name": "stdout",
     "output_type": "stream",
     "text": [
      "The obtained validation f1 score is :  0.779296875\n"
     ]
    },
    {
     "name": "stderr",
     "output_type": "stream",
     "text": [
      "/opt/anaconda3/lib/python3.7/site-packages/sklearn/utils/validation.py:63: DataConversionWarning: A column-vector y was passed when a 1d array was expected. Please change the shape of y to (n_samples, ), for example using ravel().\n",
      "  return f(*args, **kwargs)\n"
     ]
    },
    {
     "name": "stdout",
     "output_type": "stream",
     "text": [
      "The obtained validation f1 score is :  0.8125\n"
     ]
    },
    {
     "name": "stderr",
     "output_type": "stream",
     "text": [
      "/opt/anaconda3/lib/python3.7/site-packages/sklearn/utils/validation.py:63: DataConversionWarning: A column-vector y was passed when a 1d array was expected. Please change the shape of y to (n_samples, ), for example using ravel().\n",
      "  return f(*args, **kwargs)\n"
     ]
    },
    {
     "name": "stdout",
     "output_type": "stream",
     "text": [
      "The obtained validation f1 score is :  0.8046875\n"
     ]
    },
    {
     "name": "stderr",
     "output_type": "stream",
     "text": [
      "/opt/anaconda3/lib/python3.7/site-packages/sklearn/utils/validation.py:63: DataConversionWarning: A column-vector y was passed when a 1d array was expected. Please change the shape of y to (n_samples, ), for example using ravel().\n",
      "  return f(*args, **kwargs)\n"
     ]
    },
    {
     "name": "stdout",
     "output_type": "stream",
     "text": [
      "The obtained validation f1 score is :  0.8203125\n"
     ]
    },
    {
     "name": "stderr",
     "output_type": "stream",
     "text": [
      "/opt/anaconda3/lib/python3.7/site-packages/sklearn/utils/validation.py:63: DataConversionWarning: A column-vector y was passed when a 1d array was expected. Please change the shape of y to (n_samples, ), for example using ravel().\n",
      "  return f(*args, **kwargs)\n"
     ]
    },
    {
     "name": "stdout",
     "output_type": "stream",
     "text": [
      "The obtained validation f1 score is :  0.771484375\n"
     ]
    },
    {
     "name": "stderr",
     "output_type": "stream",
     "text": [
      "/opt/anaconda3/lib/python3.7/site-packages/sklearn/utils/validation.py:63: DataConversionWarning: A column-vector y was passed when a 1d array was expected. Please change the shape of y to (n_samples, ), for example using ravel().\n",
      "  return f(*args, **kwargs)\n"
     ]
    },
    {
     "name": "stdout",
     "output_type": "stream",
     "text": [
      "The obtained validation f1 score is :  0.812133072407045\n"
     ]
    },
    {
     "name": "stderr",
     "output_type": "stream",
     "text": [
      "/opt/anaconda3/lib/python3.7/site-packages/sklearn/utils/validation.py:63: DataConversionWarning: A column-vector y was passed when a 1d array was expected. Please change the shape of y to (n_samples, ), for example using ravel().\n",
      "  return f(*args, **kwargs)\n"
     ]
    },
    {
     "name": "stdout",
     "output_type": "stream",
     "text": [
      "The obtained validation f1 score is :  0.7945205479452053\n"
     ]
    },
    {
     "name": "stderr",
     "output_type": "stream",
     "text": [
      "/opt/anaconda3/lib/python3.7/site-packages/sklearn/utils/validation.py:63: DataConversionWarning: A column-vector y was passed when a 1d array was expected. Please change the shape of y to (n_samples, ), for example using ravel().\n",
      "  return f(*args, **kwargs)\n"
     ]
    },
    {
     "name": "stdout",
     "output_type": "stream",
     "text": [
      "The obtained validation f1 score is :  0.7925636007827789\n",
      "Validation score: 1.600156\n"
     ]
    }
   ],
   "source": [
    "train_k_fold(train_data, y_train_df, test_data)"
   ]
  },
  {
   "cell_type": "code",
   "execution_count": 13,
   "metadata": {},
   "outputs": [],
   "source": [
    "predictions = clf.predict(test_data)"
   ]
  },
  {
   "cell_type": "code",
   "execution_count": 14,
   "metadata": {},
   "outputs": [],
   "source": [
    "ids = np.arange(0, len(predictions))\n",
    "output = pd.DataFrame({'id': ids,\n",
    "                           'y': predictions})\n",
    "output.to_csv(\"output.csv\", index=False)"
   ]
  },
  {
   "cell_type": "code",
   "execution_count": null,
   "metadata": {},
   "outputs": [],
   "source": []
  }
 ],
 "metadata": {
  "kernelspec": {
   "display_name": "Python 3",
   "language": "python",
   "name": "python3"
  },
  "language_info": {
   "codemirror_mode": {
    "name": "ipython",
    "version": 3
   },
   "file_extension": ".py",
   "mimetype": "text/x-python",
   "name": "python",
   "nbconvert_exporter": "python",
   "pygments_lexer": "ipython3",
   "version": "3.7.0"
  }
 },
 "nbformat": 4,
 "nbformat_minor": 4
}
