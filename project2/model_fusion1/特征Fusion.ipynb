{
 "cells": [
  {
   "cell_type": "code",
   "execution_count": 1,
   "metadata": {},
   "outputs": [],
   "source": [
    "import numpy as np\n",
    "import pandas as pd\n",
    "\n",
    "from sklearn.preprocessing import StandardScaler\n",
    "from sklearn.metrics import f1_score\n",
    "\n",
    "from sklearn.ensemble import GradientBoostingClassifier\n",
    "\n",
    "from sklearn.model_selection import KFold, GridSearchCV\n",
    "from sklearn.pipeline import Pipeline, make_pipeline\n",
    "from sklearn.metrics import make_scorer\n",
    "from sklearn.impute import SimpleImputer"
   ]
  },
  {
   "cell_type": "code",
   "execution_count": null,
   "metadata": {},
   "outputs": [],
   "source": [
    "def fit_model_and_pred(X_train, y_train, X_val, y_val, X_test):\n",
    "#     clf = GradientBoostingClassifier(n_estimators = 250, \n",
    "#                                        max_depth = 5,\n",
    "#                                        learning_rate = 0.1, \n",
    "#                                        max_features = 60, random_state=0)\n",
    "    clf = GradientBoostingClassifier(learning_rate=0.05, n_estimators=500, max_depth=7, \n",
    "                                    min_samples_split=60, min_samples_leaf=9, subsample=1,\n",
    "                                    max_features=50, random_state=0)\n",
    "    clf.fit(X_train, y_train)\n",
    "    y_val_pred = clf.predict(X_val)\n",
    "    score = f1_score(y_val, y_val_pred, average='micro')\n",
    "    y_pred = clf.predict(X_test) \n",
    "    return score, y_pred\n",
    "\n",
    "def train_k_fold(X, y, fold_num=10):\n",
    "    kf = KFold(n_splits=fold_num, random_state=None, shuffle=False)\n",
    "    kf.get_n_splits(X)\n",
    "    test_score = 0.0\n",
    "    \n",
    "    for train_index, test_index in kf.split(X):\n",
    "        X_train, X_val = X[train_index], X[test_index]\n",
    "        y_train, y_val = y[train_index], y[test_index]\n",
    "\n",
    "        score, _ = fit_model_and_pred(X_train, y_train, X_val, y_val, X_val)\n",
    "\n",
    "        print('The obtained validation r1 score is : ',score)\n",
    "        test_score += score\n",
    "    print(\"Validation score: %f\"%(test_score/fold_num))\n",
    "\n",
    "def train_k_fold_pred(X, y, X_test, fold_num=10):\n",
    "    kf = KFold(n_splits=fold_num, random_state=None, shuffle=True)\n",
    "    kf.get_n_splits(X)\n",
    "    test_score = 0.0\n",
    "    y_pred_list = []\n",
    "    \n",
    "    for train_index, test_index in kf.split(X):\n",
    "        X_train, X_val = X[train_index], X[test_index]\n",
    "        y_train, y_val = y[train_index], y[test_index]\n",
    "        X_train, y_train = expand_dataset(X_train, y_train)\n",
    "        \n",
    "        score, y_pred = fit_model_and_pred(X_train, y_train, X_val, y_val, X_test)\n",
    "        y_pred_list.append(y_pred)\n",
    "        print('The obtained validation r1 score is : ',score)\n",
    "        test_score += score\n",
    "    print(\"Validation score: %f\"%(test_score/fold_num))\n",
    "    \n",
    "    y_pred_list = np.array(y_pred_list)\n",
    "    y_test_predict = []\n",
    "    for i in range(y_pred_list.shape[1]):\n",
    "        item = y_pred_list[:,i]\n",
    "        a = item[item==0].shape\n",
    "        b = item[item==1].shape\n",
    "        c = item[item==2].shape\n",
    "        d = item[item==3].shape\n",
    "        candidate = [a, b, c, d]\n",
    "        y_test_predict.append(np.argmax(candidate))\n",
    "    y_test_predict = np.array(y_test_predict)\n",
    "    return test_score/fold_num, y_test_predict\n",
    "\n",
    "def train_k_fold_pred_trick(X, y, X_test, fold_num=10):\n",
    "    kf = KFold(n_splits=fold_num, random_state=None, shuffle=True)\n",
    "    kf.get_n_splits(X)\n",
    "    test_score = 0.0\n",
    "    y_pred_list = []\n",
    "    \n",
    "    for train_index, test_index in kf.split(X):\n",
    "        X_train, X_val = X[train_index], X[test_index]\n",
    "        y_train, y_val = y[train_index], y[test_index]\n",
    "        X_train, y_train = expand_dataset(X_train, y_train)\n",
    "        \n",
    "        score, y_pred = fit_model_and_pred(X_train, y_train, X_val, y_val, X_test)\n",
    "        print('The obtained validation r1 score is : ',score)\n",
    "        test_score += score\n",
    "        if score > 0.81:        \n",
    "            y_pred_list.append(y_pred)\n",
    "    print(\"Validation score: %f\"%(test_score/fold_num))\n",
    "    \n",
    "    y_pred_list = np.array(y_pred_list)\n",
    "    y_test_predict = []\n",
    "    for i in range(y_pred_list.shape[1]):\n",
    "        item = y_pred_list[:,i]\n",
    "        a = item[item==0].shape\n",
    "        b = item[item==1].shape\n",
    "        c = item[item==2].shape\n",
    "        d = item[item==3].shape \n",
    "        candidate = [a, b, c, d]\n",
    "        y_test_predict.append(np.argmax(candidate))\n",
    "    y_test_predict = np.array(y_test_predict)\n",
    "    return test_score/fold_num, y_test_predict\n",
    "\n",
    "def expand_dataset(X_train, y_train, num_class = 4):\n",
    "    sample = np.c_[X_train, y_train]\n",
    "    sample_by_class = [sample[(sample[:,-1] == i)] for i in range(num_class)]\n",
    "    sample_sizes = [ sample_class.shape[0] for sample_class in sample_by_class]\n",
    "    expand_ratio = np.round(np.max(np.array(sample_sizes))/sample_sizes)\n",
    "    expanded_sample_by_class = [ np.repeat(sample_by_class[i], expand_ratio[i], axis = 0) for i in range(num_class)]\n",
    "    expanded_sample = np.concatenate(expanded_sample_by_class)\n",
    "    return expanded_sample[:, :-1], expanded_sample[:, -1]"
   ]
  },
  {
   "cell_type": "code",
   "execution_count": 3,
   "metadata": {},
   "outputs": [],
   "source": [
    "X_train_fft_dataset = pd.read_csv('X_train_fft_processed.csv')\n",
    "X_train_wavelet_dataset = pd.read_csv('X_train_wavelet_processed.csv')\n",
    "X_train_pnn_dataset = pd.read_csv('X_train_pnn_processed.csv')\n",
    "X_train_half_dataset = pd.read_csv('X_train_half_processed.csv')\n",
    "X_train_rm_dataset = pd.read_csv('../X_train_feature_rm.csv')\n",
    "\n",
    "X_test_fft_dataset = pd.read_csv('X_test_fft_processed.csv')\n",
    "X_test_wavelet_dataset = pd.read_csv('X_test_wavelet_processed.csv')\n",
    "X_test_pnn_dataset =  pd.read_csv('X_test_pnn_processed.csv')\n",
    "X_test_half_dataset = pd.read_csv('X_test_half_processed.csv')\n",
    "X_test_rm_dataset = pd.read_csv('../X_test_feature_rm.csv')"
   ]
  },
  {
   "cell_type": "code",
   "execution_count": 4,
   "metadata": {},
   "outputs": [],
   "source": [
    "X_train_fft_dataset = np.array(X_train_fft_dataset)\n",
    "X_train_wavelet_dataset = np.array(X_train_wavelet_dataset)\n",
    "X_train_pnn_dataset = np.array(X_train_pnn_dataset)\n",
    "X_train_half_dataset = np.array(X_train_half_dataset)\n",
    "X_train_rm_dataset = np.array(X_train_rm_dataset)\n",
    "X_train_half_dataset = np.concatenate([\n",
    "    X_train_half_dataset[: ,0:16],\n",
    "    X_train_rm_dataset,\n",
    "    X_train_half_dataset[:, 466:],\n",
    "], axis = 1)\n",
    "\n",
    "X_test_fft_dataset = np.array(X_test_fft_dataset)\n",
    "X_test_wavelet_dataset = np.array(X_test_wavelet_dataset)\n",
    "X_test_pnn_dataset = np.array(X_test_pnn_dataset)\n",
    "X_test_half_dataset = np.array(X_test_half_dataset)\n",
    "X_test_rm_dataset = np.array(X_test_rm_dataset)\n",
    "X_test_half_dataset = np.concatenate([\n",
    "    X_test_half_dataset[:, 0:16],\n",
    "    X_test_rm_dataset,\n",
    "    X_test_half_dataset[:, 466:],\n",
    "], axis = 1)"
   ]
  },
  {
   "cell_type": "code",
   "execution_count": null,
   "metadata": {},
   "outputs": [],
   "source": []
  },
  {
   "cell_type": "code",
   "execution_count": 5,
   "metadata": {},
   "outputs": [
    {
     "name": "stdout",
     "output_type": "stream",
     "text": [
      "(5117, 15)\n",
      "(5117, 190)\n",
      "(5117, 2)\n",
      "(5117, 823)\n"
     ]
    }
   ],
   "source": [
    "print(X_train_fft_dataset.shape)\n",
    "print(X_train_wavelet_dataset.shape)\n",
    "print(X_train_pnn_dataset.shape)\n",
    "print(X_train_half_dataset.shape)"
   ]
  },
  {
   "cell_type": "code",
   "execution_count": 6,
   "metadata": {},
   "outputs": [
    {
     "name": "stdout",
     "output_type": "stream",
     "text": [
      "(5117, 1030) (3411, 1030)\n"
     ]
    }
   ],
   "source": [
    "X_train = np.concatenate((\n",
    "                X_train_fft_dataset,\n",
    "                X_train_wavelet_dataset,\n",
    "                X_train_pnn_dataset,\n",
    "                X_train_half_dataset,\n",
    "                    ), axis=1)\n",
    "X_test = np.concatenate((\n",
    "                X_test_fft_dataset,\n",
    "                X_test_wavelet_dataset,\n",
    "                X_test_pnn_dataset,\n",
    "                X_test_half_dataset,\n",
    "                    ), axis=1)\n",
    "print(X_train.shape, X_test.shape)"
   ]
  },
  {
   "cell_type": "code",
   "execution_count": 7,
   "metadata": {},
   "outputs": [],
   "source": [
    "impute1 = SimpleImputer(strategy = 'median', fill_value = 0)\n",
    "X_train = impute1.fit_transform(X_train)\n",
    "impute2 = SimpleImputer(strategy = 'median', fill_value = 0)\n",
    "X_test = impute2.fit_transform(X_test)\n",
    "\n",
    "#rescaling data\n",
    "scaler = StandardScaler() \n",
    "scaler.fit(X_train)\n",
    "X_train = scaler.transform(X_train)\n",
    "X_test = scaler.transform(X_test)"
   ]
  },
  {
   "cell_type": "code",
   "execution_count": 8,
   "metadata": {},
   "outputs": [],
   "source": [
    "y_train_data = pd.read_csv('../y_train.csv')\n",
    "y_train = np.array(y_train_data)[:,1]"
   ]
  },
  {
   "cell_type": "code",
   "execution_count": 9,
   "metadata": {},
   "outputs": [
    {
     "name": "stdout",
     "output_type": "stream",
     "text": [
      "The obtained validation r1 score is :  0.830078125\n",
      "The obtained validation r1 score is :  0.826171875\n",
      "The obtained validation r1 score is :  0.8504398826979471\n",
      "The obtained validation r1 score is :  0.8181818181818182\n",
      "The obtained validation r1 score is :  0.823069403714565\n",
      "Validation score: 0.829588\n"
     ]
    }
   ],
   "source": [
    "_, y_pred_half_wavelet_fft = train_k_fold_pred_trick(X_train, y_train, X_test, fold_num=5)"
   ]
  },
  {
   "cell_type": "code",
   "execution_count": null,
   "metadata": {},
   "outputs": [
    {
     "name": "stdout",
     "output_type": "stream",
     "text": [
      "The obtained validation r1 score is :  0.830078125\n",
      "The obtained validation r1 score is :  0.826171875\n",
      "The obtained validation r1 score is :  0.8504398826979471\n",
      "The obtained validation r1 score is :  0.8181818181818182\n",
      "The obtained validation r1 score is :  0.823069403714565\n",
      "Validation score: 0.829588\n",
      "The obtained validation r1 score is :  0.830078125\n",
      "The obtained validation r1 score is :  0.826171875\n",
      "The obtained validation r1 score is :  0.8504398826979471\n",
      "The obtained validation r1 score is :  0.8181818181818182\n",
      "The obtained validation r1 score is :  0.823069403714565\n",
      "Validation score: 0.829588\n",
      "The obtained validation r1 score is :  0.830078125\n",
      "The obtained validation r1 score is :  0.826171875\n",
      "The obtained validation r1 score is :  0.8504398826979471\n",
      "The obtained validation r1 score is :  0.8181818181818182\n",
      "The obtained validation r1 score is :  0.823069403714565\n",
      "Validation score: 0.829588\n",
      "The obtained validation r1 score is :  0.830078125\n",
      "The obtained validation r1 score is :  0.826171875\n"
     ]
    }
   ],
   "source": [
    "for i in range(5):\n",
    "    _, y_pred_half_wavelet_fft = train_k_fold_pred_trick(X_train, y_train, X_test, fold_num=5)"
   ]
  }
 ],
 "metadata": {
  "kernelspec": {
   "display_name": "Python 3 (ipykernel)",
   "language": "python",
   "name": "python3"
  },
  "language_info": {
   "codemirror_mode": {
    "name": "ipython",
    "version": 3
   },
   "file_extension": ".py",
   "mimetype": "text/x-python",
   "name": "python",
   "nbconvert_exporter": "python",
   "pygments_lexer": "ipython3",
   "version": "3.8.12"
  }
 },
 "nbformat": 4,
 "nbformat_minor": 2
}
