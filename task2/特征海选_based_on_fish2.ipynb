{
 "cells": [
  {
   "cell_type": "code",
   "execution_count": 1,
   "metadata": {},
   "outputs": [],
   "source": [
    "import matplotlib.pyplot as plt\n",
    "import numpy as np\n",
    "import pandas as pd\n",
    "\n",
    "from sklearn.model_selection import train_test_split\n",
    "\n",
    "from sklearn.model_selection import KFold\n",
    "from sklearn.metrics import balanced_accuracy_score\n",
    "\n",
    "import biosppy as biosppy\n",
    "\n",
    "import pywt\n",
    "\n",
    "from sklearn.preprocessing import normalize\n",
    "\n",
    "from scipy import stats\n",
    "from statistics import pstdev,variance\n",
    "\n",
    "from sklearn.ensemble import GradientBoostingClassifier\n",
    "from sklearn.metrics import confusion_matrix\n",
    "from sklearn.metrics import f1_score"
   ]
  },
  {
   "cell_type": "code",
   "execution_count": 34,
   "metadata": {},
   "outputs": [],
   "source": [
    "def feature_output_csv(name, data, dimension = 1):\n",
    "    df_X_test = pd.DataFrame(np.array(data).reshape(-1,dimension))\n",
    "    path = \"./Feature/\"+name+\".csv\"\n",
    "    df_X_test.to_csv(path, index=False)\n",
    "    \n",
    "def feature_output_test_csv(name, data, dimension = 1):\n",
    "    df_X_test = pd.DataFrame(np.array(data).reshape(-1,dimension))\n",
    "    path = \"./TestFeature/\"+name+\".csv\"\n",
    "    df_X_test.to_csv(path, index=False)"
   ]
  },
  {
   "cell_type": "code",
   "execution_count": 2,
   "metadata": {},
   "outputs": [
    {
     "name": "stdout",
     "output_type": "stream",
     "text": [
      "(5117, 17842) (3411, 17842) (5117, 1)\n"
     ]
    }
   ],
   "source": [
    "xtrain = pd.read_csv(\"public/X_train.csv\")\n",
    "xtrain.drop(\"id\", axis=1, inplace = True)\n",
    "\n",
    "xtest =  pd.read_csv(\"public/X_test.csv\")\n",
    "xtest.drop(\"id\", axis=1, inplace = True)\n",
    "\n",
    "ytrain = pd.read_csv(\"public/y_train.csv\")\n",
    "ytrain.drop(\"id\", axis=1, inplace = True)\n",
    "\n",
    "print(xtrain.shape, xtest.shape, ytrain.shape)\n",
    "\n",
    "\n",
    "dataset_x = np.array(xtrain)\n",
    "dataset_y = np.array(ytrain)"
   ]
  },
  {
   "cell_type": "code",
   "execution_count": 57,
   "metadata": {},
   "outputs": [],
   "source": [
    "dataset_x = np.array(xtrain)"
   ]
  },
  {
   "cell_type": "code",
   "execution_count": 58,
   "metadata": {},
   "outputs": [],
   "source": [
    "# FFT, power, average and autocorrelation\n",
    "a = dataset_x\n",
    "\n",
    "autocorr = []\n",
    "ptp = []\n",
    "avg = []\n",
    "fft=[]\n",
    "\n",
    "for i in range(len(a)):\n",
    "\n",
    "  h = a[i]\n",
    "  h = h[~np.isnan(h)]\n",
    "\n",
    "  h_series = pd.Series(h)\n",
    "  corr = h_series.autocorr(lag=2)\n",
    "  autocorr.append(corr)\n",
    "\n",
    "  avg.append(np.average(h))\n",
    "  ptp.append(np.ptp(h))\n",
    "\n",
    "  f = np.fft.fft(h)\n",
    "  array = f[0:800]\n",
    "  n = 15\n",
    "  indices = array.argsort()[-n:][::-1]\n",
    "  fft.append(indices)\n",
    "\n",
    "new_autocorr = np.transpose(np.array([autocorr]))\n",
    "ptp = np.transpose(np.array([ptp]))\n",
    "avg = np.transpose(np.array([avg]))\n",
    "fft_np = np.array(fft)"
   ]
  },
  {
   "cell_type": "code",
   "execution_count": 71,
   "metadata": {},
   "outputs": [
    {
     "data": {
      "text/plain": [
       "(5117, 15)"
      ]
     },
     "execution_count": 71,
     "metadata": {},
     "output_type": "execute_result"
    }
   ],
   "source": [
    "fft_np.shape"
   ]
  },
  {
   "cell_type": "code",
   "execution_count": 72,
   "metadata": {},
   "outputs": [],
   "source": [
    "feature_output_csv(\"fft\", fft_np, 15)"
   ]
  },
  {
   "cell_type": "code",
   "execution_count": 73,
   "metadata": {},
   "outputs": [],
   "source": [
    "feature_output_csv(\"autocorr\", new_autocorr)"
   ]
  },
  {
   "cell_type": "code",
   "execution_count": 60,
   "metadata": {},
   "outputs": [],
   "source": [
    "#Padding the sequence with the values in last row to max length\n",
    "to_pad = 17841\n",
    "new_seq = []\n",
    "for one_seq in dataset_x:\n",
    "    one_seq = one_seq[~np.isnan(one_seq)]\n",
    "    len_one_seq = len(one_seq)\n",
    "    last_val = one_seq[-1]\n",
    "    n = to_pad - len_one_seq\n",
    "    to_concat = np.repeat(0, n)\n",
    "    new_one_seq = np.concatenate([one_seq, to_concat])\n",
    "    new_seq.append(new_one_seq)\n",
    "final_seq = np.stack(new_seq)\n",
    "\n",
    "dataset_x = np.asarray(final_seq)"
   ]
  },
  {
   "cell_type": "code",
   "execution_count": 61,
   "metadata": {
    "scrolled": true
   },
   "outputs": [],
   "source": [
    "# Extract using biosspy\n",
    "ts_list = []\n",
    "filtered_list=[]\n",
    "rpeaks_list=[]\n",
    "templates_ts_list=[]\n",
    "templates_list=[]\n",
    "heart_rate_ts_list=[]\n",
    "heart_rate_list=[]\n",
    "\n",
    "for i in range(len(dataset_x)):\n",
    "    ts, filtered, rpeaks, templates_ts, templates, heart_rate_ts, heart_rate = biosppy.signals.ecg.ecg(signal=dataset_x[i], sampling_rate=300.0, show=False)\n",
    "    filtered_list.append(filtered)\n",
    "    rpeaks_list.append(rpeaks)\n",
    "    templates_ts_list.append(templates_ts)\n",
    "    templates_list.append(templates)\n",
    "    heart_rate_ts_list.append(heart_rate_ts)\n",
    "    heart_rate_list.append(heart_rate)\n",
    "    ts_list.append(ts)"
   ]
  },
  {
   "cell_type": "code",
   "execution_count": 62,
   "metadata": {},
   "outputs": [
    {
     "data": {
      "image/png": "[encoded data removed]",
      "text/plain": [
       "<Figure size 432x288 with 1 Axes>"
      ]
     },
     "metadata": {
      "needs_background": "light"
     },
     "output_type": "display_data"
    }
   ],
   "source": [
    "# Normalize the data and find the average characteristic heartbeat of each patient\n",
    "normalized_templates=[]\n",
    "patients_heartbeats = []\n",
    "for i in range(len(templates_list)):\n",
    "  normalized_templates.append(normalize(templates_list[i]))\n",
    "  patients_heartbeats.append(sum(normalized_templates[i])/len(normalized_templates[i]))\n",
    "\n",
    "plt.plot(patients_heartbeats[0])\n",
    "plt.show()"
   ]
  },
  {
   "cell_type": "code",
   "execution_count": 63,
   "metadata": {},
   "outputs": [
    {
     "data": {
      "image/png": "[encoded data removed]",
      "text/plain": [
       "<Figure size 432x288 with 1 Axes>"
      ]
     },
     "metadata": {
      "needs_background": "light"
     },
     "output_type": "display_data"
    }
   ],
   "source": [
    "# Extarct all the peaks / Visualization\n",
    "patient_current = patients_heartbeats[347]\n",
    "\n",
    "# Find the peak\n",
    "index = np.where(patient_current==max(patient_current))\n",
    "R = index[0]\n",
    "\n",
    "# First-half\n",
    "first_half = patient_current[0:R[0]]\n",
    "index = np.where(patient_current==min(first_half[R[0]-30:R[0]]))\n",
    "\n",
    "Q = index[0]\n",
    "index = np.where(first_half[0:Q[0]]==max(first_half[0:Q[0]]))\n",
    "P = index[0]\n",
    "\n",
    "#Second half\n",
    "second_half = patient_current[R[0]+1:] \n",
    "index = np.where(patient_current==min(second_half[0:30]))\n",
    "S = index[0]\n",
    "\n",
    "second_half = second_half[S[0]-R[0]+1:]\n",
    "index = np.where(patient_current==max(second_half))\n",
    "T = index[0] \n",
    "\n",
    "plt.plot(patient_current)\n",
    "plt.scatter(R,patient_current[R],label='R')\n",
    "plt.scatter(S,patient_current[S],label='S')\n",
    "plt.scatter(Q,patient_current[Q],label='Q')\n",
    "plt.scatter(P,patient_current[P],label='P')\n",
    "plt.scatter(T,patient_current[T],label='T')\n",
    "plt.plot(np.arange(0, 180),np.zeros(180), 'r--') \n",
    "plt.legend()\n",
    "plt.show()"
   ]
  },
  {
   "cell_type": "code",
   "execution_count": 67,
   "metadata": {},
   "outputs": [
    {
     "name": "stdout",
     "output_type": "stream",
     "text": [
      "len of U_value_list:  5117\n",
      "len of U_list:  5117\n"
     ]
    }
   ],
   "source": [
    "# Extarct all the peaks \n",
    "P_list=[]\n",
    "Q_list=[]\n",
    "R_list=[]\n",
    "S_list=[]\n",
    "T_list=[]\n",
    "U_list=[]\n",
    "U_value_list = []\n",
    "\n",
    "for i in range(len(patients_heartbeats)):\n",
    "\n",
    "    patient_current = patients_heartbeats[i]\n",
    "\n",
    "    # Find the peak\n",
    "    index = np.where(patient_current==max(patient_current))\n",
    "    R = index[0]\n",
    "\n",
    "    # First-half\n",
    "    first_half = patient_current[0:R[0]]\n",
    "    index = np.where(patient_current==min(first_half[R[0]-30:R[0]]))\n",
    "    Q = index[0]\n",
    "\n",
    "    index = np.where(first_half[0:Q[0]]==max(first_half[0:Q[0]]))\n",
    "    P = index[0]\n",
    "\n",
    "    #Second half\n",
    "    second_half = patient_current[R[0]+1:] \n",
    "    index = np.where(patient_current==min(second_half[0:30]))\n",
    "    S = index[0]\n",
    "\n",
    "    second_half = second_half[S[0]-R[0]+1:]\n",
    "    index = np.where(patient_current==max(second_half))\n",
    "    T = index[0] \n",
    "\n",
    "    last_tail = patient_current[(T[0]):] \n",
    "    index = np.where(patient_current==min(last_tail))\n",
    "    U = index[0]\n",
    "    U_list.append(U[0])\n",
    "    U_value_list.append(patient_current[U[0]])\n",
    "\n",
    "    P_list.append(P[0])\n",
    "    Q_list.append(Q[0])\n",
    "    R_list.append(R[0])\n",
    "    S_list.append(S[0])\n",
    "    T_list.append(T[0])\n",
    "    \n",
    "print(\"len of U_value_list: \", len(U_value_list))\n",
    "print(\"len of U_list: \", len(U_list))"
   ]
  },
  {
   "cell_type": "code",
   "execution_count": null,
   "metadata": {},
   "outputs": [],
   "source": []
  },
  {
   "cell_type": "code",
   "execution_count": 68,
   "metadata": {},
   "outputs": [
    {
     "name": "stderr",
     "output_type": "stream",
     "text": [
      "F:\\Anaconda3\\envs\\TF_2G\\lib\\site-packages\\ipykernel_launcher.py:20: RuntimeWarning: divide by zero encountered in true_divide\n"
     ]
    }
   ],
   "source": [
    "# Intervals and Ratios of peaks\n",
    "PR_list = []\n",
    "QRS_list = []\n",
    "ST_list = []\n",
    "\n",
    "for i in range(len(P_list)):\n",
    "  PR_list.append(R_list[i]-P_list[i])\n",
    "  QRS_list.append(S_list[i]-Q_list[i])\n",
    "  ST_list.append(T_list[i]-S_list[i])\n",
    "\n",
    "PR_list = np.array(PR_list).reshape(-1,1)\n",
    "QRS_list = np.array(QRS_list).reshape(-1,1)\n",
    "ST_list = np.array(ST_list).reshape(-1,1)\n",
    "P_list = np.array(P_list).reshape(-1,1)\n",
    "R_list = np.array(R_list).reshape(-1,1)\n",
    "S_list = np.array(S_list).reshape(-1,1)\n",
    "T_list = np.array(T_list).reshape(-1,1)\n",
    "\n",
    "QRS_T_list= np.divide(QRS_list, T_list) \n",
    "QRS_P_list= np.divide(QRS_list, P_list) \n",
    "QRS_T_list=np.nan_to_num(QRS_T_list, nan=0.0,posinf=0.0, neginf=0.0)\n",
    "QRS_P_list=np.nan_to_num(QRS_P_list, nan=0.0,posinf=0.0, neginf=0.0)"
   ]
  },
  {
   "cell_type": "code",
   "execution_count": 69,
   "metadata": {},
   "outputs": [],
   "source": [
    "PQRSTU = np.concatenate((\n",
    "    np.array(PR_list).reshape(-1,1),\n",
    "np.array(ST_list).reshape(-1,1),\n",
    "np.array(P_list).reshape(-1,1),\n",
    "np.array(Q_list).reshape(-1,1),\n",
    "np.array(R_list).reshape(-1,1),\n",
    "np.array(S_list).reshape(-1,1),\n",
    "np.array(T_list).reshape(-1,1),\n",
    "np.array(U_list).reshape(-1,1),\n",
    "np.array(U_value_list).reshape(-1,1),\n",
    "                    ), axis=1)"
   ]
  },
  {
   "cell_type": "code",
   "execution_count": 70,
   "metadata": {},
   "outputs": [],
   "source": [
    "PQRSTU.shape\n",
    "feature_output_csv(\"PQRSTU\", PQRSTU,9)"
   ]
  },
  {
   "cell_type": "code",
   "execution_count": 51,
   "metadata": {
    "scrolled": true
   },
   "outputs": [
    {
     "data": {
      "text/plain": [
       "array([[67],\n",
       "       [92],\n",
       "       [80],\n",
       "       ...,\n",
       "       [55],\n",
       "       [78],\n",
       "       [59]], dtype=int64)"
      ]
     },
     "execution_count": 51,
     "metadata": {},
     "output_type": "execute_result"
    }
   ],
   "source": [
    "ST_list"
   ]
  },
  {
   "cell_type": "code",
   "execution_count": 10,
   "metadata": {},
   "outputs": [],
   "source": [
    "# Range, Mean and Median of amplitudes\n",
    "max_A=[]\n",
    "min_A=[]\n",
    "mean_A=[]\n",
    "median_A=[]\n",
    "\n",
    "for i in range(len(patients_heartbeats)):\n",
    "\n",
    "  patient_current = patients_heartbeats[i]\n",
    "\n",
    "  max_A.append(max(patient_current))\n",
    "  min_A.append(min(patient_current))\n",
    "  mean_A.append(np.mean(patient_current))\n",
    "  median_A.append(np.median(patient_current))"
   ]
  },
  {
   "cell_type": "code",
   "execution_count": 11,
   "metadata": {},
   "outputs": [
    {
     "name": "stderr",
     "output_type": "stream",
     "text": [
      "F:\\Anaconda3\\envs\\TF_2G\\lib\\site-packages\\numpy\\core\\fromnumeric.py:3335: RuntimeWarning: Mean of empty slice.\n",
      "  out=out, **kwargs)\n",
      "F:\\Anaconda3\\envs\\TF_2G\\lib\\site-packages\\numpy\\core\\_methods.py:161: RuntimeWarning: invalid value encountered in double_scalars\n",
      "  ret = ret.dtype.type(ret / rcount)\n",
      "F:\\Anaconda3\\envs\\TF_2G\\lib\\site-packages\\numpy\\core\\_methods.py:217: RuntimeWarning: Degrees of freedom <= 0 for slice\n",
      "  keepdims=keepdims)\n",
      "F:\\Anaconda3\\envs\\TF_2G\\lib\\site-packages\\numpy\\core\\_methods.py:186: RuntimeWarning: invalid value encountered in true_divide\n",
      "  arrmean, rcount, out=arrmean, casting='unsafe', subok=False)\n",
      "F:\\Anaconda3\\envs\\TF_2G\\lib\\site-packages\\numpy\\core\\_methods.py:209: RuntimeWarning: invalid value encountered in double_scalars\n",
      "  ret = ret.dtype.type(ret / rcount)\n",
      "F:\\Anaconda3\\envs\\TF_2G\\lib\\site-packages\\numpy\\core\\fromnumeric.py:3584: RuntimeWarning: Degrees of freedom <= 0 for slice\n",
      "  **kwargs)\n"
     ]
    }
   ],
   "source": [
    "# Heart rates mean, median, variant and standard deviation\n",
    "hr_mean=[]\n",
    "hr_std=[]\n",
    "hr_median=[]\n",
    "hr_var = []\n",
    "\n",
    "for i in range(len(heart_rate_list)):\n",
    "    d =np.diff(heart_rate_list[i])\n",
    "    hr_mean.append(np.mean(d))\n",
    "    hr_std.append(np.std(d))\n",
    "    hr_median.append(np.median(d))\n",
    "    hr_var.append(np.mean(d)-np.var(d))\n",
    "    \n",
    "hr_mean=np.nan_to_num(hr_mean, nan=0.0)\n",
    "hr_std=np.nan_to_num(hr_std, nan=0.0)\n",
    "hr_median=np.nan_to_num(hr_median, nan=0.0)\n",
    "hr_var=np.nan_to_num(hr_var, nan=0.0)"
   ]
  },
  {
   "cell_type": "code",
   "execution_count": 12,
   "metadata": {},
   "outputs": [],
   "source": [
    "# Timings of peaks mean, median, variant and standard deviation\n",
    "ts_mean=[]\n",
    "ts_std=[]\n",
    "ts_median=[]\n",
    "ts_var = []\n",
    "\n",
    "for i in range(len(ts_list)):\n",
    "    d =np.diff(ts_list[i])\n",
    "    ts_mean.append(np.mean(d))\n",
    "    ts_std.append(np.std(d))\n",
    "    ts_median.append(np.median(d))\n",
    "    ts_var.append(np.mean(d)-np.var(d))\n",
    "    \n",
    "ts_mean=np.nan_to_num(ts_mean, nan=0.0)\n",
    "ts_std=np.nan_to_num(ts_std, nan=0.0)\n",
    "ts_median=np.nan_to_num(ts_median, nan=0.0)\n",
    "ts_var=np.nan_to_num(ts_var, nan=0.0)"
   ]
  },
  {
   "cell_type": "code",
   "execution_count": 13,
   "metadata": {},
   "outputs": [],
   "source": [
    "# Timings of heart rates mean, median, variant and standard deviation\n",
    "hr_ts_mean=[]\n",
    "hr_ts_std=[]\n",
    "hr_ts_median=[]\n",
    "hr_ts_var = []\n",
    "\n",
    "for i in range(len(heart_rate_ts_list)):\n",
    "    d =np.diff(heart_rate_ts_list[i])\n",
    "    hr_ts_mean.append(np.mean(d))\n",
    "    hr_ts_std.append(np.std(d))\n",
    "    hr_ts_median.append(np.median(d))\n",
    "    hr_ts_var.append(np.mean(d)-np.var(d))\n",
    "    \n",
    "hr_ts_mean=np.nan_to_num(hr_ts_mean, nan=0.0)\n",
    "hr_ts_std=np.nan_to_num(hr_ts_std, nan=0.0)\n",
    "hr_ts_median=np.nan_to_num(hr_ts_median, nan=0.0)\n",
    "hr_ts_var=np.nan_to_num(hr_ts_var, nan=0.0)"
   ]
  },
  {
   "cell_type": "code",
   "execution_count": 14,
   "metadata": {},
   "outputs": [],
   "source": [
    "# Peaks mean, median, variant, mode and standard deviation\n",
    "peaks_mean=[]\n",
    "peaks_std=[]\n",
    "peaks_median=[]\n",
    "peaks_mode=[]\n",
    "peaks_var = []\n",
    "\n",
    "for i in range(len(rpeaks_list)):\n",
    "    peaks_mean.append(np.mean(rpeaks_list[i]))\n",
    "    peaks_std.append(np.std(rpeaks_list[i]))\n",
    "    peaks_median.append(np.median(rpeaks_list[i]))\n",
    "    peaks_mode.append(np.mean(rpeaks_list[i])-stats.mode(rpeaks_list[i])[0])\n",
    "    peaks_var.append(np.var(rpeaks_list[i]))"
   ]
  },
  {
   "cell_type": "code",
   "execution_count": 15,
   "metadata": {},
   "outputs": [],
   "source": [
    "# Peaks differences mean, median, variant, mode and standard deviation\n",
    "diff_mean=[]\n",
    "diff_std=[]\n",
    "diff_median=[]\n",
    "diff_mode=[]\n",
    "diff_var = []\n",
    "diff_dev = []\n",
    "\n",
    "for i in range(len(rpeaks_list)):\n",
    "    d = np.diff(rpeaks_list[i])\n",
    "    diff_mean.append(np.mean(d))\n",
    "    diff_std.append(np.std(d))\n",
    "    diff_median.append(np.median(d))\n",
    "    diff_mode.append(np.mean(d)-stats.mode(d)[0])\n",
    "    diff_var.append(np.mean(d)-variance(d))\n",
    "    diff_dev.append(np.mean(d)-pstdev(d))\n",
    "\n",
    "diff_mean=np.nan_to_num(diff_mean, nan=0.0)\n",
    "diff_std=np.nan_to_num(diff_std, nan=0.0)\n",
    "diff_median=np.nan_to_num(diff_median, nan=0.0)\n",
    "diff_mode=np.nan_to_num(diff_mode, nan=0.0)\n",
    "diff_var=np.nan_to_num(diff_var, nan=0.0)\n",
    "diff_dev=np.nan_to_num(diff_dev, nan=0.0)"
   ]
  },
  {
   "cell_type": "code",
   "execution_count": 53,
   "metadata": {},
   "outputs": [],
   "source": [
    "# db2 coefficients\n",
    "cA_list=[]\n",
    "cD_list=[]\n",
    "\n",
    "for i in range(len(patients_heartbeats)):\n",
    "  cA, cD = pywt.dwt(patients_heartbeats[i], 'sym6', mode='periodic')\n",
    "\n",
    "  cA_list.append(cA)\n",
    "  cD_list.append(cD)"
   ]
  },
  {
   "cell_type": "code",
   "execution_count": 54,
   "metadata": {},
   "outputs": [
    {
     "data": {
      "text/plain": [
       "(95,)"
      ]
     },
     "execution_count": 54,
     "metadata": {},
     "output_type": "execute_result"
    }
   ],
   "source": [
    "cD_list[0].shape"
   ]
  },
  {
   "cell_type": "code",
   "execution_count": 55,
   "metadata": {},
   "outputs": [
    {
     "data": {
      "text/plain": [
       "(3411, 190)"
      ]
     },
     "execution_count": 55,
     "metadata": {},
     "output_type": "execute_result"
    }
   ],
   "source": [
    "Wavelets = np.concatenate((\n",
    "                     cD_list,\n",
    "                     cA_list,\n",
    "                    ), axis=1)\n",
    "Wavelets.shape"
   ]
  },
  {
   "cell_type": "code",
   "execution_count": 56,
   "metadata": {},
   "outputs": [],
   "source": [
    "feature_output_test_csv(\"Wavelets_test\", Wavelets,190)"
   ]
  },
  {
   "cell_type": "code",
   "execution_count": 17,
   "metadata": {},
   "outputs": [],
   "source": [
    "# Energy of the signal\n",
    "energy_list = []\n",
    "\n",
    "for i in range(len(patients_heartbeats)):\n",
    "  energy_list.append(np.sum(patients_heartbeats[i] ** 2))"
   ]
  },
  {
   "cell_type": "code",
   "execution_count": 18,
   "metadata": {},
   "outputs": [
    {
     "name": "stdout",
     "output_type": "stream",
     "text": [
      "(5117, 244)\n"
     ]
    }
   ],
   "source": [
    "# Prepare data\n",
    "hr_mean = np.array(hr_mean).reshape(-1,1)\n",
    "hr_std = np.array(hr_std).reshape(-1,1)\n",
    "hr_median = np.array(hr_median).reshape(-1,1)\n",
    "hr_var = np.array(hr_var).reshape(-1,1)\n",
    "hr_ts_mean= np.array(hr_ts_mean).reshape(-1,1)\n",
    "hr_ts_std= np.array(hr_ts_std).reshape(-1,1)\n",
    "hr_ts_median= np.array(hr_ts_median).reshape(-1,1)\n",
    "hr_ts_var= np.array(hr_ts_var).reshape(-1,1)\n",
    "ts_mean= np.array(ts_mean).reshape(-1,1)\n",
    "ts_std= np.array(ts_std).reshape(-1,1)\n",
    "ts_median= np.array(ts_median).reshape(-1,1)\n",
    "ts_var = np.array(ts_var).reshape(-1,1)\n",
    "peaks_mean=np.array(peaks_mean).reshape(-1,1)\n",
    "peaks_std=np.array(peaks_std).reshape(-1,1)\n",
    "peaks_median=np.array(peaks_median).reshape(-1,1)\n",
    "peaks_mode=np.array(peaks_mode).reshape(-1,1)\n",
    "diff_mean=np.array(diff_mean).reshape(-1,1)\n",
    "diff_std=np.array(diff_std).reshape(-1,1)\n",
    "diff_median=np.array(diff_median).reshape(-1,1)\n",
    "diff_mode=np.array(diff_mode).reshape(-1,1)\n",
    "diff_var=np.array(diff_var).reshape(-1,1)\n",
    "diff_dev=np.array(diff_dev).reshape(-1,1)\n",
    "max_A=np.array(max_A).reshape(-1,1)\n",
    "min_A=np.array(min_A).reshape(-1,1)\n",
    "mean_A=np.array(mean_A).reshape(-1,1)\n",
    "median_A=np.array(median_A).reshape(-1,1)\n",
    "energy_list =np.array(energy_list).reshape(-1,1)\n",
    "PR_list=np.array(PR_list).reshape(-1,1)\n",
    "ST_list=np.array(ST_list).reshape(-1,1)\n",
    "P_list=np.array(P_list).reshape(-1,1)\n",
    "Q_list=np.array(Q_list).reshape(-1,1)\n",
    "R_list=np.array(R_list).reshape(-1,1)\n",
    "S_list=np.array(S_list).reshape(-1,1)\n",
    "T_list=np.array(T_list).reshape(-1,1)\n",
    "peaks_var=np.array(peaks_var).reshape(-1,1)\n",
    "U_list =np.array(U_list).reshape(-1,1)\n",
    "U_value_list =np.array(U_value_list).reshape(-1,1)\n",
    "\n",
    "# Create data array of all the important extracted features\n",
    "data=np.concatenate((fft_np, \n",
    "                     new_autocorr, \n",
    "                     ptp,\n",
    "                     avg,\n",
    "                     energy_list,\n",
    "                     peaks_var,\n",
    "                     peaks_mean, \n",
    "                     peaks_std, \n",
    "                     peaks_median, \n",
    "                     peaks_mode,   \n",
    "                     T_list,\n",
    "                     S_list,\n",
    "                     R_list,\n",
    "                     Q_list,\n",
    "                     P_list,\n",
    "                     ST_list,\n",
    "                     QRS_list,\n",
    "                     PR_list,\n",
    "                     QRS_T_list,\n",
    "                     QRS_P_list,\n",
    "                     max_A-min_A,\n",
    "                     mean_A,\n",
    "                     median_A,\n",
    "                     hr_std,\n",
    "                     hr_mean,\n",
    "                     hr_std,\n",
    "                     hr_var,\n",
    "                     hr_median,\n",
    "                     \n",
    "                     #冗余\n",
    "#                      hr_ts_mean,\n",
    "#                      hr_ts_std,\n",
    "#                      hr_ts_median,\n",
    "#                      hr_ts_var,\n",
    "                     \n",
    "                     cD_list,\n",
    "                     cA_list,\n",
    "                     diff_dev, \n",
    "                     diff_var, \n",
    "                     diff_std,\n",
    "                     diff_mode, \n",
    "                     diff_mean, \n",
    "                     diff_median,\n",
    "                     ts_mean,\n",
    "                     ts_std,\n",
    "                     ts_median,\n",
    "                     ts_var,\n",
    "                     \n",
    "                     U_list,\n",
    "                    U_value_list,\n",
    "                     ), axis=1)\n",
    "print (data.shape)"
   ]
  },
  {
   "cell_type": "code",
   "execution_count": 19,
   "metadata": {},
   "outputs": [
    {
     "name": "stdout",
     "output_type": "stream",
     "text": [
      "Training\n",
      "Predicting\n",
      "Scoring\n",
      ">0.801\n",
      "Scoring\n"
     ]
    },
    {
     "data": {
      "text/plain": [
       "array([[550,   0,  42,   3],\n",
       "       [  7,  55,  23,   1],\n",
       "       [ 91,  10, 195,   6],\n",
       "       [ 16,   0,   5,  20]], dtype=int64)"
      ]
     },
     "execution_count": 19,
     "metadata": {},
     "output_type": "execute_result"
    }
   ],
   "source": [
    "x_train, x_test, y_train, y_test = train_test_split(data, dataset_y, test_size=0.20, random_state=42)\n",
    "\n",
    "clf = GradientBoostingClassifier(learning_rate=0.05, n_estimators=500, max_depth=7, \n",
    "                                 min_samples_split=60, min_samples_leaf=9, subsample=1.0,\n",
    "                                 max_features=50, random_state=0)\n",
    "\n",
    "\n",
    "print ('Training')\n",
    "eval_set = [(x_test, y_test)]\n",
    "clf.fit(x_train, y_train.ravel())\n",
    "    \n",
    "print ('Predicting')\n",
    "predicted_labels = clf.predict(x_test)\n",
    "\n",
    "print ('Scoring')\n",
    "score = f1_score(y_test, predicted_labels, average='micro')\n",
    "\n",
    "print('>%.3f' % score)\n",
    "\n",
    "print ('Scoring')\n",
    "confusion_matrix(y_test, predicted_labels)"
   ]
  },
  {
   "cell_type": "code",
   "execution_count": 20,
   "metadata": {},
   "outputs": [
    {
     "name": "stdout",
     "output_type": "stream",
     "text": [
      "::::::::   # of Training Indices:  4605 ::::::::::   # of Testing Indices:  512\n",
      "Training\n"
     ]
    },
    {
     "name": "stderr",
     "output_type": "stream",
     "text": [
      "F:\\Anaconda3\\envs\\TF_2G\\lib\\site-packages\\sklearn\\utils\\validation.py:72: FutureWarning: Pass shuffle=True, random_state=0 as keyword args. From version 1.0 (renaming of 0.25) passing these as positional arguments will result in an error\n",
      "  \"will result in an error\", FutureWarning)\n"
     ]
    },
    {
     "name": "stdout",
     "output_type": "stream",
     "text": [
      "Predicting\n",
      "Scoring\n",
      ">0.812\n",
      "::::::::   # of Training Indices:  4605 ::::::::::   # of Testing Indices:  512\n",
      "Training\n",
      "Predicting\n",
      "Scoring\n",
      ">0.828\n",
      "::::::::   # of Training Indices:  4605 ::::::::::   # of Testing Indices:  512\n",
      "Training\n",
      "Predicting\n",
      "Scoring\n",
      ">0.807\n",
      "::::::::   # of Training Indices:  4605 ::::::::::   # of Testing Indices:  512\n",
      "Training\n",
      "Predicting\n",
      "Scoring\n",
      ">0.859\n",
      "::::::::   # of Training Indices:  4605 ::::::::::   # of Testing Indices:  512\n",
      "Training\n",
      "Predicting\n",
      "Scoring\n",
      ">0.836\n",
      "::::::::   # of Training Indices:  4605 ::::::::::   # of Testing Indices:  512\n",
      "Training\n",
      "Predicting\n",
      "Scoring\n",
      ">0.834\n",
      "::::::::   # of Training Indices:  4605 ::::::::::   # of Testing Indices:  512\n",
      "Training\n",
      "Predicting\n",
      "Scoring\n",
      ">0.797\n",
      "::::::::   # of Training Indices:  4606 ::::::::::   # of Testing Indices:  511\n",
      "Training\n",
      "Predicting\n",
      "Scoring\n",
      ">0.816\n",
      "::::::::   # of Training Indices:  4606 ::::::::::   # of Testing Indices:  511\n",
      "Training\n",
      "Predicting\n",
      "Scoring\n",
      ">0.793\n",
      "::::::::   # of Training Indices:  4606 ::::::::::   # of Testing Indices:  511\n",
      "Training\n",
      "Predicting\n",
      "Scoring\n",
      ">0.796\n"
     ]
    }
   ],
   "source": [
    "scores, members = list(), list()\n",
    "\n",
    "repeat = 1 # number of times to do the k-fold cross validation\n",
    "n_folds = 10 # of folds for the cross validation\n",
    "\n",
    "models_list = []\n",
    "\n",
    "for i in range(repeat):\n",
    "\n",
    "  kfold = KFold(n_folds, True, i) # change seed each time\n",
    "  \n",
    "# cross validation\n",
    "  for train_ix, test_ix in kfold.split(data, dataset_y):\n",
    "\n",
    "    print(\"::::::::   # of Training Indices: \", train_ix.size,\n",
    "          \"::::::::::   # of Testing Indices: \", test_ix.size)\n",
    "\n",
    "    # select samples\n",
    "    x_train = []\n",
    "    y_train = []\n",
    "    x_test = []\n",
    "    y_test = []\n",
    "\n",
    "    for i in range(train_ix.size):\n",
    "      x_train.append(data[train_ix[i]])\n",
    "      y_train.append(dataset_y[train_ix[i]])\n",
    "\n",
    "    for i in range(test_ix.size):\n",
    "      x_test.append(data[test_ix[i]])\n",
    "      y_test.append(dataset_y[test_ix[i]])\n",
    "\n",
    "    y_train = np.array(y_train) \n",
    "    x_train = np.array(x_train)\n",
    "    y_test = np.array(y_test) \n",
    "    x_tests= np.array(x_test) \n",
    "\n",
    "    print ('Training')\n",
    "    clf = GradientBoostingClassifier(learning_rate=0.05, n_estimators=500, max_depth=7, \n",
    "                                    min_samples_split=60, min_samples_leaf=9, subsample=1,\n",
    "                                    max_features=50, random_state=0)\n",
    "\n",
    "    clf.fit(x_train, y_train.ravel())\n",
    "    \n",
    "    models_list.append(clf)\n",
    "  \n",
    "    print ('Predicting')\n",
    "    predicted_labels = clf.predict(x_test)\n",
    "\n",
    "    print ('Scoring')     \n",
    "    score = f1_score(y_test, predicted_labels, average='micro')\n",
    "\n",
    "    print('>%.3f' % score)\n",
    "  \n",
    "    scores.append(score)"
   ]
  },
  {
   "cell_type": "code",
   "execution_count": 21,
   "metadata": {},
   "outputs": [
    {
     "data": {
      "text/plain": [
       "8.178525562622308"
      ]
     },
     "execution_count": 21,
     "metadata": {},
     "output_type": "execute_result"
    }
   ],
   "source": [
    "sum(scores)"
   ]
  },
  {
   "cell_type": "code",
   "execution_count": 22,
   "metadata": {},
   "outputs": [],
   "source": [
    "df_X_train = pd.DataFrame(data)\n",
    "df_X_train.to_csv(\"X_train_feature_MY.csv\", index=False)\n"
   ]
  },
  {
   "cell_type": "markdown",
   "metadata": {},
   "source": [
    "# Train in the whole dataset for the final model"
   ]
  },
  {
   "cell_type": "code",
   "execution_count": 23,
   "metadata": {},
   "outputs": [
    {
     "name": "stdout",
     "output_type": "stream",
     "text": [
      "Training in the whole dataset\n"
     ]
    },
    {
     "data": {
      "text/plain": [
       "GradientBoostingClassifier(learning_rate=0.05, max_depth=7, max_features=50,\n",
       "                           min_samples_leaf=9, min_samples_split=60,\n",
       "                           n_estimators=500, random_state=0, subsample=1)"
      ]
     },
     "execution_count": 23,
     "metadata": {},
     "output_type": "execute_result"
    }
   ],
   "source": [
    "x_train = data\n",
    "y_train = dataset_y\n",
    "\n",
    "y_train = np.array(y_train) \n",
    "x_train= np.array(x_train) \n",
    "\n",
    "print ('Training in the whole dataset')\n",
    "clf = GradientBoostingClassifier(learning_rate=0.05, n_estimators=500, max_depth=7, \n",
    "                                    min_samples_split=60, min_samples_leaf=9, subsample=1,\n",
    "                                    max_features=50, random_state=0)\n",
    "\n",
    "clf.fit(x_train, y_train.ravel())"
   ]
  },
  {
   "cell_type": "code",
   "execution_count": 24,
   "metadata": {},
   "outputs": [],
   "source": [
    "# Exctract the Data"
   ]
  },
  {
   "cell_type": "code",
   "execution_count": 25,
   "metadata": {},
   "outputs": [
    {
     "name": "stderr",
     "output_type": "stream",
     "text": [
      "F:\\Anaconda3\\envs\\TF_2G\\lib\\site-packages\\ipykernel_launcher.py:137: RuntimeWarning: divide by zero encountered in true_divide\n",
      "F:\\Anaconda3\\envs\\TF_2G\\lib\\site-packages\\numpy\\core\\fromnumeric.py:3335: RuntimeWarning: Mean of empty slice.\n",
      "  out=out, **kwargs)\n",
      "F:\\Anaconda3\\envs\\TF_2G\\lib\\site-packages\\numpy\\core\\_methods.py:161: RuntimeWarning: invalid value encountered in double_scalars\n",
      "  ret = ret.dtype.type(ret / rcount)\n",
      "F:\\Anaconda3\\envs\\TF_2G\\lib\\site-packages\\numpy\\core\\_methods.py:217: RuntimeWarning: Degrees of freedom <= 0 for slice\n",
      "  keepdims=keepdims)\n",
      "F:\\Anaconda3\\envs\\TF_2G\\lib\\site-packages\\numpy\\core\\_methods.py:186: RuntimeWarning: invalid value encountered in true_divide\n",
      "  arrmean, rcount, out=arrmean, casting='unsafe', subok=False)\n",
      "F:\\Anaconda3\\envs\\TF_2G\\lib\\site-packages\\numpy\\core\\_methods.py:209: RuntimeWarning: invalid value encountered in double_scalars\n",
      "  ret = ret.dtype.type(ret / rcount)\n",
      "F:\\Anaconda3\\envs\\TF_2G\\lib\\site-packages\\numpy\\core\\fromnumeric.py:3584: RuntimeWarning: Degrees of freedom <= 0 for slice\n",
      "  **kwargs)\n"
     ]
    }
   ],
   "source": [
    "df = pd.read_csv('./public/X_test.csv', header=0)\n",
    "dataset_x_test = df.copy()\n",
    "array = np.array(dataset_x_test)\n",
    "\n",
    "dataset_x_test.pop(\"id\")\n",
    "dataset_x_test = np.array(dataset_x_test)\n",
    "\n",
    "a = dataset_x_test\n",
    "autocorr = []\n",
    "ptp = []\n",
    "avg = []\n",
    "fft = []\n",
    "\n",
    "for i in range(len(a)):\n",
    "  h = a[i]\n",
    "  h = h[~np.isnan(h)]\n",
    "  h_series = pd.Series(h)\n",
    "  corr = h_series.autocorr(lag=2)\n",
    "  autocorr.append(corr)\n",
    "  avg.append(np.average(h))\n",
    "  ptp.append(np.ptp(h))\n",
    "  f = np.fft.fft(h)\n",
    "  array = f[0:800]\n",
    "  n = 15\n",
    "  indices = array.argsort()[-n:][::-1]\n",
    "  fft.append(indices)\n",
    "\n",
    "new_autocorr = np.transpose(np.array([autocorr]))\n",
    "ptp = np.transpose(np.array([ptp]))\n",
    "avg = np.transpose(np.array([avg]))\n",
    "fft_np = np.array(fft)\n",
    "\n",
    "to_pad = 17841\n",
    "new_seq = []\n",
    "for one_seq in dataset_x_test:\n",
    "    one_seq = one_seq[~np.isnan(one_seq)]\n",
    "    len_one_seq = len(one_seq)\n",
    "    last_val = one_seq[-1]\n",
    "    n = to_pad - len_one_seq\n",
    "    to_concat = np.repeat(0, n)\n",
    "    new_one_seq = np.concatenate([one_seq, to_concat])\n",
    "    new_seq.append(new_one_seq)\n",
    "final_seq = np.stack(new_seq)\n",
    "dataset_x_test = np.asarray(final_seq)\n",
    "\n",
    "ts_list = []\n",
    "filtered_list=[]\n",
    "rpeaks_list=[]\n",
    "templates_ts_list=[]\n",
    "templates_list=[]\n",
    "heart_rate_ts_list=[]\n",
    "heart_rate_list=[]\n",
    "\n",
    "for i in range(len(dataset_x_test)):\n",
    "  ts, filtered, rpeaks, templates_ts, templates, heart_rate_ts, heart_rate = biosppy.signals.ecg.ecg(signal=dataset_x_test[i], sampling_rate=300.0, show=False)\n",
    "  ts_list.append(ts)\n",
    "  filtered_list.append(filtered)\n",
    "  rpeaks_list.append(rpeaks)\n",
    "  templates_ts_list.append(templates_ts)\n",
    "  templates_list.append(templates)\n",
    "  heart_rate_ts_list.append(heart_rate_ts)\n",
    "  heart_rate_list.append(heart_rate)\n",
    "\n",
    "######################################\n",
    "\n",
    "normalized_templates=[]\n",
    "patients_heartbeats = []\n",
    "for i in range(len(templates_list)):\n",
    "  normalized_templates.append(normalize(templates_list[i]))\n",
    "  patients_heartbeats.append(sum(normalized_templates[i])/len(normalized_templates[i]))\n",
    "\n",
    "P_list=[]\n",
    "Q_list=[]\n",
    "R_list=[]\n",
    "S_list=[]\n",
    "T_list=[]\n",
    "U_list=[]\n",
    "U_value_list = []\n",
    "\n",
    "for i in range(len(patients_heartbeats)):\n",
    "\n",
    "    patient_current = patients_heartbeats[i]\n",
    "\n",
    "    # Find the peak\n",
    "    index = np.where(patient_current==max(patient_current))\n",
    "    R = index[0]\n",
    "\n",
    "    # First-half\n",
    "    first_half = patient_current[0:R[0]]\n",
    "    index = np.where(patient_current==min(first_half[R[0]-30:R[0]]))\n",
    "    Q = index[0]\n",
    "\n",
    "    index = np.where(first_half[0:Q[0]]==max(first_half[0:Q[0]]))\n",
    "    P = index[0]\n",
    "\n",
    "    #Second half\n",
    "    second_half = patient_current[R[0]+1:] \n",
    "    index = np.where(patient_current==min(second_half[0:30]))\n",
    "    S = index[0]\n",
    "\n",
    "    second_half = second_half[S[0]-R[0]+1:]\n",
    "    index = np.where(patient_current==max(second_half))\n",
    "    T = index[0] \n",
    "\n",
    "    last_tail = patient_current[(T[0]):] \n",
    "    index = np.where(patient_current==min(last_tail))\n",
    "    U = index[0]\n",
    "    U_list.append(U[0])\n",
    "    U_value_list.append(patient_current[U[0]])\n",
    "\n",
    "    P_list.append(P[0])\n",
    "    Q_list.append(Q[0])\n",
    "    R_list.append(R[0])\n",
    "    S_list.append(S[0])\n",
    "    T_list.append(T[0])\n",
    "\n",
    "PR_list = []\n",
    "QRS_list = []\n",
    "ST_list = []\n",
    "\n",
    "for i in range(len(P_list)):\n",
    "  PR_list.append(R_list[i]-P_list[i])\n",
    "  QRS_list.append(S_list[i]-Q_list[i])\n",
    "  ST_list.append(T_list[i]-S_list[i])\n",
    "\n",
    "  patient_current = patients_heartbeats[i]\n",
    "\n",
    "PR_list = np.array(PR_list).reshape(-1,1)\n",
    "QRS_list = np.array(QRS_list).reshape(-1,1)\n",
    "ST_list = np.array(ST_list).reshape(-1,1)\n",
    "P_list = np.array(P_list).reshape(-1,1)\n",
    "R_list = np.array(R_list).reshape(-1,1)\n",
    "S_list = np.array(S_list).reshape(-1,1)\n",
    "T_list = np.array(T_list).reshape(-1,1)\n",
    "\n",
    "QRS_T_list= np.divide(QRS_list, T_list) \n",
    "QRS_P_list= np.divide(QRS_list, P_list) \n",
    "QRS_T_list=np.nan_to_num(QRS_T_list, nan=0.0,posinf=0.0, neginf=0.0)\n",
    "QRS_P_list=np.nan_to_num(QRS_P_list, nan=0.0,posinf=0.0, neginf=0.0)\n",
    "\n",
    "max_A=[]\n",
    "min_A=[]\n",
    "mean_A=[]\n",
    "median_A=[]\n",
    "\n",
    "for i in range(len(patients_heartbeats)):\n",
    "  patient_current = patients_heartbeats[i]\n",
    "  max_A.append(max(patient_current))\n",
    "  min_A.append(min(patient_current))\n",
    "  mean_A.append(np.mean(patient_current))\n",
    "  median_A.append(np.median(patient_current))\n",
    "\n",
    "hr_mean=[]\n",
    "hr_std=[]\n",
    "hr_median=[]\n",
    "hr_var = []\n",
    "\n",
    "for i in range(len(heart_rate_list)):\n",
    "    d =np.diff(heart_rate_list[i])\n",
    "    hr_mean.append(np.mean(d))\n",
    "    hr_std.append(np.std(d))\n",
    "    hr_median.append(np.median(d))\n",
    "    hr_var.append(np.mean(d)-np.var(d))\n",
    "\n",
    "hr_mean=np.nan_to_num(hr_mean, nan=0.0)\n",
    "hr_std=np.nan_to_num(hr_std, nan=0.0)\n",
    "hr_median=np.nan_to_num(hr_median, nan=0.0)\n",
    "hr_var=np.nan_to_num(hr_var, nan=0.0)\n",
    "\n",
    "ts_mean=[]\n",
    "ts_std=[]\n",
    "ts_median=[]\n",
    "ts_var = []\n",
    "\n",
    "for i in range(len(ts_list)):\n",
    "    d =np.diff(ts_list[i])\n",
    "    ts_mean.append(np.mean(d))\n",
    "    ts_std.append(np.std(d))\n",
    "    ts_median.append(np.median(d))\n",
    "    ts_var.append(np.mean(d)-np.var(d))\n",
    "    \n",
    "ts_mean=np.nan_to_num(ts_mean, nan=0.0)\n",
    "ts_std=np.nan_to_num(ts_std, nan=0.0)\n",
    "ts_median=np.nan_to_num(ts_median, nan=0.0)\n",
    "ts_var=np.nan_to_num(ts_var, nan=0.0)\n",
    "\n",
    "hr_ts_mean=[]\n",
    "hr_ts_std=[]\n",
    "hr_ts_median=[]\n",
    "hr_ts_var = []\n",
    "\n",
    "for i in range(len(heart_rate_ts_list)):\n",
    "    d =np.diff(heart_rate_ts_list[i])\n",
    "    hr_ts_mean.append(np.mean(d))\n",
    "    hr_ts_std.append(np.std(d))\n",
    "    hr_ts_median.append(np.median(d))\n",
    "    hr_ts_var.append(np.mean(d)-np.var(d))\n",
    "    \n",
    "hr_ts_mean=np.nan_to_num(hr_ts_mean, nan=0.0)\n",
    "hr_ts_std=np.nan_to_num(hr_ts_std, nan=0.0)\n",
    "hr_ts_median=np.nan_to_num(hr_ts_median, nan=0.0)\n",
    "hr_ts_var=np.nan_to_num(hr_ts_var, nan=0.0)\n",
    "\n",
    "peaks_mean=[]\n",
    "peaks_std=[]\n",
    "peaks_median=[]\n",
    "peaks_mode=[]\n",
    "peaks_var = []\n",
    "\n",
    "for i in range(len(rpeaks_list)):\n",
    "    peaks_mean.append(np.mean(rpeaks_list[i]))\n",
    "    peaks_std.append(np.std(rpeaks_list[i]))\n",
    "    peaks_median.append(np.median(rpeaks_list[i]))\n",
    "    peaks_mode.append(np.mean(rpeaks_list[i])-stats.mode(rpeaks_list[i])[0])\n",
    "    peaks_var.append(np.var(rpeaks_list[i]))\n",
    "\n",
    "diff_mean=[]\n",
    "diff_std=[]\n",
    "diff_median=[]\n",
    "diff_mode=[]\n",
    "diff_var = []\n",
    "diff_dev = []\n",
    "\n",
    "for i in range(len(rpeaks_list)):\n",
    "    d = np.diff(rpeaks_list[i])\n",
    "    diff_mean.append(np.mean(d))\n",
    "    diff_std.append(np.std(d))\n",
    "    diff_median.append(np.median(d))\n",
    "    diff_mode.append(np.mean(d)-stats.mode(d)[0])\n",
    "    diff_var.append(np.mean(d)-variance(d))\n",
    "    diff_dev.append(np.mean(d)-pstdev(d))\n",
    "\n",
    "diff_mean=np.nan_to_num(diff_mean, nan=0.0)\n",
    "diff_std=np.nan_to_num(diff_std, nan=0.0)\n",
    "diff_median=np.nan_to_num(diff_median, nan=0.0)\n",
    "diff_mode=np.nan_to_num(diff_mode, nan=0.0)\n",
    "diff_var=np.nan_to_num(diff_var, nan=0.0)\n",
    "diff_dev=np.nan_to_num(diff_dev, nan=0.0)\n",
    "\n",
    "cA_list=[]\n",
    "cD_list=[]\n",
    "\n",
    "for i in range(len(patients_heartbeats)):\n",
    "    cA, cD = pywt.dwt(patients_heartbeats[i], 'sym6', mode='periodic')\n",
    "    cA_list.append(cA)\n",
    "    cD_list.append(cD)\n",
    "\n",
    "energy_list = []\n",
    "\n",
    "for i in range(len(patients_heartbeats)):\n",
    "    energy_list.append(np.sum(patients_heartbeats[i] ** 2))\n",
    "\n",
    "hr_mean = np.array(hr_mean).reshape(-1,1)\n",
    "hr_std = np.array(hr_std).reshape(-1,1)\n",
    "hr_median = np.array(hr_median).reshape(-1,1)\n",
    "hr_var = np.array(hr_var).reshape(-1,1)\n",
    "hr_ts_mean= np.array(hr_ts_mean).reshape(-1,1)\n",
    "hr_ts_std= np.array(hr_ts_std).reshape(-1,1)\n",
    "hr_ts_median= np.array(hr_ts_median).reshape(-1,1)\n",
    "hr_ts_var= np.array(hr_ts_var).reshape(-1,1)\n",
    "ts_mean= np.array(ts_mean).reshape(-1,1)\n",
    "ts_std= np.array(ts_std).reshape(-1,1)\n",
    "ts_median= np.array(ts_median).reshape(-1,1)\n",
    "ts_var = np.array(ts_var).reshape(-1,1)\n",
    "peaks_mean=np.array(peaks_mean).reshape(-1,1)\n",
    "peaks_std=np.array(peaks_std).reshape(-1,1)\n",
    "peaks_median=np.array(peaks_median).reshape(-1,1)\n",
    "peaks_mode=np.array(peaks_mode).reshape(-1,1)\n",
    "diff_mean=np.array(diff_mean).reshape(-1,1)\n",
    "diff_std=np.array(diff_std).reshape(-1,1)\n",
    "diff_median=np.array(diff_median).reshape(-1,1)\n",
    "diff_mode=np.array(diff_mode).reshape(-1,1)\n",
    "diff_var=np.array(diff_var).reshape(-1,1)\n",
    "diff_dev=np.array(diff_dev).reshape(-1,1)\n",
    "max_A=np.array(max_A).reshape(-1,1)\n",
    "min_A=np.array(min_A).reshape(-1,1)\n",
    "mean_A=np.array(mean_A).reshape(-1,1)\n",
    "median_A=np.array(median_A).reshape(-1,1)\n",
    "energy_list =np.array(energy_list).reshape(-1,1)\n",
    "PR_list=np.array(PR_list).reshape(-1,1)\n",
    "ST_list=np.array(ST_list).reshape(-1,1)\n",
    "P_list=np.array(P_list).reshape(-1,1)\n",
    "Q_list=np.array(Q_list).reshape(-1,1)\n",
    "R_list=np.array(R_list).reshape(-1,1)\n",
    "S_list=np.array(S_list).reshape(-1,1)\n",
    "T_list=np.array(T_list).reshape(-1,1)\n",
    "peaks_var=np.array(peaks_var).reshape(-1,1)\n",
    "U_list = np.array(U_list).reshape(-1,1)\n",
    "U_value_list = np.array(U_value_list).reshape(-1,1)\n",
    "\n",
    "\n",
    "\n"
   ]
  },
  {
   "cell_type": "code",
   "execution_count": 26,
   "metadata": {},
   "outputs": [
    {
     "name": "stdout",
     "output_type": "stream",
     "text": [
      "(3411, 244)\n"
     ]
    }
   ],
   "source": [
    "data=np.concatenate((fft_np, \n",
    "                     new_autocorr, \n",
    "                     ptp,\n",
    "                     avg,\n",
    "                     energy_list,\n",
    "                     peaks_var,\n",
    "                     peaks_mean, \n",
    "                     peaks_std, \n",
    "                     peaks_median, \n",
    "                     peaks_mode,   \n",
    "                     T_list,\n",
    "                     S_list,\n",
    "                     R_list,\n",
    "                     Q_list,\n",
    "                     P_list,\n",
    "                     ST_list,\n",
    "                     QRS_list,\n",
    "                     PR_list,\n",
    "                     QRS_T_list,\n",
    "                     QRS_P_list,\n",
    "                     max_A-min_A,\n",
    "                     mean_A,\n",
    "                     median_A,\n",
    "                     hr_std,\n",
    "                     hr_mean,\n",
    "                     hr_std,\n",
    "                     hr_var,\n",
    "                     hr_median,\n",
    "#                      hr_ts_mean,\n",
    "#                      hr_ts_std,\n",
    "#                      hr_ts_median,\n",
    "#                      hr_ts_var,\n",
    "                     cD_list,\n",
    "                     cA_list,\n",
    "                     diff_dev, \n",
    "                     diff_var, \n",
    "                     diff_std,\n",
    "                     diff_mode, \n",
    "                     diff_mean, \n",
    "                     diff_median,\n",
    "                     ts_mean,\n",
    "                     ts_std,\n",
    "                     ts_median,\n",
    "                     ts_var, \n",
    "                     U_list,\n",
    "                     U_value_list,\n",
    "                    ), axis=1)\n",
    "print (data.shape)\n",
    "#################################\n",
    "\n",
    "predictions = clf.predict(data)"
   ]
  },
  {
   "cell_type": "code",
   "execution_count": 27,
   "metadata": {},
   "outputs": [],
   "source": [
    "final_res = np.vstack((range(0,len(predictions)), predictions)).T\n",
    "df_res = pd.DataFrame(final_res)\n",
    "df_res.to_csv(\"our_result_fish2_featuremodification.csv\", header = [\"id\", \"y\"], index=False)"
   ]
  },
  {
   "cell_type": "code",
   "execution_count": 28,
   "metadata": {},
   "outputs": [
    {
     "data": {
      "text/plain": [
       "(3411, 244)"
      ]
     },
     "execution_count": 28,
     "metadata": {},
     "output_type": "execute_result"
    }
   ],
   "source": [
    "data.shape"
   ]
  },
  {
   "cell_type": "code",
   "execution_count": 29,
   "metadata": {},
   "outputs": [],
   "source": [
    "df_X_test = pd.DataFrame(data)\n",
    "df_X_test.to_csv(\"X_test_feature_MY.csv\", index=False)"
   ]
  },
  {
   "cell_type": "code",
   "execution_count": null,
   "metadata": {},
   "outputs": [],
   "source": []
  }
 ],
 "metadata": {
  "kernelspec": {
   "display_name": "TF_2G",
   "language": "python",
   "name": "tf_2g"
  },
  "language_info": {
   "codemirror_mode": {
    "name": "ipython",
    "version": 3
   },
   "file_extension": ".py",
   "mimetype": "text/x-python",
   "name": "python",
   "nbconvert_exporter": "python",
   "pygments_lexer": "ipython3",
   "version": "3.6.10"
  }
 },
 "nbformat": 4,
 "nbformat_minor": 2
}
